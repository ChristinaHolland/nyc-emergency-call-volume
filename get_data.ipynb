{
 "cells": [
  {
   "cell_type": "code",
   "execution_count": 3,
   "metadata": {},
   "outputs": [
    {
     "name": "stdout",
     "output_type": "stream",
     "text": [
      "Collecting sodapy\n",
      "  Downloading sodapy-2.1.0-py2.py3-none-any.whl (14 kB)\n",
      "Requirement already satisfied: requests>=2.20.0 in /Users/christina/opt/anaconda3/lib/python3.8/site-packages (from sodapy) (2.24.0)\n",
      "Requirement already satisfied: urllib3!=1.25.0,!=1.25.1,<1.26,>=1.21.1 in /Users/christina/opt/anaconda3/lib/python3.8/site-packages (from requests>=2.20.0->sodapy) (1.25.11)\n",
      "Requirement already satisfied: idna<3,>=2.5 in /Users/christina/opt/anaconda3/lib/python3.8/site-packages (from requests>=2.20.0->sodapy) (2.10)\n",
      "Requirement already satisfied: chardet<4,>=3.0.2 in /Users/christina/opt/anaconda3/lib/python3.8/site-packages (from requests>=2.20.0->sodapy) (3.0.4)\n",
      "Requirement already satisfied: certifi>=2017.4.17 in /Users/christina/opt/anaconda3/lib/python3.8/site-packages (from requests>=2.20.0->sodapy) (2020.6.20)\n",
      "Installing collected packages: sodapy\n",
      "Successfully installed sodapy-2.1.0\n"
     ]
    }
   ],
   "source": [
    "!pip install sodapy\n"
   ]
  },
  {
   "cell_type": "code",
   "execution_count": 186,
   "metadata": {},
   "outputs": [],
   "source": [
    "# make sure to install these packages before running:\n",
    "# pip install pandas\n",
    "# pip install sodapy\n",
    "\n",
    "import numpy as np\n",
    "import pandas as pd\n",
    "from sodapy import Socrata\n",
    "\n",
    "from time import sleep\n",
    "\n",
    "import matplotlib.pyplot as plt\n",
    "import seaborn as sns\n"
   ]
  },
  {
   "cell_type": "markdown",
   "metadata": {},
   "source": [
    "links \n",
    "\n",
    "https://stackoverflow.com/questions/43351062/querying-from-soda-database-using-socrata-client-get-in-python\n",
    "\n",
    "https://dev.socrata.com/foundry/data.cityofnewyork.us/76xm-jjuj"
   ]
  },
  {
   "cell_type": "code",
   "execution_count": 47,
   "metadata": {},
   "outputs": [
    {
     "name": "stderr",
     "output_type": "stream",
     "text": [
      "WARNING:root:Requests made without an app_token will be subject to strict throttling limits.\n"
     ]
    },
    {
     "name": "stdout",
     "output_type": "stream",
     "text": [
      "0\n",
      "1\n",
      "2\n",
      "3\n",
      "4\n"
     ]
    }
   ],
   "source": [
    "# Unauthenticated client only works with public data sets. Note 'None'\n",
    "# in place of application token, and no username or password:\n",
    "\n",
    "client = Socrata(\"data.cityofnewyork.us\", None)\n",
    "\n",
    "results = []\n",
    "\n",
    "for n in range(3):\n",
    "    if n<1:\n",
    "        new_results = client.get(\"76xm-jjuj\", limit=200)\n",
    "    else:\n",
    "        query_text = f'cad_incident_id < {min_id}'\n",
    "        new_results = client.get(\"76xm-jjuj\", where=query_text, limit=200)\n",
    "    results += new_results\n",
    "    results_df = pd.DataFrame(results)\n",
    "    min_id = results_df['cad_incident_id'].min()\n",
    "    \n",
    "    # save to disk. I'm doing this after every pull in case I run into errors:\n",
    "    results_df.to_csv('./data/ems.csv')\n",
    "    print(n)\n",
    "    # Pause between pulls so I don't set off any defenses:\n",
    "    sleep(15)"
   ]
  },
  {
   "cell_type": "code",
   "execution_count": 48,
   "metadata": {},
   "outputs": [
    {
     "name": "stdout",
     "output_type": "stream",
     "text": [
      "<class 'pandas.core.frame.DataFrame'>\n",
      "RangeIndex: 1000 entries, 0 to 999\n",
      "Data columns (total 31 columns):\n",
      " #   Column                          Non-Null Count  Dtype \n",
      "---  ------                          --------------  ----- \n",
      " 0   cad_incident_id                 1000 non-null   object\n",
      " 1   incident_datetime               1000 non-null   object\n",
      " 2   initial_call_type               1000 non-null   object\n",
      " 3   initial_severity_level_code     1000 non-null   object\n",
      " 4   final_call_type                 1000 non-null   object\n",
      " 5   final_severity_level_code       1000 non-null   object\n",
      " 6   first_assignment_datetime       971 non-null    object\n",
      " 7   valid_dispatch_rspns_time_indc  1000 non-null   object\n",
      " 8   dispatch_response_seconds_qy    1000 non-null   object\n",
      " 9   first_activation_datetime       967 non-null    object\n",
      " 10  first_on_scene_datetime         925 non-null    object\n",
      " 11  valid_incident_rspns_time_indc  1000 non-null   object\n",
      " 12  incident_response_seconds_qy    925 non-null    object\n",
      " 13  incident_travel_tm_seconds_qy   925 non-null    object\n",
      " 14  first_to_hosp_datetime          567 non-null    object\n",
      " 15  first_hosp_arrival_datetime     544 non-null    object\n",
      " 16  incident_close_datetime         1000 non-null   object\n",
      " 17  held_indicator                  1000 non-null   object\n",
      " 18  incident_disposition_code       968 non-null    object\n",
      " 19  borough                         1000 non-null   object\n",
      " 20  incident_dispatch_area          1000 non-null   object\n",
      " 21  zipcode                         976 non-null    object\n",
      " 22  policeprecinct                  976 non-null    object\n",
      " 23  citycouncildistrict             976 non-null    object\n",
      " 24  communitydistrict               976 non-null    object\n",
      " 25  communityschooldistrict         976 non-null    object\n",
      " 26  congressionaldistrict           976 non-null    object\n",
      " 27  reopen_indicator                1000 non-null   object\n",
      " 28  special_event_indicator         1000 non-null   object\n",
      " 29  standby_indicator               1000 non-null   object\n",
      " 30  transfer_indicator              1000 non-null   object\n",
      "dtypes: object(31)\n",
      "memory usage: 242.3+ KB\n"
     ]
    }
   ],
   "source": [
    "results_df.info()\n"
   ]
  },
  {
   "cell_type": "code",
   "execution_count": 54,
   "metadata": {},
   "outputs": [
    {
     "data": {
      "text/plain": [
       "<matplotlib.collections.PathCollection at 0x7fb9e9fead60>"
      ]
     },
     "execution_count": 54,
     "metadata": {},
     "output_type": "execute_result"
    },
    {
     "data": {
      "image/png": "[encoded data removed]",
      "text/plain": [
       "<Figure size 432x288 with 1 Axes>"
      ]
     },
     "metadata": {
      "needs_background": "light"
     },
     "output_type": "display_data"
    }
   ],
   "source": [
    "plt.scatter(range(1000),results_df['cad_incident_id'])\n"
   ]
  },
  {
   "cell_type": "code",
   "execution_count": 62,
   "metadata": {},
   "outputs": [
    {
     "name": "stdout",
     "output_type": "stream",
     "text": [
      "50010006 2005-01-01T00:01:06.000\n",
      "50010006 2005-01-01T00:01:06.000\n",
      "50010006 2005-01-01T00:01:06.000\n"
     ]
    }
   ],
   "source": [
    "for n in [405, 605, 805]:\n",
    "    print(results_df['cad_incident_id'][n], results_df['incident_datetime'][n])"
   ]
  },
  {
   "cell_type": "code",
   "execution_count": 65,
   "metadata": {},
   "outputs": [
    {
     "name": "stdout",
     "output_type": "stream",
     "text": [
      "600\n"
     ]
    }
   ],
   "source": [
    "results = results[0:600]\n",
    "print(len(results))"
   ]
  },
  {
   "cell_type": "code",
   "execution_count": 71,
   "metadata": {},
   "outputs": [],
   "source": [
    "results_df = pd.DataFrame(results)\n",
    "results_df.to_csv('./data/ems.csv',index=False)"
   ]
  }
 ],
 "metadata": {
  "kernelspec": {
   "display_name": "Python 3",
   "language": "python",
   "name": "python3"
  },
  "language_info": {
   "codemirror_mode": {
    "name": "ipython",
    "version": 3
   },
   "file_extension": ".py",
   "mimetype": "text/x-python",
   "name": "python",
   "nbconvert_exporter": "python",
   "pygments_lexer": "ipython3",
   "version": "3.8.5"
  }
 },
 "nbformat": 4,
 "nbformat_minor": 4
}
