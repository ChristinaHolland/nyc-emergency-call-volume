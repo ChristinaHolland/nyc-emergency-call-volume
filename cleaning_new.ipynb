{
 "cells": [
  {
   "cell_type": "code",
   "execution_count": 1,
   "metadata": {},
   "outputs": [],
   "source": [
    "import numpy as np\n",
    "import pandas as pd\n",
    "\n",
    "import matplotlib.pyplot as plt\n",
    "import seaborn as sns\n",
    "\n",
    "from datetime import timezone\n",
    "import datetime\n",
    "\n",
    "import time, os"
   ]
  },
  {
   "cell_type": "markdown",
   "metadata": {},
   "source": [
    "## Data Cleaning Cells:"
   ]
  },
  {
   "cell_type": "code",
   "execution_count": 2,
   "metadata": {
    "collapsed": true,
    "jupyter": {
     "outputs_hidden": true
    }
   },
   "outputs": [
    {
     "ename": "FileNotFoundError",
     "evalue": "[Errno 2] No such file or directory: 'data/emssubsample.csv'",
     "output_type": "error",
     "traceback": [
      "\u001b[1;31m---------------------------------------------------------------------------\u001b[0m",
      "\u001b[1;31mFileNotFoundError\u001b[0m                         Traceback (most recent call last)",
      "\u001b[1;32m<ipython-input-2-dbd6eaaf56aa>\u001b[0m in \u001b[0;36m<module>\u001b[1;34m\u001b[0m\n\u001b[1;32m----> 1\u001b[1;33m \u001b[0mresults_df\u001b[0m \u001b[1;33m=\u001b[0m \u001b[0mpd\u001b[0m\u001b[1;33m.\u001b[0m\u001b[0mread_csv\u001b[0m\u001b[1;33m(\u001b[0m\u001b[1;34m'data/emssubsample.csv'\u001b[0m\u001b[1;33m)\u001b[0m\u001b[1;33m\u001b[0m\u001b[1;33m\u001b[0m\u001b[0m\n\u001b[0m\u001b[0;32m      2\u001b[0m \u001b[0mfeatures\u001b[0m \u001b[1;33m=\u001b[0m \u001b[0mresults_df\u001b[0m\u001b[1;33m.\u001b[0m\u001b[0mcolumns\u001b[0m\u001b[1;33m\u001b[0m\u001b[1;33m\u001b[0m\u001b[0m\n",
      "\u001b[1;32m~\\anaconda3\\lib\\site-packages\\pandas\\io\\parsers.py\u001b[0m in \u001b[0;36mread_csv\u001b[1;34m(filepath_or_buffer, sep, delimiter, header, names, index_col, usecols, squeeze, prefix, mangle_dupe_cols, dtype, engine, converters, true_values, false_values, skipinitialspace, skiprows, skipfooter, nrows, na_values, keep_default_na, na_filter, verbose, skip_blank_lines, parse_dates, infer_datetime_format, keep_date_col, date_parser, dayfirst, cache_dates, iterator, chunksize, compression, thousands, decimal, lineterminator, quotechar, quoting, doublequote, escapechar, comment, encoding, dialect, error_bad_lines, warn_bad_lines, delim_whitespace, low_memory, memory_map, float_precision)\u001b[0m\n\u001b[0;32m    684\u001b[0m     )\n\u001b[0;32m    685\u001b[0m \u001b[1;33m\u001b[0m\u001b[0m\n\u001b[1;32m--> 686\u001b[1;33m     \u001b[1;32mreturn\u001b[0m \u001b[0m_read\u001b[0m\u001b[1;33m(\u001b[0m\u001b[0mfilepath_or_buffer\u001b[0m\u001b[1;33m,\u001b[0m \u001b[0mkwds\u001b[0m\u001b[1;33m)\u001b[0m\u001b[1;33m\u001b[0m\u001b[1;33m\u001b[0m\u001b[0m\n\u001b[0m\u001b[0;32m    687\u001b[0m \u001b[1;33m\u001b[0m\u001b[0m\n\u001b[0;32m    688\u001b[0m \u001b[1;33m\u001b[0m\u001b[0m\n",
      "\u001b[1;32m~\\anaconda3\\lib\\site-packages\\pandas\\io\\parsers.py\u001b[0m in \u001b[0;36m_read\u001b[1;34m(filepath_or_buffer, kwds)\u001b[0m\n\u001b[0;32m    450\u001b[0m \u001b[1;33m\u001b[0m\u001b[0m\n\u001b[0;32m    451\u001b[0m     \u001b[1;31m# Create the parser.\u001b[0m\u001b[1;33m\u001b[0m\u001b[1;33m\u001b[0m\u001b[1;33m\u001b[0m\u001b[0m\n\u001b[1;32m--> 452\u001b[1;33m     \u001b[0mparser\u001b[0m \u001b[1;33m=\u001b[0m \u001b[0mTextFileReader\u001b[0m\u001b[1;33m(\u001b[0m\u001b[0mfp_or_buf\u001b[0m\u001b[1;33m,\u001b[0m \u001b[1;33m**\u001b[0m\u001b[0mkwds\u001b[0m\u001b[1;33m)\u001b[0m\u001b[1;33m\u001b[0m\u001b[1;33m\u001b[0m\u001b[0m\n\u001b[0m\u001b[0;32m    453\u001b[0m \u001b[1;33m\u001b[0m\u001b[0m\n\u001b[0;32m    454\u001b[0m     \u001b[1;32mif\u001b[0m \u001b[0mchunksize\u001b[0m \u001b[1;32mor\u001b[0m \u001b[0miterator\u001b[0m\u001b[1;33m:\u001b[0m\u001b[1;33m\u001b[0m\u001b[1;33m\u001b[0m\u001b[0m\n",
      "\u001b[1;32m~\\anaconda3\\lib\\site-packages\\pandas\\io\\parsers.py\u001b[0m in \u001b[0;36m__init__\u001b[1;34m(self, f, engine, **kwds)\u001b[0m\n\u001b[0;32m    944\u001b[0m             \u001b[0mself\u001b[0m\u001b[1;33m.\u001b[0m\u001b[0moptions\u001b[0m\u001b[1;33m[\u001b[0m\u001b[1;34m\"has_index_names\"\u001b[0m\u001b[1;33m]\u001b[0m \u001b[1;33m=\u001b[0m \u001b[0mkwds\u001b[0m\u001b[1;33m[\u001b[0m\u001b[1;34m\"has_index_names\"\u001b[0m\u001b[1;33m]\u001b[0m\u001b[1;33m\u001b[0m\u001b[1;33m\u001b[0m\u001b[0m\n\u001b[0;32m    945\u001b[0m \u001b[1;33m\u001b[0m\u001b[0m\n\u001b[1;32m--> 946\u001b[1;33m         \u001b[0mself\u001b[0m\u001b[1;33m.\u001b[0m\u001b[0m_make_engine\u001b[0m\u001b[1;33m(\u001b[0m\u001b[0mself\u001b[0m\u001b[1;33m.\u001b[0m\u001b[0mengine\u001b[0m\u001b[1;33m)\u001b[0m\u001b[1;33m\u001b[0m\u001b[1;33m\u001b[0m\u001b[0m\n\u001b[0m\u001b[0;32m    947\u001b[0m \u001b[1;33m\u001b[0m\u001b[0m\n\u001b[0;32m    948\u001b[0m     \u001b[1;32mdef\u001b[0m \u001b[0mclose\u001b[0m\u001b[1;33m(\u001b[0m\u001b[0mself\u001b[0m\u001b[1;33m)\u001b[0m\u001b[1;33m:\u001b[0m\u001b[1;33m\u001b[0m\u001b[1;33m\u001b[0m\u001b[0m\n",
      "\u001b[1;32m~\\anaconda3\\lib\\site-packages\\pandas\\io\\parsers.py\u001b[0m in \u001b[0;36m_make_engine\u001b[1;34m(self, engine)\u001b[0m\n\u001b[0;32m   1176\u001b[0m     \u001b[1;32mdef\u001b[0m \u001b[0m_make_engine\u001b[0m\u001b[1;33m(\u001b[0m\u001b[0mself\u001b[0m\u001b[1;33m,\u001b[0m \u001b[0mengine\u001b[0m\u001b[1;33m=\u001b[0m\u001b[1;34m\"c\"\u001b[0m\u001b[1;33m)\u001b[0m\u001b[1;33m:\u001b[0m\u001b[1;33m\u001b[0m\u001b[1;33m\u001b[0m\u001b[0m\n\u001b[0;32m   1177\u001b[0m         \u001b[1;32mif\u001b[0m \u001b[0mengine\u001b[0m \u001b[1;33m==\u001b[0m \u001b[1;34m\"c\"\u001b[0m\u001b[1;33m:\u001b[0m\u001b[1;33m\u001b[0m\u001b[1;33m\u001b[0m\u001b[0m\n\u001b[1;32m-> 1178\u001b[1;33m             \u001b[0mself\u001b[0m\u001b[1;33m.\u001b[0m\u001b[0m_engine\u001b[0m \u001b[1;33m=\u001b[0m \u001b[0mCParserWrapper\u001b[0m\u001b[1;33m(\u001b[0m\u001b[0mself\u001b[0m\u001b[1;33m.\u001b[0m\u001b[0mf\u001b[0m\u001b[1;33m,\u001b[0m \u001b[1;33m**\u001b[0m\u001b[0mself\u001b[0m\u001b[1;33m.\u001b[0m\u001b[0moptions\u001b[0m\u001b[1;33m)\u001b[0m\u001b[1;33m\u001b[0m\u001b[1;33m\u001b[0m\u001b[0m\n\u001b[0m\u001b[0;32m   1179\u001b[0m         \u001b[1;32melse\u001b[0m\u001b[1;33m:\u001b[0m\u001b[1;33m\u001b[0m\u001b[1;33m\u001b[0m\u001b[0m\n\u001b[0;32m   1180\u001b[0m             \u001b[1;32mif\u001b[0m \u001b[0mengine\u001b[0m \u001b[1;33m==\u001b[0m \u001b[1;34m\"python\"\u001b[0m\u001b[1;33m:\u001b[0m\u001b[1;33m\u001b[0m\u001b[1;33m\u001b[0m\u001b[0m\n",
      "\u001b[1;32m~\\anaconda3\\lib\\site-packages\\pandas\\io\\parsers.py\u001b[0m in \u001b[0;36m__init__\u001b[1;34m(self, src, **kwds)\u001b[0m\n\u001b[0;32m   2006\u001b[0m         \u001b[0mkwds\u001b[0m\u001b[1;33m[\u001b[0m\u001b[1;34m\"usecols\"\u001b[0m\u001b[1;33m]\u001b[0m \u001b[1;33m=\u001b[0m \u001b[0mself\u001b[0m\u001b[1;33m.\u001b[0m\u001b[0musecols\u001b[0m\u001b[1;33m\u001b[0m\u001b[1;33m\u001b[0m\u001b[0m\n\u001b[0;32m   2007\u001b[0m \u001b[1;33m\u001b[0m\u001b[0m\n\u001b[1;32m-> 2008\u001b[1;33m         \u001b[0mself\u001b[0m\u001b[1;33m.\u001b[0m\u001b[0m_reader\u001b[0m \u001b[1;33m=\u001b[0m \u001b[0mparsers\u001b[0m\u001b[1;33m.\u001b[0m\u001b[0mTextReader\u001b[0m\u001b[1;33m(\u001b[0m\u001b[0msrc\u001b[0m\u001b[1;33m,\u001b[0m \u001b[1;33m**\u001b[0m\u001b[0mkwds\u001b[0m\u001b[1;33m)\u001b[0m\u001b[1;33m\u001b[0m\u001b[1;33m\u001b[0m\u001b[0m\n\u001b[0m\u001b[0;32m   2009\u001b[0m         \u001b[0mself\u001b[0m\u001b[1;33m.\u001b[0m\u001b[0munnamed_cols\u001b[0m \u001b[1;33m=\u001b[0m \u001b[0mself\u001b[0m\u001b[1;33m.\u001b[0m\u001b[0m_reader\u001b[0m\u001b[1;33m.\u001b[0m\u001b[0munnamed_cols\u001b[0m\u001b[1;33m\u001b[0m\u001b[1;33m\u001b[0m\u001b[0m\n\u001b[0;32m   2010\u001b[0m \u001b[1;33m\u001b[0m\u001b[0m\n",
      "\u001b[1;32mpandas\\_libs\\parsers.pyx\u001b[0m in \u001b[0;36mpandas._libs.parsers.TextReader.__cinit__\u001b[1;34m()\u001b[0m\n",
      "\u001b[1;32mpandas\\_libs\\parsers.pyx\u001b[0m in \u001b[0;36mpandas._libs.parsers.TextReader._setup_parser_source\u001b[1;34m()\u001b[0m\n",
      "\u001b[1;31mFileNotFoundError\u001b[0m: [Errno 2] No such file or directory: 'data/emssubsample.csv'"
     ]
    }
   ],
   "source": [
    "results_df = pd.read_csv('data/emssubsample.csv')\n",
    "features = results_df.columns"
   ]
  },
  {
   "cell_type": "code",
   "execution_count": null,
   "metadata": {
    "tags": []
   },
   "outputs": [],
   "source": [
    "results_df.head()\n"
   ]
  },
  {
   "cell_type": "code",
   "execution_count": 3,
   "metadata": {},
   "outputs": [],
   "source": [
    "# sort features into type:\n",
    "\n",
    "\n",
    "features_numeric    = ['CAD_INCIDENT_ID', 'INITIAL_SEVERITY_LEVEL_CODE', 'FINAL_SEVERITY_LEVEL_CODE',\n",
    "                       'DISPATCH_RESPONSE_SECONDS_QY', 'INCIDENT_RESPONSE_SECONDS_QY', \n",
    "                       'INCIDENT_TRAVEL_TM_SECONDS_QY']\n",
    "\n",
    "features_category   = ['INITIAL_CALL_TYPE', 'FINAL_CALL_TYPE', 'INCIDENT_DISPOSITION_CODE', 'BOROUGH',\n",
    "                       'INCIDENT_DISPATCH_AREA', 'ZIPCODE', 'POLICEPRECINCT', 'CITYCOUNCILDISTRICT', \n",
    "                       'COMMUNITYDISTRICT', 'COMMUNITYSCHOOLDISTRICT', 'CONGRESSIONALDISTRICT']\n",
    "\n",
    "features_boolean    = ['VALID_DISPATCH_RSPNS_TIME_INDC', 'VALID_INCIDENT_RSPNS_TIME_INDC',\n",
    "                       'HELD_INDICATOR', 'REOPEN_INDICATOR', 'SPECIAL_EVENT_INDICATOR', \n",
    "                       'STANDBY_INDICATOR', 'TRANSFER_INDICATOR']\n",
    "\n",
    "features_initial    = 'INCIDENT_DATETIME'\n",
    "features_timestamps = ['FIRST_ASSIGNMENT_DATETIME', 'FIRST_ACTIVATION_DATETIME', \n",
    "                       'FIRST_ON_SCENE_DATETIME', 'FIRST_TO_HOSP_DATETIME', \n",
    "                       'FIRST_HOSP_ARRIVAL_DATETIME', 'INCIDENT_CLOSE_DATETIME']\n",
    "\n"
   ]
  },
  {
   "cell_type": "code",
   "execution_count": 28,
   "metadata": {},
   "outputs": [],
   "source": [
    "# features_numeric: All columns that should be numeric already are."
   ]
  },
  {
   "cell_type": "code",
   "execution_count": 4,
   "metadata": {
    "collapsed": true,
    "jupyter": {
     "outputs_hidden": true
    }
   },
   "outputs": [
    {
     "ename": "NameError",
     "evalue": "name 'results_df' is not defined",
     "output_type": "error",
     "traceback": [
      "\u001b[1;31m---------------------------------------------------------------------------\u001b[0m",
      "\u001b[1;31mNameError\u001b[0m                                 Traceback (most recent call last)",
      "\u001b[1;32m<ipython-input-4-73df68a71a8f>\u001b[0m in \u001b[0;36m<module>\u001b[1;34m\u001b[0m\n\u001b[0;32m      8\u001b[0m \u001b[1;31m#    print(feature)\u001b[0m\u001b[1;33m\u001b[0m\u001b[1;33m\u001b[0m\u001b[1;33m\u001b[0m\u001b[0m\n\u001b[0;32m      9\u001b[0m \u001b[1;31m#    print(results_df[feature].value_counts())\u001b[0m\u001b[1;33m\u001b[0m\u001b[1;33m\u001b[0m\u001b[1;33m\u001b[0m\u001b[0m\n\u001b[1;32m---> 10\u001b[1;33m     \u001b[0mresults_df\u001b[0m\u001b[1;33m[\u001b[0m\u001b[0mfeature\u001b[0m\u001b[1;33m]\u001b[0m\u001b[1;33m.\u001b[0m\u001b[0mreplace\u001b[0m\u001b[1;33m(\u001b[0m\u001b[1;34m'Y'\u001b[0m\u001b[1;33m,\u001b[0m\u001b[1;36m1\u001b[0m\u001b[1;33m,\u001b[0m\u001b[0minplace\u001b[0m\u001b[1;33m=\u001b[0m\u001b[1;32mTrue\u001b[0m\u001b[1;33m)\u001b[0m\u001b[1;33m\u001b[0m\u001b[1;33m\u001b[0m\u001b[0m\n\u001b[0m\u001b[0;32m     11\u001b[0m     \u001b[0mresults_df\u001b[0m\u001b[1;33m[\u001b[0m\u001b[0mfeature\u001b[0m\u001b[1;33m]\u001b[0m\u001b[1;33m.\u001b[0m\u001b[0mreplace\u001b[0m\u001b[1;33m(\u001b[0m\u001b[1;34m'N'\u001b[0m\u001b[1;33m,\u001b[0m\u001b[1;36m0\u001b[0m\u001b[1;33m,\u001b[0m\u001b[0minplace\u001b[0m\u001b[1;33m=\u001b[0m\u001b[1;32mTrue\u001b[0m\u001b[1;33m)\u001b[0m\u001b[1;33m\u001b[0m\u001b[1;33m\u001b[0m\u001b[0m\n\u001b[0;32m     12\u001b[0m     \u001b[0mresults_df\u001b[0m\u001b[1;33m[\u001b[0m\u001b[0mfeature\u001b[0m\u001b[1;33m]\u001b[0m\u001b[1;33m.\u001b[0m\u001b[0mreplace\u001b[0m\u001b[1;33m(\u001b[0m\u001b[1;34m'true'\u001b[0m\u001b[1;33m,\u001b[0m\u001b[1;36m1\u001b[0m\u001b[1;33m,\u001b[0m\u001b[0minplace\u001b[0m\u001b[1;33m=\u001b[0m\u001b[1;32mTrue\u001b[0m\u001b[1;33m)\u001b[0m\u001b[1;33m\u001b[0m\u001b[1;33m\u001b[0m\u001b[0m\n",
      "\u001b[1;31mNameError\u001b[0m: name 'results_df' is not defined"
     ]
    }
   ],
   "source": [
    "# features_boolean:\n",
    "\n",
    "# data has 4 possible values: \"Y\", \"N\", \"true\", \"false\" (change in way they were inputed?)\n",
    "\n",
    "# Convert to binary:\n",
    "\n",
    "for feature in features_boolean:\n",
    "#    print(feature)\n",
    "#    print(results_df[feature].value_counts())\n",
    "    results_df[feature].replace('Y',1,inplace=True)\n",
    "    results_df[feature].replace('N',0,inplace=True)\n",
    "    results_df[feature].replace('true',1,inplace=True)\n",
    "    results_df[feature].replace('false',0,inplace=True)\n"
   ]
  },
  {
   "cell_type": "code",
   "execution_count": 30,
   "metadata": {},
   "outputs": [],
   "source": [
    "# categorical data: convert to object then dummify:\n",
    "\n",
    "for feature in features_category:\n",
    "    if results_df[feature].dtype != 'object':\n",
    "        results_df[feature] = results_df[feature].astype(object)\n",
    "\n",
    "results_df = pd.get_dummies(results_df, columns=features_category,drop_first=True)\n"
   ]
  },
  {
   "cell_type": "code",
   "execution_count": 41,
   "metadata": {},
   "outputs": [],
   "source": [
    "# timestamp data columns: From the website, 2021-01-03T23:59:51.000 is \"2021 Jan 03 11:59:51 PM\"\n",
    "\n",
    "mon_dict = {1: 'JAN', 2: 'FEB', 3: 'MAR', 4: 'APR', 5: 'MAY', 6: 'JUN',\n",
    "            7: 'JUL', 8: 'AUG', 9: 'SEP', 10:'OCT', 11:'NOV', 12:'DEC'}\n",
    "mon_start= {1:0, 2:31, 3:59, 4:90, 5:120, 6:151, 7:181, 8:212, 9:243, 10:273, 11:304, 12:334}\n",
    "\n",
    "# Get year, month, day, and time of initial call\n",
    "\n",
    "initial_times = list(results_df[features_initial])\n",
    "PM = [1 if time_str[20:22]=='PM' else 0 for time_str in initial_times]\n",
    "\n",
    "call_year  = [pd.to_numeric(time_str[6:10])   for time_str in initial_times]\n",
    "call_month = [pd.to_numeric(time_str[0:2])    for time_str in initial_times]\n",
    "call_day   = [pd.to_numeric(time_str[3:5])    for time_str in initial_times]\n",
    "PM         = [(time_str[20:22]=='PM')         for time_str in initial_times]\n",
    "hour0      = [pd.to_numeric(time_str[11:13])  for time_str in initial_times]\n",
    "call_hour  = [hr+12 if PM[n] else hr          for n,hr in enumerate(hour0) ]\n",
    "hour       = np.array(call_hour)\n",
    "minute     = np.array([pd.to_numeric(time_str[14:16]) for time_str in initial_times])\n",
    "second     = np.array([pd.to_numeric(time_str[17:19]) for time_str in initial_times])\n",
    "call_time  = hour*3600 + minute*60 + second\n",
    "call_utc   = [time_str[0:13]                  for time_str in initial_times]\n",
    "\n",
    "pattern = '%m/%d/%Y %H'\n",
    "call_utc_new = [int(time.mktime(time.strptime(utc, pattern))) for utc in call_utc]\n"
   ]
  },
  {
   "cell_type": "code",
   "execution_count": 42,
   "metadata": {},
   "outputs": [
    {
     "data": {
      "text/html": [
       "<div>\n",
       "<style scoped>\n",
       "    .dataframe tbody tr th:only-of-type {\n",
       "        vertical-align: middle;\n",
       "    }\n",
       "\n",
       "    .dataframe tbody tr th {\n",
       "        vertical-align: top;\n",
       "    }\n",
       "\n",
       "    .dataframe thead th {\n",
       "        text-align: right;\n",
       "    }\n",
       "</style>\n",
       "<table border=\"1\" class=\"dataframe\">\n",
       "  <thead>\n",
       "    <tr style=\"text-align: right;\">\n",
       "      <th></th>\n",
       "      <th>call_year</th>\n",
       "      <th>call_month</th>\n",
       "      <th>call_day</th>\n",
       "      <th>call_hour</th>\n",
       "      <th>call_utc</th>\n",
       "      <th>call_utc_new</th>\n",
       "    </tr>\n",
       "  </thead>\n",
       "  <tbody>\n",
       "    <tr>\n",
       "      <th>0</th>\n",
       "      <td>2011</td>\n",
       "      <td>1</td>\n",
       "      <td>1</td>\n",
       "      <td>5</td>\n",
       "      <td>01/01/2011 05</td>\n",
       "      <td>1293876000</td>\n",
       "    </tr>\n",
       "    <tr>\n",
       "      <th>1</th>\n",
       "      <td>2011</td>\n",
       "      <td>1</td>\n",
       "      <td>1</td>\n",
       "      <td>11</td>\n",
       "      <td>01/01/2011 11</td>\n",
       "      <td>1293897600</td>\n",
       "    </tr>\n",
       "    <tr>\n",
       "      <th>2</th>\n",
       "      <td>2011</td>\n",
       "      <td>1</td>\n",
       "      <td>1</td>\n",
       "      <td>16</td>\n",
       "      <td>01/01/2011 04</td>\n",
       "      <td>1293872400</td>\n",
       "    </tr>\n",
       "    <tr>\n",
       "      <th>3</th>\n",
       "      <td>2011</td>\n",
       "      <td>1</td>\n",
       "      <td>1</td>\n",
       "      <td>22</td>\n",
       "      <td>01/01/2011 10</td>\n",
       "      <td>1293894000</td>\n",
       "    </tr>\n",
       "    <tr>\n",
       "      <th>4</th>\n",
       "      <td>2011</td>\n",
       "      <td>1</td>\n",
       "      <td>2</td>\n",
       "      <td>6</td>\n",
       "      <td>01/02/2011 06</td>\n",
       "      <td>1293966000</td>\n",
       "    </tr>\n",
       "  </tbody>\n",
       "</table>\n",
       "</div>"
      ],
      "text/plain": [
       "   call_year  call_month  call_day  call_hour       call_utc  call_utc_new\n",
       "0       2011           1         1          5  01/01/2011 05    1293876000\n",
       "1       2011           1         1         11  01/01/2011 11    1293897600\n",
       "2       2011           1         1         16  01/01/2011 04    1293872400\n",
       "3       2011           1         1         22  01/01/2011 10    1293894000\n",
       "4       2011           1         2          6  01/02/2011 06    1293966000"
      ]
     },
     "execution_count": 42,
     "metadata": {},
     "output_type": "execute_result"
    }
   ],
   "source": [
    "chk = pd.DataFrame(call_year, columns=['call_year'])\n",
    "chk['call_month'] = call_month\n",
    "chk['call_day'] = call_day\n",
    "chk['call_hour'] = call_hour\n",
    "chk['call_utc'] = call_utc\n",
    "chk['call_utc_new'] = call_utc_new\n",
    "chk.head()"
   ]
  },
  {
   "cell_type": "code",
   "execution_count": 44,
   "metadata": {
    "tags": []
   },
   "outputs": [],
   "source": [
    "# timestamp data columns: From the website, 2021-01-03T23:59:51.000 is \"2021 Jan 03 11:59:51 PM\"\n",
    "\n",
    "mon_dict = {1: 'JAN', 2: 'FEB', 3: 'MAR', 4: 'APR', 5: 'MAY', 6: 'JUN',\n",
    "            7: 'JUL', 8: 'AUG', 9: 'SEP', 10:'OCT', 11:'NOV', 12:'DEC'}\n",
    "mon_start= {1:0, 2:31, 3:59, 4:90, 5:120, 6:151, 7:181, 8:212, 9:243, 10:273, 11:304, 12:334}\n",
    "\n",
    "# Get year, month, day, and time of initial call\n",
    "\n",
    "initial_times = list(results_df[features_initial])\n",
    "PM = [1 if time_str[20:22]=='PM' else 0 for time_str in initial_times]\n",
    "\n",
    "call_year  = [pd.to_numeric(time_str[6:10])   for time_str in initial_times]\n",
    "call_month = [pd.to_numeric(time_str[0:2])    for time_str in initial_times]\n",
    "call_day   = [pd.to_numeric(time_str[3:5])    for time_str in initial_times]\n",
    "PM         = [(time_str[20:22]=='PM')         for time_str in initial_times]\n",
    "hour0      = [pd.to_numeric(time_str[11:13])  for time_str in initial_times]\n",
    "call_hour  = [hr+12 if PM[n] else hr          for n,hr in enumerate(hour0) ]\n",
    "hour       = np.array(call_hour)\n",
    "minute     = np.array([pd.to_numeric(time_str[14:16]) for time_str in initial_times])\n",
    "second     = np.array([pd.to_numeric(time_str[17:19]) for time_str in initial_times])\n",
    "call_time  = hour*3600 + minute*60 + second\n",
    "results_df['CALL_YEAR']  = call_year\n",
    "results_df['CALL_MONTH'] = [mon_dict[mn] for mn in call_month]\n",
    "results_df['CALL_DAY']   = call_day\n",
    "results_df['CALL_TIME']  = call_time\n",
    "call_utc   = [time_str[0:13]                  for time_str in initial_times]\n",
    "pattern = '%m/%d/%Y %H'\n",
    "call_utc = [int(time.mktime(time.strptime(utc, pattern))) for utc in call_utc]\n",
    "results_df['CALL_UTC'] = call_utc\n",
    "\n",
    "# dummify the month column that has month names (JAN, FEB, ...):\n",
    "results_df = pd.get_dummies(results_df, columns=['CALL_MONTH'],drop_first=True)\n",
    "\n",
    "# create a separate CALL_MONTH column with numeric month, for the purpose of joining with other data:\n",
    "results_df['CALL_MONTH'] = call_month\n",
    "\n",
    "# drop the original timestamp column:\n",
    "results_df.drop(columns=[features_initial],inplace=True)"
   ]
  },
  {
   "cell_type": "code",
   "execution_count": 45,
   "metadata": {},
   "outputs": [
    {
     "data": {
      "text/html": [
       "<div>\n",
       "<style scoped>\n",
       "    .dataframe tbody tr th:only-of-type {\n",
       "        vertical-align: middle;\n",
       "    }\n",
       "\n",
       "    .dataframe tbody tr th {\n",
       "        vertical-align: top;\n",
       "    }\n",
       "\n",
       "    .dataframe thead th {\n",
       "        text-align: right;\n",
       "    }\n",
       "</style>\n",
       "<table border=\"1\" class=\"dataframe\">\n",
       "  <thead>\n",
       "    <tr style=\"text-align: right;\">\n",
       "      <th></th>\n",
       "      <th>CALL_MONTH</th>\n",
       "      <th>CALL_DAY</th>\n",
       "      <th>CALL_YEAR</th>\n",
       "      <th>CALL_UTC</th>\n",
       "      <th>CALL_TIME</th>\n",
       "    </tr>\n",
       "  </thead>\n",
       "  <tbody>\n",
       "    <tr>\n",
       "      <th>0</th>\n",
       "      <td>1</td>\n",
       "      <td>1</td>\n",
       "      <td>2011</td>\n",
       "      <td>1293876000</td>\n",
       "      <td>19648</td>\n",
       "    </tr>\n",
       "    <tr>\n",
       "      <th>1</th>\n",
       "      <td>1</td>\n",
       "      <td>1</td>\n",
       "      <td>2011</td>\n",
       "      <td>1293897600</td>\n",
       "      <td>39879</td>\n",
       "    </tr>\n",
       "    <tr>\n",
       "      <th>2</th>\n",
       "      <td>1</td>\n",
       "      <td>1</td>\n",
       "      <td>2011</td>\n",
       "      <td>1293872400</td>\n",
       "      <td>59451</td>\n",
       "    </tr>\n",
       "    <tr>\n",
       "      <th>3</th>\n",
       "      <td>1</td>\n",
       "      <td>1</td>\n",
       "      <td>2011</td>\n",
       "      <td>1293894000</td>\n",
       "      <td>79705</td>\n",
       "    </tr>\n",
       "    <tr>\n",
       "      <th>4</th>\n",
       "      <td>1</td>\n",
       "      <td>2</td>\n",
       "      <td>2011</td>\n",
       "      <td>1293966000</td>\n",
       "      <td>23103</td>\n",
       "    </tr>\n",
       "  </tbody>\n",
       "</table>\n",
       "</div>"
      ],
      "text/plain": [
       "   CALL_MONTH  CALL_DAY  CALL_YEAR    CALL_UTC  CALL_TIME\n",
       "0           1         1       2011  1293876000      19648\n",
       "1           1         1       2011  1293897600      39879\n",
       "2           1         1       2011  1293872400      59451\n",
       "3           1         1       2011  1293894000      79705\n",
       "4           1         2       2011  1293966000      23103"
      ]
     },
     "execution_count": 45,
     "metadata": {},
     "output_type": "execute_result"
    }
   ],
   "source": [
    "results_df[['CALL_MONTH', 'CALL_DAY', 'CALL_YEAR', 'CALL_UTC', 'CALL_TIME']].head()"
   ]
  },
  {
   "cell_type": "code",
   "execution_count": 46,
   "metadata": {},
   "outputs": [],
   "source": [
    "# for the rest of the timestamp features, compare to initial time:\n",
    "for feature in features_timestamps:\n",
    "    results_df[feature].fillna(\"missing\", inplace = True)\n",
    "\n",
    "    times = list(results_df[feature])\n",
    "\n",
    "    # initialize list:\n",
    "    time_list  = []\n",
    "    \n",
    "    # loop through the column:\n",
    "    for n,time_str in enumerate(list(results_df[feature])):\n",
    "        if time_str == \"missing\":\n",
    "            time_list.append(np.nan)\n",
    "        else:\n",
    "            # parse timestamp into yr, mn, day, numeric seconds since midnight:\n",
    "            year  = pd.to_numeric(time_str[6:10])\n",
    "            month = pd.to_numeric(time_str[0:2])   \n",
    "            day   = pd.to_numeric(time_str[3:5])\n",
    "            hr    = pd.to_numeric(time_str[11:13])\n",
    "            if time_str[20:22]=='PM': hr += 12\n",
    "            minute= pd.to_numeric(time_str[14:16])\n",
    "            sec   = pd.to_numeric(time_str[17:19])\n",
    "            t     = 3600*hr + 60*minute + sec\n",
    "\n",
    "            # adjust for calls that run past midnight (and allow for midnight on new years) : \n",
    "            mn = call_month[n]\n",
    "            date0 = mon_start[mn] + call_day[n]\n",
    "            date = mon_start[month] + day\n",
    "            t  += (date - date0)*24*3600\n",
    "            t  += (year-call_year[n])*365*24*3600 \n",
    "            \n",
    "            # subtract the call time to get elapsed time in seconds:\n",
    "            t  -= call_time[n]\n",
    "            \n",
    "            # append to list\n",
    "            time_list.append(t)\n",
    "\n",
    "    results_df[feature] = time_list\n",
    "\n"
   ]
  },
  {
   "cell_type": "code",
   "execution_count": 47,
   "metadata": {},
   "outputs": [
    {
     "data": {
      "text/html": [
       "<div>\n",
       "<style scoped>\n",
       "    .dataframe tbody tr th:only-of-type {\n",
       "        vertical-align: middle;\n",
       "    }\n",
       "\n",
       "    .dataframe tbody tr th {\n",
       "        vertical-align: top;\n",
       "    }\n",
       "\n",
       "    .dataframe thead th {\n",
       "        text-align: right;\n",
       "    }\n",
       "</style>\n",
       "<table border=\"1\" class=\"dataframe\">\n",
       "  <thead>\n",
       "    <tr style=\"text-align: right;\">\n",
       "      <th></th>\n",
       "      <th>CAD_INCIDENT_ID</th>\n",
       "      <th>INITIAL_SEVERITY_LEVEL_CODE</th>\n",
       "      <th>FINAL_SEVERITY_LEVEL_CODE</th>\n",
       "      <th>FIRST_ASSIGNMENT_DATETIME</th>\n",
       "      <th>VALID_DISPATCH_RSPNS_TIME_INDC</th>\n",
       "      <th>DISPATCH_RESPONSE_SECONDS_QY</th>\n",
       "      <th>FIRST_ACTIVATION_DATETIME</th>\n",
       "      <th>FIRST_ON_SCENE_DATETIME</th>\n",
       "      <th>VALID_INCIDENT_RSPNS_TIME_INDC</th>\n",
       "      <th>INCIDENT_RESPONSE_SECONDS_QY</th>\n",
       "      <th>...</th>\n",
       "      <th>CALL_MONTH_FEB</th>\n",
       "      <th>CALL_MONTH_JAN</th>\n",
       "      <th>CALL_MONTH_JUL</th>\n",
       "      <th>CALL_MONTH_JUN</th>\n",
       "      <th>CALL_MONTH_MAR</th>\n",
       "      <th>CALL_MONTH_MAY</th>\n",
       "      <th>CALL_MONTH_NOV</th>\n",
       "      <th>CALL_MONTH_OCT</th>\n",
       "      <th>CALL_MONTH_SEP</th>\n",
       "      <th>CALL_MONTH</th>\n",
       "    </tr>\n",
       "  </thead>\n",
       "  <tbody>\n",
       "    <tr>\n",
       "      <th>0</th>\n",
       "      <td>110011884</td>\n",
       "      <td>4</td>\n",
       "      <td>4</td>\n",
       "      <td>9.0</td>\n",
       "      <td>1</td>\n",
       "      <td>9</td>\n",
       "      <td>16.0</td>\n",
       "      <td>480.0</td>\n",
       "      <td>1</td>\n",
       "      <td>480.0</td>\n",
       "      <td>...</td>\n",
       "      <td>0</td>\n",
       "      <td>1</td>\n",
       "      <td>0</td>\n",
       "      <td>0</td>\n",
       "      <td>0</td>\n",
       "      <td>0</td>\n",
       "      <td>0</td>\n",
       "      <td>0</td>\n",
       "      <td>0</td>\n",
       "      <td>1</td>\n",
       "    </tr>\n",
       "    <tr>\n",
       "      <th>1</th>\n",
       "      <td>110013013</td>\n",
       "      <td>6</td>\n",
       "      <td>6</td>\n",
       "      <td>28.0</td>\n",
       "      <td>1</td>\n",
       "      <td>28</td>\n",
       "      <td>127.0</td>\n",
       "      <td>674.0</td>\n",
       "      <td>1</td>\n",
       "      <td>674.0</td>\n",
       "      <td>...</td>\n",
       "      <td>0</td>\n",
       "      <td>1</td>\n",
       "      <td>0</td>\n",
       "      <td>0</td>\n",
       "      <td>0</td>\n",
       "      <td>0</td>\n",
       "      <td>0</td>\n",
       "      <td>0</td>\n",
       "      <td>0</td>\n",
       "      <td>1</td>\n",
       "    </tr>\n",
       "    <tr>\n",
       "      <th>2</th>\n",
       "      <td>110014121</td>\n",
       "      <td>4</td>\n",
       "      <td>4</td>\n",
       "      <td>10.0</td>\n",
       "      <td>1</td>\n",
       "      <td>10</td>\n",
       "      <td>19.0</td>\n",
       "      <td>399.0</td>\n",
       "      <td>1</td>\n",
       "      <td>399.0</td>\n",
       "      <td>...</td>\n",
       "      <td>0</td>\n",
       "      <td>1</td>\n",
       "      <td>0</td>\n",
       "      <td>0</td>\n",
       "      <td>0</td>\n",
       "      <td>0</td>\n",
       "      <td>0</td>\n",
       "      <td>0</td>\n",
       "      <td>0</td>\n",
       "      <td>1</td>\n",
       "    </tr>\n",
       "    <tr>\n",
       "      <th>3</th>\n",
       "      <td>110015204</td>\n",
       "      <td>2</td>\n",
       "      <td>2</td>\n",
       "      <td>16.0</td>\n",
       "      <td>1</td>\n",
       "      <td>16</td>\n",
       "      <td>44.0</td>\n",
       "      <td>272.0</td>\n",
       "      <td>1</td>\n",
       "      <td>272.0</td>\n",
       "      <td>...</td>\n",
       "      <td>0</td>\n",
       "      <td>1</td>\n",
       "      <td>0</td>\n",
       "      <td>0</td>\n",
       "      <td>0</td>\n",
       "      <td>0</td>\n",
       "      <td>0</td>\n",
       "      <td>0</td>\n",
       "      <td>0</td>\n",
       "      <td>1</td>\n",
       "    </tr>\n",
       "    <tr>\n",
       "      <th>4</th>\n",
       "      <td>110020794</td>\n",
       "      <td>4</td>\n",
       "      <td>6</td>\n",
       "      <td>27.0</td>\n",
       "      <td>1</td>\n",
       "      <td>27</td>\n",
       "      <td>46.0</td>\n",
       "      <td>920.0</td>\n",
       "      <td>1</td>\n",
       "      <td>920.0</td>\n",
       "      <td>...</td>\n",
       "      <td>0</td>\n",
       "      <td>1</td>\n",
       "      <td>0</td>\n",
       "      <td>0</td>\n",
       "      <td>0</td>\n",
       "      <td>0</td>\n",
       "      <td>0</td>\n",
       "      <td>0</td>\n",
       "      <td>0</td>\n",
       "      <td>1</td>\n",
       "    </tr>\n",
       "  </tbody>\n",
       "</table>\n",
       "<p>5 rows × 850 columns</p>\n",
       "</div>"
      ],
      "text/plain": [
       "   CAD_INCIDENT_ID  INITIAL_SEVERITY_LEVEL_CODE  FINAL_SEVERITY_LEVEL_CODE  \\\n",
       "0        110011884                            4                          4   \n",
       "1        110013013                            6                          6   \n",
       "2        110014121                            4                          4   \n",
       "3        110015204                            2                          2   \n",
       "4        110020794                            4                          6   \n",
       "\n",
       "   FIRST_ASSIGNMENT_DATETIME  VALID_DISPATCH_RSPNS_TIME_INDC  \\\n",
       "0                        9.0                               1   \n",
       "1                       28.0                               1   \n",
       "2                       10.0                               1   \n",
       "3                       16.0                               1   \n",
       "4                       27.0                               1   \n",
       "\n",
       "   DISPATCH_RESPONSE_SECONDS_QY  FIRST_ACTIVATION_DATETIME  \\\n",
       "0                             9                       16.0   \n",
       "1                            28                      127.0   \n",
       "2                            10                       19.0   \n",
       "3                            16                       44.0   \n",
       "4                            27                       46.0   \n",
       "\n",
       "   FIRST_ON_SCENE_DATETIME  VALID_INCIDENT_RSPNS_TIME_INDC  \\\n",
       "0                    480.0                               1   \n",
       "1                    674.0                               1   \n",
       "2                    399.0                               1   \n",
       "3                    272.0                               1   \n",
       "4                    920.0                               1   \n",
       "\n",
       "   INCIDENT_RESPONSE_SECONDS_QY  ...  CALL_MONTH_FEB  CALL_MONTH_JAN  \\\n",
       "0                         480.0  ...               0               1   \n",
       "1                         674.0  ...               0               1   \n",
       "2                         399.0  ...               0               1   \n",
       "3                         272.0  ...               0               1   \n",
       "4                         920.0  ...               0               1   \n",
       "\n",
       "   CALL_MONTH_JUL  CALL_MONTH_JUN  CALL_MONTH_MAR  CALL_MONTH_MAY  \\\n",
       "0               0               0               0               0   \n",
       "1               0               0               0               0   \n",
       "2               0               0               0               0   \n",
       "3               0               0               0               0   \n",
       "4               0               0               0               0   \n",
       "\n",
       "   CALL_MONTH_NOV  CALL_MONTH_OCT  CALL_MONTH_SEP  CALL_MONTH  \n",
       "0               0               0               0           1  \n",
       "1               0               0               0           1  \n",
       "2               0               0               0           1  \n",
       "3               0               0               0           1  \n",
       "4               0               0               0           1  \n",
       "\n",
       "[5 rows x 850 columns]"
      ]
     },
     "execution_count": 47,
     "metadata": {},
     "output_type": "execute_result"
    }
   ],
   "source": [
    "results_df.head()"
   ]
  },
  {
   "cell_type": "code",
   "execution_count": 48,
   "metadata": {},
   "outputs": [
    {
     "data": {
      "text/html": [
       "<div>\n",
       "<style scoped>\n",
       "    .dataframe tbody tr th:only-of-type {\n",
       "        vertical-align: middle;\n",
       "    }\n",
       "\n",
       "    .dataframe tbody tr th {\n",
       "        vertical-align: top;\n",
       "    }\n",
       "\n",
       "    .dataframe thead th {\n",
       "        text-align: right;\n",
       "    }\n",
       "</style>\n",
       "<table border=\"1\" class=\"dataframe\">\n",
       "  <thead>\n",
       "    <tr style=\"text-align: right;\">\n",
       "      <th></th>\n",
       "      <th>column</th>\n",
       "      <th>NULLS</th>\n",
       "    </tr>\n",
       "  </thead>\n",
       "  <tbody>\n",
       "    <tr>\n",
       "      <th>3</th>\n",
       "      <td>FIRST_ASSIGNMENT_DATETIME</td>\n",
       "      <td>148</td>\n",
       "    </tr>\n",
       "    <tr>\n",
       "      <th>6</th>\n",
       "      <td>FIRST_ACTIVATION_DATETIME</td>\n",
       "      <td>219</td>\n",
       "    </tr>\n",
       "    <tr>\n",
       "      <th>7</th>\n",
       "      <td>FIRST_ON_SCENE_DATETIME</td>\n",
       "      <td>722</td>\n",
       "    </tr>\n",
       "    <tr>\n",
       "      <th>9</th>\n",
       "      <td>INCIDENT_RESPONSE_SECONDS_QY</td>\n",
       "      <td>728</td>\n",
       "    </tr>\n",
       "    <tr>\n",
       "      <th>10</th>\n",
       "      <td>INCIDENT_TRAVEL_TM_SECONDS_QY</td>\n",
       "      <td>722</td>\n",
       "    </tr>\n",
       "    <tr>\n",
       "      <th>11</th>\n",
       "      <td>FIRST_TO_HOSP_DATETIME</td>\n",
       "      <td>6251</td>\n",
       "    </tr>\n",
       "    <tr>\n",
       "      <th>12</th>\n",
       "      <td>FIRST_HOSP_ARRIVAL_DATETIME</td>\n",
       "      <td>6389</td>\n",
       "    </tr>\n",
       "    <tr>\n",
       "      <th>13</th>\n",
       "      <td>INCIDENT_CLOSE_DATETIME</td>\n",
       "      <td>4</td>\n",
       "    </tr>\n",
       "  </tbody>\n",
       "</table>\n",
       "</div>"
      ],
      "text/plain": [
       "                           column  NULLS\n",
       "3       FIRST_ASSIGNMENT_DATETIME    148\n",
       "6       FIRST_ACTIVATION_DATETIME    219\n",
       "7         FIRST_ON_SCENE_DATETIME    722\n",
       "9    INCIDENT_RESPONSE_SECONDS_QY    728\n",
       "10  INCIDENT_TRAVEL_TM_SECONDS_QY    722\n",
       "11         FIRST_TO_HOSP_DATETIME   6251\n",
       "12    FIRST_HOSP_ARRIVAL_DATETIME   6389\n",
       "13        INCIDENT_CLOSE_DATETIME      4"
      ]
     },
     "execution_count": 48,
     "metadata": {},
     "output_type": "execute_result"
    }
   ],
   "source": [
    "columns = results_df.columns\n",
    "d = []\n",
    "for col in columns:\n",
    "    nulls = results_df[col].isna().sum()\n",
    "    d.append({'column': col, 'NULLS': nulls})\n",
    "chk = pd.DataFrame(d)\n",
    "chk[chk['NULLS']>0]"
   ]
  },
  {
   "cell_type": "code",
   "execution_count": 49,
   "metadata": {},
   "outputs": [],
   "source": [
    "chk0 = results_df['FIRST_ON_SCENE_DATETIME']-results_df['INCIDENT_RESPONSE_SECONDS_QY']"
   ]
  },
  {
   "cell_type": "code",
   "execution_count": 50,
   "metadata": {},
   "outputs": [
    {
     "data": {
      "text/plain": [
       "(-43200.0, 43200.0)"
      ]
     },
     "execution_count": 50,
     "metadata": {},
     "output_type": "execute_result"
    }
   ],
   "source": [
    "chk0.min(),chk0.max()"
   ]
  },
  {
   "cell_type": "code",
   "execution_count": 51,
   "metadata": {},
   "outputs": [
    {
     "data": {
      "text/plain": [
       "43200"
      ]
     },
     "execution_count": 51,
     "metadata": {},
     "output_type": "execute_result"
    }
   ],
   "source": [
    "12*60*60"
   ]
  },
  {
   "cell_type": "code",
   "execution_count": 52,
   "metadata": {},
   "outputs": [
    {
     "data": {
      "image/png": "[encoded data removed]",
      "text/plain": [
       "<Figure size 432x288 with 1 Axes>"
      ]
     },
     "metadata": {
      "needs_background": "light"
     },
     "output_type": "display_data"
    }
   ],
   "source": [
    "plt.hist(chk0);"
   ]
  },
  {
   "cell_type": "code",
   "execution_count": 53,
   "metadata": {},
   "outputs": [
    {
     "data": {
      "text/plain": [
       "(1255, 21320)"
      ]
     },
     "execution_count": 53,
     "metadata": {},
     "output_type": "execute_result"
    }
   ],
   "source": [
    "np.sum([1 if c!=0 else 0 for c in chk0]), len(chk0)"
   ]
  },
  {
   "cell_type": "code",
   "execution_count": 54,
   "metadata": {},
   "outputs": [
    {
     "data": {
      "text/plain": [
       "(21320, 850)"
      ]
     },
     "execution_count": 54,
     "metadata": {},
     "output_type": "execute_result"
    }
   ],
   "source": [
    "results_df.shape"
   ]
  },
  {
   "cell_type": "code",
   "execution_count": 55,
   "metadata": {},
   "outputs": [
    {
     "data": {
      "text/plain": [
       "(20065, 849)"
      ]
     },
     "execution_count": 55,
     "metadata": {},
     "output_type": "execute_result"
    }
   ],
   "source": [
    "results_df = results_df[results_df['FIRST_ON_SCENE_DATETIME']==results_df['INCIDENT_RESPONSE_SECONDS_QY']]\n",
    "results_df.drop(columns = ['FIRST_ON_SCENE_DATETIME'],inplace=True)\n",
    "results_df.shape"
   ]
  },
  {
   "cell_type": "code",
   "execution_count": 56,
   "metadata": {},
   "outputs": [
    {
     "data": {
      "text/html": [
       "<div>\n",
       "<style scoped>\n",
       "    .dataframe tbody tr th:only-of-type {\n",
       "        vertical-align: middle;\n",
       "    }\n",
       "\n",
       "    .dataframe tbody tr th {\n",
       "        vertical-align: top;\n",
       "    }\n",
       "\n",
       "    .dataframe thead th {\n",
       "        text-align: right;\n",
       "    }\n",
       "</style>\n",
       "<table border=\"1\" class=\"dataframe\">\n",
       "  <thead>\n",
       "    <tr style=\"text-align: right;\">\n",
       "      <th></th>\n",
       "      <th>column</th>\n",
       "      <th>NULLS</th>\n",
       "    </tr>\n",
       "  </thead>\n",
       "  <tbody>\n",
       "    <tr>\n",
       "      <th>6</th>\n",
       "      <td>FIRST_ACTIVATION_DATETIME</td>\n",
       "      <td>37</td>\n",
       "    </tr>\n",
       "    <tr>\n",
       "      <th>10</th>\n",
       "      <td>FIRST_TO_HOSP_DATETIME</td>\n",
       "      <td>5563</td>\n",
       "    </tr>\n",
       "    <tr>\n",
       "      <th>11</th>\n",
       "      <td>FIRST_HOSP_ARRIVAL_DATETIME</td>\n",
       "      <td>5694</td>\n",
       "    </tr>\n",
       "    <tr>\n",
       "      <th>12</th>\n",
       "      <td>INCIDENT_CLOSE_DATETIME</td>\n",
       "      <td>2</td>\n",
       "    </tr>\n",
       "  </tbody>\n",
       "</table>\n",
       "</div>"
      ],
      "text/plain": [
       "                         column  NULLS\n",
       "6     FIRST_ACTIVATION_DATETIME     37\n",
       "10       FIRST_TO_HOSP_DATETIME   5563\n",
       "11  FIRST_HOSP_ARRIVAL_DATETIME   5694\n",
       "12      INCIDENT_CLOSE_DATETIME      2"
      ]
     },
     "execution_count": 56,
     "metadata": {},
     "output_type": "execute_result"
    }
   ],
   "source": [
    "columns = results_df.columns\n",
    "d = []\n",
    "for col in columns:\n",
    "    nulls = results_df[col].isna().sum()\n",
    "    d.append({'column': col, 'NULLS': nulls})\n",
    "chk = pd.DataFrame(d)\n",
    "chk[chk['NULLS']>0]"
   ]
  },
  {
   "cell_type": "markdown",
   "metadata": {},
   "source": [
    "That got rid of almost all the NULL values!"
   ]
  },
  {
   "cell_type": "code",
   "execution_count": 57,
   "metadata": {},
   "outputs": [
    {
     "data": {
      "text/plain": [
       "(20065, 849)"
      ]
     },
     "execution_count": 57,
     "metadata": {},
     "output_type": "execute_result"
    }
   ],
   "source": [
    "results_df.shape"
   ]
  },
  {
   "cell_type": "code",
   "execution_count": 58,
   "metadata": {},
   "outputs": [
    {
     "data": {
      "text/plain": [
       "(20026, 847)"
      ]
     },
     "execution_count": 58,
     "metadata": {},
     "output_type": "execute_result"
    }
   ],
   "source": [
    "results_df.drop(columns = ['FIRST_TO_HOSP_DATETIME', 'FIRST_HOSP_ARRIVAL_DATETIME'], inplace=True)\n",
    "results_df.dropna(inplace=True)\n",
    "results_df.shape"
   ]
  },
  {
   "cell_type": "code",
   "execution_count": 59,
   "metadata": {},
   "outputs": [
    {
     "name": "stdout",
     "output_type": "stream",
     "text": [
      "<class 'pandas.core.frame.DataFrame'>\n",
      "Int64Index: 20026 entries, 0 to 21319\n",
      "Columns: 847 entries, CAD_INCIDENT_ID to CALL_MONTH\n",
      "dtypes: float64(5), int64(16), uint8(826)\n",
      "memory usage: 19.1 MB\n"
     ]
    }
   ],
   "source": [
    "results_df.info()"
   ]
  },
  {
   "cell_type": "code",
   "execution_count": 60,
   "metadata": {},
   "outputs": [],
   "source": [
    "results_df.to_csv('./data/emssubsample_clean.csv',index=False)"
   ]
  },
  {
   "cell_type": "code",
   "execution_count": 61,
   "metadata": {},
   "outputs": [
    {
     "data": {
      "text/html": [
       "<div>\n",
       "<style scoped>\n",
       "    .dataframe tbody tr th:only-of-type {\n",
       "        vertical-align: middle;\n",
       "    }\n",
       "\n",
       "    .dataframe tbody tr th {\n",
       "        vertical-align: top;\n",
       "    }\n",
       "\n",
       "    .dataframe thead th {\n",
       "        text-align: right;\n",
       "    }\n",
       "</style>\n",
       "<table border=\"1\" class=\"dataframe\">\n",
       "  <thead>\n",
       "    <tr style=\"text-align: right;\">\n",
       "      <th></th>\n",
       "      <th>CAD_INCIDENT_ID</th>\n",
       "      <th>INITIAL_SEVERITY_LEVEL_CODE</th>\n",
       "      <th>FINAL_SEVERITY_LEVEL_CODE</th>\n",
       "      <th>FIRST_ASSIGNMENT_DATETIME</th>\n",
       "      <th>VALID_DISPATCH_RSPNS_TIME_INDC</th>\n",
       "      <th>DISPATCH_RESPONSE_SECONDS_QY</th>\n",
       "      <th>FIRST_ACTIVATION_DATETIME</th>\n",
       "      <th>VALID_INCIDENT_RSPNS_TIME_INDC</th>\n",
       "      <th>INCIDENT_RESPONSE_SECONDS_QY</th>\n",
       "      <th>INCIDENT_TRAVEL_TM_SECONDS_QY</th>\n",
       "      <th>...</th>\n",
       "      <th>CALL_MONTH_FEB</th>\n",
       "      <th>CALL_MONTH_JAN</th>\n",
       "      <th>CALL_MONTH_JUL</th>\n",
       "      <th>CALL_MONTH_JUN</th>\n",
       "      <th>CALL_MONTH_MAR</th>\n",
       "      <th>CALL_MONTH_MAY</th>\n",
       "      <th>CALL_MONTH_NOV</th>\n",
       "      <th>CALL_MONTH_OCT</th>\n",
       "      <th>CALL_MONTH_SEP</th>\n",
       "      <th>CALL_MONTH</th>\n",
       "    </tr>\n",
       "  </thead>\n",
       "  <tbody>\n",
       "    <tr>\n",
       "      <th>0</th>\n",
       "      <td>110011884</td>\n",
       "      <td>4</td>\n",
       "      <td>4</td>\n",
       "      <td>9.0</td>\n",
       "      <td>1</td>\n",
       "      <td>9</td>\n",
       "      <td>16.0</td>\n",
       "      <td>1</td>\n",
       "      <td>480.0</td>\n",
       "      <td>471.0</td>\n",
       "      <td>...</td>\n",
       "      <td>0</td>\n",
       "      <td>1</td>\n",
       "      <td>0</td>\n",
       "      <td>0</td>\n",
       "      <td>0</td>\n",
       "      <td>0</td>\n",
       "      <td>0</td>\n",
       "      <td>0</td>\n",
       "      <td>0</td>\n",
       "      <td>1</td>\n",
       "    </tr>\n",
       "    <tr>\n",
       "      <th>1</th>\n",
       "      <td>110013013</td>\n",
       "      <td>6</td>\n",
       "      <td>6</td>\n",
       "      <td>28.0</td>\n",
       "      <td>1</td>\n",
       "      <td>28</td>\n",
       "      <td>127.0</td>\n",
       "      <td>1</td>\n",
       "      <td>674.0</td>\n",
       "      <td>646.0</td>\n",
       "      <td>...</td>\n",
       "      <td>0</td>\n",
       "      <td>1</td>\n",
       "      <td>0</td>\n",
       "      <td>0</td>\n",
       "      <td>0</td>\n",
       "      <td>0</td>\n",
       "      <td>0</td>\n",
       "      <td>0</td>\n",
       "      <td>0</td>\n",
       "      <td>1</td>\n",
       "    </tr>\n",
       "    <tr>\n",
       "      <th>2</th>\n",
       "      <td>110014121</td>\n",
       "      <td>4</td>\n",
       "      <td>4</td>\n",
       "      <td>10.0</td>\n",
       "      <td>1</td>\n",
       "      <td>10</td>\n",
       "      <td>19.0</td>\n",
       "      <td>1</td>\n",
       "      <td>399.0</td>\n",
       "      <td>389.0</td>\n",
       "      <td>...</td>\n",
       "      <td>0</td>\n",
       "      <td>1</td>\n",
       "      <td>0</td>\n",
       "      <td>0</td>\n",
       "      <td>0</td>\n",
       "      <td>0</td>\n",
       "      <td>0</td>\n",
       "      <td>0</td>\n",
       "      <td>0</td>\n",
       "      <td>1</td>\n",
       "    </tr>\n",
       "    <tr>\n",
       "      <th>3</th>\n",
       "      <td>110015204</td>\n",
       "      <td>2</td>\n",
       "      <td>2</td>\n",
       "      <td>16.0</td>\n",
       "      <td>1</td>\n",
       "      <td>16</td>\n",
       "      <td>44.0</td>\n",
       "      <td>1</td>\n",
       "      <td>272.0</td>\n",
       "      <td>256.0</td>\n",
       "      <td>...</td>\n",
       "      <td>0</td>\n",
       "      <td>1</td>\n",
       "      <td>0</td>\n",
       "      <td>0</td>\n",
       "      <td>0</td>\n",
       "      <td>0</td>\n",
       "      <td>0</td>\n",
       "      <td>0</td>\n",
       "      <td>0</td>\n",
       "      <td>1</td>\n",
       "    </tr>\n",
       "    <tr>\n",
       "      <th>4</th>\n",
       "      <td>110020794</td>\n",
       "      <td>4</td>\n",
       "      <td>6</td>\n",
       "      <td>27.0</td>\n",
       "      <td>1</td>\n",
       "      <td>27</td>\n",
       "      <td>46.0</td>\n",
       "      <td>1</td>\n",
       "      <td>920.0</td>\n",
       "      <td>893.0</td>\n",
       "      <td>...</td>\n",
       "      <td>0</td>\n",
       "      <td>1</td>\n",
       "      <td>0</td>\n",
       "      <td>0</td>\n",
       "      <td>0</td>\n",
       "      <td>0</td>\n",
       "      <td>0</td>\n",
       "      <td>0</td>\n",
       "      <td>0</td>\n",
       "      <td>1</td>\n",
       "    </tr>\n",
       "  </tbody>\n",
       "</table>\n",
       "<p>5 rows × 847 columns</p>\n",
       "</div>"
      ],
      "text/plain": [
       "   CAD_INCIDENT_ID  INITIAL_SEVERITY_LEVEL_CODE  FINAL_SEVERITY_LEVEL_CODE  \\\n",
       "0        110011884                            4                          4   \n",
       "1        110013013                            6                          6   \n",
       "2        110014121                            4                          4   \n",
       "3        110015204                            2                          2   \n",
       "4        110020794                            4                          6   \n",
       "\n",
       "   FIRST_ASSIGNMENT_DATETIME  VALID_DISPATCH_RSPNS_TIME_INDC  \\\n",
       "0                        9.0                               1   \n",
       "1                       28.0                               1   \n",
       "2                       10.0                               1   \n",
       "3                       16.0                               1   \n",
       "4                       27.0                               1   \n",
       "\n",
       "   DISPATCH_RESPONSE_SECONDS_QY  FIRST_ACTIVATION_DATETIME  \\\n",
       "0                             9                       16.0   \n",
       "1                            28                      127.0   \n",
       "2                            10                       19.0   \n",
       "3                            16                       44.0   \n",
       "4                            27                       46.0   \n",
       "\n",
       "   VALID_INCIDENT_RSPNS_TIME_INDC  INCIDENT_RESPONSE_SECONDS_QY  \\\n",
       "0                               1                         480.0   \n",
       "1                               1                         674.0   \n",
       "2                               1                         399.0   \n",
       "3                               1                         272.0   \n",
       "4                               1                         920.0   \n",
       "\n",
       "   INCIDENT_TRAVEL_TM_SECONDS_QY  ...  CALL_MONTH_FEB  CALL_MONTH_JAN  \\\n",
       "0                          471.0  ...               0               1   \n",
       "1                          646.0  ...               0               1   \n",
       "2                          389.0  ...               0               1   \n",
       "3                          256.0  ...               0               1   \n",
       "4                          893.0  ...               0               1   \n",
       "\n",
       "   CALL_MONTH_JUL  CALL_MONTH_JUN  CALL_MONTH_MAR  CALL_MONTH_MAY  \\\n",
       "0               0               0               0               0   \n",
       "1               0               0               0               0   \n",
       "2               0               0               0               0   \n",
       "3               0               0               0               0   \n",
       "4               0               0               0               0   \n",
       "\n",
       "   CALL_MONTH_NOV  CALL_MONTH_OCT  CALL_MONTH_SEP  CALL_MONTH  \n",
       "0               0               0               0           1  \n",
       "1               0               0               0           1  \n",
       "2               0               0               0           1  \n",
       "3               0               0               0           1  \n",
       "4               0               0               0           1  \n",
       "\n",
       "[5 rows x 847 columns]"
      ]
     },
     "execution_count": 61,
     "metadata": {},
     "output_type": "execute_result"
    }
   ],
   "source": [
    "results_df = pd.read_csv('data/emssubsample_clean.csv')\n",
    "\n",
    "results_df.head()"
   ]
  },
  {
   "cell_type": "code",
   "execution_count": null,
   "metadata": {},
   "outputs": [],
   "source": []
  },
  {
   "cell_type": "code",
   "execution_count": null,
   "metadata": {},
   "outputs": [],
   "source": []
  }
 ],
 "metadata": {
  "kernelspec": {
   "display_name": "Python 3",
   "language": "python",
   "name": "python3"
  },
  "language_info": {
   "codemirror_mode": {
    "name": "ipython",
    "version": 3
   },
   "file_extension": ".py",
   "mimetype": "text/x-python",
   "name": "python",
   "nbconvert_exporter": "python",
   "pygments_lexer": "ipython3",
   "version": "3.8.5"
  }
 },
 "nbformat": 4,
 "nbformat_minor": 4
}
