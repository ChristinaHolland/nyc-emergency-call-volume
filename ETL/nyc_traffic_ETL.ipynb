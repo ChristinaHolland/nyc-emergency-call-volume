{
 "cells": [
  {
   "cell_type": "code",
   "execution_count": 96,
   "metadata": {},
   "outputs": [],
   "source": [
    "import pandas as pd\n",
    "import numpy as np\n",
    "import matplotlib.pyplot as plt\n",
    "import seaborn as sns"
   ]
  },
  {
   "cell_type": "code",
   "execution_count": 97,
   "metadata": {},
   "outputs": [],
   "source": [
    "df = pd.read_csv('ny_events.csv')"
   ]
  },
  {
   "cell_type": "code",
   "execution_count": 98,
   "metadata": {},
   "outputs": [],
   "source": [
    "# convert columns to datetime\n",
    "df['Create Time']= pd.to_datetime(df['Create Time'])\n",
    "df['Close Time']= pd.to_datetime(df['Close Time'])\n",
    "\n",
    "# extract day, month, year\n",
    "df['year']=df['Create Time'].apply(lambda x: x.year)\n",
    "df['month']=df['Create Time'].apply(lambda x: x.month)\n",
    "df['day']=df['Create Time'].apply(lambda x: x.day)\n",
    "df['hour']=df['Create Time'].apply(lambda x: x.hour)\n",
    "\n",
    "# remove data outside NYC 5 B's\n",
    "nyc = ['Bronx', # Bronx\n",
    " 'Bronx/New York',\n",
    " 'Bronx/New York/Queens',\n",
    " 'Bronx/Queens',\n",
    " 'New York / Bronx',\n",
    "'Kings', # Brooklyn\n",
    " 'Kings County',\n",
    " 'Kings/New York',\n",
    " 'Kings/Queens',\n",
    " 'Kings/Richmond',\n",
    " 'Brooklyn',\n",
    " 'New York/Kings',\n",
    " 'kings',\n",
    "'Manhattan', # Manhattan\n",
    " 'New York',\n",
    " 'New Yrok',\n",
    " 'New york',\n",
    "'Queens County', # Queens\n",
    " 'Queens/Kings/Nassau/Suffok',\n",
    " 'Queens/New York',\n",
    " 'New York/Queens',\n",
    "'Richmond'] # Stat Rats\n",
    "\n",
    "df = df[df['County'].isin(nyc)]\n",
    "\n",
    "# drop useless cols\n",
    "df.drop(columns=[\n",
    "        'Event Type',\n",
    "        'Organization Name',\n",
    "        'Facility Name',\n",
    "        'Direction',\n",
    "        'Event Description',\n",
    "        'Responding Organization Id',\n",
    "        'State',\n",
    "        'City'\n",
    "], inplace=True)"
   ]
  },
  {
   "cell_type": "code",
   "execution_count": 99,
   "metadata": {},
   "outputs": [
    {
     "data": {
      "text/html": [
       "<div>\n",
       "<style scoped>\n",
       "    .dataframe tbody tr th:only-of-type {\n",
       "        vertical-align: middle;\n",
       "    }\n",
       "\n",
       "    .dataframe tbody tr th {\n",
       "        vertical-align: top;\n",
       "    }\n",
       "\n",
       "    .dataframe thead th {\n",
       "        text-align: right;\n",
       "    }\n",
       "</style>\n",
       "<table border=\"1\" class=\"dataframe\">\n",
       "  <thead>\n",
       "    <tr style=\"text-align: right;\">\n",
       "      <th></th>\n",
       "      <th>County</th>\n",
       "      <th>Create Time</th>\n",
       "      <th>Close Time</th>\n",
       "      <th>Latitude</th>\n",
       "      <th>Longitude</th>\n",
       "      <th>year</th>\n",
       "      <th>month</th>\n",
       "      <th>day</th>\n",
       "      <th>hour</th>\n",
       "    </tr>\n",
       "  </thead>\n",
       "  <tbody>\n",
       "    <tr>\n",
       "      <th>0</th>\n",
       "      <td>Bronx</td>\n",
       "      <td>2016-02-14 06:05:00</td>\n",
       "      <td>2016-02-14 07:03:00</td>\n",
       "      <td>40.853860</td>\n",
       "      <td>-73.907380</td>\n",
       "      <td>2016</td>\n",
       "      <td>2</td>\n",
       "      <td>14</td>\n",
       "      <td>6</td>\n",
       "    </tr>\n",
       "    <tr>\n",
       "      <th>3</th>\n",
       "      <td>New York</td>\n",
       "      <td>2016-02-14 06:21:00</td>\n",
       "      <td>2016-02-14 13:28:00</td>\n",
       "      <td>40.759612</td>\n",
       "      <td>-73.830212</td>\n",
       "      <td>2016</td>\n",
       "      <td>2</td>\n",
       "      <td>14</td>\n",
       "      <td>6</td>\n",
       "    </tr>\n",
       "    <tr>\n",
       "      <th>13</th>\n",
       "      <td>Bronx</td>\n",
       "      <td>2016-02-14 06:42:00</td>\n",
       "      <td>2016-02-14 07:01:00</td>\n",
       "      <td>40.819999</td>\n",
       "      <td>-73.890403</td>\n",
       "      <td>2016</td>\n",
       "      <td>2</td>\n",
       "      <td>14</td>\n",
       "      <td>6</td>\n",
       "    </tr>\n",
       "    <tr>\n",
       "      <th>14</th>\n",
       "      <td>Bronx</td>\n",
       "      <td>2016-02-14 18:43:00</td>\n",
       "      <td>2016-02-14 18:47:00</td>\n",
       "      <td>40.849576</td>\n",
       "      <td>-73.906111</td>\n",
       "      <td>2016</td>\n",
       "      <td>2</td>\n",
       "      <td>14</td>\n",
       "      <td>18</td>\n",
       "    </tr>\n",
       "    <tr>\n",
       "      <th>15</th>\n",
       "      <td>New York</td>\n",
       "      <td>2016-02-14 06:44:00</td>\n",
       "      <td>2016-02-14 11:23:00</td>\n",
       "      <td>40.734451</td>\n",
       "      <td>-73.989983</td>\n",
       "      <td>2016</td>\n",
       "      <td>2</td>\n",
       "      <td>14</td>\n",
       "      <td>6</td>\n",
       "    </tr>\n",
       "  </tbody>\n",
       "</table>\n",
       "</div>"
      ],
      "text/plain": [
       "      County         Create Time          Close Time   Latitude  Longitude  \\\n",
       "0      Bronx 2016-02-14 06:05:00 2016-02-14 07:03:00  40.853860 -73.907380   \n",
       "3   New York 2016-02-14 06:21:00 2016-02-14 13:28:00  40.759612 -73.830212   \n",
       "13     Bronx 2016-02-14 06:42:00 2016-02-14 07:01:00  40.819999 -73.890403   \n",
       "14     Bronx 2016-02-14 18:43:00 2016-02-14 18:47:00  40.849576 -73.906111   \n",
       "15  New York 2016-02-14 06:44:00 2016-02-14 11:23:00  40.734451 -73.989983   \n",
       "\n",
       "    year  month  day  hour  \n",
       "0   2016      2   14     6  \n",
       "3   2016      2   14     6  \n",
       "13  2016      2   14     6  \n",
       "14  2016      2   14    18  \n",
       "15  2016      2   14     6  "
      ]
     },
     "execution_count": 99,
     "metadata": {},
     "output_type": "execute_result"
    }
   ],
   "source": [
    "df.head()"
   ]
  },
  {
   "cell_type": "code",
   "execution_count": 129,
   "metadata": {},
   "outputs": [
    {
     "data": {
      "image/png": "[encoded data removed]",
      "text/plain": [
       "<Figure size 432x288 with 1 Axes>"
      ]
     },
     "metadata": {
      "needs_background": "light"
     },
     "output_type": "display_data"
    }
   ],
   "source": [
    "plt.barh(df['hour'].unique(), df['hour'].value_counts())\n",
    "axes = plt.gca()\n",
    "axes.set_ylim([-1,24])\n",
    "plt.title('Events by Hour');"
   ]
  },
  {
   "cell_type": "code",
   "execution_count": 130,
   "metadata": {},
   "outputs": [
    {
     "data": {
      "image/png": "[encoded data removed]",
      "text/plain": [
       "<Figure size 432x288 with 1 Axes>"
      ]
     },
     "metadata": {
      "needs_background": "light"
     },
     "output_type": "display_data"
    }
   ],
   "source": [
    "plt.barh(df['day'].unique(), df['day'].value_counts())\n",
    "axes = plt.gca()\n",
    "axes.set_ylim([0,32])\n",
    "plt.title('Events by Day');"
   ]
  },
  {
   "cell_type": "code",
   "execution_count": 131,
   "metadata": {},
   "outputs": [
    {
     "data": {
      "image/png": "[encoded data removed]",
      "text/plain": [
       "<Figure size 432x288 with 1 Axes>"
      ]
     },
     "metadata": {
      "needs_background": "light"
     },
     "output_type": "display_data"
    }
   ],
   "source": [
    "plt.barh(df['month'].unique(), df['month'].value_counts())\n",
    "axes = plt.gca()\n",
    "axes.set_ylim([0,13])\n",
    "plt.title('Events by Month');"
   ]
  },
  {
   "cell_type": "code",
   "execution_count": null,
   "metadata": {},
   "outputs": [],
   "source": []
  }
 ],
 "metadata": {
  "kernelspec": {
   "display_name": "Python 3",
   "language": "python",
   "name": "python3"
  },
  "language_info": {
   "codemirror_mode": {
    "name": "ipython",
    "version": 3
   },
   "file_extension": ".py",
   "mimetype": "text/x-python",
   "name": "python",
   "nbconvert_exporter": "python",
   "pygments_lexer": "ipython3",
   "version": "3.8.5"
  }
 },
 "nbformat": 4,
 "nbformat_minor": 4
}
