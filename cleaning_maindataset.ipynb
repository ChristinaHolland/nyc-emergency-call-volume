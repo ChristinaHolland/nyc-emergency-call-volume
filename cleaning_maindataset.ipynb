{
 "cells": [
  {
   "cell_type": "code",
   "execution_count": 2,
   "metadata": {},
   "outputs": [],
   "source": [
    "\n",
    "import numpy as np\n",
    "import pandas as pd\n",
    "\n",
    "import matplotlib.pyplot as plt\n",
    "import seaborn as sns\n"
   ]
  },
  {
   "cell_type": "markdown",
   "metadata": {},
   "source": [
    "## Data Cleaning Cells:"
   ]
  },
  {
   "cell_type": "code",
   "execution_count": 134,
   "metadata": {},
   "outputs": [],
   "source": [
    "results_df = pd.read_csv('data/emssubsample.csv')\n",
    "features = results_df.columns"
   ]
  },
  {
   "cell_type": "code",
   "execution_count": 54,
   "metadata": {
    "collapsed": true,
    "jupyter": {
     "outputs_hidden": true
    }
   },
   "outputs": [
    {
     "name": "stdout",
     "output_type": "stream",
     "text": [
      "<class 'pandas.core.frame.DataFrame'>\n",
      "RangeIndex: 21320 entries, 0 to 21319\n",
      "Data columns (total 31 columns):\n",
      " #   Column                          Non-Null Count  Dtype  \n",
      "---  ------                          --------------  -----  \n",
      " 0   CAD_INCIDENT_ID                 21320 non-null  int64  \n",
      " 1   INCIDENT_DATETIME               21320 non-null  object \n",
      " 2   INITIAL_CALL_TYPE               21320 non-null  object \n",
      " 3   INITIAL_SEVERITY_LEVEL_CODE     21320 non-null  int64  \n",
      " 4   FINAL_CALL_TYPE                 21320 non-null  object \n",
      " 5   FINAL_SEVERITY_LEVEL_CODE       21320 non-null  int64  \n",
      " 6   FIRST_ASSIGNMENT_DATETIME       21172 non-null  object \n",
      " 7   VALID_DISPATCH_RSPNS_TIME_INDC  21320 non-null  object \n",
      " 8   DISPATCH_RESPONSE_SECONDS_QY    21320 non-null  int64  \n",
      " 9   FIRST_ACTIVATION_DATETIME       21101 non-null  object \n",
      " 10  FIRST_ON_SCENE_DATETIME         20598 non-null  object \n",
      " 11  VALID_INCIDENT_RSPNS_TIME_INDC  21320 non-null  object \n",
      " 12  INCIDENT_RESPONSE_SECONDS_QY    20592 non-null  float64\n",
      " 13  INCIDENT_TRAVEL_TM_SECONDS_QY   20598 non-null  float64\n",
      " 14  FIRST_TO_HOSP_DATETIME          15069 non-null  object \n",
      " 15  FIRST_HOSP_ARRIVAL_DATETIME     14931 non-null  object \n",
      " 16  INCIDENT_CLOSE_DATETIME         21316 non-null  object \n",
      " 17  HELD_INDICATOR                  21320 non-null  object \n",
      " 18  INCIDENT_DISPOSITION_CODE       21152 non-null  float64\n",
      " 19  BOROUGH                         21320 non-null  object \n",
      " 20  INCIDENT_DISPATCH_AREA          21320 non-null  object \n",
      " 21  ZIPCODE                         20783 non-null  object \n",
      " 22  POLICEPRECINCT                  20783 non-null  float64\n",
      " 23  CITYCOUNCILDISTRICT             20778 non-null  float64\n",
      " 24  COMMUNITYDISTRICT               20783 non-null  float64\n",
      " 25  COMMUNITYSCHOOLDISTRICT         20774 non-null  float64\n",
      " 26  CONGRESSIONALDISTRICT           20778 non-null  float64\n",
      " 27  REOPEN_INDICATOR                21320 non-null  object \n",
      " 28  SPECIAL_EVENT_INDICATOR         21320 non-null  object \n",
      " 29  STANDBY_INDICATOR               21320 non-null  object \n",
      " 30  TRANSFER_INDICATOR              21320 non-null  object \n",
      "dtypes: float64(8), int64(4), object(19)\n",
      "memory usage: 5.0+ MB\n"
     ]
    }
   ],
   "source": [
    "results_df.info()\n"
   ]
  },
  {
   "cell_type": "code",
   "execution_count": 135,
   "metadata": {},
   "outputs": [],
   "source": [
    "# sort features into type:\n",
    "\n",
    "\n",
    "features_numeric    = ['CAD_INCIDENT_ID', 'INITIAL_SEVERITY_LEVEL_CODE', 'FINAL_SEVERITY_LEVEL_CODE',\n",
    "                       'DISPATCH_RESPONSE_SECONDS_QY', 'INCIDENT_RESPONSE_SECONDS_QY', \n",
    "                       'INCIDENT_TRAVEL_TM_SECONDS_QY']\n",
    "\n",
    "features_category   = ['INITIAL_CALL_TYPE', 'FINAL_CALL_TYPE', 'INCIDENT_DISPOSITION_CODE', 'BOROUGH',\n",
    "                       'INCIDENT_DISPATCH_AREA', 'ZIPCODE', 'POLICEPRECINCT', 'CITYCOUNCILDISTRICT', \n",
    "                       'COMMUNITYDISTRICT', 'COMMUNITYSCHOOLDISTRICT', 'CONGRESSIONALDISTRICT']\n",
    "\n",
    "features_boolean    = ['VALID_DISPATCH_RSPNS_TIME_INDC', 'VALID_INCIDENT_RSPNS_TIME_INDC',\n",
    "                       'HELD_INDICATOR', 'REOPEN_INDICATOR', 'SPECIAL_EVENT_INDICATOR', \n",
    "                       'STANDBY_INDICATOR', 'TRANSFER_INDICATOR']\n",
    "\n",
    "features_initial    = 'INCIDENT_DATETIME'\n",
    "features_timestamps = ['FIRST_ASSIGNMENT_DATETIME', 'FIRST_ACTIVATION_DATETIME', \n",
    "                       'FIRST_ON_SCENE_DATETIME', 'FIRST_TO_HOSP_DATETIME', \n",
    "                       'FIRST_HOSP_ARRIVAL_DATETIME', 'INCIDENT_CLOSE_DATETIME']\n",
    "\n"
   ]
  },
  {
   "cell_type": "code",
   "execution_count": 136,
   "metadata": {},
   "outputs": [],
   "source": [
    "# features_numeric: All columns that should be numeric already are."
   ]
  },
  {
   "cell_type": "code",
   "execution_count": 137,
   "metadata": {},
   "outputs": [],
   "source": [
    "# features_boolean:\n",
    "\n",
    "# data has 4 possible values: \"Y\", \"N\", \"true\", \"false\" (change in way they were inputed?)\n",
    "\n",
    "# Convert to binary:\n",
    "\n",
    "for feature in features_boolean:\n",
    "#    print(feature)\n",
    "#    print(results_df[feature].value_counts())\n",
    "    results_df[feature].replace('Y',1,inplace=True)\n",
    "    results_df[feature].replace('N',0,inplace=True)\n",
    "    results_df[feature].replace('true',1,inplace=True)\n",
    "    results_df[feature].replace('false',0,inplace=True)\n"
   ]
  },
  {
   "cell_type": "code",
   "execution_count": 138,
   "metadata": {},
   "outputs": [],
   "source": [
    "\n",
    "# categorical data: convert to object then dummify:\n",
    "\n",
    "for feature in features_category:\n",
    "    if results_df[feature].dtype != 'object':\n",
    "        results_df[feature] = results_df[feature].astype(object)\n",
    "\n",
    "results_df = pd.get_dummies(results_df, columns=features_category,drop_first=True)\n",
    "\n",
    "\n"
   ]
  },
  {
   "cell_type": "code",
   "execution_count": 139,
   "metadata": {},
   "outputs": [],
   "source": [
    "# timestamp data columns: From the website, 2021-01-03T23:59:51.000 is \"2021 Jan 03 11:59:51 PM\"\n",
    "\n",
    "mon_dict = {1: 'JAN', 2: 'FEB', 3: 'MAR', 4: 'APR', 5: 'MAY', 6: 'JUN',\n",
    "            7: 'JUL', 8: 'AUG', 9: 'SEP', 10:'OCT', 11:'NOV', 12:'DEC'}\n",
    "mon_start= {1:0, 2:31, 3:59, 4:90, 5:120, 6:151, 7:181, 8:212, 9:243, 10:273, 11:304, 12:334}\n",
    "\n",
    "# Get year, month, day, and time of initial call\n",
    "\n",
    "initial_times = list(results_df[features_initial])\n",
    "PM = [1 if time_str[20:22]=='PM' else 0 for time_str in initial_times]\n",
    "\n",
    "call_year  = [pd.to_numeric(time_str[6:10])   for time_str in initial_times]\n",
    "call_month = [pd.to_numeric(time_str[0:2])    for time_str in initial_times]\n",
    "call_day   = [pd.to_numeric(time_str[3:5])    for time_str in initial_times]\n",
    "PM         = [(time_str[20:22]=='PM')         for time_str in initial_times]\n",
    "hour0      = [pd.to_numeric(time_str[11:13])  for time_str in initial_times]\n",
    "hour       = np.array([hr+12 if PM[n] else hr         for n,hr in enumerate(hour0)])\n",
    "minute     = np.array([pd.to_numeric(time_str[14:16]) for time_str in initial_times])\n",
    "second     = np.array([pd.to_numeric(time_str[17:19]) for time_str in initial_times])\n",
    "call_time  = hour*3600 + minute*60 + second\n",
    "results_df['CALL_YEAR']  = call_year\n",
    "results_df['CALL_MONTH'] = [mon_dict[mn] for mn in call_month]\n",
    "results_df['CALL_DAY']   = call_day\n",
    "results_df['CALL_TIME']  = call_time\n",
    "\n",
    "# dummify the month:\n",
    "results_df = pd.get_dummies(results_df, columns=['CALL_MONTH'],drop_first=True)\n",
    "# drop the original timestamp column:\n",
    "results_df.drop(columns=[features_initial],inplace=True)"
   ]
  },
  {
   "cell_type": "code",
   "execution_count": 140,
   "metadata": {},
   "outputs": [],
   "source": [
    "# for the rest of the timestamp features, compare to initial time:\n",
    "for feature in features_timestamps:\n",
    "    results_df[feature].fillna(\"missing\", inplace = True)\n",
    "\n",
    "    times = list(results_df[feature])\n",
    "\n",
    "    # initialize list:\n",
    "    time_list  = []\n",
    "    \n",
    "    # loop through the column:\n",
    "    for n,time_str in enumerate(list(results_df[feature])):\n",
    "        if time_str == \"missing\":\n",
    "            time_list.append(np.nan)\n",
    "        else:\n",
    "            # parse timestamp into yr, mn, day, numeric seconds since midnight:\n",
    "            year  = pd.to_numeric(time_str[6:10])\n",
    "            month = pd.to_numeric(time_str[0:2])   \n",
    "            day   = pd.to_numeric(time_str[3:5])\n",
    "            hr    = pd.to_numeric(time_str[11:13])\n",
    "            if time_str[20:22]=='PM': hr += 12\n",
    "            minute= pd.to_numeric(time_str[14:16])\n",
    "            sec   = pd.to_numeric(time_str[17:19])\n",
    "            t     = 3600*hr + 60*minute + sec\n",
    "\n",
    "            # adjust for calls that run past midnight (and allow for midnight on new years) : \n",
    "            mn = call_month[n]\n",
    "            date0 = mon_start[mn] + call_day[n]\n",
    "            date = mon_start[month] + day\n",
    "            t  += (date - date0)*24*3600\n",
    "            t  += (year-call_year[n])*365*24*3600 \n",
    "            \n",
    "            # subtract the call time to get elapsed time in seconds:\n",
    "            t  -= call_time[n]\n",
    "            \n",
    "            # append to list\n",
    "            time_list.append(t)\n",
    "\n",
    "    results_df[feature] = time_list\n",
    "\n"
   ]
  },
  {
   "cell_type": "code",
   "execution_count": 141,
   "metadata": {},
   "outputs": [
    {
     "data": {
      "text/html": [
       "<div>\n",
       "<style scoped>\n",
       "    .dataframe tbody tr th:only-of-type {\n",
       "        vertical-align: middle;\n",
       "    }\n",
       "\n",
       "    .dataframe tbody tr th {\n",
       "        vertical-align: top;\n",
       "    }\n",
       "\n",
       "    .dataframe thead th {\n",
       "        text-align: right;\n",
       "    }\n",
       "</style>\n",
       "<table border=\"1\" class=\"dataframe\">\n",
       "  <thead>\n",
       "    <tr style=\"text-align: right;\">\n",
       "      <th></th>\n",
       "      <th>CAD_INCIDENT_ID</th>\n",
       "      <th>INITIAL_SEVERITY_LEVEL_CODE</th>\n",
       "      <th>FINAL_SEVERITY_LEVEL_CODE</th>\n",
       "      <th>FIRST_ASSIGNMENT_DATETIME</th>\n",
       "      <th>VALID_DISPATCH_RSPNS_TIME_INDC</th>\n",
       "      <th>DISPATCH_RESPONSE_SECONDS_QY</th>\n",
       "      <th>FIRST_ACTIVATION_DATETIME</th>\n",
       "      <th>FIRST_ON_SCENE_DATETIME</th>\n",
       "      <th>VALID_INCIDENT_RSPNS_TIME_INDC</th>\n",
       "      <th>INCIDENT_RESPONSE_SECONDS_QY</th>\n",
       "      <th>...</th>\n",
       "      <th>CALL_MONTH_DEC</th>\n",
       "      <th>CALL_MONTH_FEB</th>\n",
       "      <th>CALL_MONTH_JAN</th>\n",
       "      <th>CALL_MONTH_JUL</th>\n",
       "      <th>CALL_MONTH_JUN</th>\n",
       "      <th>CALL_MONTH_MAR</th>\n",
       "      <th>CALL_MONTH_MAY</th>\n",
       "      <th>CALL_MONTH_NOV</th>\n",
       "      <th>CALL_MONTH_OCT</th>\n",
       "      <th>CALL_MONTH_SEP</th>\n",
       "    </tr>\n",
       "  </thead>\n",
       "  <tbody>\n",
       "    <tr>\n",
       "      <th>0</th>\n",
       "      <td>110011884</td>\n",
       "      <td>4</td>\n",
       "      <td>4</td>\n",
       "      <td>9.0</td>\n",
       "      <td>1</td>\n",
       "      <td>9</td>\n",
       "      <td>16.0</td>\n",
       "      <td>480.0</td>\n",
       "      <td>1</td>\n",
       "      <td>480.0</td>\n",
       "      <td>...</td>\n",
       "      <td>0</td>\n",
       "      <td>0</td>\n",
       "      <td>1</td>\n",
       "      <td>0</td>\n",
       "      <td>0</td>\n",
       "      <td>0</td>\n",
       "      <td>0</td>\n",
       "      <td>0</td>\n",
       "      <td>0</td>\n",
       "      <td>0</td>\n",
       "    </tr>\n",
       "    <tr>\n",
       "      <th>1</th>\n",
       "      <td>110013013</td>\n",
       "      <td>6</td>\n",
       "      <td>6</td>\n",
       "      <td>28.0</td>\n",
       "      <td>1</td>\n",
       "      <td>28</td>\n",
       "      <td>127.0</td>\n",
       "      <td>674.0</td>\n",
       "      <td>1</td>\n",
       "      <td>674.0</td>\n",
       "      <td>...</td>\n",
       "      <td>0</td>\n",
       "      <td>0</td>\n",
       "      <td>1</td>\n",
       "      <td>0</td>\n",
       "      <td>0</td>\n",
       "      <td>0</td>\n",
       "      <td>0</td>\n",
       "      <td>0</td>\n",
       "      <td>0</td>\n",
       "      <td>0</td>\n",
       "    </tr>\n",
       "    <tr>\n",
       "      <th>2</th>\n",
       "      <td>110014121</td>\n",
       "      <td>4</td>\n",
       "      <td>4</td>\n",
       "      <td>10.0</td>\n",
       "      <td>1</td>\n",
       "      <td>10</td>\n",
       "      <td>19.0</td>\n",
       "      <td>399.0</td>\n",
       "      <td>1</td>\n",
       "      <td>399.0</td>\n",
       "      <td>...</td>\n",
       "      <td>0</td>\n",
       "      <td>0</td>\n",
       "      <td>1</td>\n",
       "      <td>0</td>\n",
       "      <td>0</td>\n",
       "      <td>0</td>\n",
       "      <td>0</td>\n",
       "      <td>0</td>\n",
       "      <td>0</td>\n",
       "      <td>0</td>\n",
       "    </tr>\n",
       "    <tr>\n",
       "      <th>3</th>\n",
       "      <td>110015204</td>\n",
       "      <td>2</td>\n",
       "      <td>2</td>\n",
       "      <td>16.0</td>\n",
       "      <td>1</td>\n",
       "      <td>16</td>\n",
       "      <td>44.0</td>\n",
       "      <td>272.0</td>\n",
       "      <td>1</td>\n",
       "      <td>272.0</td>\n",
       "      <td>...</td>\n",
       "      <td>0</td>\n",
       "      <td>0</td>\n",
       "      <td>1</td>\n",
       "      <td>0</td>\n",
       "      <td>0</td>\n",
       "      <td>0</td>\n",
       "      <td>0</td>\n",
       "      <td>0</td>\n",
       "      <td>0</td>\n",
       "      <td>0</td>\n",
       "    </tr>\n",
       "    <tr>\n",
       "      <th>4</th>\n",
       "      <td>110020794</td>\n",
       "      <td>4</td>\n",
       "      <td>6</td>\n",
       "      <td>27.0</td>\n",
       "      <td>1</td>\n",
       "      <td>27</td>\n",
       "      <td>46.0</td>\n",
       "      <td>920.0</td>\n",
       "      <td>1</td>\n",
       "      <td>920.0</td>\n",
       "      <td>...</td>\n",
       "      <td>0</td>\n",
       "      <td>0</td>\n",
       "      <td>1</td>\n",
       "      <td>0</td>\n",
       "      <td>0</td>\n",
       "      <td>0</td>\n",
       "      <td>0</td>\n",
       "      <td>0</td>\n",
       "      <td>0</td>\n",
       "      <td>0</td>\n",
       "    </tr>\n",
       "  </tbody>\n",
       "</table>\n",
       "<p>5 rows × 848 columns</p>\n",
       "</div>"
      ],
      "text/plain": [
       "   CAD_INCIDENT_ID  INITIAL_SEVERITY_LEVEL_CODE  FINAL_SEVERITY_LEVEL_CODE  \\\n",
       "0        110011884                            4                          4   \n",
       "1        110013013                            6                          6   \n",
       "2        110014121                            4                          4   \n",
       "3        110015204                            2                          2   \n",
       "4        110020794                            4                          6   \n",
       "\n",
       "   FIRST_ASSIGNMENT_DATETIME  VALID_DISPATCH_RSPNS_TIME_INDC  \\\n",
       "0                        9.0                               1   \n",
       "1                       28.0                               1   \n",
       "2                       10.0                               1   \n",
       "3                       16.0                               1   \n",
       "4                       27.0                               1   \n",
       "\n",
       "   DISPATCH_RESPONSE_SECONDS_QY  FIRST_ACTIVATION_DATETIME  \\\n",
       "0                             9                       16.0   \n",
       "1                            28                      127.0   \n",
       "2                            10                       19.0   \n",
       "3                            16                       44.0   \n",
       "4                            27                       46.0   \n",
       "\n",
       "   FIRST_ON_SCENE_DATETIME  VALID_INCIDENT_RSPNS_TIME_INDC  \\\n",
       "0                    480.0                               1   \n",
       "1                    674.0                               1   \n",
       "2                    399.0                               1   \n",
       "3                    272.0                               1   \n",
       "4                    920.0                               1   \n",
       "\n",
       "   INCIDENT_RESPONSE_SECONDS_QY  ...  CALL_MONTH_DEC  CALL_MONTH_FEB  \\\n",
       "0                         480.0  ...               0               0   \n",
       "1                         674.0  ...               0               0   \n",
       "2                         399.0  ...               0               0   \n",
       "3                         272.0  ...               0               0   \n",
       "4                         920.0  ...               0               0   \n",
       "\n",
       "   CALL_MONTH_JAN  CALL_MONTH_JUL  CALL_MONTH_JUN  CALL_MONTH_MAR  \\\n",
       "0               1               0               0               0   \n",
       "1               1               0               0               0   \n",
       "2               1               0               0               0   \n",
       "3               1               0               0               0   \n",
       "4               1               0               0               0   \n",
       "\n",
       "   CALL_MONTH_MAY  CALL_MONTH_NOV  CALL_MONTH_OCT  CALL_MONTH_SEP  \n",
       "0               0               0               0               0  \n",
       "1               0               0               0               0  \n",
       "2               0               0               0               0  \n",
       "3               0               0               0               0  \n",
       "4               0               0               0               0  \n",
       "\n",
       "[5 rows x 848 columns]"
      ]
     },
     "execution_count": 141,
     "metadata": {},
     "output_type": "execute_result"
    }
   ],
   "source": [
    "results_df.head()"
   ]
  },
  {
   "cell_type": "code",
   "execution_count": 142,
   "metadata": {},
   "outputs": [
    {
     "data": {
      "text/html": [
       "<div>\n",
       "<style scoped>\n",
       "    .dataframe tbody tr th:only-of-type {\n",
       "        vertical-align: middle;\n",
       "    }\n",
       "\n",
       "    .dataframe tbody tr th {\n",
       "        vertical-align: top;\n",
       "    }\n",
       "\n",
       "    .dataframe thead th {\n",
       "        text-align: right;\n",
       "    }\n",
       "</style>\n",
       "<table border=\"1\" class=\"dataframe\">\n",
       "  <thead>\n",
       "    <tr style=\"text-align: right;\">\n",
       "      <th></th>\n",
       "      <th>column</th>\n",
       "      <th>NULLS</th>\n",
       "    </tr>\n",
       "  </thead>\n",
       "  <tbody>\n",
       "    <tr>\n",
       "      <th>3</th>\n",
       "      <td>FIRST_ASSIGNMENT_DATETIME</td>\n",
       "      <td>148</td>\n",
       "    </tr>\n",
       "    <tr>\n",
       "      <th>6</th>\n",
       "      <td>FIRST_ACTIVATION_DATETIME</td>\n",
       "      <td>219</td>\n",
       "    </tr>\n",
       "    <tr>\n",
       "      <th>7</th>\n",
       "      <td>FIRST_ON_SCENE_DATETIME</td>\n",
       "      <td>722</td>\n",
       "    </tr>\n",
       "    <tr>\n",
       "      <th>9</th>\n",
       "      <td>INCIDENT_RESPONSE_SECONDS_QY</td>\n",
       "      <td>728</td>\n",
       "    </tr>\n",
       "    <tr>\n",
       "      <th>10</th>\n",
       "      <td>INCIDENT_TRAVEL_TM_SECONDS_QY</td>\n",
       "      <td>722</td>\n",
       "    </tr>\n",
       "    <tr>\n",
       "      <th>11</th>\n",
       "      <td>FIRST_TO_HOSP_DATETIME</td>\n",
       "      <td>6251</td>\n",
       "    </tr>\n",
       "    <tr>\n",
       "      <th>12</th>\n",
       "      <td>FIRST_HOSP_ARRIVAL_DATETIME</td>\n",
       "      <td>6389</td>\n",
       "    </tr>\n",
       "    <tr>\n",
       "      <th>13</th>\n",
       "      <td>INCIDENT_CLOSE_DATETIME</td>\n",
       "      <td>4</td>\n",
       "    </tr>\n",
       "  </tbody>\n",
       "</table>\n",
       "</div>"
      ],
      "text/plain": [
       "                           column  NULLS\n",
       "3       FIRST_ASSIGNMENT_DATETIME    148\n",
       "6       FIRST_ACTIVATION_DATETIME    219\n",
       "7         FIRST_ON_SCENE_DATETIME    722\n",
       "9    INCIDENT_RESPONSE_SECONDS_QY    728\n",
       "10  INCIDENT_TRAVEL_TM_SECONDS_QY    722\n",
       "11         FIRST_TO_HOSP_DATETIME   6251\n",
       "12    FIRST_HOSP_ARRIVAL_DATETIME   6389\n",
       "13        INCIDENT_CLOSE_DATETIME      4"
      ]
     },
     "execution_count": 142,
     "metadata": {},
     "output_type": "execute_result"
    }
   ],
   "source": [
    "columns = results_df.columns\n",
    "d = []\n",
    "for col in columns:\n",
    "    nulls = results_df[col].isna().sum()\n",
    "    d.append({'column': col, 'NULLS': nulls})\n",
    "chk = pd.DataFrame(d)\n",
    "chk[chk['NULLS']>0]"
   ]
  },
  {
   "cell_type": "code",
   "execution_count": 143,
   "metadata": {},
   "outputs": [],
   "source": [
    "chk0 = results_df['FIRST_ON_SCENE_DATETIME']-results_df['INCIDENT_RESPONSE_SECONDS_QY']"
   ]
  },
  {
   "cell_type": "code",
   "execution_count": 144,
   "metadata": {},
   "outputs": [
    {
     "data": {
      "text/plain": [
       "(-43200.0, 43200.0)"
      ]
     },
     "execution_count": 144,
     "metadata": {},
     "output_type": "execute_result"
    }
   ],
   "source": [
    "chk0.min(),chk0.max()"
   ]
  },
  {
   "cell_type": "code",
   "execution_count": 155,
   "metadata": {},
   "outputs": [
    {
     "data": {
      "text/plain": [
       "43200"
      ]
     },
     "execution_count": 155,
     "metadata": {},
     "output_type": "execute_result"
    }
   ],
   "source": [
    "12*60*60"
   ]
  },
  {
   "cell_type": "code",
   "execution_count": 145,
   "metadata": {},
   "outputs": [
    {
     "data": {
      "image/png": "[encoded data removed]",
      "text/plain": [
       "<Figure size 432x288 with 1 Axes>"
      ]
     },
     "metadata": {
      "needs_background": "light"
     },
     "output_type": "display_data"
    }
   ],
   "source": [
    "plt.hist(chk0);"
   ]
  },
  {
   "cell_type": "code",
   "execution_count": 146,
   "metadata": {},
   "outputs": [
    {
     "data": {
      "text/plain": [
       "(1255, 21320)"
      ]
     },
     "execution_count": 146,
     "metadata": {},
     "output_type": "execute_result"
    }
   ],
   "source": [
    "np.sum([1 if c!=0 else 0 for c in chk0]), len(chk0)"
   ]
  },
  {
   "cell_type": "code",
   "execution_count": 147,
   "metadata": {},
   "outputs": [
    {
     "data": {
      "text/plain": [
       "(21320, 848)"
      ]
     },
     "execution_count": 147,
     "metadata": {},
     "output_type": "execute_result"
    }
   ],
   "source": [
    "results_df.shape"
   ]
  },
  {
   "cell_type": "code",
   "execution_count": 148,
   "metadata": {},
   "outputs": [
    {
     "data": {
      "text/plain": [
       "(20065, 847)"
      ]
     },
     "execution_count": 148,
     "metadata": {},
     "output_type": "execute_result"
    }
   ],
   "source": [
    "results_df = results_df[results_df['FIRST_ON_SCENE_DATETIME']==results_df['INCIDENT_RESPONSE_SECONDS_QY']]\n",
    "results_df.drop(columns = ['FIRST_ON_SCENE_DATETIME'],inplace=True)\n",
    "results_df.shape"
   ]
  },
  {
   "cell_type": "code",
   "execution_count": 149,
   "metadata": {},
   "outputs": [
    {
     "data": {
      "text/html": [
       "<div>\n",
       "<style scoped>\n",
       "    .dataframe tbody tr th:only-of-type {\n",
       "        vertical-align: middle;\n",
       "    }\n",
       "\n",
       "    .dataframe tbody tr th {\n",
       "        vertical-align: top;\n",
       "    }\n",
       "\n",
       "    .dataframe thead th {\n",
       "        text-align: right;\n",
       "    }\n",
       "</style>\n",
       "<table border=\"1\" class=\"dataframe\">\n",
       "  <thead>\n",
       "    <tr style=\"text-align: right;\">\n",
       "      <th></th>\n",
       "      <th>column</th>\n",
       "      <th>NULLS</th>\n",
       "    </tr>\n",
       "  </thead>\n",
       "  <tbody>\n",
       "    <tr>\n",
       "      <th>6</th>\n",
       "      <td>FIRST_ACTIVATION_DATETIME</td>\n",
       "      <td>37</td>\n",
       "    </tr>\n",
       "    <tr>\n",
       "      <th>10</th>\n",
       "      <td>FIRST_TO_HOSP_DATETIME</td>\n",
       "      <td>5563</td>\n",
       "    </tr>\n",
       "    <tr>\n",
       "      <th>11</th>\n",
       "      <td>FIRST_HOSP_ARRIVAL_DATETIME</td>\n",
       "      <td>5694</td>\n",
       "    </tr>\n",
       "    <tr>\n",
       "      <th>12</th>\n",
       "      <td>INCIDENT_CLOSE_DATETIME</td>\n",
       "      <td>2</td>\n",
       "    </tr>\n",
       "  </tbody>\n",
       "</table>\n",
       "</div>"
      ],
      "text/plain": [
       "                         column  NULLS\n",
       "6     FIRST_ACTIVATION_DATETIME     37\n",
       "10       FIRST_TO_HOSP_DATETIME   5563\n",
       "11  FIRST_HOSP_ARRIVAL_DATETIME   5694\n",
       "12      INCIDENT_CLOSE_DATETIME      2"
      ]
     },
     "execution_count": 149,
     "metadata": {},
     "output_type": "execute_result"
    }
   ],
   "source": [
    "columns = results_df.columns\n",
    "d = []\n",
    "for col in columns:\n",
    "    nulls = results_df[col].isna().sum()\n",
    "    d.append({'column': col, 'NULLS': nulls})\n",
    "chk = pd.DataFrame(d)\n",
    "chk[chk['NULLS']>0]"
   ]
  },
  {
   "cell_type": "markdown",
   "metadata": {},
   "source": [
    "That got rid of almost all the NULL values!"
   ]
  },
  {
   "cell_type": "code",
   "execution_count": 150,
   "metadata": {},
   "outputs": [
    {
     "data": {
      "text/plain": [
       "(20065, 847)"
      ]
     },
     "execution_count": 150,
     "metadata": {},
     "output_type": "execute_result"
    }
   ],
   "source": [
    "results_df.shape"
   ]
  },
  {
   "cell_type": "code",
   "execution_count": 151,
   "metadata": {},
   "outputs": [
    {
     "data": {
      "text/plain": [
       "(20026, 845)"
      ]
     },
     "execution_count": 151,
     "metadata": {},
     "output_type": "execute_result"
    }
   ],
   "source": [
    "results_df.drop(columns = ['FIRST_TO_HOSP_DATETIME', 'FIRST_HOSP_ARRIVAL_DATETIME'], inplace=True)\n",
    "results_df.dropna(inplace=True)\n",
    "results_df.shape"
   ]
  },
  {
   "cell_type": "code",
   "execution_count": 152,
   "metadata": {},
   "outputs": [
    {
     "name": "stdout",
     "output_type": "stream",
     "text": [
      "<class 'pandas.core.frame.DataFrame'>\n",
      "Int64Index: 20026 entries, 0 to 21319\n",
      "Columns: 845 entries, CAD_INCIDENT_ID to CALL_MONTH_SEP\n",
      "dtypes: float64(5), int64(14), uint8(826)\n",
      "memory usage: 18.8 MB\n"
     ]
    }
   ],
   "source": [
    "results_df.info()"
   ]
  },
  {
   "cell_type": "code",
   "execution_count": 153,
   "metadata": {},
   "outputs": [],
   "source": [
    "results_df.to_csv('./data/emssubsample_clean.csv',index=False)"
   ]
  },
  {
   "cell_type": "code",
   "execution_count": 154,
   "metadata": {},
   "outputs": [
    {
     "data": {
      "text/html": [
       "<div>\n",
       "<style scoped>\n",
       "    .dataframe tbody tr th:only-of-type {\n",
       "        vertical-align: middle;\n",
       "    }\n",
       "\n",
       "    .dataframe tbody tr th {\n",
       "        vertical-align: top;\n",
       "    }\n",
       "\n",
       "    .dataframe thead th {\n",
       "        text-align: right;\n",
       "    }\n",
       "</style>\n",
       "<table border=\"1\" class=\"dataframe\">\n",
       "  <thead>\n",
       "    <tr style=\"text-align: right;\">\n",
       "      <th></th>\n",
       "      <th>CAD_INCIDENT_ID</th>\n",
       "      <th>INITIAL_SEVERITY_LEVEL_CODE</th>\n",
       "      <th>FINAL_SEVERITY_LEVEL_CODE</th>\n",
       "      <th>FIRST_ASSIGNMENT_DATETIME</th>\n",
       "      <th>VALID_DISPATCH_RSPNS_TIME_INDC</th>\n",
       "      <th>DISPATCH_RESPONSE_SECONDS_QY</th>\n",
       "      <th>FIRST_ACTIVATION_DATETIME</th>\n",
       "      <th>VALID_INCIDENT_RSPNS_TIME_INDC</th>\n",
       "      <th>INCIDENT_RESPONSE_SECONDS_QY</th>\n",
       "      <th>INCIDENT_TRAVEL_TM_SECONDS_QY</th>\n",
       "      <th>...</th>\n",
       "      <th>CALL_MONTH_DEC</th>\n",
       "      <th>CALL_MONTH_FEB</th>\n",
       "      <th>CALL_MONTH_JAN</th>\n",
       "      <th>CALL_MONTH_JUL</th>\n",
       "      <th>CALL_MONTH_JUN</th>\n",
       "      <th>CALL_MONTH_MAR</th>\n",
       "      <th>CALL_MONTH_MAY</th>\n",
       "      <th>CALL_MONTH_NOV</th>\n",
       "      <th>CALL_MONTH_OCT</th>\n",
       "      <th>CALL_MONTH_SEP</th>\n",
       "    </tr>\n",
       "  </thead>\n",
       "  <tbody>\n",
       "    <tr>\n",
       "      <th>0</th>\n",
       "      <td>110011884</td>\n",
       "      <td>4</td>\n",
       "      <td>4</td>\n",
       "      <td>9.0</td>\n",
       "      <td>1</td>\n",
       "      <td>9</td>\n",
       "      <td>16.0</td>\n",
       "      <td>1</td>\n",
       "      <td>480.0</td>\n",
       "      <td>471.0</td>\n",
       "      <td>...</td>\n",
       "      <td>0</td>\n",
       "      <td>0</td>\n",
       "      <td>1</td>\n",
       "      <td>0</td>\n",
       "      <td>0</td>\n",
       "      <td>0</td>\n",
       "      <td>0</td>\n",
       "      <td>0</td>\n",
       "      <td>0</td>\n",
       "      <td>0</td>\n",
       "    </tr>\n",
       "    <tr>\n",
       "      <th>1</th>\n",
       "      <td>110013013</td>\n",
       "      <td>6</td>\n",
       "      <td>6</td>\n",
       "      <td>28.0</td>\n",
       "      <td>1</td>\n",
       "      <td>28</td>\n",
       "      <td>127.0</td>\n",
       "      <td>1</td>\n",
       "      <td>674.0</td>\n",
       "      <td>646.0</td>\n",
       "      <td>...</td>\n",
       "      <td>0</td>\n",
       "      <td>0</td>\n",
       "      <td>1</td>\n",
       "      <td>0</td>\n",
       "      <td>0</td>\n",
       "      <td>0</td>\n",
       "      <td>0</td>\n",
       "      <td>0</td>\n",
       "      <td>0</td>\n",
       "      <td>0</td>\n",
       "    </tr>\n",
       "    <tr>\n",
       "      <th>2</th>\n",
       "      <td>110014121</td>\n",
       "      <td>4</td>\n",
       "      <td>4</td>\n",
       "      <td>10.0</td>\n",
       "      <td>1</td>\n",
       "      <td>10</td>\n",
       "      <td>19.0</td>\n",
       "      <td>1</td>\n",
       "      <td>399.0</td>\n",
       "      <td>389.0</td>\n",
       "      <td>...</td>\n",
       "      <td>0</td>\n",
       "      <td>0</td>\n",
       "      <td>1</td>\n",
       "      <td>0</td>\n",
       "      <td>0</td>\n",
       "      <td>0</td>\n",
       "      <td>0</td>\n",
       "      <td>0</td>\n",
       "      <td>0</td>\n",
       "      <td>0</td>\n",
       "    </tr>\n",
       "    <tr>\n",
       "      <th>3</th>\n",
       "      <td>110015204</td>\n",
       "      <td>2</td>\n",
       "      <td>2</td>\n",
       "      <td>16.0</td>\n",
       "      <td>1</td>\n",
       "      <td>16</td>\n",
       "      <td>44.0</td>\n",
       "      <td>1</td>\n",
       "      <td>272.0</td>\n",
       "      <td>256.0</td>\n",
       "      <td>...</td>\n",
       "      <td>0</td>\n",
       "      <td>0</td>\n",
       "      <td>1</td>\n",
       "      <td>0</td>\n",
       "      <td>0</td>\n",
       "      <td>0</td>\n",
       "      <td>0</td>\n",
       "      <td>0</td>\n",
       "      <td>0</td>\n",
       "      <td>0</td>\n",
       "    </tr>\n",
       "    <tr>\n",
       "      <th>4</th>\n",
       "      <td>110020794</td>\n",
       "      <td>4</td>\n",
       "      <td>6</td>\n",
       "      <td>27.0</td>\n",
       "      <td>1</td>\n",
       "      <td>27</td>\n",
       "      <td>46.0</td>\n",
       "      <td>1</td>\n",
       "      <td>920.0</td>\n",
       "      <td>893.0</td>\n",
       "      <td>...</td>\n",
       "      <td>0</td>\n",
       "      <td>0</td>\n",
       "      <td>1</td>\n",
       "      <td>0</td>\n",
       "      <td>0</td>\n",
       "      <td>0</td>\n",
       "      <td>0</td>\n",
       "      <td>0</td>\n",
       "      <td>0</td>\n",
       "      <td>0</td>\n",
       "    </tr>\n",
       "  </tbody>\n",
       "</table>\n",
       "<p>5 rows × 845 columns</p>\n",
       "</div>"
      ],
      "text/plain": [
       "   CAD_INCIDENT_ID  INITIAL_SEVERITY_LEVEL_CODE  FINAL_SEVERITY_LEVEL_CODE  \\\n",
       "0        110011884                            4                          4   \n",
       "1        110013013                            6                          6   \n",
       "2        110014121                            4                          4   \n",
       "3        110015204                            2                          2   \n",
       "4        110020794                            4                          6   \n",
       "\n",
       "   FIRST_ASSIGNMENT_DATETIME  VALID_DISPATCH_RSPNS_TIME_INDC  \\\n",
       "0                        9.0                               1   \n",
       "1                       28.0                               1   \n",
       "2                       10.0                               1   \n",
       "3                       16.0                               1   \n",
       "4                       27.0                               1   \n",
       "\n",
       "   DISPATCH_RESPONSE_SECONDS_QY  FIRST_ACTIVATION_DATETIME  \\\n",
       "0                             9                       16.0   \n",
       "1                            28                      127.0   \n",
       "2                            10                       19.0   \n",
       "3                            16                       44.0   \n",
       "4                            27                       46.0   \n",
       "\n",
       "   VALID_INCIDENT_RSPNS_TIME_INDC  INCIDENT_RESPONSE_SECONDS_QY  \\\n",
       "0                               1                         480.0   \n",
       "1                               1                         674.0   \n",
       "2                               1                         399.0   \n",
       "3                               1                         272.0   \n",
       "4                               1                         920.0   \n",
       "\n",
       "   INCIDENT_TRAVEL_TM_SECONDS_QY  ...  CALL_MONTH_DEC  CALL_MONTH_FEB  \\\n",
       "0                          471.0  ...               0               0   \n",
       "1                          646.0  ...               0               0   \n",
       "2                          389.0  ...               0               0   \n",
       "3                          256.0  ...               0               0   \n",
       "4                          893.0  ...               0               0   \n",
       "\n",
       "   CALL_MONTH_JAN  CALL_MONTH_JUL  CALL_MONTH_JUN  CALL_MONTH_MAR  \\\n",
       "0               1               0               0               0   \n",
       "1               1               0               0               0   \n",
       "2               1               0               0               0   \n",
       "3               1               0               0               0   \n",
       "4               1               0               0               0   \n",
       "\n",
       "   CALL_MONTH_MAY  CALL_MONTH_NOV  CALL_MONTH_OCT  CALL_MONTH_SEP  \n",
       "0               0               0               0               0  \n",
       "1               0               0               0               0  \n",
       "2               0               0               0               0  \n",
       "3               0               0               0               0  \n",
       "4               0               0               0               0  \n",
       "\n",
       "[5 rows x 845 columns]"
      ]
     },
     "execution_count": 154,
     "metadata": {},
     "output_type": "execute_result"
    }
   ],
   "source": [
    "results_df = pd.read_csv('data/emssubsample_clean.csv')\n",
    "\n",
    "results_df.head()"
   ]
  },
  {
   "cell_type": "code",
   "execution_count": null,
   "metadata": {},
   "outputs": [],
   "source": [
    "results"
   ]
  }
 ],
 "metadata": {
  "kernelspec": {
   "display_name": "Python 3",
   "language": "python",
   "name": "python3"
  },
  "language_info": {
   "codemirror_mode": {
    "name": "ipython",
    "version": 3
   },
   "file_extension": ".py",
   "mimetype": "text/x-python",
   "name": "python",
   "nbconvert_exporter": "python",
   "pygments_lexer": "ipython3",
   "version": "3.7.10"
  }
 },
 "nbformat": 4,
 "nbformat_minor": 4
}
