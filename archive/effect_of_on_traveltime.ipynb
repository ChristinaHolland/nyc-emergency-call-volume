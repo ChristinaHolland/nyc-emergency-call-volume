{
 "cells": [
  {
   "cell_type": "code",
   "execution_count": 77,
   "metadata": {},
   "outputs": [],
   "source": [
    "\n",
    "import numpy as np\n",
    "import pandas as pd\n",
    "\n",
    "import matplotlib.pyplot as plt\n",
    "import seaborn as sns\n",
    "\n",
    "from sklearn.model_selection import train_test_split\n",
    "from sklearn.preprocessing import StandardScaler\n",
    "from sklearn.linear_model import LinearRegression\n",
    "from sklearn.metrics import r2_score, mean_squared_error\n",
    "\n",
    "from tensorflow.keras.models import Sequential\n",
    "from tensorflow.keras.layers import Dense, Input\n",
    "\n"
   ]
  },
  {
   "cell_type": "code",
   "execution_count": 78,
   "metadata": {},
   "outputs": [],
   "source": [
    "results_df = pd.read_csv('data/ems_weather.csv').drop(columns=['Unnamed: 0'])\n",
    "features = results_df.columns"
   ]
  },
  {
   "cell_type": "code",
   "execution_count": 79,
   "metadata": {},
   "outputs": [],
   "source": [
    "# NOTE: features[N:M] actually is features[N] through features [M-1] -- it's non-inclusive\n",
    "\n",
    "# features[0]       --- 'CAD_INCIDENT_ID'                                            ---- DROP (only an index)\n",
    "# features[1]       --- 'INITIAL_SEVERITY_LEVEL_CODE'\n",
    "# features[2]       --- 'FINAL_SEVERITY_LEVEL_CODE'\n",
    "# features[3]       --- 'FIRST_ASSIGNMENT_DATETIME'                                  ---- DROP\n",
    "# features[4]       --- 'VALID_DISPATCH_RSPNS_TIME_INDC' \n",
    "# features[5]       --- 'DISPATCH_RESPONSE_SECONDS_QY'                               ---- DROP\n",
    "# features[6]       --- 'FIRST_ACTIVATION_DATETIME' \n",
    "# features[7]       --- 'VALID_INCIDENT_RSPNS_TIME_INDC'\n",
    "# features[8]       --- 'INCIDENT_RESPONSE_SECONDS_QY'                               ------> y\n",
    "# features[9]       --- 'INCIDENT_TRAVEL_TM_SECONDS_QY'\n",
    "# features[10]      --- 'INCIDENT_CLOSE_DATETIME' \n",
    "# features[11]      --- 'HELD_INDICATOR' \n",
    "# features[12]      --- 'REOPEN_INDICATOR'\n",
    "# features[13]      --- 'SPECIAL_EVENT_INDICATOR' \n",
    "# features[14]      --- 'STANDBY_INDICATOR'\n",
    "# features[15]      --- 'TRANSFER_INDICATOR'\n",
    "# features[16:96]   --- 'INITIAL_CALL_TYPE' dummies\n",
    "# features[96:186]  --- 'FINAL_CALL_TYPE' dummies\n",
    "# features[186:195] --- 'INCIDENT_DISPOSITION_CODE' dummies\n",
    "# features[195:198] --- 'BOROUGH' dummies\n",
    "# features[198:230] --- 'INCIDENT_DISPATCH_AREA' dummies\n",
    "# features[230:594] --- 'ZIPCODE' dummies\n",
    "# features[594:670] --- 'POLICEPRECINCT' dummies\n",
    "# features[670:720] --- 'CITYCOUNCILDISTRICT' dummies\n",
    "# features[720:788] --- 'COMMUNITYDISTRICT' dummies\n",
    "# features[788:819] --- 'COMMUNITYSCHOOLDISTRICT' dummies\n",
    "# features[829:831] --- 'CONGRESSIONALDISTRICT' dummies\n",
    "# features[831]     --- 'CALL_YEAR'\n",
    "# features[832]     --- 'CALL_DAY'\n",
    "# features[833]     --- 'CALL_TIME'\n",
    "# features[834]     --- 'CALL_UTC'\n",
    "# features[835:846] --- 'CALL_MONTH' dummies\n",
    "# features[846]     --- 'CALL_MONTH' (numeric)\n",
    "# features[847]     --- 'AWIND'\n",
    "# features[848]     --- 'PRCP'\n",
    "# features[849]     --- 'SNOW'\n",
    "# features[850]     --- 'SNWD'\n",
    "# features[851]     --- 'TMAX'\n",
    "# features[852]     --- 'TMIN'\n",
    "# features[853]     --- 'TAVG_CALC'\n"
   ]
  },
  {
   "cell_type": "code",
   "execution_count": 109,
   "metadata": {},
   "outputs": [
    {
     "name": "stdout",
     "output_type": "stream",
     "text": [
      "Train/Test Score:\n",
      "0.810286698121503 0.9100079460612169\n",
      "R2: 0.9100079460612169, RMS: 146.01742446289654\n"
     ]
    }
   ],
   "source": [
    "# WITH TRAVEL TIME AND EVERYTHING ELSE:\n",
    "\n",
    "y = results_df['INCIDENT_RESPONSE_SECONDS_QY']\n",
    "\n",
    "# definitely drop these:\n",
    "drop_features = ['INCIDENT_RESPONSE_SECONDS_QY', \n",
    "                 'CAD_INCIDENT_ID', \n",
    "                 'FIRST_ASSIGNMENT_DATETIME', \n",
    "                 'DISPATCH_RESPONSE_SECONDS_QY',\n",
    "                 'AWND']\n",
    "# suggest dropping these: \n",
    "drop_features += list(features[230:594]) # zip codes\n",
    "drop_features += list(features[670:831]) # city council district, community district, community school dist, congressional district\n",
    "\n",
    "X = results_df.drop(columns=drop_features)\n",
    "\n",
    "X_train, X_test, y_train, y_test = train_test_split(X,y,random_state=42)\n",
    "\n",
    "lr_withTT = LinearRegression()\n",
    "lr_withTT.fit(X_train,y_train)\n",
    "print('Train/Test Score:')\n",
    "print(lr_withTT.score(X_train,y_train), lr_withTT.score(X_test,y_test))\n",
    "pr_withTT = lr_withTT.predict(X_test)\n",
    "R2 = r2_score(y_test,pr_withTT)\n",
    "RMS = mean_squared_error(y_test,pr_withTT,squared=False)\n",
    "print(f'R2: {R2}, RMS: {RMS}')"
   ]
  },
  {
   "cell_type": "code",
   "execution_count": 128,
   "metadata": {},
   "outputs": [
    {
     "data": {
      "image/png": "[encoded data removed]",
      "text/plain": [
       "<Figure size 432x288 with 1 Axes>"
      ]
     },
     "metadata": {
      "needs_background": "light"
     },
     "output_type": "display_data"
    }
   ],
   "source": [
    "plt.plot([0, 8000],[0, 8000],color='black');\n",
    "plt.scatter(y_test,pr_withTT);"
   ]
  },
  {
   "cell_type": "code",
   "execution_count": 110,
   "metadata": {
    "tags": []
   },
   "outputs": [
    {
     "name": "stdout",
     "output_type": "stream",
     "text": [
      "Train/Test Score:\n",
      "0.6663811678153357 -0.4628733333099173\n",
      "R2: -79.65228684679158, RMS: 4371.3033408939955\n"
     ]
    }
   ],
   "source": [
    "# WITH TRAVEL TIME EXCLUDED:\n",
    "\n",
    "y = results_df['INCIDENT_RESPONSE_SECONDS_QY']\n",
    "\n",
    "# definitely drop these:\n",
    "drop_features = ['INCIDENT_RESPONSE_SECONDS_QY', \n",
    "                 'CAD_INCIDENT_ID', \n",
    "                 'FIRST_ASSIGNMENT_DATETIME', \n",
    "                 'INCIDENT_TRAVEL_TM_SECONDS_QY',\n",
    "                 'AWND']\n",
    "# suggest dropping these: \n",
    "drop_features += list(features[230:594]) # zip codes\n",
    "drop_features += list(features[670:831]) # city council district, community district, community school dist, congressional district\n",
    "\n",
    "X = results_df.drop(columns=drop_features)\n",
    "\n",
    "X_train, X_test, y_train, y_test = train_test_split(X,y,random_state=42)\n",
    "lr_woTT = LinearRegression()\n",
    "lr_woTT.fit(X_train,y_train)\n",
    "print('Train/Test Score:')\n",
    "print(lr_woTT.score(X_train,y_train), lr_withTT.score(X_test,y_test))\n",
    "pr_woTT = lr_woTT.predict(X_test)\n",
    "R2 = r2_score(y_test,pr_woTT)\n",
    "RMS = mean_squared_error(y_test,pr_woTT,squared=False)\n",
    "print(f'R2: {R2}, RMS: {RMS}')"
   ]
  },
  {
   "cell_type": "code",
   "execution_count": 129,
   "metadata": {
    "tags": []
   },
   "outputs": [
    {
     "data": {
      "image/png": "[encoded data removed]",
      "text/plain": [
       "<Figure size 432x288 with 1 Axes>"
      ]
     },
     "metadata": {
      "needs_background": "light"
     },
     "output_type": "display_data"
    }
   ],
   "source": [
    "plt.plot([0, 8000],[0, 8000],color='black');\n",
    "plt.scatter(y_test,pr_woTT);"
   ]
  },
  {
   "cell_type": "code",
   "execution_count": 138,
   "metadata": {},
   "outputs": [
    {
     "data": {
      "image/png": "[encoded data removed]",
      "text/plain": [
       "<Figure size 432x288 with 1 Axes>"
      ]
     },
     "metadata": {
      "needs_background": "light"
     },
     "output_type": "display_data"
    }
   ],
   "source": [
    "y1 = [y for n,y in enumerate(y_test) if pr_woTT[n]<=50_000]\n",
    "p1 = [y for n,y in enumerate(pr_woTT) if pr_woTT[n]<=50_000]\n",
    "plt.plot([0, 8000],[0, 8000],color='black');\n",
    "plt.scatter(y1,p1);"
   ]
  },
  {
   "cell_type": "code",
   "execution_count": 111,
   "metadata": {
    "tags": []
   },
   "outputs": [
    {
     "name": "stdout",
     "output_type": "stream",
     "text": [
      "Train/Test Score:\n",
      "0.5169516215291659 0.6272394459972384\n",
      "R2: 0.6272394459972384, RMS: 297.1786298639616\n"
     ]
    }
   ],
   "source": [
    "# WITH ONLY TRAVEL TIME:\n",
    "\n",
    "y = results_df['INCIDENT_RESPONSE_SECONDS_QY']\n",
    "\n",
    "X = results_df[['INCIDENT_TRAVEL_TM_SECONDS_QY']]\n",
    "\n",
    "X_train, X_test, y_train, y_test = train_test_split(X,y,random_state=42)\n",
    "lr_onlyTT = LinearRegression()\n",
    "lr_onlyTT.fit(X_train,y_train)\n",
    "print('Train/Test Score:')\n",
    "print(lr_onlyTT.score(X_train,y_train), lr_onlyTT.score(X_test,y_test))\n",
    "pr_onlyTT = lr_onlyTT.predict(X_test)\n",
    "R2 = r2_score(y_test,pr_onlyTT)\n",
    "RMS = mean_squared_error(y_test,pr_onlyTT,squared=False)\n",
    "print(f'R2: {R2}, RMS: {RMS}')"
   ]
  },
  {
   "cell_type": "code",
   "execution_count": 130,
   "metadata": {},
   "outputs": [
    {
     "data": {
      "image/png": "[encoded data removed]",
      "text/plain": [
       "<Figure size 432x288 with 1 Axes>"
      ]
     },
     "metadata": {
      "needs_background": "light"
     },
     "output_type": "display_data"
    }
   ],
   "source": [
    "plt.plot([0, 8000],[0, 8000],color='black');\n",
    "plt.scatter(y_test,pr_onlyTT);"
   ]
  },
  {
   "cell_type": "code",
   "execution_count": 114,
   "metadata": {
    "tags": []
   },
   "outputs": [
    {
     "name": "stdout",
     "output_type": "stream",
     "text": [
      "Train/Test Score:\n",
      "0.19961992108427262 -3.8780553725977986\n",
      "R2: -3.8780553725977986, RMS: 747.5251269533569\n"
     ]
    }
   ],
   "source": [
    "# *PREDICT* TRAVEL TIME:\n",
    "\n",
    "y = results_df['INCIDENT_TRAVEL_TM_SECONDS_QY']\n",
    "\n",
    "# definitely drop these:\n",
    "drop_features = ['INCIDENT_TRAVEL_TM_SECONDS_QY',\n",
    "                 'INCIDENT_RESPONSE_SECONDS_QY', \n",
    "                 'CAD_INCIDENT_ID', \n",
    "                 'FIRST_ASSIGNMENT_DATETIME', \n",
    "                 'AWND']\n",
    "# suggest dropping these: \n",
    "#drop_features += list(features[230:594]) # zip codes\n",
    "#drop_features += list(features[670:831]) # city council district, community district, community school dist, congressional district\n",
    "\n",
    "X = results_df.drop(columns=drop_features)\n",
    "\n",
    "X_train, X_test, y_train, y_test = train_test_split(X,y,random_state=42)\n",
    "lr_predTT = LinearRegression()\n",
    "lr_predTT.fit(X_train,y_train)\n",
    "print('Train/Test Score:')\n",
    "print(lr_predTT.score(X_train,y_train), lr_predTT.score(X_test,y_test))\n",
    "pr = lr_predTT.predict(X_test)\n",
    "R2 = r2_score(y_test,pr)\n",
    "RMS = mean_squared_error(y_test,pr,squared=False)\n",
    "print(f'R2: {R2}, RMS: {RMS}')"
   ]
  },
  {
   "cell_type": "code",
   "execution_count": 139,
   "metadata": {},
   "outputs": [
    {
     "data": {
      "image/png": "[encoded data removed]",
      "text/plain": [
       "<Figure size 432x288 with 1 Axes>"
      ]
     },
     "metadata": {
      "needs_background": "light"
     },
     "output_type": "display_data"
    }
   ],
   "source": [
    "plt.plot([0, 8000],[0, 8000],color='black');\n",
    "plt.scatter(y_test,pr);"
   ]
  },
  {
   "cell_type": "code",
   "execution_count": 140,
   "metadata": {},
   "outputs": [
    {
     "data": {
      "image/png": "[encoded data removed]",
      "text/plain": [
       "<Figure size 432x288 with 1 Axes>"
      ]
     },
     "metadata": {
      "needs_background": "light"
     },
     "output_type": "display_data"
    }
   ],
   "source": [
    "y1 = [y for n,y in enumerate(y_test) if pr[n]>=-10_000]\n",
    "p1 = [y for n,y in enumerate(pr_woTT) if pr[n]>=-10_000]\n",
    "plt.plot([0, 8000],[0, 8000],color='black');\n",
    "plt.scatter(y1,p1);"
   ]
  },
  {
   "cell_type": "code",
   "execution_count": 104,
   "metadata": {
    "collapsed": true,
    "jupyter": {
     "outputs_hidden": true
    },
    "tags": []
   },
   "outputs": [
    {
     "data": {
      "text/plain": [
       "array([-2.14995872e+01,  2.00578386e+01, -1.11668177e+06, -3.24655934e-02,\n",
       "        3.09239621e-02,  1.39432398e+06,  7.66308707e-04,  3.01553960e+02,\n",
       "       -6.39918504e+01, -1.56167571e+03, -2.88709010e+04, -2.19309537e+02,\n",
       "        2.39177645e+03,  2.15319131e+03,  2.42760595e+03, -4.38508568e+04,\n",
       "        2.20272877e+03,  1.20607529e+03,  2.48174606e+03,  1.04465780e+03,\n",
       "        2.25313954e+03,  1.15000667e+03,  2.16543895e+03,  2.35271458e+03,\n",
       "        2.74671768e+03,  2.14605883e+03,  2.33366024e+03,  2.29128309e+03,\n",
       "        1.36257082e+03,  2.03510958e+03,  2.93327625e+03,  2.34966581e+03,\n",
       "        1.32130305e+03,  2.41395130e+03,  2.22760558e+03,  2.35024419e+03,\n",
       "        2.53926263e+03,  2.23272640e+03,  2.48987014e+03,  1.12375728e+03,\n",
       "        2.62305124e+03,  2.67715886e+03, -1.37276885e-03,  2.32873145e+03,\n",
       "        2.40863509e+03,  2.24872875e+03,  2.88299428e+03,  2.41532118e+03,\n",
       "        2.36367682e+03,  1.27395926e+03,  2.36142784e+03,  1.20589507e+03,\n",
       "        2.38656623e+03,  2.62319874e+03,  2.47609420e+03,  2.28838002e+03,\n",
       "        2.56170398e+03,  2.64789148e+03,  2.42671706e+03,  2.33748963e+03,\n",
       "        1.14666081e+03,  2.41844487e+03,  2.45588009e+03,  2.38344472e+03,\n",
       "        2.15984020e+03,  1.18722963e+03,  1.13694726e+03,  2.53789397e+03,\n",
       "        2.56682002e+03,  2.47492841e+03,  2.56561569e+03,  2.35905536e+03,\n",
       "        1.15148361e+03,  2.47828952e+03,  2.46458282e+03,  2.62240733e+03,\n",
       "        2.34367860e+03,  2.38987871e+03,  2.52230909e+03,  2.81773625e+03,\n",
       "        1.64395113e-03,  2.67119417e+03,  2.42319267e+03,  5.31540627e-03,\n",
       "        2.31752871e+03,  2.28313629e+03,  2.60829703e+03,  1.27431526e+03,\n",
       "        2.28244921e+03,  2.38500200e+03,  1.16909047e+03,  2.47596549e+03,\n",
       "       -1.46090595e+02,  2.06941004e-03,  7.12468955e-01,  1.20606648e+03,\n",
       "       -2.07376311e+02,  1.04465158e+03, -1.06761768e+02,  1.15000260e+03,\n",
       "        1.20772995e+02, -8.13520699e+01, -4.56853622e+02,  2.11615594e+02,\n",
       "       -5.39156314e+01,  1.30728582e+01,  1.36257207e+03,  2.98614429e+02,\n",
       "       -5.13262207e+02, -9.20567250e+01,  1.32130423e+03, -3.23221965e+01,\n",
       "        7.92890087e+01, -5.22113818e+01, -1.71091488e+02, -2.15282902e+01,\n",
       "       -1.39905345e+02,  1.12375242e+03, -7.71930629e+01, -1.23663321e+02,\n",
       "        1.59780875e-03,  7.39434301e-04,  8.63041023e+01,  7.57191956e+01,\n",
       "       -3.27841508e+02,  6.78835795e+01, -6.04545036e+01,  1.27396293e+03,\n",
       "        1.47016764e+01,  1.20589162e+03, -1.11621057e+02, -1.18480985e+02,\n",
       "       -9.48978954e+01,  9.27089344e+01, -2.28048681e+02, -4.30980854e+02,\n",
       "       -9.64617517e+01, -2.05158831e+02, -6.39157122e+01,  5.57365664e+01,\n",
       "       -2.02431285e+02, -4.02724424e-03, -4.48275122e+02, -1.52170811e+02,\n",
       "        3.75214622e-03, -2.28843984e+02, -1.05581687e+02,  5.31987202e-04,\n",
       "       -8.23364758e-05, -4.47537325e+01,  1.14665647e+03, -3.85644816e+01,\n",
       "       -1.69819385e+02,  1.41706973e+01,  1.55078509e+02,  1.18722999e+03,\n",
       "        1.14960647e+03, -2.13783361e+02, -2.77018909e+02, -3.07958822e+02,\n",
       "       -2.59350505e+02, -1.40646943e+02,  1.15148079e+03, -8.63556927e+01,\n",
       "       -1.17314071e+02, -1.24014076e-03, -4.89650065e+01, -2.50974346e+02,\n",
       "       -1.27970653e+02, -4.59752002e+02,  3.06060316e-03, -8.78233872e+01,\n",
       "       -6.01710112e+01,  7.21608445e+02, -1.44609110e+02, -1.65109628e+01,\n",
       "        2.86673280e+04,  1.27431354e+03, -4.31493135e+01, -1.07243238e+02,\n",
       "        1.16908732e+03, -1.53008843e+02,  2.72535168e+01,  4.64144630e+01,\n",
       "        4.82339956e+00, -2.67088076e+01, -1.07288613e+01,  2.56488884e+02,\n",
       "       -1.89623855e+01,  3.62058923e+01,  1.10324840e+02,  5.12111939e+02,\n",
       "        7.44014719e+01,  2.38352855e+02, -6.04314044e+01, -7.04892826e+01,\n",
       "       -8.48702752e+01, -1.41590811e+02, -8.30641771e+02, -2.27550245e+02,\n",
       "       -2.10677053e+02, -1.86102382e+02, -2.06798422e+02, -2.84279548e+02,\n",
       "       -1.14547974e+02, -1.90081235e+02, -6.02616762e+02, -6.21733037e+02,\n",
       "       -5.83865172e+02, -7.55095198e+02, -6.14792031e+02, -5.11215195e+02,\n",
       "       -5.68930495e+02, -5.61193746e+02, -6.30714167e+02, -1.93079709e+02,\n",
       "       -1.45491123e+02, -1.12209130e+02, -1.58618645e+02, -1.00625079e+02,\n",
       "       -1.04468344e+02, -8.42336814e+00, -2.87601889e+02, -3.67384820e+02,\n",
       "       -3.09730693e+02, -4.08292400e+02,  5.54235821e+01,  3.41463362e+02,\n",
       "        1.33100774e+02,  7.54841165e-04, -2.41037010e-03, -1.22708529e+01,\n",
       "        1.60744011e+02, -2.05733388e+01,  1.84082701e+02,  9.28849353e+01,\n",
       "        1.88076539e+02, -7.43485621e+01,  1.32626184e+02,  3.48234064e+01,\n",
       "        2.95332295e+02,  8.66061983e+00,  3.65592237e+02,  1.29293148e+02,\n",
       "       -1.88429484e+02, -2.71653125e+02, -3.04634199e+02, -3.33914747e+02,\n",
       "        5.27326925e+01,  3.50435374e-02, -1.31252129e+02, -1.59034535e+02,\n",
       "       -1.26558338e+02, -2.11887841e+02, -1.19014512e+02, -3.14255559e+02,\n",
       "       -1.26893557e+02,  2.59452682e+02,  3.57893523e+00, -1.92511639e+02,\n",
       "       -1.46300142e+02, -2.26640445e+02, -8.17877832e+00, -4.06911881e+02,\n",
       "       -4.10165815e+01,  2.88128223e+01, -3.43943335e+02,  2.42122350e+02,\n",
       "       -1.31350779e-03, -1.46283189e+02, -2.61857392e+01, -4.22837156e+01,\n",
       "       -9.51832063e-04,  8.29835127e+00, -1.98277795e+02,  2.07725393e+02,\n",
       "        2.03165006e+02,  3.31267199e+02,  1.35976376e+02,  1.39909662e+02,\n",
       "        1.77964737e+02,  1.73807536e+02,  1.74068721e+02,  9.72850224e+01,\n",
       "        2.42319966e+02,  7.09778954e+01,  9.79001732e+01, -2.78145768e+01,\n",
       "       -6.63475054e+01,  1.12243627e+02,  3.12994801e+02,  6.95283105e+01,\n",
       "        1.73750075e+01, -5.11255529e+01,  3.83628193e+01, -5.11050421e+01,\n",
       "        8.70297181e+00, -1.87443299e+02, -2.15909899e+00, -8.16733682e+01,\n",
       "        5.93174828e+01, -1.25020792e+02, -5.10616188e+02,  1.39198909e+02,\n",
       "        1.23019675e+02,  5.35914617e+01,  1.11831470e+02,  1.30292317e+02,\n",
       "        1.30592224e+02,  8.20619170e+01,  1.13806702e+02,  9.30647953e+01,\n",
       "        1.06851375e+02,  7.82134136e+01,  2.01138785e+02,  2.25638862e+02,\n",
       "        8.37032082e+01,  9.02845217e+01,  1.10749488e+02,  1.12585041e+02,\n",
       "        2.66258060e+02,  1.17449530e+02,  2.09862109e+02, -2.77248539e+02,\n",
       "       -1.61075655e+02, -1.89266212e+02, -1.82428920e+02, -1.06406251e+02,\n",
       "        2.17872255e+02, -2.79796252e+02, -9.73223338e+01, -6.02142740e+01,\n",
       "       -1.97209842e+02, -1.86471048e+02, -1.94948607e+02, -1.07327496e+02,\n",
       "        7.91920833e+01, -9.17326619e+01,  1.43438906e+02, -4.57927540e+01,\n",
       "       -1.53157332e+02,  1.88191904e+02,  1.20352667e+03,  1.45773330e+02,\n",
       "       -3.78866442e-04,  1.02910253e+02, -1.13779603e+01, -1.62032617e-04,\n",
       "        9.17451534e+02,  4.64350695e+02, -3.77697612e+01,  3.23799779e+02,\n",
       "        1.32431774e+02,  2.12652739e+02,  1.60207067e+02,  1.42962349e+02,\n",
       "       -9.02187592e+01,  6.20022564e+01, -8.39195219e+01,  1.12887218e+02,\n",
       "       -5.69498521e+01,  6.07164896e+01, -1.10426184e+02,  1.19380751e+02,\n",
       "        2.48751806e+02, -8.39093377e+01,  5.09731494e+01,  5.57542429e+01,\n",
       "        9.02475319e+01, -2.32457271e+01, -2.58708472e-01, -1.80789189e+02,\n",
       "        7.80928637e+01,  2.56024131e+02,  9.66001849e+01,  1.66562119e+02,\n",
       "        2.06178816e+02,  2.17027291e+02,  1.77301333e+02,  7.69103077e+01,\n",
       "        1.41818427e+02,  1.24966586e+02,  8.58151511e+01,  1.63578319e+02,\n",
       "       -4.00853630e+01, -4.33543688e+01,  9.02663061e+01,  2.69535739e+02,\n",
       "        5.00699628e+01,  7.24228720e+00,  1.61664828e+01,  4.05017536e+01,\n",
       "        8.24766283e+00, -9.81911455e+01,  7.92762152e+01, -6.12651726e+01,\n",
       "       -4.37414158e+01,  7.81804507e+01,  4.35019161e+01,  8.65599020e-04,\n",
       "        7.12925355e-04, -1.39339791e+02, -5.99191081e+02, -5.78240012e+02,\n",
       "       -2.53950367e-01, -3.93707628e+02, -5.18257643e+02,  4.50142566e+01,\n",
       "       -2.11621808e+01, -1.45497488e+01,  5.51910764e+01,  4.61989013e+01,\n",
       "        5.49469553e+01,  1.55106114e+02,  4.17492930e+01,  1.19459344e+02,\n",
       "       -2.44873650e+01,  3.87683133e+01,  2.28982076e+02,  1.08546032e+02,\n",
       "        9.96325396e+01, -1.55209210e+01, -2.64858816e+01,  4.13564712e+02,\n",
       "        1.02273888e+02,  3.45052374e+01,  1.18494142e+02,  7.91177161e+01,\n",
       "        1.27324375e+01,  2.51283293e+02,  1.12258925e+02,  1.21814425e+02,\n",
       "        9.73348318e+01,  2.21825586e+02,  4.02011859e+02, -1.88677325e+01,\n",
       "       -1.04207626e+02,  1.18120885e+02,  2.34299479e+02,  6.25620773e+02,\n",
       "       -3.75020327e+01, -1.10118006e+02,  1.02294112e+02, -7.84849015e+00,\n",
       "        4.64862592e+02,  3.08095799e+02,  4.05531478e+02,  2.18825364e+02,\n",
       "        5.44535615e+02,  4.20923124e+02,  5.54512431e+02, -3.21052343e+02,\n",
       "        1.16443943e-03, -1.56357381e+02, -3.84388680e+02, -5.33100445e+02,\n",
       "       -2.73000582e+02, -4.52082641e+02,  3.42657762e+01, -5.39720201e+02,\n",
       "       -4.72067398e+02, -2.42694262e+01,  1.74024012e+02,  7.56251667e+01,\n",
       "       -1.31993732e+01,  5.80154887e+02,  8.13355109e+01,  1.28101941e+02,\n",
       "        8.84694377e+01, -1.45092095e+02,  6.76924987e+00, -1.87480024e+02,\n",
       "        2.64485171e+02,  2.37149547e+02,  2.01468323e+02,  1.77693778e+02,\n",
       "        1.87360552e+02, -2.87022223e-01, -7.16588882e-04,  1.58180440e+02,\n",
       "        5.03871016e+01,  3.71085774e+02,  2.57479162e+02,  1.68688098e+02,\n",
       "        2.25899307e+02, -1.48209348e+02, -1.28549960e+02, -2.89870323e+01,\n",
       "        1.05566741e+03,  2.31151964e+02,  3.41651041e+02,  2.58751979e+02,\n",
       "       -3.94888430e+02, -5.60933771e+02, -5.11584962e+02, -3.75547099e+02,\n",
       "       -4.54678567e+02, -5.87700639e+02, -4.19030124e+02,  1.14253614e+02,\n",
       "        8.41516449e+01,  5.29615378e+01,  9.63658661e+01, -1.41944230e+01,\n",
       "        2.78996289e+01,  1.50792717e+02,  1.60060438e+02,  1.38686455e+02,\n",
       "        5.14840079e+01,  2.98115729e+01,  2.45711470e+01,  7.66462482e+01,\n",
       "        1.14054655e+02,  9.19464543e+01,  1.00881473e+02,  1.46597661e+02,\n",
       "        1.10389367e+02,  7.42326053e+01,  2.97606553e+01,  1.41843125e+02,\n",
       "        1.10361184e+02,  8.74188560e+01,  1.77561996e+02,  1.43156111e+02,\n",
       "        1.77984287e+02,  2.72256218e+02,  1.64564368e+02,  9.74058795e+01,\n",
       "        5.53658690e+01,  1.10072298e+02, -3.02011664e+01,  2.22413725e+02,\n",
       "        2.21675370e+01, -3.12327663e+01,  1.09285862e+02,  7.69320854e+01,\n",
       "        3.83500796e+01,  3.08364157e+02,  3.89949655e+02,  4.22510721e+02,\n",
       "        1.28053580e+02,  3.63801619e+02, -6.86281715e+02,  3.20292956e+02,\n",
       "        5.34244753e+02,  1.92118624e+02,  1.34301992e+02,  2.58626120e+02,\n",
       "        3.38132123e+02,  3.02580991e+02,  2.91279251e+02, -3.46757079e+02,\n",
       "       -2.97898172e+02, -2.95597444e+02, -3.82062437e+02, -4.16948791e+02,\n",
       "       -3.19079603e+02, -3.40200669e+02, -3.95224689e+02, -3.21509804e+02,\n",
       "       -4.02772563e+02, -3.70429867e+02,  2.43281733e+02,  2.65451624e+02,\n",
       "        8.34617766e+01, -3.61169921e+00,  5.76783158e+01, -4.91398575e+01,\n",
       "       -1.21155344e+02, -3.54891493e+00, -4.67269291e+01, -7.01609127e+01,\n",
       "       -1.53951750e+01,  1.35320189e+02,  2.06856320e+02,  4.45339565e+02,\n",
       "        2.58831194e+02,  1.52867648e+02,  2.02297735e+02,  4.99745482e+01,\n",
       "        8.57399774e+01,  2.26668671e+02,  2.73874871e+02,  1.88789364e+02,\n",
       "        4.26037276e+02, -1.98368640e+01, -1.72343185e+02, -1.00665427e+02,\n",
       "       -8.62078021e+01,  4.91460143e+02, -6.32657249e+01,  2.55298045e+01,\n",
       "        5.64742548e+00,  6.13062583e+01, -6.20505863e+01, -3.39027555e+01,\n",
       "       -2.97490554e+01, -6.22214988e+01, -1.80891375e+01,  1.52263845e+02,\n",
       "        2.15898529e+02,  3.33959657e+02,  1.45265740e+02,  9.75904412e+01,\n",
       "        8.24949422e+01,  2.35589809e+02, -3.87800958e+01,  2.53388412e+02,\n",
       "       -6.85225879e+01,  1.24743937e+02,  1.73998833e+02,  2.53847899e+02,\n",
       "        2.75974638e+02,  2.53028346e+02,  3.61325738e+02,  2.57967589e+02,\n",
       "        3.13231937e+02,  2.45350469e+02,  2.89532881e+02,  2.23692842e+02,\n",
       "        3.39799293e+02,  5.45554050e+02,  1.61067718e+02,  3.18223051e+02,\n",
       "        3.35893415e+02,  3.79338982e+02,  7.68923025e+02,  3.51024954e+02,\n",
       "        3.37380507e+02,  3.06815099e+02,  6.87295200e+02,  3.59525936e+02,\n",
       "        3.30243327e+02,  3.12118535e+02,  3.46909351e+02, -1.93666810e+01,\n",
       "        2.76863101e+02,  2.63122406e+02,  2.33378715e+02,  2.26061505e+02,\n",
       "        2.48129209e+02,  3.12801048e+02,  2.08767854e+02,  2.16244196e+02,\n",
       "        2.64007338e+02,  2.03726402e+02,  6.11711745e+01, -2.86004615e+01,\n",
       "        2.60798013e+02,  1.94083086e+02,  3.36877033e+02, -3.78342933e+02,\n",
       "        5.13714125e+01, -1.36058869e+00,  2.21681298e+02, -1.93186391e+02,\n",
       "        4.15698677e+02, -1.81442535e+01,  8.22195663e+01,  4.01262171e+01,\n",
       "        3.39994686e+02,  2.50409779e+02,  2.47829743e+02,  3.06691244e-01,\n",
       "        1.46271011e+02,  1.05287111e+01, -4.05617923e+01, -3.48895559e+01,\n",
       "       -5.26402754e+01, -6.14484677e+01, -1.27199378e+02, -9.98900179e+01,\n",
       "       -1.44619590e+02, -1.39986522e+02, -1.35822826e+02, -7.52957881e+01,\n",
       "       -1.22355763e+02, -1.14004214e+02, -6.81665791e+01, -1.26710184e+02,\n",
       "       -9.70488815e+01, -1.21825806e+02, -5.96833995e+01,  2.17762608e+02,\n",
       "        1.70080319e+02,  4.42936382e+02,  4.17738631e+02,  3.20882294e+02,\n",
       "        3.58937307e+02,  4.02919173e+02,  3.96986215e+02,  3.64694711e+02,\n",
       "        3.83470799e+02,  3.18148208e+02,  3.43642520e+02,  4.73905932e+02,\n",
       "        3.74261779e+02,  2.36339053e+02,  2.60007894e+02,  2.30136536e+02,\n",
       "        3.29086370e+02,  2.18986727e+02,  2.42293127e+02,  1.71367071e+02,\n",
       "        1.93734384e+02,  2.29284760e+02,  2.39385579e+02,  2.62546804e+02,\n",
       "        2.40881431e+02,  1.97790709e+02,  2.65473191e+02,  2.65952521e+02,\n",
       "        1.44413401e+02,  1.73487393e+02,  8.17535297e+01,  1.49711158e+02,\n",
       "       -2.08528043e+00,  3.82145358e+00,  1.00396607e+02,  1.03651932e+02,\n",
       "        5.79017895e+01,  3.13482130e+02, -1.27496532e+02,  1.51978874e+01,\n",
       "        3.66476955e+02,  2.27753761e+02,  2.98740699e+02,  3.33959353e+02,\n",
       "        2.53842173e+02,  2.75978172e+02,  2.53028733e+02,  2.57974607e+02,\n",
       "        2.45349966e+02,  3.13991126e+02,  4.61941123e+02,  3.75575074e+01,\n",
       "        3.61324674e+02,  3.13233500e+02,  3.39806717e+02,  2.89534746e+02,\n",
       "       -5.98770200e-07,  1.16825950e+02,  2.73458909e-07,  4.67739354e+02,\n",
       "        3.49286766e+02,  4.74198145e+02,  3.12803504e+02,  7.07501940e+02,\n",
       "        3.27994544e+02,  3.12114174e+02,  5.21083603e+02,  3.30248460e+02,\n",
       "        3.06817619e+02,  3.79340283e+02,  3.51026160e+02,  3.18225108e+02,\n",
       "        3.59527206e+02,  3.35888688e+02,  3.46918528e+02,  3.37377315e+02,\n",
       "        6.71390217e+01,  0.00000000e+00,  6.62218280e+02,  1.51798744e+02,\n",
       "        2.21692379e+02,  1.46139473e+02, -1.76092692e+01,  1.50773578e+02,\n",
       "        4.28034143e+02,  2.00905403e+02, -1.35911713e+00, -1.87608053e+02,\n",
       "        5.13706144e+01, -1.81427039e+01, -2.39031701e+02,  2.08750358e+02,\n",
       "        3.25681708e+01,  1.43490882e+02,  2.88681278e+02, -1.13873967e+02,\n",
       "       -5.09149125e+00,  1.91166734e+01,  1.13091785e+02,  2.77822292e+02,\n",
       "        3.48488357e+01,  1.88051927e+02,  2.88378443e+02,  1.34182705e+02,\n",
       "        1.36711176e+02, -3.09357361e+02, -2.62268256e+02, -2.47572996e+02,\n",
       "       -2.87825062e+02, -2.91332477e+02, -2.73400480e+02, -8.57098542e+02,\n",
       "       -8.81472806e+02, -8.45333035e+02, -8.46932979e+02, -8.23107130e+02,\n",
       "       -8.10052693e+02, -7.26195137e+02, -8.65742797e+02, -8.69791816e+02,\n",
       "       -8.42258914e+02, -7.95494531e+02, -2.46606352e+02, -4.55307494e+02,\n",
       "       -4.95419294e+02, -2.79619501e+02, -3.00752362e+02, -2.74008372e+02,\n",
       "       -2.38765286e+02, -1.96555531e+02, -6.81308530e+02, -1.52668536e+02,\n",
       "       -2.33969644e+02, -1.45535393e+02, -1.26028538e+02, -1.67918904e+02,\n",
       "       -1.57919160e+02, -1.58354921e+02, -1.64132403e+02, -2.43460774e+02,\n",
       "       -2.59203374e+02, -2.94255877e+02, -1.66970480e+02,  1.81655871e+04,\n",
       "        4.97688765e+01,  5.51586272e-05, -5.75453741e-04,  1.02955462e+01,\n",
       "        8.56364928e+01,  9.30986760e+01,  7.01330273e+01, -2.07133634e+01,\n",
       "        2.73703761e+01,  5.75674828e+00,  1.33278306e-01,  8.17917450e+01,\n",
       "        5.31951866e+01,  6.02200634e+01,  1.50923856e+03,  1.84827862e+01,\n",
       "        6.22087300e+00,  3.12986481e+00,  9.93108176e-01,  2.07460571e+00,\n",
       "       -2.30394364e+00])"
      ]
     },
     "execution_count": 104,
     "metadata": {},
     "output_type": "execute_result"
    }
   ],
   "source": [
    "lr_predTT.coef_"
   ]
  },
  {
   "cell_type": "code",
   "execution_count": 121,
   "metadata": {
    "tags": []
   },
   "outputs": [
    {
     "name": "stdout",
     "output_type": "stream",
     "text": [
      "(15019, 849) (15019,)\n"
     ]
    }
   ],
   "source": [
    "# *PREDICT* TRAVEL TIME:\n",
    "\n",
    "y = np.array(results_df['INCIDENT_TRAVEL_TM_SECONDS_QY'])\n",
    "\n",
    "# definitely drop these:\n",
    "drop_features = ['INCIDENT_RESPONSE_SECONDS_QY', \n",
    "                 'CAD_INCIDENT_ID', \n",
    "                 'FIRST_ASSIGNMENT_DATETIME', \n",
    "                 'INCIDENT_TRAVEL_TM_SECONDS_QY']\n",
    "# suggest dropping these: \n",
    "#drop_features += list(features[230:594]) # zip codes\n",
    "#drop_features += list(features[670:831]) # city council district, community district, community school dist, congressional district\n",
    "drop_features += ['AWND']\n",
    "\n",
    "X = np.array(results_df.drop(columns=drop_features))\n",
    "\n",
    "# Train/test split\n",
    "X_train, X_test, y_train, y_test = train_test_split(X,y,random_state=42)\n",
    "\n",
    "# Scale data\n",
    "sc = StandardScaler()\n",
    "X_train_sc = sc.fit_transform(X_train)\n",
    "X_test_sc = sc.transform(X_test)\n",
    "\n",
    "print(X_train.shape, y_train.shape)\n"
   ]
  },
  {
   "cell_type": "code",
   "execution_count": 146,
   "metadata": {
    "tags": []
   },
   "outputs": [
    {
     "name": "stdout",
     "output_type": "stream",
     "text": [
      "Train on 15019 samples, validate on 5007 samples\n",
      "Epoch 1/20\n",
      "15019/15019 [==============================] - 5s 332us/sample - loss: 293377.7452 - mae: 437.3828 - val_loss: 288715.5073 - val_mae: 420.2567\n",
      "Epoch 2/20\n",
      "15019/15019 [==============================] - 3s 167us/sample - loss: 237549.9263 - mae: 374.1920 - val_loss: 209647.0801 - val_mae: 324.2136\n",
      "Epoch 3/20\n",
      "15019/15019 [==============================] - 3s 226us/sample - loss: 151524.2881 - mae: 258.6823 - val_loss: 128511.0245 - val_mae: 212.7223\n",
      "Epoch 4/20\n",
      "15019/15019 [==============================] - 3s 197us/sample - loss: 99458.4964 - mae: 191.9867 - val_loss: 103583.0649 - val_mae: 192.6052\n",
      "Epoch 5/20\n",
      "15019/15019 [==============================] - 3s 197us/sample - loss: 89490.5587 - mae: 188.4007 - val_loss: 101004.7782 - val_mae: 195.0099\n",
      "Epoch 6/20\n",
      "15019/15019 [==============================] - 3s 189us/sample - loss: 87629.0463 - mae: 188.3221 - val_loss: 100349.5340 - val_mae: 194.5461\n",
      "Epoch 7/20\n",
      "15019/15019 [==============================] - 3s 201us/sample - loss: 86404.0228 - mae: 187.0636 - val_loss: 99661.6459 - val_mae: 194.7354\n",
      "Epoch 8/20\n",
      "15019/15019 [==============================] - 3s 184us/sample - loss: 85389.2331 - mae: 185.7830 - val_loss: 99370.4161 - val_mae: 194.6149\n",
      "Epoch 9/20\n",
      "15019/15019 [==============================] - 3s 180us/sample - loss: 84580.6918 - mae: 185.8966 - val_loss: 99174.2547 - val_mae: 194.4410\n",
      "Epoch 10/20\n",
      "15019/15019 [==============================] - 3s 199us/sample - loss: 83865.2445 - mae: 184.8049 - val_loss: 98942.8922 - val_mae: 194.4168\n",
      "Epoch 11/20\n",
      "15019/15019 [==============================] - 3s 201us/sample - loss: 83227.6500 - mae: 183.8995 - val_loss: 98760.4233 - val_mae: 194.5861\n",
      "Epoch 12/20\n",
      "15019/15019 [==============================] - 6s 433us/sample - loss: 82586.0107 - mae: 184.0233 - val_loss: 98610.6414 - val_mae: 194.4860\n",
      "Epoch 13/20\n",
      "15019/15019 [==============================] - 5s 313us/sample - loss: 82025.8823 - mae: 183.0874 - val_loss: 98598.2576 - val_mae: 194.6823\n",
      "Epoch 14/20\n",
      "15019/15019 [==============================] - 3s 217us/sample - loss: 81553.7618 - mae: 182.8566 - val_loss: 98497.5017 - val_mae: 194.9254\n",
      "Epoch 15/20\n",
      "15019/15019 [==============================] - 4s 237us/sample - loss: 81079.2652 - mae: 182.2315 - val_loss: 98331.2443 - val_mae: 195.1066\n",
      "Epoch 16/20\n",
      "15019/15019 [==============================] - 3s 192us/sample - loss: 80622.3506 - mae: 182.0408 - val_loss: 98273.2927 - val_mae: 195.1947\n",
      "Epoch 17/20\n",
      "15019/15019 [==============================] - 3s 170us/sample - loss: 80163.5207 - mae: 182.0012 - val_loss: 98259.8939 - val_mae: 194.5911\n",
      "Epoch 18/20\n",
      "15019/15019 [==============================] - 4s 248us/sample - loss: 79704.4794 - mae: 181.2858 - val_loss: 98289.7607 - val_mae: 195.2338\n",
      "Epoch 19/20\n",
      "15019/15019 [==============================] - 3s 180us/sample - loss: 79250.5459 - mae: 180.7368 - val_loss: 98093.4700 - val_mae: 194.5082\n",
      "Epoch 20/20\n",
      "15019/15019 [==============================] - 3s 180us/sample - loss: 78857.4481 - mae: 180.2137 - val_loss: 98126.9986 - val_mae: 195.4729\n"
     ]
    }
   ],
   "source": [
    "\n",
    "model = Sequential()\n",
    "model.add(Input(shape=X_train_sc.shape[1]))\n",
    "model.add(Dense(512, activation='relu'))\n",
    "model.add(Dense(1, activation=None))\n",
    "\n",
    "model.compile(loss='mse', optimizer='adam', metrics=['mae'])\n",
    "\n",
    "results = model.fit(X_train_sc, y_train, epochs=20, batch_size=256, validation_data=(X_test_sc, y_test))\n",
    "\n"
   ]
  },
  {
   "cell_type": "code",
   "execution_count": 147,
   "metadata": {},
   "outputs": [
    {
     "name": "stdout",
     "output_type": "stream",
     "text": [
      "R2: 0.2437348140975616, RMS: 278.85133309929154\n"
     ]
    }
   ],
   "source": [
    "preds0 = model.predict(X_train_sc)\n",
    "R2 = r2_score(y_train,preds0)\n",
    "RMS = mean_squared_error(y_train,preds0,squared=False)\n",
    "print(f'R2: {R2}, RMS: {RMS}')\n"
   ]
  },
  {
   "cell_type": "code",
   "execution_count": 148,
   "metadata": {
    "tags": []
   },
   "outputs": [
    {
     "name": "stdout",
     "output_type": "stream",
     "text": [
      "R2: 0.14338899224546564, RMS: 313.2522924602567\n"
     ]
    }
   ],
   "source": [
    "\n",
    "preds = model.predict(X_test_sc)\n",
    "R2 = r2_score(y_test,preds)\n",
    "RMS = mean_squared_error(y_test,preds,squared=False)\n",
    "print(f'R2: {R2}, RMS: {RMS}')\n"
   ]
  },
  {
   "cell_type": "code",
   "execution_count": 149,
   "metadata": {},
   "outputs": [
    {
     "data": {
      "image/png": "[encoded data removed]",
      "text/plain": [
       "<Figure size 432x288 with 1 Axes>"
      ]
     },
     "metadata": {
      "needs_background": "light"
     },
     "output_type": "display_data"
    }
   ],
   "source": [
    "plt.plot([0, 8000],[0, 8000],color='black');\n",
    "plt.scatter(y_test,preds);"
   ]
  },
  {
   "cell_type": "code",
   "execution_count": 150,
   "metadata": {},
   "outputs": [
    {
     "data": {
      "image/png": "[encoded data removed]",
      "text/plain": [
       "<Figure size 864x576 with 1 Axes>"
      ]
     },
     "metadata": {
      "needs_background": "light"
     },
     "output_type": "display_data"
    }
   ],
   "source": [
    "train_loss = results.history['loss']\n",
    "test_loss = results.history['val_loss']\n",
    "\n",
    "plt.figure(figsize=(12, 8))\n",
    "plt.plot(train_loss, label='Training loss', color='navy')\n",
    "plt.plot(test_loss, label='Testing loss', color='skyblue')\n",
    "plt.legend();"
   ]
  },
  {
   "cell_type": "code",
   "execution_count": 157,
   "metadata": {
    "tags": []
   },
   "outputs": [
    {
     "name": "stdout",
     "output_type": "stream",
     "text": [
      "Train/Test Score:\n",
      "0.1895653111320843 0.15018146768226048\n",
      "R2: 0.15018146768226048, RMS: 312.0078575351584\n"
     ]
    }
   ],
   "source": [
    "\n",
    "y = results_df['INCIDENT_TRAVEL_TM_SECONDS_QY']\n",
    "\n",
    "# definitely drop these:\n",
    "drop_features = ['INCIDENT_TRAVEL_TM_SECONDS_QY',\n",
    "                 'INCIDENT_RESPONSE_SECONDS_QY', \n",
    "                 'CAD_INCIDENT_ID', \n",
    "                 'FIRST_ASSIGNMENT_DATETIME', \n",
    "                 'AWND']\n",
    "# suggest dropping these: \n",
    "#drop_features += list(features[230:594]) # zip codes\n",
    "#drop_features += list(features[670:831]) # city council district, community district, community school dist, congressional district\n",
    "\n",
    "features = results_df.columns\n",
    "features_keep = list(features[0:8]) \n",
    "features_keep += list(features[10:230]) \n",
    "features_keep += list(features[594:670])\n",
    "features_keep += list(features[831:846]) \n",
    "features_keep.append(features[848])\n",
    "\n",
    "X = results_df[features_keep]\n",
    "\n",
    "X_train, X_test, y_train, y_test = train_test_split(X,y,random_state=42)\n",
    "lr_predTT = LinearRegression()\n",
    "lr_predTT.fit(X_train,y_train)\n",
    "print('Train/Test Score:')\n",
    "print(lr_predTT.score(X_train,y_train), lr_predTT.score(X_test,y_test))\n",
    "pr = lr_predTT.predict(X_test)\n",
    "R2 = r2_score(y_test,pr)\n",
    "RMS = mean_squared_error(y_test,pr,squared=False)\n",
    "print(f'R2: {R2}, RMS: {RMS}')"
   ]
  },
  {
   "cell_type": "code",
   "execution_count": 156,
   "metadata": {},
   "outputs": [
    {
     "data": {
      "text/plain": [
       "['CAD_INCIDENT_ID',\n",
       " 'INITIAL_SEVERITY_LEVEL_CODE',\n",
       " 'FINAL_SEVERITY_LEVEL_CODE',\n",
       " 'FIRST_ASSIGNMENT_DATETIME',\n",
       " 'VALID_DISPATCH_RSPNS_TIME_INDC',\n",
       " 'DISPATCH_RESPONSE_SECONDS_QY',\n",
       " 'FIRST_ACTIVATION_DATETIME',\n",
       " 'VALID_INCIDENT_RSPNS_TIME_INDC',\n",
       " 'INCIDENT_CLOSE_DATETIME',\n",
       " 'HELD_INDICATOR',\n",
       " 'REOPEN_INDICATOR',\n",
       " 'SPECIAL_EVENT_INDICATOR',\n",
       " 'STANDBY_INDICATOR',\n",
       " 'TRANSFER_INDICATOR',\n",
       " 'INITIAL_CALL_TYPE_ABDPN',\n",
       " 'INITIAL_CALL_TYPE_ACC',\n",
       " 'INITIAL_CALL_TYPE_ALTMEN',\n",
       " 'INITIAL_CALL_TYPE_AMPMAJ',\n",
       " 'INITIAL_CALL_TYPE_AMPMIN',\n",
       " 'INITIAL_CALL_TYPE_ANAPFC',\n",
       " 'INITIAL_CALL_TYPE_ANAPH',\n",
       " 'INITIAL_CALL_TYPE_ARREFC',\n",
       " 'INITIAL_CALL_TYPE_ARREST',\n",
       " 'INITIAL_CALL_TYPE_ASTHFC',\n",
       " 'INITIAL_CALL_TYPE_ASTHMA',\n",
       " 'INITIAL_CALL_TYPE_ASTHMB',\n",
       " 'INITIAL_CALL_TYPE_BURNMA',\n",
       " 'INITIAL_CALL_TYPE_BURNMI',\n",
       " 'INITIAL_CALL_TYPE_CARD',\n",
       " 'INITIAL_CALL_TYPE_CARDBR',\n",
       " 'INITIAL_CALL_TYPE_CARDFC',\n",
       " 'INITIAL_CALL_TYPE_CDBRFC',\n",
       " 'INITIAL_CALL_TYPE_CHILDA',\n",
       " 'INITIAL_CALL_TYPE_CHOKE',\n",
       " 'INITIAL_CALL_TYPE_COLD',\n",
       " 'INITIAL_CALL_TYPE_CVA',\n",
       " 'INITIAL_CALL_TYPE_CVAC',\n",
       " 'INITIAL_CALL_TYPE_DIFFBR',\n",
       " 'INITIAL_CALL_TYPE_DIFFFC',\n",
       " 'INITIAL_CALL_TYPE_DROWN',\n",
       " 'INITIAL_CALL_TYPE_DRUG',\n",
       " 'INITIAL_CALL_TYPE_DRUGFC',\n",
       " 'INITIAL_CALL_TYPE_EDP',\n",
       " 'INITIAL_CALL_TYPE_EDPC',\n",
       " 'INITIAL_CALL_TYPE_ELECT',\n",
       " 'INITIAL_CALL_TYPE_FIRE75',\n",
       " 'INITIAL_CALL_TYPE_GYNHEM',\n",
       " 'INITIAL_CALL_TYPE_GYNMAJ',\n",
       " 'INITIAL_CALL_TYPE_HEAT',\n",
       " 'INITIAL_CALL_TYPE_HYPTN',\n",
       " 'INITIAL_CALL_TYPE_INBLED',\n",
       " 'INITIAL_CALL_TYPE_INBLFC',\n",
       " 'INITIAL_CALL_TYPE_INHALE',\n",
       " 'INITIAL_CALL_TYPE_INJALS',\n",
       " 'INITIAL_CALL_TYPE_INJMAJ',\n",
       " 'INITIAL_CALL_TYPE_INJMIN',\n",
       " 'INITIAL_CALL_TYPE_INJURY',\n",
       " 'INITIAL_CALL_TYPE_JUMPDN',\n",
       " 'INITIAL_CALL_TYPE_JUMPUP',\n",
       " 'INITIAL_CALL_TYPE_MCI21',\n",
       " 'INITIAL_CALL_TYPE_MCI21P',\n",
       " 'INITIAL_CALL_TYPE_MEDRXN',\n",
       " 'INITIAL_CALL_TYPE_MVA',\n",
       " 'INITIAL_CALL_TYPE_MVAINJ',\n",
       " 'INITIAL_CALL_TYPE_OBCOMP',\n",
       " 'INITIAL_CALL_TYPE_OBLAB',\n",
       " 'INITIAL_CALL_TYPE_OBMAJ',\n",
       " 'INITIAL_CALL_TYPE_OBMIS',\n",
       " 'INITIAL_CALL_TYPE_OBOUT',\n",
       " 'INITIAL_CALL_TYPE_OTHER',\n",
       " 'INITIAL_CALL_TYPE_PD13',\n",
       " 'INITIAL_CALL_TYPE_PD13C',\n",
       " 'INITIAL_CALL_TYPE_PEDFC',\n",
       " 'INITIAL_CALL_TYPE_PEDSTR',\n",
       " 'INITIAL_CALL_TYPE_RAPE',\n",
       " 'INITIAL_CALL_TYPE_RESPFC',\n",
       " 'INITIAL_CALL_TYPE_RESPIR',\n",
       " 'INITIAL_CALL_TYPE_SAFE',\n",
       " 'INITIAL_CALL_TYPE_SEIZR',\n",
       " 'INITIAL_CALL_TYPE_SHOT',\n",
       " 'INITIAL_CALL_TYPE_SICK',\n",
       " 'INITIAL_CALL_TYPE_SICKFC',\n",
       " 'INITIAL_CALL_TYPE_SICKRF',\n",
       " 'INITIAL_CALL_TYPE_SICMIN',\n",
       " 'INITIAL_CALL_TYPE_SICPED',\n",
       " 'INITIAL_CALL_TYPE_SPEVNT',\n",
       " 'INITIAL_CALL_TYPE_STAB',\n",
       " 'INITIAL_CALL_TYPE_STATEP',\n",
       " 'INITIAL_CALL_TYPE_STNDBY',\n",
       " 'INITIAL_CALL_TYPE_STRANS',\n",
       " 'INITIAL_CALL_TYPE_TRAUMA',\n",
       " 'INITIAL_CALL_TYPE_UNC',\n",
       " 'INITIAL_CALL_TYPE_UNCFC',\n",
       " 'INITIAL_CALL_TYPE_UNKNOW',\n",
       " 'FINAL_CALL_TYPE_ALTMEN',\n",
       " 'FINAL_CALL_TYPE_AMPMAJ',\n",
       " 'FINAL_CALL_TYPE_AMPMIN',\n",
       " 'FINAL_CALL_TYPE_ANAPFC',\n",
       " 'FINAL_CALL_TYPE_ANAPH',\n",
       " 'FINAL_CALL_TYPE_ARREFC',\n",
       " 'FINAL_CALL_TYPE_ARREST',\n",
       " 'FINAL_CALL_TYPE_ASTHFC',\n",
       " 'FINAL_CALL_TYPE_ASTHMA',\n",
       " 'FINAL_CALL_TYPE_ASTHMB',\n",
       " 'FINAL_CALL_TYPE_BURNMA',\n",
       " 'FINAL_CALL_TYPE_BURNMI',\n",
       " 'FINAL_CALL_TYPE_CARD',\n",
       " 'FINAL_CALL_TYPE_CARDBR',\n",
       " 'FINAL_CALL_TYPE_CARDFC',\n",
       " 'FINAL_CALL_TYPE_CDBRFC',\n",
       " 'FINAL_CALL_TYPE_CHILDA',\n",
       " 'FINAL_CALL_TYPE_CHOKE',\n",
       " 'FINAL_CALL_TYPE_COLD',\n",
       " 'FINAL_CALL_TYPE_CVA',\n",
       " 'FINAL_CALL_TYPE_CVAC',\n",
       " 'FINAL_CALL_TYPE_DIFFBR',\n",
       " 'FINAL_CALL_TYPE_DIFFFC',\n",
       " 'FINAL_CALL_TYPE_DROWN',\n",
       " 'FINAL_CALL_TYPE_DRUG',\n",
       " 'FINAL_CALL_TYPE_DRUGFC',\n",
       " 'FINAL_CALL_TYPE_EDP',\n",
       " 'FINAL_CALL_TYPE_EDPC',\n",
       " 'FINAL_CALL_TYPE_ELECT',\n",
       " 'FINAL_CALL_TYPE_FIRE75',\n",
       " 'FINAL_CALL_TYPE_GYNHEM',\n",
       " 'FINAL_CALL_TYPE_GYNMAJ',\n",
       " 'FINAL_CALL_TYPE_HEAT',\n",
       " 'FINAL_CALL_TYPE_HYPTN',\n",
       " 'FINAL_CALL_TYPE_INBLED',\n",
       " 'FINAL_CALL_TYPE_INBLFC',\n",
       " 'FINAL_CALL_TYPE_INHALE',\n",
       " 'FINAL_CALL_TYPE_INJALS',\n",
       " 'FINAL_CALL_TYPE_INJMAJ',\n",
       " 'FINAL_CALL_TYPE_INJMIN',\n",
       " 'FINAL_CALL_TYPE_INJURY',\n",
       " 'FINAL_CALL_TYPE_JUMPDN',\n",
       " 'FINAL_CALL_TYPE_JUMPUP',\n",
       " 'FINAL_CALL_TYPE_MCI21',\n",
       " 'FINAL_CALL_TYPE_MCI21P',\n",
       " 'FINAL_CALL_TYPE_MCI22P',\n",
       " 'FINAL_CALL_TYPE_MCI23P',\n",
       " 'FINAL_CALL_TYPE_MCI24P',\n",
       " 'FINAL_CALL_TYPE_MCI26P',\n",
       " 'FINAL_CALL_TYPE_MCI29P',\n",
       " 'FINAL_CALL_TYPE_MCI31P',\n",
       " 'FINAL_CALL_TYPE_MCI32P',\n",
       " 'FINAL_CALL_TYPE_MCI34P',\n",
       " 'FINAL_CALL_TYPE_MCI43',\n",
       " 'FINAL_CALL_TYPE_MCI43P',\n",
       " 'FINAL_CALL_TYPE_MCI59P',\n",
       " 'FINAL_CALL_TYPE_MCI80P',\n",
       " 'FINAL_CALL_TYPE_MEDRXN',\n",
       " 'FINAL_CALL_TYPE_MVA',\n",
       " 'FINAL_CALL_TYPE_MVAINJ',\n",
       " 'FINAL_CALL_TYPE_OBCOMP',\n",
       " 'FINAL_CALL_TYPE_OBLAB',\n",
       " 'FINAL_CALL_TYPE_OBMAJ',\n",
       " 'FINAL_CALL_TYPE_OBMIS',\n",
       " 'FINAL_CALL_TYPE_OBOUT',\n",
       " 'FINAL_CALL_TYPE_OTHER',\n",
       " 'FINAL_CALL_TYPE_PD13',\n",
       " 'FINAL_CALL_TYPE_PD13C',\n",
       " 'FINAL_CALL_TYPE_PEDFC',\n",
       " 'FINAL_CALL_TYPE_PEDSTR',\n",
       " 'FINAL_CALL_TYPE_RAPE',\n",
       " 'FINAL_CALL_TYPE_RESPFC',\n",
       " 'FINAL_CALL_TYPE_RESPIR',\n",
       " 'FINAL_CALL_TYPE_SAFE',\n",
       " 'FINAL_CALL_TYPE_SEIZR',\n",
       " 'FINAL_CALL_TYPE_SHOT',\n",
       " 'FINAL_CALL_TYPE_SICK',\n",
       " 'FINAL_CALL_TYPE_SICKFC',\n",
       " 'FINAL_CALL_TYPE_SICKRF',\n",
       " 'FINAL_CALL_TYPE_SICMIN',\n",
       " 'FINAL_CALL_TYPE_SICPED',\n",
       " 'FINAL_CALL_TYPE_SPEVNT',\n",
       " 'FINAL_CALL_TYPE_STAB',\n",
       " 'FINAL_CALL_TYPE_STATEP',\n",
       " 'FINAL_CALL_TYPE_STNDBY',\n",
       " 'FINAL_CALL_TYPE_STRANS',\n",
       " 'FINAL_CALL_TYPE_TRAUMA',\n",
       " 'FINAL_CALL_TYPE_UNC',\n",
       " 'FINAL_CALL_TYPE_UNCFC',\n",
       " 'FINAL_CALL_TYPE_UNKNOW',\n",
       " 'INCIDENT_DISPOSITION_CODE_83.0',\n",
       " 'INCIDENT_DISPOSITION_CODE_87.0',\n",
       " 'INCIDENT_DISPOSITION_CODE_90.0',\n",
       " 'INCIDENT_DISPOSITION_CODE_91.0',\n",
       " 'INCIDENT_DISPOSITION_CODE_93.0',\n",
       " 'INCIDENT_DISPOSITION_CODE_94.0',\n",
       " 'INCIDENT_DISPOSITION_CODE_95.0',\n",
       " 'INCIDENT_DISPOSITION_CODE_96.0',\n",
       " 'BOROUGH_BROOKLYN',\n",
       " 'BOROUGH_MANHATTAN',\n",
       " 'BOROUGH_QUEENS',\n",
       " 'BOROUGH_RICHMOND / STATEN ISLAND',\n",
       " 'INCIDENT_DISPATCH_AREA_B2',\n",
       " 'INCIDENT_DISPATCH_AREA_B3',\n",
       " 'INCIDENT_DISPATCH_AREA_B4',\n",
       " 'INCIDENT_DISPATCH_AREA_B5',\n",
       " 'INCIDENT_DISPATCH_AREA_CW',\n",
       " 'INCIDENT_DISPATCH_AREA_K1',\n",
       " 'INCIDENT_DISPATCH_AREA_K2',\n",
       " 'INCIDENT_DISPATCH_AREA_K3',\n",
       " 'INCIDENT_DISPATCH_AREA_K4',\n",
       " 'INCIDENT_DISPATCH_AREA_K5',\n",
       " 'INCIDENT_DISPATCH_AREA_K6',\n",
       " 'INCIDENT_DISPATCH_AREA_K7',\n",
       " 'INCIDENT_DISPATCH_AREA_M1',\n",
       " 'INCIDENT_DISPATCH_AREA_M2',\n",
       " 'INCIDENT_DISPATCH_AREA_M3',\n",
       " 'INCIDENT_DISPATCH_AREA_M4',\n",
       " 'INCIDENT_DISPATCH_AREA_M5',\n",
       " 'INCIDENT_DISPATCH_AREA_M6',\n",
       " 'INCIDENT_DISPATCH_AREA_M7',\n",
       " 'INCIDENT_DISPATCH_AREA_M8',\n",
       " 'INCIDENT_DISPATCH_AREA_M9',\n",
       " 'INCIDENT_DISPATCH_AREA_Q1',\n",
       " 'INCIDENT_DISPATCH_AREA_Q2',\n",
       " 'INCIDENT_DISPATCH_AREA_Q3',\n",
       " 'INCIDENT_DISPATCH_AREA_Q4',\n",
       " 'INCIDENT_DISPATCH_AREA_Q5',\n",
       " 'INCIDENT_DISPATCH_AREA_Q6',\n",
       " 'INCIDENT_DISPATCH_AREA_Q7',\n",
       " 'INCIDENT_DISPATCH_AREA_S1',\n",
       " 'INCIDENT_DISPATCH_AREA_S2',\n",
       " 'INCIDENT_DISPATCH_AREA_S3',\n",
       " 'INCIDENT_DISPATCH_AREA_X1',\n",
       " 'POLICEPRECINCT_5.0',\n",
       " 'POLICEPRECINCT_6.0',\n",
       " 'POLICEPRECINCT_7.0',\n",
       " 'POLICEPRECINCT_9.0',\n",
       " 'POLICEPRECINCT_10.0',\n",
       " 'POLICEPRECINCT_13.0',\n",
       " 'POLICEPRECINCT_14.0',\n",
       " 'POLICEPRECINCT_17.0',\n",
       " 'POLICEPRECINCT_18.0',\n",
       " 'POLICEPRECINCT_19.0',\n",
       " 'POLICEPRECINCT_20.0',\n",
       " 'POLICEPRECINCT_22.0',\n",
       " 'POLICEPRECINCT_23.0',\n",
       " 'POLICEPRECINCT_24.0',\n",
       " 'POLICEPRECINCT_25.0',\n",
       " 'POLICEPRECINCT_26.0',\n",
       " 'POLICEPRECINCT_28.0',\n",
       " 'POLICEPRECINCT_30.0',\n",
       " 'POLICEPRECINCT_32.0',\n",
       " 'POLICEPRECINCT_33.0',\n",
       " 'POLICEPRECINCT_34.0',\n",
       " 'POLICEPRECINCT_40.0',\n",
       " 'POLICEPRECINCT_41.0',\n",
       " 'POLICEPRECINCT_42.0',\n",
       " 'POLICEPRECINCT_43.0',\n",
       " 'POLICEPRECINCT_44.0',\n",
       " 'POLICEPRECINCT_45.0',\n",
       " 'POLICEPRECINCT_46.0',\n",
       " 'POLICEPRECINCT_47.0',\n",
       " 'POLICEPRECINCT_48.0',\n",
       " 'POLICEPRECINCT_49.0',\n",
       " 'POLICEPRECINCT_50.0',\n",
       " 'POLICEPRECINCT_52.0',\n",
       " 'POLICEPRECINCT_60.0',\n",
       " 'POLICEPRECINCT_61.0',\n",
       " 'POLICEPRECINCT_62.0',\n",
       " 'POLICEPRECINCT_63.0',\n",
       " 'POLICEPRECINCT_66.0',\n",
       " 'POLICEPRECINCT_67.0',\n",
       " 'POLICEPRECINCT_68.0',\n",
       " 'POLICEPRECINCT_69.0',\n",
       " 'POLICEPRECINCT_70.0',\n",
       " 'POLICEPRECINCT_71.0',\n",
       " 'POLICEPRECINCT_72.0',\n",
       " 'POLICEPRECINCT_73.0',\n",
       " 'POLICEPRECINCT_75.0',\n",
       " 'POLICEPRECINCT_76.0',\n",
       " 'POLICEPRECINCT_77.0',\n",
       " 'POLICEPRECINCT_78.0',\n",
       " 'POLICEPRECINCT_79.0',\n",
       " 'POLICEPRECINCT_81.0',\n",
       " 'POLICEPRECINCT_83.0',\n",
       " 'POLICEPRECINCT_84.0',\n",
       " 'POLICEPRECINCT_88.0',\n",
       " 'POLICEPRECINCT_90.0',\n",
       " 'POLICEPRECINCT_94.0',\n",
       " 'POLICEPRECINCT_100.0',\n",
       " 'POLICEPRECINCT_101.0',\n",
       " 'POLICEPRECINCT_102.0',\n",
       " 'POLICEPRECINCT_103.0',\n",
       " 'POLICEPRECINCT_104.0',\n",
       " 'POLICEPRECINCT_105.0',\n",
       " 'POLICEPRECINCT_106.0',\n",
       " 'POLICEPRECINCT_107.0',\n",
       " 'POLICEPRECINCT_108.0',\n",
       " 'POLICEPRECINCT_109.0',\n",
       " 'POLICEPRECINCT_110.0',\n",
       " 'POLICEPRECINCT_111.0',\n",
       " 'POLICEPRECINCT_112.0',\n",
       " 'POLICEPRECINCT_113.0',\n",
       " 'POLICEPRECINCT_114.0',\n",
       " 'POLICEPRECINCT_115.0',\n",
       " 'POLICEPRECINCT_120.0',\n",
       " 'POLICEPRECINCT_121.0',\n",
       " 'POLICEPRECINCT_122.0',\n",
       " 'POLICEPRECINCT_123.0',\n",
       " 'CALL_YEAR',\n",
       " 'CALL_DAY',\n",
       " 'CALL_TIME',\n",
       " 'CALL_UTC',\n",
       " 'CALL_MONTH_AUG',\n",
       " 'CALL_MONTH_DEC',\n",
       " 'CALL_MONTH_FEB',\n",
       " 'CALL_MONTH_JAN',\n",
       " 'CALL_MONTH_JUL',\n",
       " 'CALL_MONTH_JUN',\n",
       " 'CALL_MONTH_MAR',\n",
       " 'CALL_MONTH_MAY',\n",
       " 'CALL_MONTH_NOV',\n",
       " 'CALL_MONTH_OCT',\n",
       " 'CALL_MONTH_SEP',\n",
       " 'P',\n",
       " 'R',\n",
       " 'C',\n",
       " 'P']"
      ]
     },
     "execution_count": 156,
     "metadata": {},
     "output_type": "execute_result"
    }
   ],
   "source": [
    "features_keep"
   ]
  },
  {
   "cell_type": "code",
   "execution_count": null,
   "metadata": {},
   "outputs": [],
   "source": []
  },
  {
   "cell_type": "code",
   "execution_count": null,
   "metadata": {},
   "outputs": [],
   "source": []
  }
 ],
 "metadata": {
  "kernelspec": {
   "display_name": "Python 3",
   "language": "python",
   "name": "python3"
  },
  "language_info": {
   "codemirror_mode": {
    "name": "ipython",
    "version": 3
   },
   "file_extension": ".py",
   "mimetype": "text/x-python",
   "name": "python",
   "nbconvert_exporter": "python",
   "pygments_lexer": "ipython3",
   "version": "3.7.10"
  }
 },
 "nbformat": 4,
 "nbformat_minor": 4
}
