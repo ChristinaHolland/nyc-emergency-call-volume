{
 "cells": [
  {
   "cell_type": "code",
   "execution_count": 1,
   "metadata": {},
   "outputs": [],
   "source": [
    "import pandas as pd\n",
    "import numpy as np\n",
    "import matplotlib.pyplot as plot\n",
    "import seaborn as sns\n",
    "\n",
    "from sklearn.model_selection import train_test_split\n",
    "from sklearn.linear_model import LinearRegression, Lasso, Ridge\n",
    "from sklearn.preprocessing import StandardScaler"
   ]
  },
  {
   "cell_type": "code",
   "execution_count": 2,
   "metadata": {},
   "outputs": [],
   "source": [
    "df = pd.read_csv('data/ems_weather.csv')"
   ]
  },
  {
   "cell_type": "markdown",
   "metadata": {},
   "source": [
    "### **Model 1: Kitchen Sink**"
   ]
  },
  {
   "cell_type": "code",
   "execution_count": 7,
   "metadata": {
    "jupyter": {
     "source_hidden": true
    }
   },
   "outputs": [],
   "source": [
    "# NOTE: features[N:M] actually is features[N] through features [M-1] -- it's non-inclusive\n",
    "\n",
    "# features[0]       --- 'CAD_INCIDENT_ID'                                            ---- DROP (only an index)\n",
    "# features[1]       --- 'INITIAL_SEVERITY_LEVEL_CODE'\n",
    "# features[2]       --- 'FINAL_SEVERITY_LEVEL_CODE'\n",
    "# features[3]       --- 'FIRST_ASSIGNMENT_DATETIME'                                  ---- DROP\n",
    "# features[4]       --- 'VALID_DISPATCH_RSPNS_TIME_INDC' \n",
    "# features[5]       --- 'DISPATCH_RESPONSE_SECONDS_QY'                               ---- DROP\n",
    "# features[6]       --- 'FIRST_ACTIVATION_DATETIME' \n",
    "# features[7]       --- 'VALID_INCIDENT_RSPNS_TIME_INDC'\n",
    "# features[8]       --- 'INCIDENT_RESPONSE_SECONDS_QY'                               ------> y\n",
    "# features[9]       --- 'INCIDENT_TRAVEL_TM_SECONDS_QY'\n",
    "# features[10]      --- 'INCIDENT_CLOSE_DATETIME' \n",
    "# features[11]      --- 'HELD_INDICATOR' \n",
    "# features[12]      --- 'REOPEN_INDICATOR'\n",
    "# features[13]      --- 'SPECIAL_EVENT_INDICATOR' \n",
    "# features[14]      --- 'STANDBY_INDICATOR'\n",
    "# features[15]      --- 'TRANSFER_INDICATOR'\n",
    "# features[16:96]   --- 'INITIAL_CALL_TYPE' dummies\n",
    "# features[96:186]  --- 'FINAL_CALL_TYPE' dummies\n",
    "# features[186:195] --- 'INCIDENT_DISPOSITION_CODE' dummies\n",
    "# features[195:198] --- 'BOROUGH' dummies\n",
    "# features[198:230] --- 'INCIDENT_DISPATCH_AREA' dummies\n",
    "# features[230:594] --- 'ZIPCODE' dummies\n",
    "# features[594:670] --- 'POLICEPRECINCT' dummies\n",
    "# features[670:720] --- 'CITYCOUNCILDISTRICT' dummies\n",
    "# features[720:788] --- 'COMMUNITYDISTRICT' dummies\n",
    "# features[788:819] --- 'COMMUNITYSCHOOLDISTRICT' dummies\n",
    "# features[829:831] --- 'CONGRESSIONALDISTRICT' dummies\n",
    "# features[831]     --- 'CALL_YEAR'\n",
    "# features[832]     --- 'CALL_DAY'\n",
    "# features[833]     --- 'CALL_TIME'\n",
    "# features[834]     --- 'CALL_UTC'\n",
    "# features[835:846] --- 'CALL_MONTH' dummies\n",
    "# features[846]     --- 'CALL_MONTH' (numeric)\n",
    "# features[847]     --- 'AWIND'\n",
    "# features[848]     --- 'PRCP'\n",
    "# features[849]     --- 'SNOW'\n",
    "# features[850]     --- 'SNWD'\n",
    "# features[851]     --- 'TMAX'\n",
    "# features[852]     --- 'TMIN'\n",
    "# features[853]     --- 'TAVG_CALC'"
   ]
  },
  {
   "cell_type": "code",
   "execution_count": 22,
   "metadata": {},
   "outputs": [],
   "source": [
    "features = df.columns\n",
    "\n",
    "# definitely drop these:\n",
    "drop_features = ['INCIDENT_RESPONSE_SECONDS_QY', \n",
    "                 'CAD_INCIDENT_ID', \n",
    "                 'FIRST_ASSIGNMENT_DATETIME', \n",
    "                 'DISPATCH_RESPONSE_SECONDS_QY']\n",
    "\n",
    "# suggest dropping these: \n",
    "drop_features += list(features[230:594]) # zip codes\n",
    "drop_features += list(features[670:831]) # city council district, community district, community school dist, congressional district\n",
    "\n",
    "\n",
    "X = df.drop(columns=drop_features)\n",
    "\n",
    "y = df['INCIDENT_RESPONSE_SECONDS_QY']\n",
    "\n",
    "X_train, X_test, y_train, y_test = train_test_split(X, y, random_state = 42)"
   ]
  },
  {
   "cell_type": "code",
   "execution_count": 23,
   "metadata": {},
   "outputs": [
    {
     "name": "stdout",
     "output_type": "stream",
     "text": [
      "Training: 0.9960344887121069\n",
      "Testing: -0.3385918115893678\n"
     ]
    }
   ],
   "source": [
    "linreg = LinearRegression()\n",
    "\n",
    "linreg.fit(X_train, y_train)\n",
    "\n",
    "print(f'Training: {linreg.score(X_train, y_train)}')\n",
    "print(f'Testing: {linreg.score(X_test, y_test)}')"
   ]
  },
  {
   "cell_type": "markdown",
   "metadata": {},
   "source": [
    "This does not seem likely, not sure yet why this is the result but there is definitely something not quite right here."
   ]
  },
  {
   "cell_type": "code",
   "execution_count": 24,
   "metadata": {},
   "outputs": [
    {
     "name": "stdout",
     "output_type": "stream",
     "text": [
      "Training: 0.9958146286844293\n",
      "Testing: -0.13915108084119465\n"
     ]
    }
   ],
   "source": [
    "lasso = Lasso(max_iter = 10_000)\n",
    "\n",
    "lasso.fit(X_train, y_train)\n",
    "\n",
    "print(f'Training: {lasso.score(X_train, y_train)}')\n",
    "print(f'Testing: {lasso.score(X_test, y_test)}')"
   ]
  },
  {
   "cell_type": "code",
   "execution_count": 25,
   "metadata": {},
   "outputs": [
    {
     "name": "stdout",
     "output_type": "stream",
     "text": [
      "Training: 0.9958146286844293\n",
      "Testing: -0.13915108084119465\n"
     ]
    },
    {
     "name": "stderr",
     "output_type": "stream",
     "text": [
      "C:\\Users\\tacia\\anaconda3\\lib\\site-packages\\sklearn\\linear_model\\_ridge.py:147: LinAlgWarning: Ill-conditioned matrix (rcond=1.16905e-21): result may not be accurate.\n",
      "  return linalg.solve(A, Xy, sym_pos=True,\n"
     ]
    }
   ],
   "source": [
    "ridge = Ridge()\n",
    "\n",
    "ridge.fit(X_train, y_train)\n",
    "\n",
    "print(f'Training: {lasso.score(X_train, y_train)}')\n",
    "print(f'Testing: {lasso.score(X_test, y_test)}')"
   ]
  },
  {
   "cell_type": "markdown",
   "metadata": {},
   "source": [
    "I realized the issue here.  Left in a lot of data that was used to create our new dependent variable.  This has been corrected more or less."
   ]
  },
  {
   "cell_type": "code",
   "execution_count": null,
   "metadata": {},
   "outputs": [],
   "source": []
  },
  {
   "cell_type": "code",
   "execution_count": null,
   "metadata": {},
   "outputs": [],
   "source": []
  }
 ],
 "metadata": {
  "kernelspec": {
   "display_name": "Python 3",
   "language": "python",
   "name": "python3"
  },
  "language_info": {
   "codemirror_mode": {
    "name": "ipython",
    "version": 3
   },
   "file_extension": ".py",
   "mimetype": "text/x-python",
   "name": "python",
   "nbconvert_exporter": "python",
   "pygments_lexer": "ipython3",
   "version": "3.8.5"
  }
 },
 "nbformat": 4,
 "nbformat_minor": 4
}
