{
 "cells": [
  {
   "cell_type": "code",
   "execution_count": 112,
   "metadata": {},
   "outputs": [],
   "source": [
    "import pandas as pd\n",
    "import numpy as np\n",
    "import matplotlib.pyplot as plt\n",
    "import seaborn as sns"
   ]
  },
  {
   "cell_type": "code",
   "execution_count": 113,
   "metadata": {},
   "outputs": [],
   "source": [
    "df = pd.read_csv('./data/traffic_subsample.csv')"
   ]
  },
  {
   "cell_type": "code",
   "execution_count": 114,
   "metadata": {},
   "outputs": [],
   "source": [
    "# convert columns to datetime\n",
    "df['Create Time']= pd.to_datetime(df['Create Time'])\n",
    "df['Close Time']= pd.to_datetime(df['Close Time'])\n",
    "\n",
    "# extract day, month, year\n",
    "df['year']=df['Create Time'].apply(lambda x: x.year)\n",
    "df['month']=df['Create Time'].apply(lambda x: x.month)\n",
    "df['day']=df['Create Time'].apply(lambda x: x.day)\n",
    "df['hour']=df['Create Time'].apply(lambda x: x.hour)\n",
    "\n",
    "# remove data outside NYC 5 B's\n",
    "nyc = ['Bronx', # Bronx\n",
    " 'Bronx/New York',\n",
    " 'Bronx/New York/Queens',\n",
    " 'Bronx/Queens',\n",
    " 'New York / Bronx',\n",
    "'Kings', # Brooklyn\n",
    " 'Kings County',\n",
    " 'Kings/New York',\n",
    " 'Kings/Queens',\n",
    " 'Kings/Richmond',\n",
    " 'Brooklyn',\n",
    " 'New York/Kings',\n",
    " 'kings',\n",
    "'Manhattan', # Manhattan\n",
    " 'New York',\n",
    " 'New Yrok',\n",
    " 'New york',\n",
    "'Queens County', # Queens\n",
    " 'Queens/Kings/Nassau/Suffok',\n",
    " 'Queens/New York',\n",
    " 'New York/Queens',\n",
    "'Richmond'] # Stat Rats\n",
    "\n",
    "df = df[df['County'].isin(nyc)]\n",
    "\n",
    "# drop useless cols\n",
    "df.drop(columns=[\n",
    "        'Event Type',\n",
    "        'Organization Name',\n",
    "        'Facility Name',\n",
    "        'Direction',\n",
    "        'Event Description',\n",
    "        'Responding Organization Id',\n",
    "        'State',\n",
    "        'City'\n",
    "], inplace=True)"
   ]
  },
  {
   "cell_type": "code",
   "execution_count": 115,
   "metadata": {
    "jupyter": {
     "source_hidden": true
    }
   },
   "outputs": [
    {
     "data": {
      "image/png": "[encoded data removed]",
      "text/plain": [
       "<Figure size 432x288 with 1 Axes>"
      ]
     },
     "metadata": {
      "needs_background": "light"
     },
     "output_type": "display_data"
    }
   ],
   "source": [
    "plt.barh(df['hour'].unique(), df['hour'].value_counts())\n",
    "axes = plt.gca()\n",
    "axes.set_ylim([-1,24])\n",
    "plt.title('Events by Hour');"
   ]
  },
  {
   "cell_type": "code",
   "execution_count": 116,
   "metadata": {
    "jupyter": {
     "source_hidden": true
    }
   },
   "outputs": [
    {
     "data": {
      "image/png": "[encoded data removed]",
      "text/plain": [
       "<Figure size 432x288 with 1 Axes>"
      ]
     },
     "metadata": {
      "needs_background": "light"
     },
     "output_type": "display_data"
    }
   ],
   "source": [
    "plt.barh(df['day'].unique(), df['day'].value_counts())\n",
    "axes = plt.gca()\n",
    "axes.set_ylim([0,32])\n",
    "plt.title('Events by Day');"
   ]
  },
  {
   "cell_type": "code",
   "execution_count": 117,
   "metadata": {
    "jupyter": {
     "source_hidden": true
    }
   },
   "outputs": [
    {
     "data": {
      "image/png": "[encoded data removed]",
      "text/plain": [
       "<Figure size 432x288 with 1 Axes>"
      ]
     },
     "metadata": {
      "needs_background": "light"
     },
     "output_type": "display_data"
    }
   ],
   "source": [
    "plt.barh(df['month'].unique(), df['month'].value_counts())\n",
    "axes = plt.gca()\n",
    "axes.set_ylim([0,13])\n",
    "plt.title('Events by Month');"
   ]
  },
  {
   "cell_type": "code",
   "execution_count": 118,
   "metadata": {},
   "outputs": [],
   "source": [
    "data = pd.read_csv('./data/ems_weather.csv')"
   ]
  },
  {
   "cell_type": "code",
   "execution_count": 119,
   "metadata": {},
   "outputs": [],
   "source": [
    "data = data[(data['CALL_YEAR'] <= 2016)]"
   ]
  },
  {
   "cell_type": "code",
   "execution_count": 120,
   "metadata": {},
   "outputs": [],
   "source": [
    "data = data[(data['CALL_YEAR'] >= 2011)]"
   ]
  },
  {
   "cell_type": "code",
   "execution_count": 121,
   "metadata": {},
   "outputs": [],
   "source": [
    "df['month']= df['month'].astype(int)"
   ]
  },
  {
   "cell_type": "code",
   "execution_count": 122,
   "metadata": {},
   "outputs": [],
   "source": [
    "df['day']= df['day'].astype(int)"
   ]
  },
  {
   "cell_type": "code",
   "execution_count": 123,
   "metadata": {},
   "outputs": [],
   "source": [
    "df['year']= df['year'].astype(int)"
   ]
  },
  {
   "cell_type": "code",
   "execution_count": 124,
   "metadata": {},
   "outputs": [
    {
     "data": {
      "text/html": [
       "<div>\n",
       "<style scoped>\n",
       "    .dataframe tbody tr th:only-of-type {\n",
       "        vertical-align: middle;\n",
       "    }\n",
       "\n",
       "    .dataframe tbody tr th {\n",
       "        vertical-align: top;\n",
       "    }\n",
       "\n",
       "    .dataframe thead th {\n",
       "        text-align: right;\n",
       "    }\n",
       "</style>\n",
       "<table border=\"1\" class=\"dataframe\">\n",
       "  <thead>\n",
       "    <tr style=\"text-align: right;\">\n",
       "      <th></th>\n",
       "      <th>County</th>\n",
       "      <th>Create Time</th>\n",
       "      <th>Close Time</th>\n",
       "      <th>Latitude</th>\n",
       "      <th>Longitude</th>\n",
       "      <th>year</th>\n",
       "      <th>month</th>\n",
       "      <th>day</th>\n",
       "      <th>hour</th>\n",
       "    </tr>\n",
       "  </thead>\n",
       "  <tbody>\n",
       "    <tr>\n",
       "      <th>3</th>\n",
       "      <td>New York</td>\n",
       "      <td>2016-04-18 22:01:00</td>\n",
       "      <td>2016-04-19 04:15:00</td>\n",
       "      <td>40.75032</td>\n",
       "      <td>-73.991172</td>\n",
       "      <td>2016</td>\n",
       "      <td>4</td>\n",
       "      <td>18</td>\n",
       "      <td>22</td>\n",
       "    </tr>\n",
       "  </tbody>\n",
       "</table>\n",
       "</div>"
      ],
      "text/plain": [
       "     County         Create Time          Close Time  Latitude  Longitude  \\\n",
       "3  New York 2016-04-18 22:01:00 2016-04-19 04:15:00  40.75032 -73.991172   \n",
       "\n",
       "   year  month  day  hour  \n",
       "3  2016      4   18    22  "
      ]
     },
     "execution_count": 124,
     "metadata": {},
     "output_type": "execute_result"
    }
   ],
   "source": [
    "df.head(1)"
   ]
  },
  {
   "cell_type": "code",
   "execution_count": 125,
   "metadata": {},
   "outputs": [],
   "source": [
    "ems_weather_tfk = pd.merge(data, df,  how='left', left_on=['CALL_MONTH','CALL_DAY','CALL_YEAR'], right_on = ['month','day','year'])"
   ]
  },
  {
   "cell_type": "code",
   "execution_count": 129,
   "metadata": {},
   "outputs": [],
   "source": [
    "df['Create Time'] = df['Create Time'].dt.tz_localize(tz='EST')"
   ]
  },
  {
   "cell_type": "code",
   "execution_count": 134,
   "metadata": {},
   "outputs": [],
   "source": [
    "df['Create Time'] = df['Create Time'].dt.tz_convert(tz='UTC')"
   ]
  },
  {
   "cell_type": "code",
   "execution_count": 148,
   "metadata": {},
   "outputs": [
    {
     "data": {
      "text/plain": [
       "[1461034860.0,\n",
       " 1456498620.0,\n",
       " 1456798320.0,\n",
       " 1457980560.0,\n",
       " 1452186180.0,\n",
       " 1452446040.0,\n",
       " 1463854080.0,\n",
       " 1453393200.0,\n",
       " 1429369860.0,\n",
       " 1454074620.0,\n",
       " 1454553720.0,\n",
       " 1455133260.0,\n",
       " 1455299400.0,\n",
       " 1439377740.0,\n",
       " 1463457480.0,\n",
       " 1464064080.0,\n",
       " 1464220680.0,\n",
       " 1459354140.0,\n",
       " 1459695900.0,\n",
       " 1460422500.0,\n",
       " 1460864160.0,\n",
       " 1461688860.0,\n",
       " 1461952200.0,\n",
       " 1462510080.0,\n",
       " 1462641120.0,\n",
       " 1466212200.0,\n",
       " 1466262000.0,\n",
       " 1466649780.0,\n",
       " 1467294240.0,\n",
       " 1451548020.0,\n",
       " 1467403920.0,\n",
       " 1467583020.0,\n",
       " 1467691200.0,\n",
       " 1443712860.0,\n",
       " 1468345140.0,\n",
       " 1468636260.0,\n",
       " 1469318460.0,\n",
       " 1456321260.0,\n",
       " 1470301260.0,\n",
       " 1465353240.0,\n",
       " 1465873080.0,\n",
       " 1465946940.0,\n",
       " 1458141420.0,\n",
       " 1453730700.0,\n",
       " 1471531320.0,\n",
       " 1470708060.0,\n",
       " 1408530600.0,\n",
       " 1372698540.0,\n",
       " 1407670020.0,\n",
       " 1432136880.0,\n",
       " 1377168720.0,\n",
       " 1406644500.0,\n",
       " 1264406700.0,\n",
       " 1437895500.0,\n",
       " 1349798220.0,\n",
       " 1340470860.0,\n",
       " 1438944360.0,\n",
       " 1339078620.0,\n",
       " 1331720280.0,\n",
       " 1413209460.0,\n",
       " 1385273700.0,\n",
       " 1349763840.0,\n",
       " 1459172940.0,\n",
       " 1435737540.0,\n",
       " 1388507580.0,\n",
       " 1388503800.0,\n",
       " 1404215460.0,\n",
       " 1344274920.0,\n",
       " 1400767740.0,\n",
       " 1339137300.0,\n",
       " 1442325780.0,\n",
       " 1432205460.0,\n",
       " 1327045320.0,\n",
       " 1447690680.0,\n",
       " 1308764760.0,\n",
       " 1413976380.0,\n",
       " 1359980160.0,\n",
       " 1456397820.0,\n",
       " 1319727480.0,\n",
       " 1442847180.0,\n",
       " 1405093620.0,\n",
       " 1454664600.0,\n",
       " 1305042000.0,\n",
       " 1349424480.0,\n",
       " 1459441140.0,\n",
       " 1415183760.0,\n",
       " 1362586500.0,\n",
       " 1402470120.0,\n",
       " 1407406920.0,\n",
       " 1441201680.0,\n",
       " 1344175080.0,\n",
       " 1441356960.0,\n",
       " 1406354940.0,\n",
       " 1439638080.0,\n",
       " 1416240000.0,\n",
       " 1391186820.0,\n",
       " 1390312080.0,\n",
       " 1335281340.0,\n",
       " 1415351400.0,\n",
       " 1442329440.0,\n",
       " 1400594640.0,\n",
       " 1323795600.0,\n",
       " 1403866800.0,\n",
       " 1315575060.0,\n",
       " 1406620620.0,\n",
       " 1319193480.0,\n",
       " 1447857540.0,\n",
       " 1407510300.0,\n",
       " 1442478960.0,\n",
       " 1403010720.0,\n",
       " 1310729760.0,\n",
       " 1335978300.0,\n",
       " 1383050640.0,\n",
       " 1377539760.0,\n",
       " 1363103400.0,\n",
       " 1414930920.0,\n",
       " 1409740800.0,\n",
       " 1394177040.0,\n",
       " 1344342240.0,\n",
       " 1375799940.0,\n",
       " 1279178340.0,\n",
       " 1458741480.0,\n",
       " 1377095460.0,\n",
       " 1379063280.0,\n",
       " 1336925160.0,\n",
       " 1382436000.0,\n",
       " 1439547300.0,\n",
       " 1413204840.0,\n",
       " 1447948860.0,\n",
       " 1409842560.0,\n",
       " 1359651420.0,\n",
       " 1380637860.0,\n",
       " 1369501200.0,\n",
       " 1384879260.0,\n",
       " 1410708000.0,\n",
       " 1411571460.0,\n",
       " 1430732880.0,\n",
       " 1334487480.0,\n",
       " 1416495000.0,\n",
       " 1429175580.0,\n",
       " 1357204860.0,\n",
       " 1437901200.0,\n",
       " 1456140420.0,\n",
       " 1286188080.0,\n",
       " 1349421360.0,\n",
       " 1322488980.0,\n",
       " 1417185060.0,\n",
       " 1414743240.0,\n",
       " 1270309980.0,\n",
       " 1307461740.0,\n",
       " 1410798600.0,\n",
       " 1343206500.0,\n",
       " 1358413020.0,\n",
       " 1418051580.0,\n",
       " 1407142680.0,\n",
       " 1400338620.0,\n",
       " 1340283720.0,\n",
       " 1338102600.0,\n",
       " 1346518860.0,\n",
       " 1392994620.0,\n",
       " 1381940280.0,\n",
       " 1429607220.0,\n",
       " 1406286420.0,\n",
       " 1297678500.0,\n",
       " 1337183340.0,\n",
       " 1433430060.0,\n",
       " 1288247160.0,\n",
       " 1447420860.0,\n",
       " 1455523080.0,\n",
       " 1314715620.0]"
      ]
     },
     "execution_count": 148,
     "metadata": {},
     "output_type": "execute_result"
    }
   ],
   "source": [
    "[i.timestamp() for i in df['Create Time']]"
   ]
  },
  {
   "cell_type": "code",
   "execution_count": 142,
   "metadata": {},
   "outputs": [
    {
     "ename": "TypeError",
     "evalue": "'Timestamp' object is not subscriptable",
     "output_type": "error",
     "traceback": [
      "\u001b[0;31m---------------------------------------------------------------------------\u001b[0m",
      "\u001b[0;31mTypeError\u001b[0m                                 Traceback (most recent call last)",
      "\u001b[0;32m<ipython-input-142-adae50060146>\u001b[0m in \u001b[0;36m<module>\u001b[0;34m\u001b[0m\n\u001b[0;32m----> 1\u001b[0;31m \u001b[0;34m[\u001b[0m\u001b[0mi\u001b[0m\u001b[0;34m[\u001b[0m\u001b[0;36m0\u001b[0m\u001b[0;34m:\u001b[0m\u001b[0;36m13\u001b[0m\u001b[0;34m]\u001b[0m \u001b[0;32mfor\u001b[0m \u001b[0mi\u001b[0m \u001b[0;32min\u001b[0m \u001b[0mdf\u001b[0m\u001b[0;34m[\u001b[0m\u001b[0;34m'Create Time'\u001b[0m\u001b[0;34m]\u001b[0m\u001b[0;34m]\u001b[0m\u001b[0;34m\u001b[0m\u001b[0;34m\u001b[0m\u001b[0m\n\u001b[0m",
      "\u001b[0;32m<ipython-input-142-adae50060146>\u001b[0m in \u001b[0;36m<listcomp>\u001b[0;34m(.0)\u001b[0m\n\u001b[0;32m----> 1\u001b[0;31m \u001b[0;34m[\u001b[0m\u001b[0mi\u001b[0m\u001b[0;34m[\u001b[0m\u001b[0;36m0\u001b[0m\u001b[0;34m:\u001b[0m\u001b[0;36m13\u001b[0m\u001b[0;34m]\u001b[0m \u001b[0;32mfor\u001b[0m \u001b[0mi\u001b[0m \u001b[0;32min\u001b[0m \u001b[0mdf\u001b[0m\u001b[0;34m[\u001b[0m\u001b[0;34m'Create Time'\u001b[0m\u001b[0;34m]\u001b[0m\u001b[0;34m]\u001b[0m\u001b[0;34m\u001b[0m\u001b[0;34m\u001b[0m\u001b[0m\n\u001b[0m",
      "\u001b[0;31mTypeError\u001b[0m: 'Timestamp' object is not subscriptable"
     ]
    }
   ],
   "source": [
    "[i[0:13] for i in df['Create Time']]"
   ]
  },
  {
   "cell_type": "code",
   "execution_count": null,
   "metadata": {},
   "outputs": [],
   "source": []
  }
 ],
 "metadata": {
  "kernelspec": {
   "display_name": "Python 3",
   "language": "python",
   "name": "python3"
  },
  "language_info": {
   "codemirror_mode": {
    "name": "ipython",
    "version": 3
   },
   "file_extension": ".py",
   "mimetype": "text/x-python",
   "name": "python",
   "nbconvert_exporter": "python",
   "pygments_lexer": "ipython3",
   "version": "3.8.5"
  }
 },
 "nbformat": 4,
 "nbformat_minor": 4
}
