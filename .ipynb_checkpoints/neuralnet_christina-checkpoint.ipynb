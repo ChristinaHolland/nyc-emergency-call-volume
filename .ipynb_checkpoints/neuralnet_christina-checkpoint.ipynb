{
 "cells": [
  {
   "cell_type": "code",
   "execution_count": 235,
   "metadata": {},
   "outputs": [],
   "source": [
    "\n",
    "import numpy as np\n",
    "import pandas as pd\n",
    "\n",
    "import matplotlib.pyplot as plt\n",
    "import seaborn as sns\n",
    "\n",
    "from sklearn.model_selection import train_test_split\n",
    "from sklearn.preprocessing import StandardScaler\n",
    "\n",
    "from tensorflow.keras.models import Sequential\n",
    "from tensorflow.keras.layers import Dense, Input\n"
   ]
  },
  {
   "cell_type": "code",
   "execution_count": 228,
   "metadata": {
    "tags": []
   },
   "outputs": [],
   "source": [
    "results_df = pd.read_csv('data/ems_weather.csv').drop(columns=['Unnamed: 0'])\n",
    "features = results_df.columns"
   ]
  },
  {
   "cell_type": "code",
   "execution_count": 229,
   "metadata": {},
   "outputs": [
    {
     "data": {
      "text/html": [
       "<div>\n",
       "<style scoped>\n",
       "    .dataframe tbody tr th:only-of-type {\n",
       "        vertical-align: middle;\n",
       "    }\n",
       "\n",
       "    .dataframe tbody tr th {\n",
       "        vertical-align: top;\n",
       "    }\n",
       "\n",
       "    .dataframe thead th {\n",
       "        text-align: right;\n",
       "    }\n",
       "</style>\n",
       "<table border=\"1\" class=\"dataframe\">\n",
       "  <thead>\n",
       "    <tr style=\"text-align: right;\">\n",
       "      <th></th>\n",
       "      <th>column</th>\n",
       "      <th>NULLS</th>\n",
       "    </tr>\n",
       "  </thead>\n",
       "  <tbody>\n",
       "    <tr>\n",
       "      <th>847</th>\n",
       "      <td>AWND</td>\n",
       "      <td>831</td>\n",
       "    </tr>\n",
       "  </tbody>\n",
       "</table>\n",
       "</div>"
      ],
      "text/plain": [
       "    column  NULLS\n",
       "847   AWND    831"
      ]
     },
     "execution_count": 229,
     "metadata": {},
     "output_type": "execute_result"
    }
   ],
   "source": [
    "columns = results_df.columns\n",
    "d = []\n",
    "for col in columns:\n",
    "    nulls = results_df[col].isna().sum()\n",
    "    d.append({'column': col, 'NULLS': nulls})\n",
    "chk = pd.DataFrame(d)\n",
    "chk[chk['NULLS']>0]"
   ]
  },
  {
   "cell_type": "markdown",
   "metadata": {},
   "source": [
    "SELECT COLUMNS "
   ]
  },
  {
   "cell_type": "code",
   "execution_count": 230,
   "metadata": {
    "tags": []
   },
   "outputs": [],
   "source": [
    "y = np.array(results_df['INCIDENT_RESPONSE_SECONDS_QY'])\n",
    "\n",
    "# definitely drop these:\n",
    "drop_features = ['INCIDENT_RESPONSE_SECONDS_QY', \n",
    "                 'CAD_INCIDENT_ID', \n",
    "                 'FIRST_ASSIGNMENT_DATETIME', \n",
    "                 'INCIDENT_TRAVEL_TM_SECONDS_QY']\n",
    "# suggest dropping these: \n",
    "drop_features += list(features[230:594]) # zip codes\n",
    "drop_features += list(features[670:831]) # city council district, community district, community school dist, congressional district\n",
    "drop_features += ['AWND']\n",
    "\n",
    "X = np.array(results_df.drop(columns=drop_features))\n",
    "\n"
   ]
  },
  {
   "cell_type": "markdown",
   "metadata": {},
   "source": [
    "FIRST NEURAL NET MODEL, ALL FEATURES"
   ]
  },
  {
   "cell_type": "code",
   "execution_count": 231,
   "metadata": {
    "tags": []
   },
   "outputs": [],
   "source": [
    "\n",
    "# Train/test split\n",
    "X_train, X_test, y_train, y_test = train_test_split(X,y,random_state=42)\n",
    "\n",
    "# Scale data\n",
    "sc = StandardScaler()\n",
    "X_train_sc = sc.fit_transform(X_train)\n",
    "X_test_sc = sc.transform(X_test)\n"
   ]
  },
  {
   "cell_type": "code",
   "execution_count": 232,
   "metadata": {},
   "outputs": [
    {
     "data": {
      "text/plain": [
       "(15019, 324)"
      ]
     },
     "execution_count": 232,
     "metadata": {},
     "output_type": "execute_result"
    }
   ],
   "source": [
    "X_train.shape"
   ]
  },
  {
   "cell_type": "code",
   "execution_count": 233,
   "metadata": {},
   "outputs": [
    {
     "data": {
      "text/plain": [
       "6.797963495952865"
      ]
     },
     "execution_count": 233,
     "metadata": {},
     "output_type": "execute_result"
    }
   ],
   "source": [
    "np.power(15019/325,.5)"
   ]
  },
  {
   "cell_type": "code",
   "execution_count": 236,
   "metadata": {},
   "outputs": [
    {
     "name": "stdout",
     "output_type": "stream",
     "text": [
      "Train on 15019 samples, validate on 5007 samples\n",
      "Epoch 1/100\n",
      "15019/15019 [==============================] - 3s 228us/sample - loss: 533533.5480 - mae: 525.4365 - val_loss: 513907.0852 - val_mae: 526.7375\n",
      "Epoch 2/100\n",
      "15019/15019 [==============================] - 1s 50us/sample - loss: 521393.9165 - mae: 515.7541 - val_loss: 486679.8828 - val_mae: 504.6604\n",
      "Epoch 3/100\n",
      "15019/15019 [==============================] - 1s 67us/sample - loss: 455434.2668 - mae: 461.5670 - val_loss: 371941.4819 - val_mae: 401.9880\n",
      "Epoch 4/100\n",
      "15019/15019 [==============================] - 1s 74us/sample - loss: 294382.8470 - mae: 314.0388 - val_loss: 210192.7481 - val_mae: 251.8080\n",
      "Epoch 5/100\n",
      "15019/15019 [==============================] - 1s 58us/sample - loss: 188146.3477 - mae: 239.9170 - val_loss: 173277.5507 - val_mae: 236.9095\n",
      "Epoch 6/100\n",
      "15019/15019 [==============================] - 1s 47us/sample - loss: 164166.2880 - mae: 230.1082 - val_loss: 158874.8580 - val_mae: 233.9958\n",
      "Epoch 7/100\n",
      "15019/15019 [==============================] - 1s 47us/sample - loss: 149781.2417 - mae: 224.5846 - val_loss: 147915.5238 - val_mae: 230.2402\n",
      "Epoch 8/100\n",
      "15019/15019 [==============================] - 1s 65us/sample - loss: 138239.2142 - mae: 222.9403 - val_loss: 137298.4846 - val_mae: 220.7326\n",
      "Epoch 9/100\n",
      "15019/15019 [==============================] - 1s 68us/sample - loss: 128445.8935 - mae: 213.1920 - val_loss: 129448.3617 - val_mae: 221.7595\n",
      "Epoch 10/100\n",
      "15019/15019 [==============================] - 1s 56us/sample - loss: 120633.4656 - mae: 213.4117 - val_loss: 122925.5627 - val_mae: 212.2139\n",
      "Epoch 11/100\n",
      "15019/15019 [==============================] - 1s 62us/sample - loss: 115220.4711 - mae: 207.5819 - val_loss: 118509.8321 - val_mae: 209.3872\n",
      "Epoch 12/100\n",
      "15019/15019 [==============================] - 1s 45us/sample - loss: 110587.5332 - mae: 203.1424 - val_loss: 115713.2327 - val_mae: 208.1480\n",
      "Epoch 13/100\n",
      "15019/15019 [==============================] - 1s 45us/sample - loss: 107453.5833 - mae: 202.0042 - val_loss: 112455.7156 - val_mae: 208.0058\n",
      "Epoch 14/100\n",
      "15019/15019 [==============================] - 1s 62us/sample - loss: 104537.2295 - mae: 199.7790 - val_loss: 110294.6708 - val_mae: 208.4020\n",
      "Epoch 15/100\n",
      "15019/15019 [==============================] - 1s 63us/sample - loss: 102786.3939 - mae: 200.9777 - val_loss: 108732.2394 - val_mae: 203.6831\n",
      "Epoch 16/100\n",
      "15019/15019 [==============================] - 1s 60us/sample - loss: 101002.9606 - mae: 196.2052 - val_loss: 107019.2479 - val_mae: 205.3497\n",
      "Epoch 17/100\n",
      "15019/15019 [==============================] - 1s 51us/sample - loss: 98991.6024 - mae: 195.0208 - val_loss: 105926.3632 - val_mae: 205.3771\n",
      "Epoch 18/100\n",
      "15019/15019 [==============================] - 1s 39us/sample - loss: 97305.1735 - mae: 195.5772 - val_loss: 105022.8798 - val_mae: 202.5054\n",
      "Epoch 19/100\n",
      "15019/15019 [==============================] - 1s 47us/sample - loss: 95892.9325 - mae: 192.1638 - val_loss: 103943.1632 - val_mae: 203.8594\n",
      "Epoch 20/100\n",
      "15019/15019 [==============================] - 1s 47us/sample - loss: 95042.6900 - mae: 192.6305 - val_loss: 103395.2518 - val_mae: 201.7416\n",
      "Epoch 21/100\n",
      "15019/15019 [==============================] - 1s 41us/sample - loss: 93956.3457 - mae: 191.4174 - val_loss: 103122.3751 - val_mae: 200.3809\n",
      "Epoch 22/100\n",
      "15019/15019 [==============================] - 1s 66us/sample - loss: 92889.4125 - mae: 190.9471 - val_loss: 102633.2316 - val_mae: 199.1057\n",
      "Epoch 23/100\n",
      "15019/15019 [==============================] - 1s 38us/sample - loss: 91815.3479 - mae: 188.3704 - val_loss: 101706.0166 - val_mae: 201.2559\n",
      "Epoch 24/100\n",
      "15019/15019 [==============================] - 1s 46us/sample - loss: 91244.5706 - mae: 189.2949 - val_loss: 101226.8370 - val_mae: 201.2513\n",
      "Epoch 25/100\n",
      "15019/15019 [==============================] - 1s 62us/sample - loss: 90235.4746 - mae: 188.3728 - val_loss: 101070.0239 - val_mae: 200.4728\n",
      "Epoch 26/100\n",
      "15019/15019 [==============================] - 1s 44us/sample - loss: 89683.0829 - mae: 187.5250 - val_loss: 101115.2436 - val_mae: 199.0584\n",
      "Epoch 27/100\n",
      "15019/15019 [==============================] - 1s 46us/sample - loss: 88943.4582 - mae: 186.0932 - val_loss: 100850.2021 - val_mae: 200.3261\n",
      "Epoch 28/100\n",
      "15019/15019 [==============================] - 1s 51us/sample - loss: 88569.6043 - mae: 187.3193 - val_loss: 100692.5142 - val_mae: 198.3133\n",
      "Epoch 29/100\n",
      "15019/15019 [==============================] - 1s 50us/sample - loss: 88078.3331 - mae: 185.6693 - val_loss: 100645.2869 - val_mae: 198.4233\n",
      "Epoch 30/100\n",
      "15019/15019 [==============================] - 1s 41us/sample - loss: 87443.0703 - mae: 185.3029 - val_loss: 99973.5274 - val_mae: 201.2025\n",
      "Epoch 31/100\n",
      "15019/15019 [==============================] - 1s 38us/sample - loss: 86947.1738 - mae: 186.1890 - val_loss: 100067.5481 - val_mae: 198.6584\n",
      "Epoch 32/100\n",
      "15019/15019 [==============================] - 1s 50us/sample - loss: 86503.6287 - mae: 184.4951 - val_loss: 100416.6722 - val_mae: 197.8945\n",
      "Epoch 33/100\n",
      "15019/15019 [==============================] - 1s 38us/sample - loss: 85896.7933 - mae: 184.3037 - val_loss: 100027.4921 - val_mae: 198.1387\n",
      "Epoch 34/100\n",
      "15019/15019 [==============================] - 1s 38us/sample - loss: 85551.3746 - mae: 184.0634 - val_loss: 100082.6833 - val_mae: 198.1533\n",
      "Epoch 35/100\n",
      "15019/15019 [==============================] - 1s 39us/sample - loss: 84905.8947 - mae: 183.2144 - val_loss: 99647.9383 - val_mae: 200.1377\n",
      "Epoch 36/100\n",
      "15019/15019 [==============================] - 1s 38us/sample - loss: 84619.7322 - mae: 183.3971 - val_loss: 99458.5866 - val_mae: 200.1818\n",
      "Epoch 37/100\n",
      "15019/15019 [==============================] - 1s 47us/sample - loss: 84163.3493 - mae: 183.8665 - val_loss: 99634.0003 - val_mae: 198.2910\n",
      "Epoch 38/100\n",
      "15019/15019 [==============================] - 1s 67us/sample - loss: 83699.9886 - mae: 183.0616 - val_loss: 99492.7808 - val_mae: 199.6207\n",
      "Epoch 39/100\n",
      "15019/15019 [==============================] - 1s 52us/sample - loss: 83527.0127 - mae: 183.2029 - val_loss: 99266.5728 - val_mae: 199.3630\n",
      "Epoch 40/100\n",
      "15019/15019 [==============================] - 1s 54us/sample - loss: 83078.0755 - mae: 182.1688 - val_loss: 99303.6174 - val_mae: 199.5925\n",
      "Epoch 41/100\n",
      "15019/15019 [==============================] - 1s 53us/sample - loss: 82656.5509 - mae: 182.0590 - val_loss: 99624.8031 - val_mae: 197.9412\n",
      "Epoch 42/100\n",
      "15019/15019 [==============================] - 1s 67us/sample - loss: 82429.9716 - mae: 181.9382 - val_loss: 99642.5173 - val_mae: 198.2044\n",
      "Epoch 43/100\n",
      "15019/15019 [==============================] - 1s 48us/sample - loss: 82122.2321 - mae: 181.6530 - val_loss: 99680.1369 - val_mae: 198.1816\n",
      "Epoch 44/100\n",
      "15019/15019 [==============================] - 1s 50us/sample - loss: 81558.7953 - mae: 181.1963 - val_loss: 99439.7210 - val_mae: 199.3474\n",
      "Epoch 45/100\n",
      "15019/15019 [==============================] - 1s 41us/sample - loss: 81308.7986 - mae: 181.5425 - val_loss: 99241.2789 - val_mae: 199.5513\n",
      "Epoch 46/100\n",
      "15019/15019 [==============================] - 1s 40us/sample - loss: 81038.7123 - mae: 180.9855 - val_loss: 99267.7281 - val_mae: 199.6200\n",
      "Epoch 47/100\n",
      "15019/15019 [==============================] - 1s 42us/sample - loss: 80682.1721 - mae: 180.8091 - val_loss: 99539.4385 - val_mae: 198.7208\n",
      "Epoch 48/100\n",
      "15019/15019 [==============================] - 1s 46us/sample - loss: 80385.7269 - mae: 180.3239 - val_loss: 99375.4126 - val_mae: 199.6153\n",
      "Epoch 49/100\n",
      "15019/15019 [==============================] - 1s 48us/sample - loss: 80137.8372 - mae: 180.9027 - val_loss: 99485.3218 - val_mae: 198.0828\n",
      "Epoch 50/100\n",
      "15019/15019 [==============================] - 1s 46us/sample - loss: 79954.8564 - mae: 179.7151 - val_loss: 99532.0288 - val_mae: 199.7343\n",
      "Epoch 51/100\n",
      "15019/15019 [==============================] - 1s 46us/sample - loss: 79705.7527 - mae: 180.1813 - val_loss: 99511.4312 - val_mae: 198.9194\n",
      "Epoch 52/100\n",
      "15019/15019 [==============================] - 1s 38us/sample - loss: 79348.5458 - mae: 180.4183 - val_loss: 99497.1654 - val_mae: 198.4342\n",
      "Epoch 53/100\n",
      "15019/15019 [==============================] - 1s 35us/sample - loss: 79149.1883 - mae: 179.4243 - val_loss: 99524.6706 - val_mae: 199.4887\n",
      "Epoch 54/100\n",
      "15019/15019 [==============================] - 1s 35us/sample - loss: 78878.8550 - mae: 179.9718 - val_loss: 99181.7363 - val_mae: 199.6229\n",
      "Epoch 55/100\n",
      "15019/15019 [==============================] - 1s 39us/sample - loss: 79106.9425 - mae: 178.8516 - val_loss: 99408.7059 - val_mae: 201.6702\n",
      "Epoch 56/100\n",
      "15019/15019 [==============================] - 1s 50us/sample - loss: 78376.9410 - mae: 179.5086 - val_loss: 99711.9865 - val_mae: 200.4235\n",
      "Epoch 57/100\n",
      "15019/15019 [==============================] - 1s 53us/sample - loss: 78170.1855 - mae: 179.0235 - val_loss: 99416.5543 - val_mae: 200.3976\n",
      "Epoch 58/100\n",
      "15019/15019 [==============================] - 1s 42us/sample - loss: 77848.5300 - mae: 179.3745 - val_loss: 99586.4577 - val_mae: 199.2688\n",
      "Epoch 59/100\n",
      "15019/15019 [==============================] - 1s 37us/sample - loss: 77706.4021 - mae: 178.0013 - val_loss: 99433.4158 - val_mae: 202.3904\n",
      "Epoch 60/100\n",
      "15019/15019 [==============================] - 1s 37us/sample - loss: 77592.6496 - mae: 179.6856 - val_loss: 99770.1604 - val_mae: 199.1267\n",
      "Epoch 61/100\n",
      "15019/15019 [==============================] - 1s 35us/sample - loss: 77342.8824 - mae: 178.5792 - val_loss: 99427.5100 - val_mae: 199.8443\n",
      "Epoch 62/100\n",
      "15019/15019 [==============================] - 1s 45us/sample - loss: 77108.1460 - mae: 177.9309 - val_loss: 99903.9220 - val_mae: 200.1117\n",
      "Epoch 63/100\n",
      "15019/15019 [==============================] - 1s 47us/sample - loss: 76845.0772 - mae: 178.5371 - val_loss: 99680.2506 - val_mae: 199.5777\n",
      "Epoch 64/100\n",
      "15019/15019 [==============================] - 1s 48us/sample - loss: 76723.2831 - mae: 177.7714 - val_loss: 99866.9635 - val_mae: 200.1764\n",
      "Epoch 65/100\n",
      "15019/15019 [==============================] - 1s 54us/sample - loss: 76561.6358 - mae: 178.3029 - val_loss: 100002.1608 - val_mae: 199.8872\n",
      "Epoch 66/100\n",
      "15019/15019 [==============================] - 1s 36us/sample - loss: 76273.8716 - mae: 177.4155 - val_loss: 99746.9018 - val_mae: 201.4509\n",
      "Epoch 67/100\n",
      "15019/15019 [==============================] - 1s 41us/sample - loss: 76173.5268 - mae: 178.0440 - val_loss: 99752.2304 - val_mae: 200.5853\n",
      "Epoch 68/100\n",
      "15019/15019 [==============================] - 1s 35us/sample - loss: 75986.7120 - mae: 177.3687 - val_loss: 99906.6948 - val_mae: 201.6369\n",
      "Epoch 69/100\n",
      "15019/15019 [==============================] - 1s 38us/sample - loss: 75871.3794 - mae: 177.7140 - val_loss: 100209.9733 - val_mae: 199.5564\n",
      "Epoch 70/100\n",
      "15019/15019 [==============================] - 1s 35us/sample - loss: 75669.0137 - mae: 177.5703 - val_loss: 100073.4676 - val_mae: 199.9047\n",
      "Epoch 71/100\n",
      "15019/15019 [==============================] - 1s 36us/sample - loss: 75492.6242 - mae: 176.7069 - val_loss: 99895.1551 - val_mae: 201.2254\n",
      "Epoch 72/100\n",
      "15019/15019 [==============================] - 1s 36us/sample - loss: 75286.1026 - mae: 177.0493 - val_loss: 100060.8048 - val_mae: 201.5512\n",
      "Epoch 73/100\n",
      "15019/15019 [==============================] - 1s 35us/sample - loss: 75135.4311 - mae: 176.8398 - val_loss: 100060.6995 - val_mae: 201.8218\n",
      "Epoch 74/100\n",
      "15019/15019 [==============================] - 1s 35us/sample - loss: 75057.6260 - mae: 176.8378 - val_loss: 100080.9207 - val_mae: 201.4771\n",
      "Epoch 75/100\n",
      "15019/15019 [==============================] - 1s 40us/sample - loss: 74772.1925 - mae: 176.8753 - val_loss: 100127.3247 - val_mae: 200.8829\n",
      "Epoch 76/100\n",
      "15019/15019 [==============================] - 1s 47us/sample - loss: 74753.6657 - mae: 176.5094 - val_loss: 100334.9132 - val_mae: 200.6314\n",
      "Epoch 77/100\n",
      "15019/15019 [==============================] - 1s 37us/sample - loss: 74610.4106 - mae: 176.2990 - val_loss: 100459.1474 - val_mae: 201.1816\n",
      "Epoch 78/100\n",
      "15019/15019 [==============================] - 1s 47us/sample - loss: 74360.5418 - mae: 176.3508 - val_loss: 100324.3525 - val_mae: 200.9882\n",
      "Epoch 79/100\n",
      "15019/15019 [==============================] - 1s 48us/sample - loss: 74158.8178 - mae: 176.1533 - val_loss: 100349.8686 - val_mae: 201.4038\n",
      "Epoch 80/100\n",
      "15019/15019 [==============================] - 1s 40us/sample - loss: 74048.2030 - mae: 175.9729 - val_loss: 100342.1068 - val_mae: 201.1625\n",
      "Epoch 81/100\n",
      "15019/15019 [==============================] - 1s 51us/sample - loss: 73906.1834 - mae: 175.5358 - val_loss: 100396.6740 - val_mae: 203.2590\n",
      "Epoch 82/100\n",
      "15019/15019 [==============================] - 1s 41us/sample - loss: 73748.2416 - mae: 175.8683 - val_loss: 100468.9217 - val_mae: 201.8299\n",
      "Epoch 83/100\n",
      "15019/15019 [==============================] - 1s 55us/sample - loss: 73593.4956 - mae: 175.5220 - val_loss: 100313.6643 - val_mae: 202.5020\n",
      "Epoch 84/100\n",
      "15019/15019 [==============================] - 1s 41us/sample - loss: 73493.3346 - mae: 175.1828 - val_loss: 100618.7851 - val_mae: 203.7516\n",
      "Epoch 85/100\n",
      "15019/15019 [==============================] - 1s 49us/sample - loss: 73421.8770 - mae: 175.3597 - val_loss: 100626.2571 - val_mae: 203.0737\n",
      "Epoch 86/100\n",
      "15019/15019 [==============================] - 1s 51us/sample - loss: 73324.6252 - mae: 175.9709 - val_loss: 100777.8182 - val_mae: 201.4619\n",
      "Epoch 87/100\n",
      "15019/15019 [==============================] - 1s 53us/sample - loss: 73155.0004 - mae: 175.0452 - val_loss: 100723.7660 - val_mae: 202.3438\n",
      "Epoch 88/100\n",
      "15019/15019 [==============================] - 1s 69us/sample - loss: 72945.3751 - mae: 174.8352 - val_loss: 100694.9812 - val_mae: 203.2702\n",
      "Epoch 89/100\n",
      "15019/15019 [==============================] - 1s 55us/sample - loss: 72781.3463 - mae: 174.7434 - val_loss: 100671.9085 - val_mae: 203.9586\n",
      "Epoch 90/100\n",
      "15019/15019 [==============================] - 1s 56us/sample - loss: 72701.8040 - mae: 174.8149 - val_loss: 100813.6973 - val_mae: 204.5677\n",
      "Epoch 91/100\n",
      "15019/15019 [==============================] - 1s 54us/sample - loss: 72573.2119 - mae: 174.6496 - val_loss: 100760.5518 - val_mae: 203.0777\n",
      "Epoch 92/100\n",
      "15019/15019 [==============================] - 1s 56us/sample - loss: 72323.2264 - mae: 173.6750 - val_loss: 100995.7639 - val_mae: 205.0151\n",
      "Epoch 93/100\n",
      "15019/15019 [==============================] - 1s 73us/sample - loss: 72389.2670 - mae: 174.7312 - val_loss: 101050.7610 - val_mae: 205.2686\n",
      "Epoch 94/100\n",
      "15019/15019 [==============================] - 1s 74us/sample - loss: 72238.9350 - mae: 174.3048 - val_loss: 101221.4923 - val_mae: 203.4451\n",
      "Epoch 95/100\n",
      "15019/15019 [==============================] - 1s 57us/sample - loss: 72117.5960 - mae: 174.2523 - val_loss: 101162.6751 - val_mae: 203.2268\n",
      "Epoch 96/100\n",
      "15019/15019 [==============================] - 1s 59us/sample - loss: 71917.2483 - mae: 173.7677 - val_loss: 101342.6346 - val_mae: 205.6918\n",
      "Epoch 97/100\n",
      "15019/15019 [==============================] - 1s 60us/sample - loss: 71845.0790 - mae: 174.2016 - val_loss: 101088.5260 - val_mae: 203.4468\n",
      "Epoch 98/100\n",
      "15019/15019 [==============================] - 1s 59us/sample - loss: 71762.8797 - mae: 173.6148 - val_loss: 101521.3150 - val_mae: 204.0850\n",
      "Epoch 99/100\n",
      "15019/15019 [==============================] - 1s 58us/sample - loss: 71581.0637 - mae: 173.2129 - val_loss: 101759.7087 - val_mae: 204.6249\n",
      "Epoch 100/100\n",
      "15019/15019 [==============================] - 1s 63us/sample - loss: 71399.6363 - mae: 173.1998 - val_loss: 101702.5656 - val_mae: 206.0599\n"
     ]
    }
   ],
   "source": [
    "model = Sequential()\n",
    "model.add(Input(shape=X_train_sc.shape[1]))\n",
    "model.add(Dense(32, activation='relu'))\n",
    "model.add(Dense(16, activation='relu'))\n",
    "model.add(Dense(8, activation='relu'))\n",
    "model.add(Dense(1, activation=None))\n",
    "\n",
    "model.compile(loss='mse', optimizer='adam', metrics=['mae'])\n",
    "\n",
    "results = model.fit(X_train_sc, y_train, epochs=100, batch_size=256, validation_data=(X_test_sc, y_test))\n",
    "\n"
   ]
  },
  {
   "cell_type": "markdown",
   "metadata": {},
   "source": [
    "ASSESS MODEL PERFORMANCE"
   ]
  },
  {
   "cell_type": "code",
   "execution_count": 147,
   "metadata": {
    "tags": []
   },
   "outputs": [],
   "source": [
    "preds_all = model.predict(X_test_sc)"
   ]
  },
  {
   "cell_type": "code",
   "execution_count": 148,
   "metadata": {},
   "outputs": [
    {
     "data": {
      "image/png": "[encoded data removed]",
      "text/plain": [
       "<Figure size 432x288 with 1 Axes>"
      ]
     },
     "metadata": {
      "needs_background": "light"
     },
     "output_type": "display_data"
    }
   ],
   "source": [
    "plt.scatter(y_test,preds_all);\n",
    "plt.plot([0,10000],[0,10000]);"
   ]
  },
  {
   "cell_type": "code",
   "execution_count": 149,
   "metadata": {},
   "outputs": [],
   "source": [
    "from sklearn.metrics import r2_score, mean_squared_error\n"
   ]
  },
  {
   "cell_type": "code",
   "execution_count": 150,
   "metadata": {},
   "outputs": [
    {
     "data": {
      "text/plain": [
       "0.567493954845432"
      ]
     },
     "execution_count": 150,
     "metadata": {},
     "output_type": "execute_result"
    }
   ],
   "source": [
    "r2_score(y_test,preds_all)"
   ]
  },
  {
   "cell_type": "code",
   "execution_count": 151,
   "metadata": {},
   "outputs": [
    {
     "data": {
      "text/plain": [
       "320.10959564422416"
      ]
     },
     "execution_count": 151,
     "metadata": {},
     "output_type": "execute_result"
    }
   ],
   "source": [
    "mean_squared_error(y_test,preds_all,squared=False)"
   ]
  },
  {
   "cell_type": "code",
   "execution_count": 152,
   "metadata": {},
   "outputs": [
    {
     "name": "stdout",
     "output_type": "stream",
     "text": [
      "Model: \"sequential_19\"\n",
      "_________________________________________________________________\n",
      "Layer (type)                 Output Shape              Param #   \n",
      "=================================================================\n",
      "dense_71 (Dense)             (None, 32)                10400     \n",
      "_________________________________________________________________\n",
      "dense_72 (Dense)             (None, 16)                528       \n",
      "_________________________________________________________________\n",
      "dense_73 (Dense)             (None, 8)                 136       \n",
      "_________________________________________________________________\n",
      "dense_74 (Dense)             (None, 1)                 9         \n",
      "=================================================================\n",
      "Total params: 11,073\n",
      "Trainable params: 11,073\n",
      "Non-trainable params: 0\n",
      "_________________________________________________________________\n"
     ]
    }
   ],
   "source": [
    "model.summary()"
   ]
  },
  {
   "cell_type": "code",
   "execution_count": 139,
   "metadata": {},
   "outputs": [
    {
     "data": {
      "image/png": "[encoded data removed]",
      "text/plain": [
       "<Figure size 864x576 with 1 Axes>"
      ]
     },
     "metadata": {
      "needs_background": "light"
     },
     "output_type": "display_data"
    }
   ],
   "source": [
    "train_loss = results.history['loss']\n",
    "test_loss = results.history['val_loss']\n",
    "\n",
    "plt.figure(figsize=(12, 8))\n",
    "plt.plot(train_loss, label='Training loss', color='navy')\n",
    "plt.plot(test_loss, label='Testing loss', color='skyblue')\n",
    "plt.legend();"
   ]
  },
  {
   "cell_type": "markdown",
   "metadata": {},
   "source": [
    "REDUCE FEATURE SET TO THE FEATURES THAT SURVIVED LASSO REGULARIZATION ON THE LINEAR REGRESSION MODEL"
   ]
  },
  {
   "cell_type": "markdown",
   "metadata": {},
   "source": [
    "LOAD IN FEATURES, TRIM ARRAY"
   ]
  },
  {
   "cell_type": "code",
   "execution_count": 153,
   "metadata": {
    "tags": []
   },
   "outputs": [
    {
     "data": {
      "text/html": [
       "<div>\n",
       "<style scoped>\n",
       "    .dataframe tbody tr th:only-of-type {\n",
       "        vertical-align: middle;\n",
       "    }\n",
       "\n",
       "    .dataframe tbody tr th {\n",
       "        vertical-align: top;\n",
       "    }\n",
       "\n",
       "    .dataframe thead th {\n",
       "        text-align: right;\n",
       "    }\n",
       "</style>\n",
       "<table border=\"1\" class=\"dataframe\">\n",
       "  <thead>\n",
       "    <tr style=\"text-align: right;\">\n",
       "      <th></th>\n",
       "      <th>Unnamed: 0</th>\n",
       "      <th>features</th>\n",
       "      <th>coefficients</th>\n",
       "    </tr>\n",
       "  </thead>\n",
       "  <tbody>\n",
       "    <tr>\n",
       "      <th>0</th>\n",
       "      <td>0</td>\n",
       "      <td>INITIAL_SEVERITY_LEVEL_CODE</td>\n",
       "      <td>35.901861</td>\n",
       "    </tr>\n",
       "    <tr>\n",
       "      <th>1</th>\n",
       "      <td>1</td>\n",
       "      <td>FINAL_SEVERITY_LEVEL_CODE</td>\n",
       "      <td>4.469111</td>\n",
       "    </tr>\n",
       "    <tr>\n",
       "      <th>2</th>\n",
       "      <td>2</td>\n",
       "      <td>VALID_DISPATCH_RSPNS_TIME_INDC</td>\n",
       "      <td>0.000000</td>\n",
       "    </tr>\n",
       "    <tr>\n",
       "      <th>3</th>\n",
       "      <td>3</td>\n",
       "      <td>DISPATCH_RESPONSE_SECONDS_QY</td>\n",
       "      <td>5.702355</td>\n",
       "    </tr>\n",
       "    <tr>\n",
       "      <th>4</th>\n",
       "      <td>4</td>\n",
       "      <td>FIRST_ACTIVATION_DATETIME</td>\n",
       "      <td>319.166665</td>\n",
       "    </tr>\n",
       "    <tr>\n",
       "      <th>...</th>\n",
       "      <td>...</td>\n",
       "      <td>...</td>\n",
       "      <td>...</td>\n",
       "    </tr>\n",
       "    <tr>\n",
       "      <th>319</th>\n",
       "      <td>319</td>\n",
       "      <td>SNOW</td>\n",
       "      <td>4.841491</td>\n",
       "    </tr>\n",
       "    <tr>\n",
       "      <th>320</th>\n",
       "      <td>320</td>\n",
       "      <td>SNWD</td>\n",
       "      <td>5.007628</td>\n",
       "    </tr>\n",
       "    <tr>\n",
       "      <th>321</th>\n",
       "      <td>321</td>\n",
       "      <td>TMAX</td>\n",
       "      <td>0.000000</td>\n",
       "    </tr>\n",
       "    <tr>\n",
       "      <th>322</th>\n",
       "      <td>322</td>\n",
       "      <td>TMIN</td>\n",
       "      <td>0.000000</td>\n",
       "    </tr>\n",
       "    <tr>\n",
       "      <th>323</th>\n",
       "      <td>323</td>\n",
       "      <td>TAVG_CALC</td>\n",
       "      <td>0.000000</td>\n",
       "    </tr>\n",
       "  </tbody>\n",
       "</table>\n",
       "<p>324 rows × 3 columns</p>\n",
       "</div>"
      ],
      "text/plain": [
       "     Unnamed: 0                        features  coefficients\n",
       "0             0     INITIAL_SEVERITY_LEVEL_CODE     35.901861\n",
       "1             1       FINAL_SEVERITY_LEVEL_CODE      4.469111\n",
       "2             2  VALID_DISPATCH_RSPNS_TIME_INDC      0.000000\n",
       "3             3    DISPATCH_RESPONSE_SECONDS_QY      5.702355\n",
       "4             4       FIRST_ACTIVATION_DATETIME    319.166665\n",
       "..          ...                             ...           ...\n",
       "319         319                            SNOW      4.841491\n",
       "320         320                            SNWD      5.007628\n",
       "321         321                            TMAX      0.000000\n",
       "322         322                            TMIN      0.000000\n",
       "323         323                       TAVG_CALC      0.000000\n",
       "\n",
       "[324 rows x 3 columns]"
      ]
     },
     "execution_count": 153,
     "metadata": {},
     "output_type": "execute_result"
    }
   ],
   "source": [
    "coefs_df = pd.read_csv('./data/lasso_coefs_no-travel-time.csv')\n",
    "coefs_df"
   ]
  },
  {
   "cell_type": "code",
   "execution_count": 154,
   "metadata": {},
   "outputs": [
    {
     "data": {
      "text/plain": [
       "0       INITIAL_SEVERITY_LEVEL_CODE\n",
       "1         FINAL_SEVERITY_LEVEL_CODE\n",
       "3      DISPATCH_RESPONSE_SECONDS_QY\n",
       "4         FIRST_ACTIVATION_DATETIME\n",
       "6           INCIDENT_CLOSE_DATETIME\n",
       "                   ...             \n",
       "314                  CALL_MONTH_NOV\n",
       "316                  CALL_MONTH_SEP\n",
       "318                            PRCP\n",
       "319                            SNOW\n",
       "320                            SNWD\n",
       "Name: features, Length: 179, dtype: object"
      ]
     },
     "execution_count": 154,
     "metadata": {},
     "output_type": "execute_result"
    }
   ],
   "source": [
    "features = coefs_df[coefs_df['coefficients']!=0]['features']\n",
    "features"
   ]
  },
  {
   "cell_type": "code",
   "execution_count": 155,
   "metadata": {},
   "outputs": [],
   "source": [
    "X = np.array(results_df[features])\n"
   ]
  },
  {
   "cell_type": "markdown",
   "metadata": {},
   "source": [
    "BUILD THE SAME MODEL, BUT ON THIS REDUCED FEATURE SPACE"
   ]
  },
  {
   "cell_type": "code",
   "execution_count": 156,
   "metadata": {
    "tags": []
   },
   "outputs": [],
   "source": [
    "\n",
    "# Train/test split\n",
    "X_train, X_test, y_train, y_test = train_test_split(X,y,random_state=42)\n",
    "\n",
    "# Scale data\n",
    "sc = StandardScaler()\n",
    "X_train_sc = sc.fit_transform(X_train)\n",
    "X_test_sc = sc.transform(X_test)\n"
   ]
  },
  {
   "cell_type": "code",
   "execution_count": 157,
   "metadata": {},
   "outputs": [
    {
     "data": {
      "text/plain": [
       "179"
      ]
     },
     "execution_count": 157,
     "metadata": {},
     "output_type": "execute_result"
    }
   ],
   "source": [
    "len(features)"
   ]
  },
  {
   "cell_type": "code",
   "execution_count": 158,
   "metadata": {},
   "outputs": [
    {
     "name": "stdout",
     "output_type": "stream",
     "text": [
      "Train on 15019 samples, validate on 5007 samples\n",
      "Epoch 1/100\n",
      "15019/15019 [==============================] - 2s 162us/sample - loss: 532076.5870 - mae: 524.0331 - val_loss: 510691.4820 - val_mae: 523.5594\n",
      "Epoch 2/100\n",
      "15019/15019 [==============================] - 1s 40us/sample - loss: 512959.0956 - mae: 508.1254 - val_loss: 470522.2539 - val_mae: 489.9695\n",
      "Epoch 3/100\n",
      "15019/15019 [==============================] - 1s 43us/sample - loss: 427927.9431 - mae: 435.9799 - val_loss: 335125.8151 - val_mae: 365.4066\n",
      "Epoch 4/100\n",
      "15019/15019 [==============================] - 1s 40us/sample - loss: 263205.9148 - mae: 283.5079 - val_loss: 190854.5365 - val_mae: 236.0158\n",
      "Epoch 5/100\n",
      "15019/15019 [==============================] - 1s 42us/sample - loss: 173837.4807 - mae: 228.1655 - val_loss: 158429.1507 - val_mae: 228.6026\n",
      "Epoch 6/100\n",
      "15019/15019 [==============================] - 1s 43us/sample - loss: 151619.7091 - mae: 224.5773 - val_loss: 145238.5007 - val_mae: 222.9875\n",
      "Epoch 7/100\n",
      "15019/15019 [==============================] - 1s 42us/sample - loss: 138546.5853 - mae: 218.7899 - val_loss: 135177.3474 - val_mae: 217.9483\n",
      "Epoch 8/100\n",
      "15019/15019 [==============================] - 1s 60us/sample - loss: 129028.0381 - mae: 216.1971 - val_loss: 127657.7488 - val_mae: 211.0158\n",
      "Epoch 9/100\n",
      "15019/15019 [==============================] - 1s 49us/sample - loss: 121463.1042 - mae: 208.4487 - val_loss: 122073.8777 - val_mae: 211.6817\n",
      "Epoch 10/100\n",
      "15019/15019 [==============================] - 1s 50us/sample - loss: 115540.2720 - mae: 208.8118 - val_loss: 117522.7450 - val_mae: 207.5692\n",
      "Epoch 11/100\n",
      "15019/15019 [==============================] - 1s 41us/sample - loss: 111535.7290 - mae: 203.3884 - val_loss: 114453.2115 - val_mae: 208.7015\n",
      "Epoch 12/100\n",
      "15019/15019 [==============================] - 1s 43us/sample - loss: 108340.9898 - mae: 205.3797 - val_loss: 111765.4538 - val_mae: 203.5686\n",
      "Epoch 13/100\n",
      "15019/15019 [==============================] - 1s 42us/sample - loss: 105726.6477 - mae: 199.4004 - val_loss: 109958.0209 - val_mae: 204.2844\n",
      "Epoch 14/100\n",
      "15019/15019 [==============================] - 1s 44us/sample - loss: 103781.9187 - mae: 201.0800 - val_loss: 107700.1908 - val_mae: 203.2168\n",
      "Epoch 15/100\n",
      "15019/15019 [==============================] - 1s 42us/sample - loss: 102219.0753 - mae: 197.3535 - val_loss: 106821.2579 - val_mae: 203.7931\n",
      "Epoch 16/100\n",
      "15019/15019 [==============================] - 1s 49us/sample - loss: 100447.8340 - mae: 199.1251 - val_loss: 105646.8502 - val_mae: 199.7450\n",
      "Epoch 17/100\n",
      "15019/15019 [==============================] - 1s 44us/sample - loss: 99163.2924 - mae: 196.3881 - val_loss: 104625.1481 - val_mae: 199.3154\n",
      "Epoch 18/100\n",
      "15019/15019 [==============================] - 1s 43us/sample - loss: 97835.5454 - mae: 194.0640 - val_loss: 103933.3360 - val_mae: 201.2653\n",
      "Epoch 19/100\n",
      "15019/15019 [==============================] - 1s 48us/sample - loss: 96567.3939 - mae: 194.7035 - val_loss: 103532.8623 - val_mae: 199.1244\n",
      "Epoch 20/100\n",
      "15019/15019 [==============================] - 1s 49us/sample - loss: 95852.3597 - mae: 194.4596 - val_loss: 102200.9845 - val_mae: 199.1912\n",
      "Epoch 21/100\n",
      "15019/15019 [==============================] - 1s 49us/sample - loss: 94875.4987 - mae: 191.7188 - val_loss: 102221.9175 - val_mae: 199.4615\n",
      "Epoch 22/100\n",
      "15019/15019 [==============================] - 1s 50us/sample - loss: 94327.7726 - mae: 192.7761 - val_loss: 101770.5189 - val_mae: 198.9153\n",
      "Epoch 23/100\n",
      "15019/15019 [==============================] - 1s 41us/sample - loss: 93483.8150 - mae: 191.5092 - val_loss: 101222.8815 - val_mae: 199.8250\n",
      "Epoch 24/100\n",
      "15019/15019 [==============================] - 1s 48us/sample - loss: 93026.5378 - mae: 191.8267 - val_loss: 100695.0070 - val_mae: 199.3175\n",
      "Epoch 25/100\n",
      "15019/15019 [==============================] - 1s 48us/sample - loss: 92138.2898 - mae: 190.6560 - val_loss: 101221.1541 - val_mae: 196.7403\n",
      "Epoch 26/100\n",
      "15019/15019 [==============================] - 1s 48us/sample - loss: 91422.8805 - mae: 190.1552 - val_loss: 100627.4697 - val_mae: 197.8174\n",
      "Epoch 27/100\n",
      "15019/15019 [==============================] - 1s 42us/sample - loss: 90875.7555 - mae: 190.5475 - val_loss: 100311.7156 - val_mae: 196.6486\n",
      "Epoch 28/100\n",
      "15019/15019 [==============================] - 1s 42us/sample - loss: 90192.5149 - mae: 188.2763 - val_loss: 100482.9934 - val_mae: 197.0522\n",
      "Epoch 29/100\n",
      "15019/15019 [==============================] - 1s 46us/sample - loss: 89788.5480 - mae: 189.3180 - val_loss: 100219.9937 - val_mae: 196.6604\n",
      "Epoch 30/100\n",
      "15019/15019 [==============================] - 1s 44us/sample - loss: 89513.0984 - mae: 188.5819 - val_loss: 100092.6917 - val_mae: 196.9873\n",
      "Epoch 31/100\n",
      "15019/15019 [==============================] - 1s 40us/sample - loss: 88946.2304 - mae: 187.8605 - val_loss: 100179.1275 - val_mae: 196.9537\n",
      "Epoch 32/100\n",
      "15019/15019 [==============================] - 1s 42us/sample - loss: 88587.4848 - mae: 188.3062 - val_loss: 100132.4972 - val_mae: 196.1149\n",
      "Epoch 33/100\n",
      "15019/15019 [==============================] - 1s 43us/sample - loss: 88124.5386 - mae: 187.8824 - val_loss: 99420.0302 - val_mae: 197.2581\n",
      "Epoch 34/100\n",
      "15019/15019 [==============================] - 1s 43us/sample - loss: 87953.7689 - mae: 186.8562 - val_loss: 99406.7479 - val_mae: 198.6549\n",
      "Epoch 35/100\n",
      "15019/15019 [==============================] - 1s 46us/sample - loss: 87315.4190 - mae: 187.6547 - val_loss: 99679.9129 - val_mae: 196.8693\n",
      "Epoch 36/100\n",
      "15019/15019 [==============================] - 1s 43us/sample - loss: 86956.3863 - mae: 187.1770 - val_loss: 99807.4495 - val_mae: 196.0485\n",
      "Epoch 37/100\n",
      "15019/15019 [==============================] - 1s 42us/sample - loss: 86582.1018 - mae: 186.6135 - val_loss: 99550.6145 - val_mae: 196.1934\n",
      "Epoch 38/100\n",
      "15019/15019 [==============================] - 1s 43us/sample - loss: 86124.8768 - mae: 186.6878 - val_loss: 99417.9595 - val_mae: 196.3409\n",
      "Epoch 39/100\n",
      "15019/15019 [==============================] - 1s 47us/sample - loss: 85901.8461 - mae: 185.9300 - val_loss: 99304.1365 - val_mae: 196.6997\n",
      "Epoch 40/100\n",
      "15019/15019 [==============================] - 1s 44us/sample - loss: 85492.6531 - mae: 186.4335 - val_loss: 99473.9158 - val_mae: 196.3563\n",
      "Epoch 41/100\n",
      "15019/15019 [==============================] - 1s 41us/sample - loss: 85350.0962 - mae: 186.0601 - val_loss: 99513.3322 - val_mae: 195.8011\n",
      "Epoch 42/100\n",
      "15019/15019 [==============================] - 1s 42us/sample - loss: 84949.8526 - mae: 185.8385 - val_loss: 99086.8073 - val_mae: 197.5042\n",
      "Epoch 43/100\n",
      "15019/15019 [==============================] - 1s 48us/sample - loss: 84709.7256 - mae: 185.8006 - val_loss: 99207.3244 - val_mae: 196.2283\n",
      "Epoch 44/100\n",
      "15019/15019 [==============================] - 1s 45us/sample - loss: 84369.0945 - mae: 185.2456 - val_loss: 98944.9957 - val_mae: 197.6772\n",
      "Epoch 45/100\n",
      "15019/15019 [==============================] - 1s 44us/sample - loss: 84202.4080 - mae: 185.5008 - val_loss: 98998.6834 - val_mae: 196.9263\n",
      "Epoch 46/100\n",
      "15019/15019 [==============================] - 1s 47us/sample - loss: 83994.3816 - mae: 185.4221 - val_loss: 98927.8954 - val_mae: 196.9433\n",
      "Epoch 47/100\n",
      "15019/15019 [==============================] - 1s 42us/sample - loss: 83615.1499 - mae: 185.3992 - val_loss: 98760.1398 - val_mae: 196.5242\n",
      "Epoch 48/100\n",
      "15019/15019 [==============================] - 1s 42us/sample - loss: 83887.8924 - mae: 184.3815 - val_loss: 98936.3298 - val_mae: 198.3673\n",
      "Epoch 49/100\n",
      "15019/15019 [==============================] - 1s 43us/sample - loss: 83266.4810 - mae: 185.3967 - val_loss: 99125.6297 - val_mae: 196.2047\n",
      "Epoch 50/100\n",
      "15019/15019 [==============================] - 1s 46us/sample - loss: 83047.6212 - mae: 183.7324 - val_loss: 98827.6837 - val_mae: 198.6058\n",
      "Epoch 51/100\n",
      "15019/15019 [==============================] - 1s 43us/sample - loss: 82801.5693 - mae: 184.4195 - val_loss: 99352.3447 - val_mae: 196.0439\n",
      "Epoch 52/100\n",
      "15019/15019 [==============================] - 1s 43us/sample - loss: 82498.5592 - mae: 184.5035 - val_loss: 99280.9240 - val_mae: 196.5164\n",
      "Epoch 53/100\n",
      "15019/15019 [==============================] - 1s 46us/sample - loss: 82283.5498 - mae: 184.0943 - val_loss: 99276.9870 - val_mae: 196.1411\n",
      "Epoch 54/100\n",
      "15019/15019 [==============================] - 1s 45us/sample - loss: 81955.8982 - mae: 183.8934 - val_loss: 99211.9301 - val_mae: 196.6936\n",
      "Epoch 55/100\n",
      "15019/15019 [==============================] - 1s 47us/sample - loss: 81732.4442 - mae: 183.1768 - val_loss: 99049.6450 - val_mae: 198.0460\n",
      "Epoch 56/100\n",
      "15019/15019 [==============================] - 1s 43us/sample - loss: 81595.0916 - mae: 184.3767 - val_loss: 99353.6658 - val_mae: 196.2994\n",
      "Epoch 57/100\n",
      "15019/15019 [==============================] - 1s 43us/sample - loss: 81402.0154 - mae: 183.3892 - val_loss: 99300.9712 - val_mae: 196.1887\n",
      "Epoch 58/100\n",
      "15019/15019 [==============================] - 1s 45us/sample - loss: 81107.7380 - mae: 183.1158 - val_loss: 99088.9757 - val_mae: 197.6644\n",
      "Epoch 59/100\n",
      "15019/15019 [==============================] - 1s 54us/sample - loss: 80924.5472 - mae: 183.3801 - val_loss: 99105.7598 - val_mae: 197.0864\n",
      "Epoch 60/100\n",
      "15019/15019 [==============================] - 1s 44us/sample - loss: 80795.3016 - mae: 183.3674 - val_loss: 99148.4582 - val_mae: 197.0012\n",
      "Epoch 61/100\n",
      "15019/15019 [==============================] - 1s 53us/sample - loss: 80572.0260 - mae: 182.4890 - val_loss: 99196.2268 - val_mae: 197.9155\n",
      "Epoch 62/100\n",
      "15019/15019 [==============================] - 1s 44us/sample - loss: 80383.3182 - mae: 183.0154 - val_loss: 99255.0867 - val_mae: 197.5419\n",
      "Epoch 63/100\n",
      "15019/15019 [==============================] - 1s 41us/sample - loss: 80133.2151 - mae: 182.6306 - val_loss: 99096.9787 - val_mae: 197.8405\n",
      "Epoch 64/100\n",
      "15019/15019 [==============================] - 1s 44us/sample - loss: 79951.9242 - mae: 182.9101 - val_loss: 99643.5301 - val_mae: 196.6844\n",
      "Epoch 65/100\n",
      "15019/15019 [==============================] - 1s 53us/sample - loss: 79815.8348 - mae: 181.9436 - val_loss: 99444.9923 - val_mae: 197.3353\n",
      "Epoch 66/100\n",
      "15019/15019 [==============================] - 1s 43us/sample - loss: 79624.9851 - mae: 182.2128 - val_loss: 99443.3312 - val_mae: 198.0121\n",
      "Epoch 67/100\n",
      "15019/15019 [==============================] - 1s 43us/sample - loss: 79523.2784 - mae: 182.4758 - val_loss: 99572.1984 - val_mae: 197.5489\n",
      "Epoch 68/100\n",
      "15019/15019 [==============================] - 1s 47us/sample - loss: 79356.4482 - mae: 181.6973 - val_loss: 99383.7701 - val_mae: 198.3259\n",
      "Epoch 69/100\n",
      "15019/15019 [==============================] - 1s 46us/sample - loss: 79218.6845 - mae: 182.3985 - val_loss: 99574.8061 - val_mae: 198.0465\n",
      "Epoch 70/100\n",
      "15019/15019 [==============================] - 1s 47us/sample - loss: 78937.1033 - mae: 181.8401 - val_loss: 99937.1245 - val_mae: 197.4600\n",
      "Epoch 71/100\n",
      "15019/15019 [==============================] - 1s 43us/sample - loss: 78870.6565 - mae: 181.5624 - val_loss: 99981.7469 - val_mae: 197.4804\n",
      "Epoch 72/100\n",
      "15019/15019 [==============================] - 1s 47us/sample - loss: 78576.8233 - mae: 181.5236 - val_loss: 99866.9083 - val_mae: 197.6517\n",
      "Epoch 73/100\n",
      "15019/15019 [==============================] - 1s 44us/sample - loss: 78402.6004 - mae: 181.4490 - val_loss: 99799.7192 - val_mae: 198.1581\n",
      "Epoch 74/100\n",
      "15019/15019 [==============================] - 1s 44us/sample - loss: 78252.8353 - mae: 181.0519 - val_loss: 99820.5705 - val_mae: 198.9305\n",
      "Epoch 75/100\n",
      "15019/15019 [==============================] - 1s 53us/sample - loss: 78090.9601 - mae: 181.2597 - val_loss: 99922.3433 - val_mae: 198.3315\n",
      "Epoch 76/100\n",
      "15019/15019 [==============================] - 1s 59us/sample - loss: 77932.2274 - mae: 181.2819 - val_loss: 100176.5257 - val_mae: 197.4411\n",
      "Epoch 77/100\n",
      "15019/15019 [==============================] - 1s 43us/sample - loss: 77767.0407 - mae: 180.7635 - val_loss: 99734.9114 - val_mae: 199.0605\n",
      "Epoch 78/100\n",
      "15019/15019 [==============================] - 1s 43us/sample - loss: 77695.3025 - mae: 180.6009 - val_loss: 100238.1386 - val_mae: 198.4233\n",
      "Epoch 79/100\n",
      "15019/15019 [==============================] - 1s 46us/sample - loss: 77435.0813 - mae: 180.1707 - val_loss: 99779.4798 - val_mae: 201.3143\n",
      "Epoch 80/100\n",
      "15019/15019 [==============================] - 1s 45us/sample - loss: 77382.3021 - mae: 181.7872 - val_loss: 101011.9172 - val_mae: 197.2344\n",
      "Epoch 81/100\n",
      "15019/15019 [==============================] - 1s 47us/sample - loss: 77300.2437 - mae: 179.9988 - val_loss: 100779.2522 - val_mae: 198.0638\n",
      "Epoch 82/100\n",
      "15019/15019 [==============================] - 1s 47us/sample - loss: 77061.0066 - mae: 179.9772 - val_loss: 100646.8384 - val_mae: 199.5150\n",
      "Epoch 83/100\n",
      "15019/15019 [==============================] - 1s 46us/sample - loss: 76849.3694 - mae: 180.3059 - val_loss: 100736.7282 - val_mae: 199.1867\n",
      "Epoch 84/100\n",
      "15019/15019 [==============================] - 1s 43us/sample - loss: 76657.6814 - mae: 180.0078 - val_loss: 101038.6080 - val_mae: 198.3583\n",
      "Epoch 85/100\n",
      "15019/15019 [==============================] - 1s 47us/sample - loss: 76494.0288 - mae: 179.6539 - val_loss: 100998.7776 - val_mae: 199.3466\n",
      "Epoch 86/100\n",
      "15019/15019 [==============================] - 1s 42us/sample - loss: 76345.2333 - mae: 179.6903 - val_loss: 100917.0847 - val_mae: 199.2620\n",
      "Epoch 87/100\n",
      "15019/15019 [==============================] - 1s 45us/sample - loss: 76179.2217 - mae: 179.6810 - val_loss: 101063.6661 - val_mae: 199.4508\n",
      "Epoch 88/100\n",
      "15019/15019 [==============================] - 1s 50us/sample - loss: 75998.4329 - mae: 179.1517 - val_loss: 101134.1362 - val_mae: 199.8507\n",
      "Epoch 89/100\n",
      "15019/15019 [==============================] - 1s 45us/sample - loss: 75901.0240 - mae: 178.5878 - val_loss: 101248.1786 - val_mae: 201.3031\n",
      "Epoch 90/100\n",
      "15019/15019 [==============================] - 1s 53us/sample - loss: 75710.7786 - mae: 179.2555 - val_loss: 101110.3875 - val_mae: 201.7780\n",
      "Epoch 91/100\n",
      "15019/15019 [==============================] - 1s 44us/sample - loss: 75583.2644 - mae: 179.0954 - val_loss: 101497.6351 - val_mae: 199.9760\n",
      "Epoch 92/100\n",
      "15019/15019 [==============================] - 1s 47us/sample - loss: 75517.6775 - mae: 178.9698 - val_loss: 101504.9010 - val_mae: 201.0073\n",
      "Epoch 93/100\n",
      "15019/15019 [==============================] - 1s 43us/sample - loss: 75293.8450 - mae: 178.8292 - val_loss: 102238.2428 - val_mae: 199.6008\n",
      "Epoch 94/100\n",
      "15019/15019 [==============================] - 1s 47us/sample - loss: 75170.9671 - mae: 178.4247 - val_loss: 102317.1420 - val_mae: 199.9616\n",
      "Epoch 95/100\n",
      "15019/15019 [==============================] - 1s 44us/sample - loss: 75033.6732 - mae: 178.0004 - val_loss: 102380.5506 - val_mae: 200.5744\n",
      "Epoch 96/100\n",
      "15019/15019 [==============================] - 1s 46us/sample - loss: 74883.7065 - mae: 178.6217 - val_loss: 102477.1084 - val_mae: 200.4254\n",
      "Epoch 97/100\n",
      "15019/15019 [==============================] - 1s 45us/sample - loss: 74819.6636 - mae: 177.8518 - val_loss: 102558.6558 - val_mae: 200.7354\n",
      "Epoch 98/100\n",
      "15019/15019 [==============================] - 1s 44us/sample - loss: 74582.4889 - mae: 177.6618 - val_loss: 102525.0469 - val_mae: 201.8451\n",
      "Epoch 99/100\n",
      "15019/15019 [==============================] - 1s 48us/sample - loss: 74465.6515 - mae: 177.8036 - val_loss: 102262.9399 - val_mae: 202.9018\n",
      "Epoch 100/100\n",
      "15019/15019 [==============================] - 1s 45us/sample - loss: 74467.7976 - mae: 177.4321 - val_loss: 102726.7175 - val_mae: 202.0105\n"
     ]
    }
   ],
   "source": [
    "model179 = Sequential()\n",
    "model179.add(Dense(32, activation='relu', input_dim=X_train.shape[1]))\n",
    "model179.add(Dense(16, activation='relu'))\n",
    "model179.add(Dense(8, activation='relu'))\n",
    "model179.add(Dense(1, activation=None))\n",
    "\n",
    "model179.compile(loss='mse', optimizer='adam', metrics=['mae'])\n",
    "\n",
    "results179 = model179.fit(X_train_sc, y_train, epochs=100, batch_size=256, validation_data=(X_test_sc, y_test))\n",
    "\n"
   ]
  },
  {
   "cell_type": "markdown",
   "metadata": {},
   "source": [
    "ASSESS MODEL PERFORMANCE"
   ]
  },
  {
   "cell_type": "code",
   "execution_count": 161,
   "metadata": {
    "tags": []
   },
   "outputs": [
    {
     "data": {
      "image/png": "[encoded data removed]",
      "text/plain": [
       "<Figure size 432x288 with 1 Axes>"
      ]
     },
     "metadata": {
      "needs_background": "light"
     },
     "output_type": "display_data"
    }
   ],
   "source": [
    "preds179 = model179.predict(X_test_sc)\n",
    "plt.scatter(y_test/60,preds179/60);\n",
    "plt.plot([0,200],[0,200]);\n",
    "plt.title('NYC EMS Response Time (minutes)');\n",
    "plt.xlabel('Actual Time');\n",
    "plt.ylabel('Predicted Time');\n"
   ]
  },
  {
   "cell_type": "code",
   "execution_count": 162,
   "metadata": {},
   "outputs": [],
   "source": [
    "from sklearn.metrics import r2_score, mean_squared_error\n"
   ]
  },
  {
   "cell_type": "code",
   "execution_count": 164,
   "metadata": {},
   "outputs": [
    {
     "data": {
      "text/plain": [
       "(0.5664110416990384, 320.51009198119544)"
      ]
     },
     "execution_count": 164,
     "metadata": {},
     "output_type": "execute_result"
    }
   ],
   "source": [
    "r2_score(y_test,preds179), mean_squared_error(y_test,preds179,squared=False)"
   ]
  },
  {
   "cell_type": "code",
   "execution_count": 167,
   "metadata": {},
   "outputs": [
    {
     "data": {
      "image/png": "[encoded data removed]",
      "text/plain": [
       "<Figure size 864x576 with 1 Axes>"
      ]
     },
     "metadata": {
      "needs_background": "light"
     },
     "output_type": "display_data"
    }
   ],
   "source": [
    "train_loss = results.history['loss']\n",
    "test_loss = results.history['val_loss']\n",
    "train_loss_179 = results179.history['loss']\n",
    "test_loss_179 = results179.history['val_loss']\n",
    "\n",
    "plt.figure(figsize=(12, 8))\n",
    "plt.plot(train_loss, label='Training loss - ALL', color='red')\n",
    "plt.plot(test_loss, label='Testing loss - ALL', color='pink')\n",
    "plt.plot(train_loss_179, label='Training loss - 179', color='navy')\n",
    "plt.plot(test_loss_179, label='Testing loss - 179', color='skyblue')\n",
    "plt.legend();"
   ]
  },
  {
   "cell_type": "markdown",
   "metadata": {},
   "source": [
    "WHAT ARE THESE FEATURES?"
   ]
  },
  {
   "cell_type": "code",
   "execution_count": 168,
   "metadata": {
    "tags": []
   },
   "outputs": [
    {
     "name": "stdout",
     "output_type": "stream",
     "text": [
      "INITIAL_SEVERITY_LEVEL_CODE\n",
      "FINAL_SEVERITY_LEVEL_CODE\n",
      "DISPATCH_RESPONSE_SECONDS_QY\n",
      "FIRST_ACTIVATION_DATETIME\n",
      "INCIDENT_CLOSE_DATETIME\n",
      "HELD_INDICATOR\n",
      "REOPEN_INDICATOR\n",
      "SPECIAL_EVENT_INDICATOR\n",
      "INITIAL_CALL_TYPE_ABDPN\n",
      "INITIAL_CALL_TYPE_AMPMIN\n",
      "INITIAL_CALL_TYPE_ARREST\n",
      "INITIAL_CALL_TYPE_ASTHMB\n",
      "INITIAL_CALL_TYPE_CARD\n",
      "INITIAL_CALL_TYPE_CARDBR\n",
      "INITIAL_CALL_TYPE_CARDFC\n",
      "INITIAL_CALL_TYPE_CHOKE\n",
      "INITIAL_CALL_TYPE_CVA\n",
      "INITIAL_CALL_TYPE_CVAC\n",
      "INITIAL_CALL_TYPE_DIFFBR\n",
      "INITIAL_CALL_TYPE_DROWN\n",
      "INITIAL_CALL_TYPE_EDP\n",
      "INITIAL_CALL_TYPE_EDPC\n",
      "INITIAL_CALL_TYPE_ELECT\n",
      "INITIAL_CALL_TYPE_FIRE75\n",
      "INITIAL_CALL_TYPE_HEAT\n",
      "INITIAL_CALL_TYPE_INBLFC\n",
      "INITIAL_CALL_TYPE_INJALS\n",
      "INITIAL_CALL_TYPE_INJMAJ\n",
      "INITIAL_CALL_TYPE_INJURY\n",
      "INITIAL_CALL_TYPE_JUMPUP\n",
      "INITIAL_CALL_TYPE_MEDRXN\n",
      "INITIAL_CALL_TYPE_OBMAJ\n",
      "INITIAL_CALL_TYPE_OBMIS\n",
      "INITIAL_CALL_TYPE_OBOUT\n",
      "INITIAL_CALL_TYPE_OTHER\n",
      "INITIAL_CALL_TYPE_PD13\n",
      "INITIAL_CALL_TYPE_PD13C\n",
      "INITIAL_CALL_TYPE_PEDSTR\n",
      "INITIAL_CALL_TYPE_RAPE\n",
      "INITIAL_CALL_TYPE_RESPIR\n",
      "INITIAL_CALL_TYPE_SEIZR\n",
      "INITIAL_CALL_TYPE_SHOT\n",
      "INITIAL_CALL_TYPE_SICK\n",
      "INITIAL_CALL_TYPE_SICMIN\n",
      "INITIAL_CALL_TYPE_STAB\n",
      "INITIAL_CALL_TYPE_STATEP\n",
      "INITIAL_CALL_TYPE_STNDBY\n",
      "INITIAL_CALL_TYPE_TRAUMA\n",
      "INITIAL_CALL_TYPE_UNKNOW\n",
      "FINAL_CALL_TYPE_ALTMEN\n",
      "FINAL_CALL_TYPE_ANAPH\n",
      "FINAL_CALL_TYPE_ARREST\n",
      "FINAL_CALL_TYPE_BURNMA\n",
      "FINAL_CALL_TYPE_BURNMI\n",
      "FINAL_CALL_TYPE_CARDBR\n",
      "FINAL_CALL_TYPE_CARDFC\n",
      "FINAL_CALL_TYPE_CHILDA\n",
      "FINAL_CALL_TYPE_CHOKE\n",
      "FINAL_CALL_TYPE_CVAC\n",
      "FINAL_CALL_TYPE_DIFFBR\n",
      "FINAL_CALL_TYPE_EDP\n",
      "FINAL_CALL_TYPE_ELECT\n",
      "FINAL_CALL_TYPE_GYNHEM\n",
      "FINAL_CALL_TYPE_HEAT\n",
      "FINAL_CALL_TYPE_HYPTN\n",
      "FINAL_CALL_TYPE_INBLED\n",
      "FINAL_CALL_TYPE_INBLFC\n",
      "FINAL_CALL_TYPE_INJALS\n",
      "FINAL_CALL_TYPE_INJMAJ\n",
      "FINAL_CALL_TYPE_INJMIN\n",
      "FINAL_CALL_TYPE_JUMPDN\n",
      "FINAL_CALL_TYPE_JUMPUP\n",
      "FINAL_CALL_TYPE_MCI26P\n",
      "FINAL_CALL_TYPE_MCI43\n",
      "FINAL_CALL_TYPE_MCI59P\n",
      "FINAL_CALL_TYPE_MVAINJ\n",
      "FINAL_CALL_TYPE_OBMIS\n",
      "FINAL_CALL_TYPE_OBOUT\n",
      "FINAL_CALL_TYPE_OTHER\n",
      "FINAL_CALL_TYPE_PD13\n",
      "FINAL_CALL_TYPE_PD13C\n",
      "FINAL_CALL_TYPE_PEDSTR\n",
      "FINAL_CALL_TYPE_RAPE\n",
      "FINAL_CALL_TYPE_SHOT\n",
      "FINAL_CALL_TYPE_SICKFC\n",
      "FINAL_CALL_TYPE_SICMIN\n",
      "FINAL_CALL_TYPE_SICPED\n",
      "FINAL_CALL_TYPE_SPEVNT\n",
      "FINAL_CALL_TYPE_STAB\n",
      "FINAL_CALL_TYPE_TRAUMA\n",
      "FINAL_CALL_TYPE_UNC\n",
      "FINAL_CALL_TYPE_UNKNOW\n",
      "INCIDENT_DISPOSITION_CODE_87.0\n",
      "INCIDENT_DISPOSITION_CODE_91.0\n",
      "INCIDENT_DISPOSITION_CODE_93.0\n",
      "INCIDENT_DISPOSITION_CODE_96.0\n",
      "BOROUGH_RICHMOND / STATEN ISLAND\n",
      "INCIDENT_DISPATCH_AREA_B3\n",
      "INCIDENT_DISPATCH_AREA_B4\n",
      "INCIDENT_DISPATCH_AREA_CW\n",
      "INCIDENT_DISPATCH_AREA_K2\n",
      "INCIDENT_DISPATCH_AREA_K3\n",
      "INCIDENT_DISPATCH_AREA_K4\n",
      "INCIDENT_DISPATCH_AREA_K7\n",
      "INCIDENT_DISPATCH_AREA_M1\n",
      "INCIDENT_DISPATCH_AREA_M2\n",
      "INCIDENT_DISPATCH_AREA_M3\n",
      "INCIDENT_DISPATCH_AREA_M5\n",
      "INCIDENT_DISPATCH_AREA_M6\n",
      "INCIDENT_DISPATCH_AREA_M8\n",
      "INCIDENT_DISPATCH_AREA_M9\n",
      "INCIDENT_DISPATCH_AREA_Q1\n",
      "INCIDENT_DISPATCH_AREA_Q3\n",
      "INCIDENT_DISPATCH_AREA_Q5\n",
      "INCIDENT_DISPATCH_AREA_Q6\n",
      "INCIDENT_DISPATCH_AREA_Q7\n",
      "INCIDENT_DISPATCH_AREA_S2\n",
      "ZIPCODE_11697\n",
      "POLICEPRECINCT_5.0\n",
      "POLICEPRECINCT_9.0\n",
      "POLICEPRECINCT_10.0\n",
      "POLICEPRECINCT_13.0\n",
      "POLICEPRECINCT_14.0\n",
      "POLICEPRECINCT_17.0\n",
      "POLICEPRECINCT_19.0\n",
      "POLICEPRECINCT_20.0\n",
      "POLICEPRECINCT_22.0\n",
      "POLICEPRECINCT_23.0\n",
      "POLICEPRECINCT_24.0\n",
      "POLICEPRECINCT_25.0\n",
      "POLICEPRECINCT_26.0\n",
      "POLICEPRECINCT_33.0\n",
      "POLICEPRECINCT_41.0\n",
      "POLICEPRECINCT_43.0\n",
      "POLICEPRECINCT_44.0\n",
      "POLICEPRECINCT_46.0\n",
      "POLICEPRECINCT_47.0\n",
      "POLICEPRECINCT_50.0\n",
      "POLICEPRECINCT_52.0\n",
      "POLICEPRECINCT_60.0\n",
      "POLICEPRECINCT_61.0\n",
      "POLICEPRECINCT_62.0\n",
      "POLICEPRECINCT_63.0\n",
      "POLICEPRECINCT_67.0\n",
      "POLICEPRECINCT_68.0\n",
      "POLICEPRECINCT_69.0\n",
      "POLICEPRECINCT_70.0\n",
      "POLICEPRECINCT_71.0\n",
      "POLICEPRECINCT_72.0\n",
      "POLICEPRECINCT_75.0\n",
      "POLICEPRECINCT_78.0\n",
      "POLICEPRECINCT_81.0\n",
      "POLICEPRECINCT_83.0\n",
      "POLICEPRECINCT_88.0\n",
      "POLICEPRECINCT_94.0\n",
      "POLICEPRECINCT_100.0\n",
      "POLICEPRECINCT_103.0\n",
      "POLICEPRECINCT_105.0\n",
      "POLICEPRECINCT_106.0\n",
      "POLICEPRECINCT_110.0\n",
      "POLICEPRECINCT_111.0\n",
      "POLICEPRECINCT_112.0\n",
      "POLICEPRECINCT_113.0\n",
      "POLICEPRECINCT_114.0\n",
      "POLICEPRECINCT_120.0\n",
      "CONGRESSIONALDISTRICT_16.0\n",
      "CALL_YEAR\n",
      "CALL_DAY\n",
      "CALL_UTC\n",
      "CALL_MONTH_AUG\n",
      "CALL_MONTH_DEC\n",
      "CALL_MONTH_FEB\n",
      "CALL_MONTH_JUN\n",
      "CALL_MONTH_MAY\n",
      "CALL_MONTH_NOV\n",
      "CALL_MONTH_SEP\n",
      "PRCP\n",
      "SNOW\n",
      "SNWD\n"
     ]
    }
   ],
   "source": [
    "for feature in features:\n",
    "    print(feature)"
   ]
  },
  {
   "cell_type": "markdown",
   "metadata": {},
   "source": [
    "NEURAL NET REGULARIZATION"
   ]
  },
  {
   "cell_type": "code",
   "execution_count": 169,
   "metadata": {},
   "outputs": [],
   "source": [
    "# Import regularizers\n",
    "from tensorflow.keras.regularizers import l2\n",
    "from tensorflow.keras.layers import Dropout\n",
    "from tensorflow.keras.callbacks import EarlyStopping\n"
   ]
  },
  {
   "cell_type": "code",
   "execution_count": 170,
   "metadata": {
    "tags": []
   },
   "outputs": [
    {
     "name": "stdout",
     "output_type": "stream",
     "text": [
      "Train on 15019 samples, validate on 5007 samples\n",
      "Epoch 1/100\n",
      "15019/15019 [==============================] - 3s 197us/sample - loss: 532293.0301 - mae: 524.3251 - val_loss: 511846.7558 - val_mae: 524.7835\n",
      "Epoch 2/100\n",
      "15019/15019 [==============================] - 1s 54us/sample - loss: 519144.9904 - mae: 513.7589 - val_loss: 485180.5126 - val_mae: 502.9649\n",
      "Epoch 3/100\n",
      "15019/15019 [==============================] - 1s 57us/sample - loss: 462037.6026 - mae: 467.9113 - val_loss: 393163.0062 - val_mae: 423.2327\n",
      "Epoch 4/100\n",
      "15019/15019 [==============================] - 1s 68us/sample - loss: 331169.6620 - mae: 350.7371 - val_loss: 247103.0416 - val_mae: 285.3839\n",
      "Epoch 5/100\n",
      "15019/15019 [==============================] - 1s 92us/sample - loss: 206145.5024 - mae: 252.4590 - val_loss: 177100.6867 - val_mae: 242.4227\n",
      "Epoch 6/100\n",
      "15019/15019 [==============================] - 2s 101us/sample - loss: 163167.0058 - mae: 231.8760 - val_loss: 156125.2515 - val_mae: 232.3916\n",
      "Epoch 7/100\n",
      "15019/15019 [==============================] - 1s 98us/sample - loss: 145683.1795 - mae: 223.0044 - val_loss: 144043.8886 - val_mae: 226.5547\n",
      "Epoch 8/100\n",
      "15019/15019 [==============================] - 1s 65us/sample - loss: 134536.0636 - mae: 219.7882 - val_loss: 134952.9693 - val_mae: 220.8213\n",
      "Epoch 9/100\n",
      "15019/15019 [==============================] - 1s 69us/sample - loss: 125985.0243 - mae: 215.1720 - val_loss: 127862.7588 - val_mae: 217.0905\n",
      "Epoch 10/100\n",
      "15019/15019 [==============================] - 1s 54us/sample - loss: 119604.8509 - mae: 210.2838 - val_loss: 123009.9519 - val_mae: 213.4190\n",
      "Epoch 11/100\n",
      "15019/15019 [==============================] - 1s 83us/sample - loss: 114682.2385 - mae: 208.0034 - val_loss: 118809.6933 - val_mae: 213.0374\n",
      "Epoch 12/100\n",
      "15019/15019 [==============================] - 1s 76us/sample - loss: 111193.8791 - mae: 207.1244 - val_loss: 115481.0645 - val_mae: 208.2635\n",
      "Epoch 13/100\n",
      "15019/15019 [==============================] - 1s 57us/sample - loss: 108189.9221 - mae: 202.9831 - val_loss: 113104.3440 - val_mae: 207.9587\n",
      "Epoch 14/100\n",
      "15019/15019 [==============================] - 1s 59us/sample - loss: 105632.3515 - mae: 203.0708 - val_loss: 111191.0129 - val_mae: 205.5693\n",
      "Epoch 15/100\n",
      "15019/15019 [==============================] - 1s 74us/sample - loss: 103884.7553 - mae: 199.9271 - val_loss: 109547.9251 - val_mae: 205.3935\n",
      "Epoch 16/100\n",
      "15019/15019 [==============================] - 1s 84us/sample - loss: 102252.0085 - mae: 199.6584 - val_loss: 108252.7244 - val_mae: 203.8192\n",
      "Epoch 17/100\n",
      "15019/15019 [==============================] - 1s 65us/sample - loss: 100886.5602 - mae: 198.1719 - val_loss: 107448.2397 - val_mae: 202.7682\n",
      "Epoch 18/100\n",
      "15019/15019 [==============================] - 1s 63us/sample - loss: 99520.4794 - mae: 196.1656 - val_loss: 106480.5606 - val_mae: 203.6281\n",
      "Epoch 19/100\n",
      "15019/15019 [==============================] - 1s 64us/sample - loss: 98342.6530 - mae: 198.5401 - val_loss: 105126.0932 - val_mae: 201.8366\n",
      "Epoch 20/100\n",
      "15019/15019 [==============================] - 1s 67us/sample - loss: 97462.2813 - mae: 195.9474 - val_loss: 104094.3985 - val_mae: 201.4683\n",
      "Epoch 21/100\n",
      "15019/15019 [==============================] - 1s 60us/sample - loss: 96947.2682 - mae: 194.0193 - val_loss: 103549.5362 - val_mae: 202.9899\n",
      "Epoch 22/100\n",
      "15019/15019 [==============================] - 1s 56us/sample - loss: 95548.9345 - mae: 193.1013 - val_loss: 103843.4630 - val_mae: 201.5585\n",
      "Epoch 23/100\n",
      "15019/15019 [==============================] - 1s 64us/sample - loss: 94946.3860 - mae: 194.7502 - val_loss: 103277.6778 - val_mae: 199.9762\n",
      "Epoch 24/100\n",
      "15019/15019 [==============================] - 1s 57us/sample - loss: 94570.6303 - mae: 192.1601 - val_loss: 102581.6391 - val_mae: 202.0184\n",
      "Epoch 25/100\n",
      "15019/15019 [==============================] - 1s 61us/sample - loss: 93535.8220 - mae: 192.4161 - val_loss: 102087.1587 - val_mae: 201.7684\n",
      "Epoch 26/100\n",
      "15019/15019 [==============================] - 1s 70us/sample - loss: 92839.9285 - mae: 192.7942 - val_loss: 101895.0078 - val_mae: 200.3443\n",
      "Epoch 27/100\n",
      "15019/15019 [==============================] - 1s 61us/sample - loss: 92285.1422 - mae: 190.7985 - val_loss: 101728.3183 - val_mae: 200.3373\n",
      "Epoch 28/100\n",
      "15019/15019 [==============================] - 1s 75us/sample - loss: 91709.4357 - mae: 191.9224 - val_loss: 101374.2320 - val_mae: 199.7520\n",
      "Epoch 29/100\n",
      "15019/15019 [==============================] - 1s 74us/sample - loss: 91329.2009 - mae: 191.6392 - val_loss: 101143.0324 - val_mae: 198.5540\n",
      "Epoch 30/100\n",
      "15019/15019 [==============================] - 1s 76us/sample - loss: 90639.7031 - mae: 188.8739 - val_loss: 100958.1850 - val_mae: 200.1728\n",
      "Epoch 31/100\n",
      "15019/15019 [==============================] - 1s 65us/sample - loss: 90225.6227 - mae: 191.0965 - val_loss: 100809.6037 - val_mae: 198.5096\n",
      "Epoch 32/100\n",
      "15019/15019 [==============================] - 1s 43us/sample - loss: 89962.0676 - mae: 189.5475 - val_loss: 100817.8065 - val_mae: 198.3348\n",
      "Epoch 33/100\n",
      "15019/15019 [==============================] - 1s 47us/sample - loss: 89578.6924 - mae: 189.2969 - val_loss: 100823.2972 - val_mae: 198.2259\n",
      "Epoch 34/100\n",
      "15019/15019 [==============================] - 1s 47us/sample - loss: 89134.1451 - mae: 189.1252 - val_loss: 100288.7433 - val_mae: 198.7208\n",
      "Epoch 35/100\n",
      "15019/15019 [==============================] - 1s 76us/sample - loss: 88688.9439 - mae: 188.6514 - val_loss: 100218.7448 - val_mae: 199.1028\n",
      "Epoch 36/100\n",
      "15019/15019 [==============================] - 1s 57us/sample - loss: 88224.3260 - mae: 188.5112 - val_loss: 99997.4632 - val_mae: 199.1860\n",
      "Epoch 37/100\n",
      "15019/15019 [==============================] - 1s 63us/sample - loss: 88048.7206 - mae: 189.0540 - val_loss: 100095.7271 - val_mae: 197.6498\n",
      "Epoch 38/100\n",
      "15019/15019 [==============================] - 1s 57us/sample - loss: 87849.1167 - mae: 187.7989 - val_loss: 99810.8895 - val_mae: 198.3470\n",
      "Epoch 39/100\n",
      "15019/15019 [==============================] - 1s 70us/sample - loss: 87443.5633 - mae: 188.5432 - val_loss: 100294.6913 - val_mae: 197.0496\n",
      "Epoch 40/100\n",
      "15019/15019 [==============================] - 1s 53us/sample - loss: 87109.6564 - mae: 186.9585 - val_loss: 100145.3808 - val_mae: 197.5020\n",
      "Epoch 41/100\n",
      "15019/15019 [==============================] - 1s 52us/sample - loss: 86801.4331 - mae: 187.4083 - val_loss: 99821.0385 - val_mae: 197.9487\n",
      "Epoch 42/100\n",
      "15019/15019 [==============================] - 1s 49us/sample - loss: 86526.1943 - mae: 187.4240 - val_loss: 100157.9438 - val_mae: 196.9584\n",
      "Epoch 43/100\n",
      "15019/15019 [==============================] - 1s 46us/sample - loss: 86285.9984 - mae: 186.5355 - val_loss: 99492.3141 - val_mae: 199.8891\n",
      "Epoch 44/100\n",
      "15019/15019 [==============================] - 1s 51us/sample - loss: 85881.9737 - mae: 187.8367 - val_loss: 99723.9806 - val_mae: 197.1110\n",
      "Epoch 45/100\n",
      "15019/15019 [==============================] - 1s 52us/sample - loss: 85651.0114 - mae: 186.1720 - val_loss: 99597.3828 - val_mae: 198.4051\n",
      "Epoch 46/100\n",
      "15019/15019 [==============================] - 1s 51us/sample - loss: 85446.0531 - mae: 186.8912 - val_loss: 99543.7144 - val_mae: 197.7010\n",
      "Epoch 47/100\n",
      "15019/15019 [==============================] - 1s 53us/sample - loss: 85151.4588 - mae: 186.5826 - val_loss: 99213.1522 - val_mae: 198.3157\n",
      "Epoch 48/100\n",
      "15019/15019 [==============================] - 1s 51us/sample - loss: 84882.4003 - mae: 186.5318 - val_loss: 99307.5431 - val_mae: 197.9009\n",
      "Epoch 49/100\n",
      "15019/15019 [==============================] - 1s 44us/sample - loss: 84659.0507 - mae: 185.1623 - val_loss: 99461.6986 - val_mae: 198.4916\n",
      "Epoch 50/100\n",
      "15019/15019 [==============================] - 1s 53us/sample - loss: 84485.8671 - mae: 186.0600 - val_loss: 99200.2569 - val_mae: 198.7885\n",
      "Epoch 51/100\n",
      "15019/15019 [==============================] - 1s 51us/sample - loss: 84345.1100 - mae: 186.0996 - val_loss: 99056.9159 - val_mae: 198.7196\n",
      "Epoch 52/100\n",
      "15019/15019 [==============================] - 1s 54us/sample - loss: 84113.9956 - mae: 186.3182 - val_loss: 99303.5972 - val_mae: 197.1207\n",
      "Epoch 53/100\n",
      "15019/15019 [==============================] - 1s 52us/sample - loss: 83851.6378 - mae: 185.3844 - val_loss: 99515.3728 - val_mae: 197.2122\n",
      "Epoch 54/100\n",
      "15019/15019 [==============================] - 1s 61us/sample - loss: 83622.5298 - mae: 185.0656 - val_loss: 99148.6640 - val_mae: 198.5872\n",
      "Epoch 55/100\n",
      "15019/15019 [==============================] - 1s 54us/sample - loss: 83480.0440 - mae: 185.5642 - val_loss: 99319.0109 - val_mae: 198.1712\n",
      "Epoch 56/100\n",
      "15019/15019 [==============================] - 1s 45us/sample - loss: 83220.4569 - mae: 184.8907 - val_loss: 99172.9594 - val_mae: 198.5601\n"
     ]
    }
   ],
   "source": [
    "\n",
    "model_reg = Sequential()\n",
    "model_reg.add(Dense(32, input_dim=X_train_sc.shape[1], \n",
    "                    activation='relu',\n",
    "                    kernel_regularizer=l2(.01)))\n",
    "#model_reg.add(Dropout(0.2))\n",
    "model_reg.add(Dense(16,  \n",
    "                    activation='relu',\n",
    "                    kernel_regularizer=l2(.01)))\n",
    "#model_reg.add(Dropout(0.2))\n",
    "model_reg.add(Dense(8,  \n",
    "                    activation='relu',\n",
    "                    kernel_regularizer=l2(.01)))\n",
    "#model_reg.add(Dropout(0.2))\n",
    "model_reg.add(Dense(1, activation=None))\n",
    "\n",
    "model_reg.compile(loss='mse', optimizer='adam', metrics=['mae'])\n",
    "\n",
    "early_stop = EarlyStopping(patience=5)\n",
    "\n",
    "results_reg = model_reg.fit(X_train_sc, y_train, epochs=100, batch_size=256, \\\n",
    "                            validation_data=(X_test_sc, y_test), callbacks=[early_stop])\n",
    "\n"
   ]
  },
  {
   "cell_type": "code",
   "execution_count": 172,
   "metadata": {},
   "outputs": [
    {
     "data": {
      "image/png": "[encoded data removed]",
      "text/plain": [
       "<Figure size 864x576 with 1 Axes>"
      ]
     },
     "metadata": {
      "needs_background": "light"
     },
     "output_type": "display_data"
    }
   ],
   "source": [
    "train_loss = results.history['loss']\n",
    "test_loss = results.history['val_loss']\n",
    "train_loss_179 = results179.history['loss']\n",
    "test_loss_179 = results179.history['val_loss']\n",
    "train_loss_reg = results_reg.history['loss']\n",
    "test_loss_reg = results_reg.history['val_loss']\n",
    "\n",
    "plt.figure(figsize=(12, 8))\n",
    "plt.plot(train_loss, label='Training loss', color='red')\n",
    "plt.plot(test_loss, label='Testing loss', color='pink')\n",
    "plt.plot(train_loss_179, label='Training loss 179 cols', color='navy')\n",
    "plt.plot(test_loss_179, label='Testing loss 179 cols', color='skyblue')\n",
    "plt.plot(train_loss_reg, label='Training loss REG', color='darkgreen')\n",
    "plt.plot(test_loss_reg, label='Testing loss REG', color='lightgreen')\n",
    "plt.legend();\n",
    "\n"
   ]
  },
  {
   "cell_type": "code",
   "execution_count": 173,
   "metadata": {
    "tags": []
   },
   "outputs": [
    {
     "data": {
      "image/png": "[encoded data removed]",
      "text/plain": [
       "<Figure size 864x360 with 3 Axes>"
      ]
     },
     "metadata": {
      "needs_background": "light"
     },
     "output_type": "display_data"
    }
   ],
   "source": [
    "fig = plt.figure(figsize=(12,5));\n",
    "\n",
    "ax = fig.add_subplot(131);\n",
    "plt.scatter(y_test/60,preds_all/60);\n",
    "plt.plot([0,200],[0,200]);\n",
    "plt.title('NYC EMS Response Time (minutes)');\n",
    "plt.xlabel('Actual Time');\n",
    "plt.ylabel('Predicted Time - NN');\n",
    "\n",
    "ax = fig.add_subplot(132);\n",
    "plt.scatter(y_test/60,preds179/60);\n",
    "plt.plot([0,200],[0,200]);\n",
    "plt.title('NYC EMS Response Time (minutes)');\n",
    "plt.xlabel('Actual Time');\n",
    "plt.ylabel('Predicted Time - NN 179col');\n",
    "\n",
    "ax = fig.add_subplot(133);\n",
    "preds_reg = model_reg.predict(X_test_sc)\n",
    "plt.scatter(y_test/60,preds_reg/60);\n",
    "plt.plot([0,200],[0,200]);\n",
    "plt.title('NYC EMS Response Time (minutes)');\n",
    "plt.xlabel('Actual Time');\n",
    "plt.ylabel('Predicted Time - Reg.NN');\n"
   ]
  },
  {
   "cell_type": "code",
   "execution_count": 174,
   "metadata": {},
   "outputs": [
    {
     "name": "stdout",
     "output_type": "stream",
     "text": [
      "Neural Net, all features, no reg. R2=0.567493954845432, RMS=320.10959564422416\n",
      "Neural Net, all features, no reg. R2=0.5664110416990384, RMS=320.51009198119544\n",
      "Neural Net, all features, no reg. R2=0.581430056836358, RMS=314.91012286934233\n"
     ]
    }
   ],
   "source": [
    "print(f'Neural Net, all features, no reg. R2={r2_score(y_test,preds_all)}, RMS={mean_squared_error(y_test,preds_all,squared=False)}')\n",
    "print(f'Neural Net, all features, no reg. R2={r2_score(y_test,preds179)}, RMS={mean_squared_error(y_test,preds179,squared=False)}')\n",
    "print(f'Neural Net, all features, no reg. R2={r2_score(y_test,preds_reg)}, RMS={mean_squared_error(y_test,preds_reg,squared=False)}')\n"
   ]
  },
  {
   "cell_type": "markdown",
   "metadata": {},
   "source": [
    "REDUCE FEATURES EVEN MORE - WHAT ARE THE MOST IMPORTANT?"
   ]
  },
  {
   "cell_type": "code",
   "execution_count": 176,
   "metadata": {},
   "outputs": [
    {
     "data": {
      "text/html": [
       "<div>\n",
       "<style scoped>\n",
       "    .dataframe tbody tr th:only-of-type {\n",
       "        vertical-align: middle;\n",
       "    }\n",
       "\n",
       "    .dataframe tbody tr th {\n",
       "        vertical-align: top;\n",
       "    }\n",
       "\n",
       "    .dataframe thead th {\n",
       "        text-align: right;\n",
       "    }\n",
       "</style>\n",
       "<table border=\"1\" class=\"dataframe\">\n",
       "  <thead>\n",
       "    <tr style=\"text-align: right;\">\n",
       "      <th></th>\n",
       "      <th>Unnamed: 0</th>\n",
       "      <th>features</th>\n",
       "      <th>coefficients</th>\n",
       "    </tr>\n",
       "  </thead>\n",
       "  <tbody>\n",
       "    <tr>\n",
       "      <th>225</th>\n",
       "      <td>225</td>\n",
       "      <td>ZIPCODE_11697</td>\n",
       "      <td>7.587512</td>\n",
       "    </tr>\n",
       "    <tr>\n",
       "      <th>189</th>\n",
       "      <td>189</td>\n",
       "      <td>INCIDENT_DISPOSITION_CODE_96.0</td>\n",
       "      <td>8.862853</td>\n",
       "    </tr>\n",
       "    <tr>\n",
       "      <th>125</th>\n",
       "      <td>125</td>\n",
       "      <td>FINAL_CALL_TYPE_HYPTN</td>\n",
       "      <td>9.061505</td>\n",
       "    </tr>\n",
       "    <tr>\n",
       "      <th>6</th>\n",
       "      <td>6</td>\n",
       "      <td>INCIDENT_CLOSE_DATETIME</td>\n",
       "      <td>9.538882</td>\n",
       "    </tr>\n",
       "    <tr>\n",
       "      <th>131</th>\n",
       "      <td>131</td>\n",
       "      <td>FINAL_CALL_TYPE_INJMIN</td>\n",
       "      <td>10.137955</td>\n",
       "    </tr>\n",
       "    <tr>\n",
       "      <th>236</th>\n",
       "      <td>236</td>\n",
       "      <td>POLICEPRECINCT_20.0</td>\n",
       "      <td>11.513560</td>\n",
       "    </tr>\n",
       "    <tr>\n",
       "      <th>171</th>\n",
       "      <td>171</td>\n",
       "      <td>FINAL_CALL_TYPE_SICMIN</td>\n",
       "      <td>12.042251</td>\n",
       "    </tr>\n",
       "    <tr>\n",
       "      <th>40</th>\n",
       "      <td>40</td>\n",
       "      <td>INITIAL_CALL_TYPE_EDP</td>\n",
       "      <td>13.409193</td>\n",
       "    </tr>\n",
       "    <tr>\n",
       "      <th>271</th>\n",
       "      <td>271</td>\n",
       "      <td>POLICEPRECINCT_75.0</td>\n",
       "      <td>16.217605</td>\n",
       "    </tr>\n",
       "    <tr>\n",
       "      <th>118</th>\n",
       "      <td>118</td>\n",
       "      <td>FINAL_CALL_TYPE_EDP</td>\n",
       "      <td>16.518718</td>\n",
       "    </tr>\n",
       "    <tr>\n",
       "      <th>156</th>\n",
       "      <td>156</td>\n",
       "      <td>FINAL_CALL_TYPE_OBOUT</td>\n",
       "      <td>17.573475</td>\n",
       "    </tr>\n",
       "    <tr>\n",
       "      <th>302</th>\n",
       "      <td>302</td>\n",
       "      <td>CALL_YEAR</td>\n",
       "      <td>18.331364</td>\n",
       "    </tr>\n",
       "    <tr>\n",
       "      <th>0</th>\n",
       "      <td>0</td>\n",
       "      <td>INITIAL_SEVERITY_LEVEL_CODE</td>\n",
       "      <td>35.901861</td>\n",
       "    </tr>\n",
       "    <tr>\n",
       "      <th>7</th>\n",
       "      <td>7</td>\n",
       "      <td>HELD_INDICATOR</td>\n",
       "      <td>69.906277</td>\n",
       "    </tr>\n",
       "    <tr>\n",
       "      <th>4</th>\n",
       "      <td>4</td>\n",
       "      <td>FIRST_ACTIVATION_DATETIME</td>\n",
       "      <td>319.166665</td>\n",
       "    </tr>\n",
       "  </tbody>\n",
       "</table>\n",
       "</div>"
      ],
      "text/plain": [
       "     Unnamed: 0                        features  coefficients\n",
       "225         225                   ZIPCODE_11697      7.587512\n",
       "189         189  INCIDENT_DISPOSITION_CODE_96.0      8.862853\n",
       "125         125           FINAL_CALL_TYPE_HYPTN      9.061505\n",
       "6             6         INCIDENT_CLOSE_DATETIME      9.538882\n",
       "131         131          FINAL_CALL_TYPE_INJMIN     10.137955\n",
       "236         236             POLICEPRECINCT_20.0     11.513560\n",
       "171         171          FINAL_CALL_TYPE_SICMIN     12.042251\n",
       "40           40           INITIAL_CALL_TYPE_EDP     13.409193\n",
       "271         271             POLICEPRECINCT_75.0     16.217605\n",
       "118         118             FINAL_CALL_TYPE_EDP     16.518718\n",
       "156         156           FINAL_CALL_TYPE_OBOUT     17.573475\n",
       "302         302                       CALL_YEAR     18.331364\n",
       "0             0     INITIAL_SEVERITY_LEVEL_CODE     35.901861\n",
       "7             7                  HELD_INDICATOR     69.906277\n",
       "4             4       FIRST_ACTIVATION_DATETIME    319.166665"
      ]
     },
     "execution_count": 176,
     "metadata": {},
     "output_type": "execute_result"
    }
   ],
   "source": [
    "coefs_df.sort_values(by='coefficients').tail(15)"
   ]
  },
  {
   "cell_type": "code",
   "execution_count": 177,
   "metadata": {},
   "outputs": [
    {
     "data": {
      "text/html": [
       "<div>\n",
       "<style scoped>\n",
       "    .dataframe tbody tr th:only-of-type {\n",
       "        vertical-align: middle;\n",
       "    }\n",
       "\n",
       "    .dataframe tbody tr th {\n",
       "        vertical-align: top;\n",
       "    }\n",
       "\n",
       "    .dataframe thead th {\n",
       "        text-align: right;\n",
       "    }\n",
       "</style>\n",
       "<table border=\"1\" class=\"dataframe\">\n",
       "  <thead>\n",
       "    <tr style=\"text-align: right;\">\n",
       "      <th></th>\n",
       "      <th>Unnamed: 0</th>\n",
       "      <th>features</th>\n",
       "      <th>coefficients</th>\n",
       "    </tr>\n",
       "  </thead>\n",
       "  <tbody>\n",
       "    <tr>\n",
       "      <th>0</th>\n",
       "      <td>0</td>\n",
       "      <td>INITIAL_SEVERITY_LEVEL_CODE</td>\n",
       "      <td>35.901861</td>\n",
       "    </tr>\n",
       "    <tr>\n",
       "      <th>4</th>\n",
       "      <td>4</td>\n",
       "      <td>FIRST_ACTIVATION_DATETIME</td>\n",
       "      <td>319.166665</td>\n",
       "    </tr>\n",
       "    <tr>\n",
       "      <th>7</th>\n",
       "      <td>7</td>\n",
       "      <td>HELD_INDICATOR</td>\n",
       "      <td>69.906277</td>\n",
       "    </tr>\n",
       "    <tr>\n",
       "      <th>40</th>\n",
       "      <td>40</td>\n",
       "      <td>INITIAL_CALL_TYPE_EDP</td>\n",
       "      <td>13.409193</td>\n",
       "    </tr>\n",
       "    <tr>\n",
       "      <th>118</th>\n",
       "      <td>118</td>\n",
       "      <td>FINAL_CALL_TYPE_EDP</td>\n",
       "      <td>16.518718</td>\n",
       "    </tr>\n",
       "    <tr>\n",
       "      <th>131</th>\n",
       "      <td>131</td>\n",
       "      <td>FINAL_CALL_TYPE_INJMIN</td>\n",
       "      <td>10.137955</td>\n",
       "    </tr>\n",
       "    <tr>\n",
       "      <th>156</th>\n",
       "      <td>156</td>\n",
       "      <td>FINAL_CALL_TYPE_OBOUT</td>\n",
       "      <td>17.573475</td>\n",
       "    </tr>\n",
       "    <tr>\n",
       "      <th>171</th>\n",
       "      <td>171</td>\n",
       "      <td>FINAL_CALL_TYPE_SICMIN</td>\n",
       "      <td>12.042251</td>\n",
       "    </tr>\n",
       "    <tr>\n",
       "      <th>236</th>\n",
       "      <td>236</td>\n",
       "      <td>POLICEPRECINCT_20.0</td>\n",
       "      <td>11.513560</td>\n",
       "    </tr>\n",
       "    <tr>\n",
       "      <th>271</th>\n",
       "      <td>271</td>\n",
       "      <td>POLICEPRECINCT_75.0</td>\n",
       "      <td>16.217605</td>\n",
       "    </tr>\n",
       "    <tr>\n",
       "      <th>302</th>\n",
       "      <td>302</td>\n",
       "      <td>CALL_YEAR</td>\n",
       "      <td>18.331364</td>\n",
       "    </tr>\n",
       "  </tbody>\n",
       "</table>\n",
       "</div>"
      ],
      "text/plain": [
       "     Unnamed: 0                     features  coefficients\n",
       "0             0  INITIAL_SEVERITY_LEVEL_CODE     35.901861\n",
       "4             4    FIRST_ACTIVATION_DATETIME    319.166665\n",
       "7             7               HELD_INDICATOR     69.906277\n",
       "40           40        INITIAL_CALL_TYPE_EDP     13.409193\n",
       "118         118          FINAL_CALL_TYPE_EDP     16.518718\n",
       "131         131       FINAL_CALL_TYPE_INJMIN     10.137955\n",
       "156         156        FINAL_CALL_TYPE_OBOUT     17.573475\n",
       "171         171       FINAL_CALL_TYPE_SICMIN     12.042251\n",
       "236         236          POLICEPRECINCT_20.0     11.513560\n",
       "271         271          POLICEPRECINCT_75.0     16.217605\n",
       "302         302                    CALL_YEAR     18.331364"
      ]
     },
     "execution_count": 177,
     "metadata": {},
     "output_type": "execute_result"
    }
   ],
   "source": [
    "coefs_df[coefs_df['coefficients']>10]"
   ]
  },
  {
   "cell_type": "code",
   "execution_count": 178,
   "metadata": {},
   "outputs": [
    {
     "data": {
      "text/plain": [
       "0      INITIAL_SEVERITY_LEVEL_CODE\n",
       "4        FIRST_ACTIVATION_DATETIME\n",
       "7                   HELD_INDICATOR\n",
       "40           INITIAL_CALL_TYPE_EDP\n",
       "118            FINAL_CALL_TYPE_EDP\n",
       "131         FINAL_CALL_TYPE_INJMIN\n",
       "156          FINAL_CALL_TYPE_OBOUT\n",
       "171         FINAL_CALL_TYPE_SICMIN\n",
       "236            POLICEPRECINCT_20.0\n",
       "271            POLICEPRECINCT_75.0\n",
       "302                      CALL_YEAR\n",
       "Name: features, dtype: object"
      ]
     },
     "execution_count": 178,
     "metadata": {},
     "output_type": "execute_result"
    }
   ],
   "source": [
    "features = coefs_df[coefs_df['coefficients']>10]['features']\n",
    "features"
   ]
  },
  {
   "cell_type": "code",
   "execution_count": 119,
   "metadata": {},
   "outputs": [],
   "source": [
    "X = np.array(results_df[features])\n",
    "\n",
    "# Train/test split\n",
    "X_train, X_test, y_train, y_test = train_test_split(X,y,random_state=42)\n",
    "\n",
    "# Scale data\n",
    "sc = StandardScaler()\n",
    "X_train_sc = sc.fit_transform(X_train)\n",
    "X_test_sc = sc.transform(X_test)\n"
   ]
  },
  {
   "cell_type": "code",
   "execution_count": 121,
   "metadata": {},
   "outputs": [
    {
     "name": "stdout",
     "output_type": "stream",
     "text": [
      "Train on 15019 samples, validate on 5007 samples\n",
      "Epoch 1/100\n",
      "15019/15019 [==============================] - 3s 187us/sample - loss: 533475.0358 - mae: 525.5550 - val_loss: 514417.7692 - val_mae: 527.5248\n",
      "Epoch 2/100\n",
      "15019/15019 [==============================] - 1s 51us/sample - loss: 526023.3019 - mae: 520.4401 - val_loss: 499502.1130 - val_mae: 517.4760\n",
      "Epoch 3/100\n",
      "15019/15019 [==============================] - 1s 56us/sample - loss: 493783.2075 - mae: 499.6383 - val_loss: 442947.6992 - val_mae: 480.5242\n",
      "Epoch 4/100\n",
      "15019/15019 [==============================] - 1s 48us/sample - loss: 403738.8103 - mae: 437.8104 - val_loss: 315709.0467 - val_mae: 388.8608\n",
      "Epoch 5/100\n",
      "15019/15019 [==============================] - 1s 52us/sample - loss: 251655.2198 - mae: 320.1814 - val_loss: 156686.1610 - val_mae: 254.8388\n",
      "Epoch 6/100\n",
      "15019/15019 [==============================] - 1s 45us/sample - loss: 129638.0892 - mae: 197.9996 - val_loss: 77483.1860 - val_mae: 153.9270\n",
      "Epoch 7/100\n",
      "15019/15019 [==============================] - 1s 58us/sample - loss: 86770.1452 - mae: 129.1823 - val_loss: 57659.4673 - val_mae: 111.2623\n",
      "Epoch 8/100\n",
      "15019/15019 [==============================] - 1s 50us/sample - loss: 75137.0535 - mae: 102.0995 - val_loss: 51348.3164 - val_mae: 93.9248\n",
      "Epoch 9/100\n",
      "15019/15019 [==============================] - 1s 39us/sample - loss: 71185.7257 - mae: 91.0838 - val_loss: 47020.4331 - val_mae: 85.4106\n",
      "Epoch 10/100\n",
      "15019/15019 [==============================] - 1s 36us/sample - loss: 67405.2333 - mae: 83.8373 - val_loss: 44897.0453 - val_mae: 80.5144\n",
      "Epoch 11/100\n",
      "15019/15019 [==============================] - 1s 40us/sample - loss: 65147.8017 - mae: 80.2906 - val_loss: 42449.6056 - val_mae: 78.0992\n",
      "Epoch 12/100\n",
      "15019/15019 [==============================] - 1s 36us/sample - loss: 63835.4464 - mae: 77.5876 - val_loss: 40544.1365 - val_mae: 74.8923\n",
      "Epoch 13/100\n",
      "15019/15019 [==============================] - 1s 39us/sample - loss: 62258.9334 - mae: 74.9046 - val_loss: 38357.5878 - val_mae: 72.7175\n",
      "Epoch 14/100\n",
      "15019/15019 [==============================] - 1s 39us/sample - loss: 60552.0126 - mae: 72.2936 - val_loss: 37472.3549 - val_mae: 70.2080\n",
      "Epoch 15/100\n",
      "15019/15019 [==============================] - 1s 42us/sample - loss: 59982.1594 - mae: 70.5916 - val_loss: 35383.5555 - val_mae: 68.4876\n",
      "Epoch 16/100\n",
      "15019/15019 [==============================] - 1s 39us/sample - loss: 58601.6920 - mae: 67.5048 - val_loss: 35057.2272 - val_mae: 66.2257\n",
      "Epoch 17/100\n",
      "15019/15019 [==============================] - 1s 37us/sample - loss: 57543.4141 - mae: 66.0936 - val_loss: 33966.0707 - val_mae: 65.3703\n",
      "Epoch 18/100\n",
      "15019/15019 [==============================] - 1s 41us/sample - loss: 57189.8170 - mae: 64.4547 - val_loss: 33137.3199 - val_mae: 62.6638\n",
      "Epoch 19/100\n",
      "15019/15019 [==============================] - 1s 37us/sample - loss: 56157.2024 - mae: 63.0554 - val_loss: 31894.4889 - val_mae: 61.8474\n",
      "Epoch 20/100\n",
      "15019/15019 [==============================] - 1s 40us/sample - loss: 55763.8535 - mae: 61.1208 - val_loss: 31113.4135 - val_mae: 59.2335\n",
      "Epoch 21/100\n",
      "15019/15019 [==============================] - 1s 39us/sample - loss: 54772.7123 - mae: 59.2577 - val_loss: 29691.2636 - val_mae: 57.8072\n",
      "Epoch 22/100\n",
      "15019/15019 [==============================] - 1s 54us/sample - loss: 54561.7095 - mae: 57.9580 - val_loss: 29544.9374 - val_mae: 55.9930\n",
      "Epoch 23/100\n",
      "15019/15019 [==============================] - 1s 56us/sample - loss: 54353.8759 - mae: 56.1599 - val_loss: 28020.7443 - val_mae: 54.4557\n",
      "Epoch 24/100\n",
      "15019/15019 [==============================] - 1s 70us/sample - loss: 53995.8491 - mae: 54.9149 - val_loss: 28668.8329 - val_mae: 53.1529\n",
      "Epoch 25/100\n",
      "15019/15019 [==============================] - 1s 79us/sample - loss: 53099.6115 - mae: 53.0835 - val_loss: 27745.5842 - val_mae: 51.7562\n",
      "Epoch 26/100\n",
      "15019/15019 [==============================] - 1s 50us/sample - loss: 53214.3290 - mae: 52.5259 - val_loss: 27150.8128 - val_mae: 49.9788\n",
      "Epoch 27/100\n",
      "15019/15019 [==============================] - 1s 45us/sample - loss: 53129.3568 - mae: 51.0106 - val_loss: 26843.2081 - val_mae: 49.0067\n",
      "Epoch 28/100\n",
      "15019/15019 [==============================] - 1s 45us/sample - loss: 51658.6272 - mae: 48.7871 - val_loss: 26134.7803 - val_mae: 47.5226\n",
      "Epoch 29/100\n",
      "15019/15019 [==============================] - 1s 58us/sample - loss: 52343.8836 - mae: 48.5650 - val_loss: 26144.6956 - val_mae: 46.1394\n",
      "Epoch 30/100\n",
      "15019/15019 [==============================] - 1s 50us/sample - loss: 51922.1258 - mae: 46.6773 - val_loss: 25850.3720 - val_mae: 44.8634\n",
      "Epoch 31/100\n",
      "15019/15019 [==============================] - 1s 38us/sample - loss: 51761.8094 - mae: 46.2397 - val_loss: 25047.9955 - val_mae: 45.0453\n",
      "Epoch 32/100\n",
      "15019/15019 [==============================] - 1s 46us/sample - loss: 51061.3695 - mae: 45.3122 - val_loss: 24696.3006 - val_mae: 44.2011\n",
      "Epoch 33/100\n",
      "15019/15019 [==============================] - 1s 40us/sample - loss: 51280.0743 - mae: 44.7031 - val_loss: 24322.8006 - val_mae: 44.0190\n",
      "Epoch 34/100\n",
      "15019/15019 [==============================] - 1s 42us/sample - loss: 51080.0123 - mae: 44.9308 - val_loss: 24070.0127 - val_mae: 42.5102\n",
      "Epoch 35/100\n",
      "15019/15019 [==============================] - 1s 53us/sample - loss: 50519.2814 - mae: 43.0085 - val_loss: 23548.2748 - val_mae: 40.8428\n",
      "Epoch 36/100\n",
      "15019/15019 [==============================] - 1s 44us/sample - loss: 50258.6226 - mae: 41.9114 - val_loss: 23933.6359 - val_mae: 39.8832\n",
      "Epoch 37/100\n",
      "15019/15019 [==============================] - 1s 38us/sample - loss: 49900.8812 - mae: 41.7560 - val_loss: 22476.4141 - val_mae: 39.6151\n",
      "Epoch 38/100\n",
      "15019/15019 [==============================] - 1s 37us/sample - loss: 49420.1327 - mae: 40.5830 - val_loss: 21887.9000 - val_mae: 38.1018\n",
      "Epoch 39/100\n",
      "15019/15019 [==============================] - 1s 39us/sample - loss: 49227.4626 - mae: 40.4575 - val_loss: 22337.7508 - val_mae: 38.8780\n",
      "Epoch 40/100\n",
      "15019/15019 [==============================] - 1s 39us/sample - loss: 48659.6596 - mae: 39.2969 - val_loss: 21938.9593 - val_mae: 37.5907\n",
      "Epoch 41/100\n",
      "15019/15019 [==============================] - 1s 41us/sample - loss: 48834.0393 - mae: 39.0400 - val_loss: 21622.9617 - val_mae: 38.0013\n",
      "Epoch 42/100\n",
      "15019/15019 [==============================] - 1s 42us/sample - loss: 48518.0830 - mae: 38.6464 - val_loss: 21195.3698 - val_mae: 38.3511\n",
      "Epoch 43/100\n",
      "15019/15019 [==============================] - 1s 39us/sample - loss: 48384.2995 - mae: 38.7360 - val_loss: 20929.9291 - val_mae: 36.0133\n",
      "Epoch 44/100\n",
      "15019/15019 [==============================] - 1s 36us/sample - loss: 47605.0558 - mae: 37.7282 - val_loss: 20612.1113 - val_mae: 35.5275\n",
      "Epoch 45/100\n",
      "15019/15019 [==============================] - 1s 48us/sample - loss: 47368.7857 - mae: 37.4064 - val_loss: 20313.5879 - val_mae: 34.7969\n",
      "Epoch 46/100\n",
      "15019/15019 [==============================] - 1s 49us/sample - loss: 46844.8018 - mae: 36.5157 - val_loss: 19950.9424 - val_mae: 34.8585\n",
      "Epoch 47/100\n",
      "15019/15019 [==============================] - 1s 36us/sample - loss: 46829.5931 - mae: 36.5638 - val_loss: 19642.9512 - val_mae: 35.3945\n",
      "Epoch 48/100\n",
      "15019/15019 [==============================] - 1s 53us/sample - loss: 46614.9084 - mae: 36.3022 - val_loss: 18110.5746 - val_mae: 34.0147\n",
      "Epoch 49/100\n",
      "15019/15019 [==============================] - 1s 50us/sample - loss: 45576.6787 - mae: 36.1875 - val_loss: 19796.0105 - val_mae: 34.0117\n",
      "Epoch 50/100\n",
      "15019/15019 [==============================] - 1s 40us/sample - loss: 46040.1800 - mae: 35.4304 - val_loss: 18350.1896 - val_mae: 33.6531\n",
      "Epoch 51/100\n",
      "15019/15019 [==============================] - 1s 43us/sample - loss: 44905.6599 - mae: 34.8169 - val_loss: 19048.5541 - val_mae: 33.6694\n",
      "Epoch 52/100\n",
      "15019/15019 [==============================] - 1s 40us/sample - loss: 45135.2844 - mae: 34.8862 - val_loss: 18387.0805 - val_mae: 33.1304\n",
      "Epoch 53/100\n",
      "15019/15019 [==============================] - 1s 40us/sample - loss: 44842.7723 - mae: 34.9133 - val_loss: 18251.2527 - val_mae: 33.1495\n",
      "Epoch 54/100\n",
      "15019/15019 [==============================] - 1s 42us/sample - loss: 44444.8575 - mae: 34.5485 - val_loss: 17982.2772 - val_mae: 33.9286\n",
      "Epoch 55/100\n",
      "15019/15019 [==============================] - 1s 49us/sample - loss: 43411.8951 - mae: 34.3624 - val_loss: 17339.3944 - val_mae: 32.8907\n",
      "Epoch 56/100\n",
      "15019/15019 [==============================] - 1s 46us/sample - loss: 43400.9696 - mae: 33.6408 - val_loss: 16456.4072 - val_mae: 31.4798\n",
      "Epoch 57/100\n",
      "15019/15019 [==============================] - 1s 41us/sample - loss: 43247.8700 - mae: 32.9444 - val_loss: 16265.1476 - val_mae: 31.3394\n",
      "Epoch 58/100\n",
      "15019/15019 [==============================] - 1s 39us/sample - loss: 42637.2113 - mae: 32.4843 - val_loss: 16629.7347 - val_mae: 31.0144\n",
      "Epoch 59/100\n",
      "15019/15019 [==============================] - 1s 41us/sample - loss: 42557.8150 - mae: 32.4100 - val_loss: 16111.4815 - val_mae: 30.9308\n",
      "Epoch 60/100\n",
      "15019/15019 [==============================] - 1s 41us/sample - loss: 42033.6402 - mae: 32.5806 - val_loss: 15536.5943 - val_mae: 30.6911\n",
      "Epoch 61/100\n",
      "15019/15019 [==============================] - 1s 40us/sample - loss: 41272.8675 - mae: 31.6168 - val_loss: 15119.8445 - val_mae: 29.5262\n",
      "Epoch 62/100\n",
      "15019/15019 [==============================] - 1s 38us/sample - loss: 41194.3833 - mae: 31.2801 - val_loss: 14914.2071 - val_mae: 30.0645\n",
      "Epoch 63/100\n",
      "15019/15019 [==============================] - 1s 39us/sample - loss: 40721.0001 - mae: 30.7743 - val_loss: 14760.7004 - val_mae: 28.9455\n",
      "Epoch 64/100\n",
      "15019/15019 [==============================] - 1s 39us/sample - loss: 40101.4532 - mae: 30.1045 - val_loss: 14552.8336 - val_mae: 28.2225\n",
      "Epoch 65/100\n",
      "15019/15019 [==============================] - 1s 38us/sample - loss: 39954.6616 - mae: 30.1079 - val_loss: 13210.9579 - val_mae: 28.4572\n",
      "Epoch 66/100\n",
      "15019/15019 [==============================] - 1s 42us/sample - loss: 39425.7183 - mae: 29.7056 - val_loss: 13616.3492 - val_mae: 28.0092\n",
      "Epoch 67/100\n",
      "15019/15019 [==============================] - 1s 42us/sample - loss: 38824.7866 - mae: 29.0083 - val_loss: 13544.4206 - val_mae: 27.3873\n",
      "Epoch 68/100\n",
      "15019/15019 [==============================] - 1s 38us/sample - loss: 38292.6711 - mae: 28.4730 - val_loss: 13174.6830 - val_mae: 26.8439\n",
      "Epoch 69/100\n",
      "15019/15019 [==============================] - 1s 39us/sample - loss: 38257.7609 - mae: 28.3250 - val_loss: 12982.5019 - val_mae: 26.5467\n",
      "Epoch 70/100\n",
      "15019/15019 [==============================] - 1s 44us/sample - loss: 37632.1603 - mae: 27.8314 - val_loss: 12514.8275 - val_mae: 26.0974\n",
      "Epoch 71/100\n",
      "15019/15019 [==============================] - 1s 43us/sample - loss: 36936.5093 - mae: 27.4757 - val_loss: 12296.2215 - val_mae: 26.0363\n",
      "Epoch 72/100\n",
      "15019/15019 [==============================] - 1s 45us/sample - loss: 37043.6147 - mae: 27.4145 - val_loss: 12002.6090 - val_mae: 25.6461\n",
      "Epoch 73/100\n",
      "15019/15019 [==============================] - 1s 42us/sample - loss: 36286.0968 - mae: 26.4131 - val_loss: 11468.0718 - val_mae: 24.5844\n",
      "Epoch 74/100\n",
      "15019/15019 [==============================] - 1s 38us/sample - loss: 36155.3537 - mae: 26.2922 - val_loss: 11486.3810 - val_mae: 24.6053\n",
      "Epoch 75/100\n",
      "15019/15019 [==============================] - 1s 39us/sample - loss: 35703.6995 - mae: 26.3425 - val_loss: 11254.7025 - val_mae: 24.2148\n",
      "Epoch 76/100\n",
      "15019/15019 [==============================] - 1s 44us/sample - loss: 35647.5502 - mae: 25.6203 - val_loss: 11202.6451 - val_mae: 24.0552\n",
      "Epoch 77/100\n",
      "15019/15019 [==============================] - 1s 42us/sample - loss: 35457.3906 - mae: 25.5104 - val_loss: 10653.4465 - val_mae: 24.0735\n",
      "Epoch 78/100\n",
      "15019/15019 [==============================] - 1s 39us/sample - loss: 34415.2773 - mae: 25.0472 - val_loss: 10632.7752 - val_mae: 23.2483\n",
      "Epoch 79/100\n",
      "15019/15019 [==============================] - 1s 39us/sample - loss: 34531.2142 - mae: 25.1975 - val_loss: 10633.6182 - val_mae: 23.8287\n",
      "Epoch 80/100\n",
      "15019/15019 [==============================] - 1s 40us/sample - loss: 33906.1217 - mae: 25.3064 - val_loss: 10222.4055 - val_mae: 23.5952\n",
      "Epoch 81/100\n",
      "15019/15019 [==============================] - 1s 39us/sample - loss: 33689.2108 - mae: 24.5532 - val_loss: 10241.4241 - val_mae: 23.5369\n",
      "Epoch 82/100\n",
      "15019/15019 [==============================] - 1s 43us/sample - loss: 33405.2032 - mae: 24.3569 - val_loss: 10098.6328 - val_mae: 23.3441\n",
      "Epoch 83/100\n",
      "15019/15019 [==============================] - 1s 47us/sample - loss: 33044.9184 - mae: 24.2660 - val_loss: 9771.6270 - val_mae: 22.7993\n",
      "Epoch 84/100\n",
      "15019/15019 [==============================] - 1s 46us/sample - loss: 32833.8580 - mae: 23.5872 - val_loss: 9667.7203 - val_mae: 21.9689\n",
      "Epoch 85/100\n",
      "15019/15019 [==============================] - 1s 40us/sample - loss: 32164.4241 - mae: 23.8796 - val_loss: 9774.2713 - val_mae: 22.3510\n",
      "Epoch 86/100\n",
      "15019/15019 [==============================] - 1s 55us/sample - loss: 32101.4237 - mae: 23.8906 - val_loss: 9358.1618 - val_mae: 22.0891\n",
      "Epoch 87/100\n",
      "15019/15019 [==============================] - 1s 41us/sample - loss: 32137.0781 - mae: 23.5142 - val_loss: 8920.1454 - val_mae: 22.8280\n",
      "Epoch 88/100\n",
      "15019/15019 [==============================] - 1s 62us/sample - loss: 31391.8256 - mae: 23.0491 - val_loss: 9362.1269 - val_mae: 21.9305\n",
      "Epoch 89/100\n",
      "15019/15019 [==============================] - 1s 40us/sample - loss: 31155.3002 - mae: 23.0812 - val_loss: 9474.3160 - val_mae: 21.6799\n",
      "Epoch 90/100\n",
      "15019/15019 [==============================] - 1s 39us/sample - loss: 31036.7883 - mae: 23.2107 - val_loss: 9240.1026 - val_mae: 21.4635\n",
      "Epoch 91/100\n",
      "15019/15019 [==============================] - 1s 41us/sample - loss: 30393.9013 - mae: 23.0246 - val_loss: 9093.4810 - val_mae: 21.6842\n",
      "Epoch 92/100\n",
      "15019/15019 [==============================] - 1s 40us/sample - loss: 30044.4244 - mae: 22.5340 - val_loss: 9007.3959 - val_mae: 21.0991\n",
      "Epoch 93/100\n",
      "15019/15019 [==============================] - 1s 39us/sample - loss: 30143.8929 - mae: 22.6261 - val_loss: 8697.4320 - val_mae: 21.2102\n",
      "Epoch 94/100\n",
      "15019/15019 [==============================] - 1s 39us/sample - loss: 29432.3027 - mae: 22.0994 - val_loss: 8615.4254 - val_mae: 22.2164\n",
      "Epoch 95/100\n",
      "15019/15019 [==============================] - 1s 46us/sample - loss: 28855.1457 - mae: 21.9876 - val_loss: 8864.0331 - val_mae: 20.8171\n",
      "Epoch 96/100\n",
      "15019/15019 [==============================] - 1s 39us/sample - loss: 28818.9615 - mae: 22.0004 - val_loss: 8564.0000 - val_mae: 21.6702\n",
      "Epoch 97/100\n",
      "15019/15019 [==============================] - 1s 40us/sample - loss: 28745.3736 - mae: 22.1471 - val_loss: 8511.5044 - val_mae: 20.4333\n",
      "Epoch 98/100\n",
      "15019/15019 [==============================] - 1s 39us/sample - loss: 28169.8713 - mae: 21.6297 - val_loss: 8609.9108 - val_mae: 20.8972\n",
      "Epoch 99/100\n",
      "15019/15019 [==============================] - 1s 40us/sample - loss: 28046.0722 - mae: 21.6763 - val_loss: 8712.8794 - val_mae: 20.2063\n",
      "Epoch 100/100\n",
      "15019/15019 [==============================] - 1s 39us/sample - loss: 27309.6810 - mae: 21.6294 - val_loss: 8268.5450 - val_mae: 20.7680\n"
     ]
    }
   ],
   "source": [
    "model10col = Sequential()\n",
    "model10col.add(Dense(32, activation='relu', input_dim=X_train.shape[1]))\n",
    "model10col.add(Dense(16, activation='relu'))\n",
    "model10col.add(Dense(8, activation='relu'))\n",
    "model10col.add(Dense(1, activation=None))\n",
    "\n",
    "model10col.compile(loss='mse', optimizer='adam', metrics=['mae'])\n",
    "\n",
    "results10col = model10col.fit(X_train_sc, y_train, epochs=100, batch_size=256, validation_data=(X_test_sc, y_test))\n",
    "\n"
   ]
  },
  {
   "cell_type": "code",
   "execution_count": 122,
   "metadata": {},
   "outputs": [
    {
     "data": {
      "text/plain": [
       "[<matplotlib.lines.Line2D at 0x7fb6b709c610>]"
      ]
     },
     "execution_count": 122,
     "metadata": {},
     "output_type": "execute_result"
    },
    {
     "data": {
      "image/png": "[encoded data removed]",
      "text/plain": [
       "<Figure size 864x576 with 1 Axes>"
      ]
     },
     "metadata": {
      "needs_background": "light"
     },
     "output_type": "display_data"
    }
   ],
   "source": [
    "train_loss10col = results10col.history['loss']\n",
    "test_loss10col = results10col.history['val_loss']\n",
    "\n",
    "plt.figure(figsize=(12, 8))\n",
    "plt.plot(train_loss10col, label='Training loss', color='red')\n",
    "plt.plot(test_loss10col, label='Testing loss', color='pink')\n"
   ]
  },
  {
   "cell_type": "code",
   "execution_count": 124,
   "metadata": {},
   "outputs": [
    {
     "name": "stdout",
     "output_type": "stream",
     "text": [
      "Neural Net, only 10 features, no reg. R2=0.9651001208639702, RMS=90.93154355709255\n"
     ]
    },
    {
     "data": {
      "image/png": "[encoded data removed]",
      "text/plain": [
       "<Figure size 432x288 with 1 Axes>"
      ]
     },
     "metadata": {
      "needs_background": "light"
     },
     "output_type": "display_data"
    }
   ],
   "source": [
    "\n",
    "preds_10col = model10col.predict(X_test_sc)\n",
    "plt.scatter(y_test/60,preds_10col/60);\n",
    "plt.plot([0,200],[0,200]);\n",
    "plt.title('NYC EMS Response Time (minutes)');\n",
    "plt.xlabel('Actual Time');\n",
    "plt.ylabel('Predicted Time - 10 col');\n",
    "\n",
    "print(f'Neural Net, only 10 features, no reg. R2={r2_score(y_test,preds_10col)}, RMS={mean_squared_error(y_test,preds_10col,squared=False)}')\n"
   ]
  },
  {
   "cell_type": "code",
   "execution_count": 179,
   "metadata": {},
   "outputs": [
    {
     "data": {
      "image/png": "[encoded data removed]",
      "text/plain": [
       "<Figure size 432x288 with 1 Axes>"
      ]
     },
     "metadata": {
      "needs_background": "light"
     },
     "output_type": "display_data"
    }
   ],
   "source": [
    "TT = results_df['INCIDENT_TRAVEL_TM_SECONDS_QY']\n",
    "\n",
    "plt.scatter(y,TT);"
   ]
  },
  {
   "cell_type": "code",
   "execution_count": 182,
   "metadata": {},
   "outputs": [
    {
     "data": {
      "image/png": "[encoded data removed]",
      "text/plain": [
       "<Figure size 432x288 with 1 Axes>"
      ]
     },
     "metadata": {
      "needs_background": "light"
     },
     "output_type": "display_data"
    }
   ],
   "source": [
    "diff = y - TT\n",
    "plt.hist(diff,100);"
   ]
  },
  {
   "cell_type": "code",
   "execution_count": 183,
   "metadata": {},
   "outputs": [
    {
     "data": {
      "text/plain": [
       "count    20026.000000\n",
       "mean        74.052781\n",
       "std        342.672676\n",
       "min          0.000000\n",
       "25%         15.000000\n",
       "50%         25.000000\n",
       "75%         47.000000\n",
       "max      21589.000000\n",
       "Name: INCIDENT_TRAVEL_TM_SECONDS_QY, dtype: float64"
      ]
     },
     "execution_count": 183,
     "metadata": {},
     "output_type": "execute_result"
    }
   ],
   "source": [
    "diff.describe()"
   ]
  },
  {
   "cell_type": "code",
   "execution_count": 190,
   "metadata": {},
   "outputs": [
    {
     "data": {
      "text/plain": [
       "95.08139418755617"
      ]
     },
     "execution_count": 190,
     "metadata": {},
     "output_type": "execute_result"
    }
   ],
   "source": [
    "sum([1 if d<=180 else 0 for d in diff])*100/len(diff)"
   ]
  },
  {
   "cell_type": "code",
   "execution_count": 194,
   "metadata": {},
   "outputs": [],
   "source": [
    "TT_low = []\n",
    "TT_high = []\n",
    "DT_low = []\n",
    "DT_high = []\n",
    "for n,d in enumerate(diff):\n",
    "    if d<=180:\n",
    "        TT_low.append(TT[n])\n",
    "        DT_low.append(d)\n",
    "    else:\n",
    "        TT_high.append(TT[n])\n",
    "        DT_high.append(d)"
   ]
  },
  {
   "cell_type": "code",
   "execution_count": 195,
   "metadata": {},
   "outputs": [
    {
     "data": {
      "image/png": "[encoded data removed]",
      "text/plain": [
       "<Figure size 432x288 with 1 Axes>"
      ]
     },
     "metadata": {
      "needs_background": "light"
     },
     "output_type": "display_data"
    }
   ],
   "source": [
    "plt.scatter(DT_low, TT_low);\n"
   ]
  },
  {
   "cell_type": "code",
   "execution_count": 196,
   "metadata": {},
   "outputs": [
    {
     "data": {
      "image/png": "[encoded data removed]",
      "text/plain": [
       "<Figure size 432x288 with 1 Axes>"
      ]
     },
     "metadata": {
      "needs_background": "light"
     },
     "output_type": "display_data"
    }
   ],
   "source": [
    "plt.scatter(DT_high, TT_high);"
   ]
  },
  {
   "cell_type": "code",
   "execution_count": 197,
   "metadata": {},
   "outputs": [],
   "source": [
    "from sklearn.linear_model import LinearRegression"
   ]
  },
  {
   "cell_type": "code",
   "execution_count": 208,
   "metadata": {},
   "outputs": [
    {
     "data": {
      "text/plain": [
       "Index(['CAD_INCIDENT_ID', 'INITIAL_SEVERITY_LEVEL_CODE',\n",
       "       'FINAL_SEVERITY_LEVEL_CODE', 'FIRST_ASSIGNMENT_DATETIME',\n",
       "       'VALID_DISPATCH_RSPNS_TIME_INDC', 'DISPATCH_RESPONSE_SECONDS_QY',\n",
       "       'FIRST_ACTIVATION_DATETIME', 'VALID_INCIDENT_RSPNS_TIME_INDC',\n",
       "       'INCIDENT_RESPONSE_SECONDS_QY', 'INCIDENT_TRAVEL_TM_SECONDS_QY',\n",
       "       'INCIDENT_CLOSE_DATETIME', 'HELD_INDICATOR', 'REOPEN_INDICATOR',\n",
       "       'SPECIAL_EVENT_INDICATOR', 'STANDBY_INDICATOR', 'TRANSFER_INDICATOR',\n",
       "       'INITIAL_CALL_TYPE_ABDPN', 'INITIAL_CALL_TYPE_ACC',\n",
       "       'INITIAL_CALL_TYPE_ALTMEN', 'INITIAL_CALL_TYPE_AMPMAJ',\n",
       "       'INITIAL_CALL_TYPE_AMPMIN', 'INITIAL_CALL_TYPE_ANAPFC',\n",
       "       'INITIAL_CALL_TYPE_ANAPH', 'INITIAL_CALL_TYPE_ARREFC',\n",
       "       'INITIAL_CALL_TYPE_ARREST', 'INITIAL_CALL_TYPE_ASTHFC',\n",
       "       'INITIAL_CALL_TYPE_ASTHMA', 'INITIAL_CALL_TYPE_ASTHMB',\n",
       "       'INITIAL_CALL_TYPE_BURNMA', 'INITIAL_CALL_TYPE_BURNMI'],\n",
       "      dtype='object')"
      ]
     },
     "execution_count": 208,
     "metadata": {},
     "output_type": "execute_result"
    }
   ],
   "source": [
    "results_df.columns[:30]"
   ]
  },
  {
   "cell_type": "code",
   "execution_count": 214,
   "metadata": {
    "tags": []
   },
   "outputs": [
    {
     "data": {
      "text/plain": [
       "((15019, 1), (15019,))"
      ]
     },
     "execution_count": 214,
     "metadata": {},
     "output_type": "execute_result"
    }
   ],
   "source": [
    "X = results_df[['INCIDENT_TRAVEL_TM_SECONDS_QY']]\n",
    "X_train, X_test, y_train, y_test = train_test_split(X,y,random_state=42)\n",
    "X_train.shape, y_train.shape"
   ]
  },
  {
   "cell_type": "code",
   "execution_count": 215,
   "metadata": {},
   "outputs": [],
   "source": [
    "lr = LinearRegression()"
   ]
  },
  {
   "cell_type": "code",
   "execution_count": 216,
   "metadata": {},
   "outputs": [
    {
     "data": {
      "text/plain": [
       "LinearRegression()"
      ]
     },
     "execution_count": 216,
     "metadata": {},
     "output_type": "execute_result"
    }
   ],
   "source": [
    "lr.fit(X_train,y_train)"
   ]
  },
  {
   "cell_type": "code",
   "execution_count": 217,
   "metadata": {},
   "outputs": [
    {
     "data": {
      "text/plain": [
       "(0.5169516215291659, 0.6272394459972384)"
      ]
     },
     "execution_count": 217,
     "metadata": {},
     "output_type": "execute_result"
    }
   ],
   "source": [
    "lr.score(X_train,y_train), lr.score(X_test,y_test)"
   ]
  },
  {
   "cell_type": "code",
   "execution_count": 218,
   "metadata": {},
   "outputs": [
    {
     "data": {
      "image/png": "[encoded data removed]",
      "text/plain": [
       "<Figure size 432x288 with 1 Axes>"
      ]
     },
     "metadata": {
      "needs_background": "light"
     },
     "output_type": "display_data"
    }
   ],
   "source": [
    "pr = lr.predict(X_test)\n",
    "\n",
    "plt.scatter(y_test,pr);"
   ]
  },
  {
   "cell_type": "code",
   "execution_count": 221,
   "metadata": {},
   "outputs": [
    {
     "data": {
      "text/plain": [
       "(12.125745151931028, array([1.13801881]))"
      ]
     },
     "execution_count": 221,
     "metadata": {},
     "output_type": "execute_result"
    }
   ],
   "source": [
    "lr.intercept_,lr.coef_"
   ]
  },
  {
   "cell_type": "code",
   "execution_count": 222,
   "metadata": {},
   "outputs": [],
   "source": [
    "pr_chk = lr.intercept_ + lr.coef_*X_test"
   ]
  },
  {
   "cell_type": "code",
   "execution_count": 223,
   "metadata": {},
   "outputs": [
    {
     "data": {
      "image/png": "[encoded data removed]",
      "text/plain": [
       "<Figure size 432x288 with 1 Axes>"
      ]
     },
     "metadata": {
      "needs_background": "light"
     },
     "output_type": "display_data"
    }
   ],
   "source": [
    "plt.scatter(pr,pr_chk);"
   ]
  },
  {
   "cell_type": "code",
   "execution_count": 226,
   "metadata": {},
   "outputs": [
    {
     "data": {
      "text/plain": [
       "297.1786298639616"
      ]
     },
     "execution_count": 226,
     "metadata": {},
     "output_type": "execute_result"
    }
   ],
   "source": [
    "mean_squared_error(y_test,pr,squared=False)"
   ]
  },
  {
   "cell_type": "code",
   "execution_count": null,
   "metadata": {},
   "outputs": [],
   "source": []
  }
 ],
 "metadata": {
  "kernelspec": {
   "display_name": "Python 3",
   "language": "python",
   "name": "python3"
  },
  "language_info": {
   "codemirror_mode": {
    "name": "ipython",
    "version": 3
   },
   "file_extension": ".py",
   "mimetype": "text/x-python",
   "name": "python",
   "nbconvert_exporter": "python",
   "pygments_lexer": "ipython3",
   "version": "3.7.10"
  }
 },
 "nbformat": 4,
 "nbformat_minor": 4
}
