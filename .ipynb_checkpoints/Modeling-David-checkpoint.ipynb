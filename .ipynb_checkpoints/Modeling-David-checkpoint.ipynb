{
 "cells": [
  {
   "cell_type": "code",
   "execution_count": 26,
   "metadata": {},
   "outputs": [],
   "source": [
    "import pandas as pd\n",
    "import numpy as np\n",
    "import matplotlib.pyplot as plot\n",
    "import seaborn as sns\n",
    "\n",
    "# data prep\n",
    "from sklearn.model_selection import train_test_split, GridSearchCV\n",
    "from sklearn.linear_model import LinearRegression, Lasso, Ridge\n",
    "from sklearn.preprocessing import StandardScaler\n",
    "from sklearn.pipeline import make_pipeline, Pipeline\n",
    "\n",
    "# imports modeling\n",
    "\n",
    "from sklearn.linear_model import LogisticRegression\n",
    "from sklearn.ensemble import RandomForestRegressor\n",
    "\n",
    "\n",
    "# sklearn metrics\n",
    "from sklearn.metrics import confusion_matrix, ConfusionMatrixDisplay, accuracy_score"
   ]
  },
  {
   "cell_type": "code",
   "execution_count": 27,
   "metadata": {},
   "outputs": [],
   "source": [
    "df = pd.read_csv('./data/calls_weather_tfk.csv')\n",
    "df.drop(columns=['Unnamed: 0','STATION','NAME','DATE'],inplace=True)\n",
    "\n",
    "X = df.drop(columns=['num_calls','BRONX','BROOKLYN','MANHATTAN','QUEENS','RICHMOND / STATEN ISLAND','UNKNOWN'])\n",
    "y = df['num_calls']\n",
    "\n",
    "X_train, X_test, y_train, y_test = train_test_split(X,y,random_state=42)\n",
    "\n",
    "sc = StandardScaler()\n",
    "\n",
    "Z_train = sc.fit_transform(X_train)\n",
    "Z_test = sc.transform(X_test)"
   ]
  },
  {
   "cell_type": "code",
   "execution_count": 30,
   "metadata": {},
   "outputs": [
    {
     "data": {
      "text/plain": [
       "(0.865073433053966, 0.8108211579889563)"
      ]
     },
     "execution_count": 30,
     "metadata": {},
     "output_type": "execute_result"
    }
   ],
   "source": [
    "# construct model\n",
    "rf = RandomForestRegressor()\n",
    "\n",
    "# GS params\n",
    "rf_param = {\n",
    "    'n_estimators': [200],\n",
    "    'max_depth': [10]\n",
    "}\n",
    "\n",
    "gs = GridSearchCV(rf, param_grid=rf_param, cv=5)\n",
    "\n",
    "# fit & score\n",
    "gs.fit(Z_train, y_train)\n",
    "gs.score(Z_train, y_train), gs.score(Z_test, y_test)"
   ]
  }
 ],
 "metadata": {
  "kernelspec": {
   "display_name": "Python 3",
   "language": "python",
   "name": "python3"
  },
  "language_info": {
   "codemirror_mode": {
    "name": "ipython",
    "version": 3
   },
   "file_extension": ".py",
   "mimetype": "text/x-python",
   "name": "python",
   "nbconvert_exporter": "python",
   "pygments_lexer": "ipython3",
   "version": "3.8.5"
  }
 },
 "nbformat": 4,
 "nbformat_minor": 4
}
