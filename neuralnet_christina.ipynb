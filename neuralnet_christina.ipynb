{
 "cells": [
  {
   "cell_type": "markdown",
   "metadata": {},
   "source": [
    "This was for neural net modeling of our original problem statement (predicting response time). It is no longer needed."
   ]
  },
  {
   "cell_type": "code",
   "execution_count": 1,
   "metadata": {},
   "outputs": [],
   "source": [
    "\n",
    "import numpy as np\n",
    "import pandas as pd\n",
    "\n",
    "import matplotlib.pyplot as plt\n",
    "import seaborn as sns\n",
    "\n",
    "from sklearn.model_selection import train_test_split\n",
    "from sklearn.preprocessing import StandardScaler\n",
    "\n",
    "from tensorflow.keras.models import Sequential\n",
    "from tensorflow.keras.layers import Dense, Input\n"
   ]
  },
  {
   "cell_type": "code",
   "execution_count": 2,
   "metadata": {
    "tags": []
   },
   "outputs": [],
   "source": [
    "# load in data (this uses the clean EMS data merged with weather data):\n",
    "results_df = pd.read_csv('data/ems_weather.csv').drop(columns=['Unnamed: 0'])\n",
    "features = results_df.columns"
   ]
  },
  {
   "cell_type": "code",
   "execution_count": 3,
   "metadata": {
    "tags": []
   },
   "outputs": [
    {
     "data": {
      "text/plain": [
       "(2005, 2021)"
      ]
     },
     "execution_count": 3,
     "metadata": {},
     "output_type": "execute_result"
    }
   ],
   "source": [
    "# What is the time range?\n",
    "results_df['CALL_YEAR'].min(), results_df['CALL_YEAR'].max()"
   ]
  },
  {
   "cell_type": "code",
   "execution_count": 4,
   "metadata": {
    "tags": []
   },
   "outputs": [
    {
     "data": {
      "text/html": [
       "<div>\n",
       "<style scoped>\n",
       "    .dataframe tbody tr th:only-of-type {\n",
       "        vertical-align: middle;\n",
       "    }\n",
       "\n",
       "    .dataframe tbody tr th {\n",
       "        vertical-align: top;\n",
       "    }\n",
       "\n",
       "    .dataframe thead th {\n",
       "        text-align: right;\n",
       "    }\n",
       "</style>\n",
       "<table border=\"1\" class=\"dataframe\">\n",
       "  <thead>\n",
       "    <tr style=\"text-align: right;\">\n",
       "      <th></th>\n",
       "      <th>column</th>\n",
       "      <th>NULLS</th>\n",
       "    </tr>\n",
       "  </thead>\n",
       "  <tbody>\n",
       "    <tr>\n",
       "      <th>847</th>\n",
       "      <td>AWND</td>\n",
       "      <td>831</td>\n",
       "    </tr>\n",
       "  </tbody>\n",
       "</table>\n",
       "</div>"
      ],
      "text/plain": [
       "    column  NULLS\n",
       "847   AWND    831"
      ]
     },
     "execution_count": 4,
     "metadata": {},
     "output_type": "execute_result"
    }
   ],
   "source": [
    "#check for NULLS:\n",
    "\n",
    "columns = results_df.columns\n",
    "d = []\n",
    "for col in columns:\n",
    "    nulls = results_df[col].isna().sum()\n",
    "    d.append({'column': col, 'NULLS': nulls})\n",
    "chk = pd.DataFrame(d)\n",
    "chk[chk['NULLS']>0]"
   ]
  },
  {
   "cell_type": "markdown",
   "metadata": {},
   "source": [
    "SELECT COLUMNS "
   ]
  },
  {
   "cell_type": "code",
   "execution_count": 5,
   "metadata": {
    "tags": []
   },
   "outputs": [],
   "source": [
    "y = np.array(results_df['INCIDENT_RESPONSE_SECONDS_QY'])\n",
    "\n",
    "# definitely drop these:\n",
    "drop_features = ['INCIDENT_RESPONSE_SECONDS_QY', \n",
    "                 'CAD_INCIDENT_ID', \n",
    "                 'FIRST_ASSIGNMENT_DATETIME', \n",
    "                 'INCIDENT_TRAVEL_TM_SECONDS_QY']\n",
    "# suggest dropping these, because we have so much redundant location information: \n",
    "drop_features += list(features[230:594]) # zip codes\n",
    "drop_features += list(features[670:831]) # city council district, community district, community school dist, congressional district\n",
    "\n",
    "drop_features += ['AWND'] # because it has too many NULL values.\n",
    "\n",
    "# transform into np.array for neural net modeling:\n",
    "X = np.array(results_df.drop(columns=drop_features))\n",
    "\n"
   ]
  },
  {
   "cell_type": "markdown",
   "metadata": {},
   "source": [
    "FIRST NEURAL NET MODEL, ALL FEATURES"
   ]
  },
  {
   "cell_type": "code",
   "execution_count": 6,
   "metadata": {
    "tags": []
   },
   "outputs": [],
   "source": [
    "\n",
    "# Train/test split\n",
    "X_train, X_test, y_train, y_test = train_test_split(X,y,random_state=42)\n",
    "\n",
    "# Scale data\n",
    "sc = StandardScaler()\n",
    "X_train_sc = sc.fit_transform(X_train)\n",
    "X_test_sc = sc.transform(X_test)\n"
   ]
  },
  {
   "cell_type": "code",
   "execution_count": 7,
   "metadata": {},
   "outputs": [
    {
     "data": {
      "text/plain": [
       "(15019, 324)"
      ]
     },
     "execution_count": 7,
     "metadata": {},
     "output_type": "execute_result"
    }
   ],
   "source": [
    "X_train.shape"
   ]
  },
  {
   "cell_type": "code",
   "execution_count": 8,
   "metadata": {},
   "outputs": [
    {
     "data": {
      "text/plain": [
       "6.797963495952865"
      ]
     },
     "execution_count": 8,
     "metadata": {},
     "output_type": "execute_result"
    }
   ],
   "source": [
    "# Estimate how many nodes to use, as a first cut:\n",
    "np.power(15019/325,.5)"
   ]
  },
  {
   "cell_type": "code",
   "execution_count": 16,
   "metadata": {},
   "outputs": [
    {
     "name": "stdout",
     "output_type": "stream",
     "text": [
      "Epoch 1/100\n",
      "59/59 [==============================] - 1s 9ms/step - loss: 523041.2083 - mae: 527.3245 - val_loss: 515032.7812 - val_mae: 527.4952\n",
      "Epoch 2/100\n",
      "59/59 [==============================] - 0s 8ms/step - loss: 567078.7203 - mae: 528.1364 - val_loss: 496481.9688 - val_mae: 511.9111\n",
      "Epoch 3/100\n",
      "59/59 [==============================] - 0s 6ms/step - loss: 454963.5797 - mae: 488.6115 - val_loss: 389961.5312 - val_mae: 416.7817\n",
      "Epoch 4/100\n",
      "59/59 [==============================] - 0s 5ms/step - loss: 303063.8667 - mae: 365.4428 - val_loss: 218779.7656 - val_mae: 258.3721\n",
      "Epoch 5/100\n",
      "59/59 [==============================] - 0s 5ms/step - loss: 296006.7807 - mae: 251.9269 - val_loss: 178890.3281 - val_mae: 239.0426\n",
      "Epoch 6/100\n",
      "59/59 [==============================] - 0s 6ms/step - loss: 182100.7318 - mae: 232.2896 - val_loss: 164278.5000 - val_mae: 233.2751\n",
      "Epoch 7/100\n",
      "59/59 [==============================] - 0s 6ms/step - loss: 145307.6574 - mae: 222.4557 - val_loss: 153499.3594 - val_mae: 231.3547\n",
      "Epoch 8/100\n",
      "59/59 [==============================] - 0s 6ms/step - loss: 148394.5854 - mae: 221.2962 - val_loss: 142990.2812 - val_mae: 224.5188\n",
      "Epoch 9/100\n",
      "59/59 [==============================] - 0s 6ms/step - loss: 153176.5806 - mae: 216.6429 - val_loss: 134317.9688 - val_mae: 217.6255\n",
      "Epoch 10/100\n",
      "59/59 [==============================] - 0s 5ms/step - loss: 119380.2533 - mae: 211.5872 - val_loss: 127209.0078 - val_mae: 217.8857\n",
      "Epoch 11/100\n",
      "59/59 [==============================] - 0s 5ms/step - loss: 118236.5374 - mae: 209.0057 - val_loss: 121752.1875 - val_mae: 212.6140\n",
      "Epoch 12/100\n",
      "59/59 [==============================] - 0s 5ms/step - loss: 128887.2781 - mae: 207.1387 - val_loss: 117439.4531 - val_mae: 209.6063\n",
      "Epoch 13/100\n",
      "59/59 [==============================] - 0s 6ms/step - loss: 103930.2923 - mae: 200.5514 - val_loss: 114144.8359 - val_mae: 209.4246\n",
      "Epoch 14/100\n",
      "59/59 [==============================] - 0s 6ms/step - loss: 103769.8402 - mae: 199.7366 - val_loss: 111970.2188 - val_mae: 207.0754\n",
      "Epoch 15/100\n",
      "59/59 [==============================] - 0s 5ms/step - loss: 93187.5355 - mae: 194.0897 - val_loss: 110407.3984 - val_mae: 208.4780\n",
      "Epoch 16/100\n",
      "59/59 [==============================] - 0s 6ms/step - loss: 104658.6328 - mae: 200.7257 - val_loss: 108792.7031 - val_mae: 204.0777\n",
      "Epoch 17/100\n",
      "59/59 [==============================] - 0s 6ms/step - loss: 91905.3801 - mae: 191.0447 - val_loss: 107415.5938 - val_mae: 207.0245\n",
      "Epoch 18/100\n",
      "59/59 [==============================] - 0s 5ms/step - loss: 105864.6962 - mae: 198.1692 - val_loss: 106578.1875 - val_mae: 204.2384\n",
      "Epoch 19/100\n",
      "59/59 [==============================] - 0s 6ms/step - loss: 99236.0271 - mae: 195.2261 - val_loss: 105758.5781 - val_mae: 202.8519\n",
      "Epoch 20/100\n",
      "59/59 [==============================] - 0s 5ms/step - loss: 88467.7215 - mae: 188.0356 - val_loss: 104612.6406 - val_mae: 204.9255\n",
      "Epoch 21/100\n",
      "59/59 [==============================] - 0s 6ms/step - loss: 86030.5993 - mae: 189.8560 - val_loss: 104034.6328 - val_mae: 201.8189\n",
      "Epoch 22/100\n",
      "59/59 [==============================] - 0s 6ms/step - loss: 92300.7490 - mae: 188.5190 - val_loss: 103605.2188 - val_mae: 203.4180\n",
      "Epoch 23/100\n",
      "59/59 [==============================] - 0s 6ms/step - loss: 82695.9319 - mae: 188.4040 - val_loss: 103218.9531 - val_mae: 201.2393\n",
      "Epoch 24/100\n",
      "59/59 [==============================] - 0s 5ms/step - loss: 84853.4508 - mae: 185.1264 - val_loss: 103585.8828 - val_mae: 201.6597\n",
      "Epoch 25/100\n",
      "59/59 [==============================] - 0s 7ms/step - loss: 87765.5589 - mae: 189.7179 - val_loss: 102603.4688 - val_mae: 202.0228\n",
      "Epoch 26/100\n",
      "59/59 [==============================] - 0s 6ms/step - loss: 85299.5936 - mae: 186.3964 - val_loss: 102483.2031 - val_mae: 202.2137\n",
      "Epoch 27/100\n",
      "59/59 [==============================] - 0s 8ms/step - loss: 87398.1023 - mae: 187.6983 - val_loss: 102208.2812 - val_mae: 201.3429\n",
      "Epoch 28/100\n",
      "59/59 [==============================] - 0s 8ms/step - loss: 89618.7677 - mae: 187.7553 - val_loss: 101924.1797 - val_mae: 202.4060\n",
      "Epoch 29/100\n",
      "59/59 [==============================] - 0s 8ms/step - loss: 80586.1564 - mae: 183.9264 - val_loss: 101759.2422 - val_mae: 201.4677\n",
      "Epoch 30/100\n",
      "59/59 [==============================] - 0s 8ms/step - loss: 84335.8518 - mae: 185.6360 - val_loss: 102115.6797 - val_mae: 199.6960\n",
      "Epoch 31/100\n",
      "59/59 [==============================] - 1s 12ms/step - loss: 83647.8747 - mae: 180.2572 - val_loss: 101511.0547 - val_mae: 203.1265\n",
      "Epoch 32/100\n",
      "59/59 [==============================] - 1s 12ms/step - loss: 80566.3294 - mae: 185.5001 - val_loss: 101634.2266 - val_mae: 200.7084\n",
      "Epoch 33/100\n",
      "59/59 [==============================] - 1s 11ms/step - loss: 89214.1033 - mae: 183.8884 - val_loss: 101252.2734 - val_mae: 202.5854\n",
      "Epoch 34/100\n",
      "59/59 [==============================] - 0s 8ms/step - loss: 87499.7988 - mae: 181.8397 - val_loss: 101158.5391 - val_mae: 203.1570\n",
      "Epoch 35/100\n",
      "59/59 [==============================] - 0s 8ms/step - loss: 81573.5240 - mae: 183.2828 - val_loss: 100916.1250 - val_mae: 203.2429\n",
      "Epoch 36/100\n",
      "59/59 [==============================] - 0s 8ms/step - loss: 83304.2311 - mae: 185.4804 - val_loss: 101395.3047 - val_mae: 200.2069\n",
      "Epoch 37/100\n",
      "59/59 [==============================] - 1s 9ms/step - loss: 80168.1517 - mae: 183.1912 - val_loss: 101332.2031 - val_mae: 200.3601\n",
      "Epoch 38/100\n",
      "59/59 [==============================] - 1s 14ms/step - loss: 80411.8706 - mae: 180.4778 - val_loss: 101557.9375 - val_mae: 200.2127\n",
      "Epoch 39/100\n",
      "59/59 [==============================] - 1s 13ms/step - loss: 87364.4995 - mae: 179.4978 - val_loss: 100956.9062 - val_mae: 202.4207\n",
      "Epoch 40/100\n",
      "59/59 [==============================] - 1s 9ms/step - loss: 79166.5293 - mae: 183.0639 - val_loss: 101793.9219 - val_mae: 200.2080\n",
      "Epoch 41/100\n",
      "59/59 [==============================] - 1s 10ms/step - loss: 82917.4223 - mae: 181.8353 - val_loss: 101135.0312 - val_mae: 202.0502\n",
      "Epoch 42/100\n",
      "59/59 [==============================] - 1s 10ms/step - loss: 76788.1206 - mae: 181.8165 - val_loss: 101286.8359 - val_mae: 200.9843\n",
      "Epoch 43/100\n",
      "59/59 [==============================] - 1s 12ms/step - loss: 82186.3934 - mae: 183.3269 - val_loss: 101162.6719 - val_mae: 201.5807\n",
      "Epoch 44/100\n",
      "59/59 [==============================] - 1s 10ms/step - loss: 83197.7844 - mae: 180.5747 - val_loss: 101193.0469 - val_mae: 202.1246\n",
      "Epoch 45/100\n",
      "59/59 [==============================] - 0s 6ms/step - loss: 85202.4912 - mae: 182.2795 - val_loss: 101217.3359 - val_mae: 201.8632\n",
      "Epoch 46/100\n",
      "59/59 [==============================] - 1s 9ms/step - loss: 79928.8811 - mae: 180.8927 - val_loss: 101330.4688 - val_mae: 201.3311\n",
      "Epoch 47/100\n",
      "59/59 [==============================] - 0s 7ms/step - loss: 75255.5050 - mae: 176.9225 - val_loss: 101301.4375 - val_mae: 201.6478\n",
      "Epoch 48/100\n",
      "59/59 [==============================] - 1s 11ms/step - loss: 79787.1743 - mae: 178.6874 - val_loss: 101046.8438 - val_mae: 203.5063\n",
      "Epoch 49/100\n",
      "59/59 [==============================] - 1s 11ms/step - loss: 80569.8704 - mae: 181.7168 - val_loss: 101031.8672 - val_mae: 202.2796\n",
      "Epoch 50/100\n",
      "59/59 [==============================] - 1s 10ms/step - loss: 74965.1185 - mae: 178.3732 - val_loss: 101205.3984 - val_mae: 202.3528\n",
      "Epoch 51/100\n",
      "59/59 [==============================] - 0s 7ms/step - loss: 75254.1339 - mae: 178.0814 - val_loss: 101291.5859 - val_mae: 201.0239\n",
      "Epoch 52/100\n",
      "59/59 [==============================] - 0s 5ms/step - loss: 73013.7739 - mae: 176.4127 - val_loss: 100866.4062 - val_mae: 202.9062\n",
      "Epoch 53/100\n",
      "59/59 [==============================] - 0s 5ms/step - loss: 73774.0697 - mae: 178.4165 - val_loss: 101165.3828 - val_mae: 202.6531\n",
      "Epoch 54/100\n",
      "59/59 [==============================] - 0s 5ms/step - loss: 74722.0759 - mae: 177.0713 - val_loss: 101350.4141 - val_mae: 201.5175\n",
      "Epoch 55/100\n",
      "59/59 [==============================] - 0s 6ms/step - loss: 82620.8839 - mae: 181.4513 - val_loss: 101689.7734 - val_mae: 200.8416\n",
      "Epoch 56/100\n",
      "59/59 [==============================] - 0s 7ms/step - loss: 71583.2201 - mae: 175.5915 - val_loss: 101042.2266 - val_mae: 203.0137\n",
      "Epoch 57/100\n",
      "59/59 [==============================] - 0s 5ms/step - loss: 75333.0904 - mae: 177.0486 - val_loss: 101139.0469 - val_mae: 203.2852\n",
      "Epoch 58/100\n",
      "59/59 [==============================] - 0s 6ms/step - loss: 77052.4057 - mae: 180.3288 - val_loss: 101178.8984 - val_mae: 202.0291\n",
      "Epoch 59/100\n",
      "59/59 [==============================] - 0s 5ms/step - loss: 74778.6831 - mae: 177.3787 - val_loss: 101492.2188 - val_mae: 201.8946\n",
      "Epoch 60/100\n",
      "59/59 [==============================] - 0s 6ms/step - loss: 76746.4631 - mae: 177.2497 - val_loss: 101357.1953 - val_mae: 203.2583\n",
      "Epoch 61/100\n",
      "59/59 [==============================] - 0s 6ms/step - loss: 70850.0953 - mae: 176.3259 - val_loss: 101295.6562 - val_mae: 203.5399\n",
      "Epoch 62/100\n",
      "59/59 [==============================] - 0s 6ms/step - loss: 73119.2181 - mae: 174.7863 - val_loss: 101299.5703 - val_mae: 204.1440\n",
      "Epoch 63/100\n",
      "59/59 [==============================] - 0s 5ms/step - loss: 72000.2810 - mae: 178.0967 - val_loss: 101479.8750 - val_mae: 202.5969\n",
      "Epoch 64/100\n",
      "59/59 [==============================] - 0s 6ms/step - loss: 73017.4726 - mae: 178.3425 - val_loss: 101328.4141 - val_mae: 203.7664\n",
      "Epoch 65/100\n",
      "59/59 [==============================] - 0s 6ms/step - loss: 75258.1598 - mae: 178.5229 - val_loss: 101561.5156 - val_mae: 203.1825\n",
      "Epoch 66/100\n",
      "59/59 [==============================] - 0s 6ms/step - loss: 76042.1551 - mae: 176.4624 - val_loss: 101489.5078 - val_mae: 205.3808\n",
      "Epoch 67/100\n",
      "59/59 [==============================] - 0s 5ms/step - loss: 69334.7600 - mae: 175.8421 - val_loss: 101567.3125 - val_mae: 203.7077\n",
      "Epoch 68/100\n",
      "59/59 [==============================] - 0s 5ms/step - loss: 73499.5538 - mae: 178.3451 - val_loss: 101897.3594 - val_mae: 203.9304\n",
      "Epoch 69/100\n",
      "59/59 [==============================] - 0s 6ms/step - loss: 74474.5352 - mae: 176.8685 - val_loss: 101782.1562 - val_mae: 203.7879\n",
      "Epoch 70/100\n",
      "59/59 [==============================] - 0s 5ms/step - loss: 75983.5543 - mae: 178.5632 - val_loss: 101924.3125 - val_mae: 202.2330\n",
      "Epoch 71/100\n",
      "59/59 [==============================] - 0s 6ms/step - loss: 77194.0268 - mae: 176.0353 - val_loss: 101811.5938 - val_mae: 203.3394\n",
      "Epoch 72/100\n",
      "59/59 [==============================] - 0s 5ms/step - loss: 65994.7881 - mae: 172.5565 - val_loss: 101577.8125 - val_mae: 205.2490\n",
      "Epoch 73/100\n",
      "59/59 [==============================] - 0s 6ms/step - loss: 69089.3422 - mae: 176.1124 - val_loss: 102062.5703 - val_mae: 205.9779\n",
      "Epoch 74/100\n",
      "59/59 [==============================] - 0s 6ms/step - loss: 71143.4877 - mae: 176.2475 - val_loss: 101782.4609 - val_mae: 203.8200\n",
      "Epoch 75/100\n",
      "59/59 [==============================] - 0s 5ms/step - loss: 75583.2706 - mae: 176.9793 - val_loss: 102013.5938 - val_mae: 204.2438\n",
      "Epoch 76/100\n",
      "59/59 [==============================] - 0s 5ms/step - loss: 70958.9483 - mae: 175.3741 - val_loss: 101954.6484 - val_mae: 205.6555\n",
      "Epoch 77/100\n",
      "59/59 [==============================] - 0s 6ms/step - loss: 74997.4237 - mae: 177.8077 - val_loss: 101904.7969 - val_mae: 204.2109\n",
      "Epoch 78/100\n",
      "59/59 [==============================] - 0s 6ms/step - loss: 74990.0336 - mae: 176.6412 - val_loss: 102149.7422 - val_mae: 204.3082\n",
      "Epoch 79/100\n",
      "59/59 [==============================] - 0s 5ms/step - loss: 68984.7552 - mae: 175.3579 - val_loss: 102216.9062 - val_mae: 203.6925\n",
      "Epoch 80/100\n",
      "59/59 [==============================] - 0s 6ms/step - loss: 69266.9765 - mae: 173.7461 - val_loss: 102541.4531 - val_mae: 205.2880\n",
      "Epoch 81/100\n",
      "59/59 [==============================] - 0s 6ms/step - loss: 72301.0279 - mae: 176.6994 - val_loss: 102588.0469 - val_mae: 203.2014\n",
      "Epoch 82/100\n",
      "59/59 [==============================] - 0s 6ms/step - loss: 73208.5516 - mae: 174.3738 - val_loss: 102451.4453 - val_mae: 204.5958\n",
      "Epoch 83/100\n",
      "59/59 [==============================] - 0s 6ms/step - loss: 75147.7169 - mae: 178.4732 - val_loss: 102232.2891 - val_mae: 205.6966\n",
      "Epoch 84/100\n",
      "59/59 [==============================] - 0s 5ms/step - loss: 66748.3219 - mae: 172.6733 - val_loss: 102433.8359 - val_mae: 205.4442\n",
      "Epoch 85/100\n",
      "59/59 [==============================] - 0s 5ms/step - loss: 68808.8665 - mae: 172.7889 - val_loss: 102526.3984 - val_mae: 205.2859\n",
      "Epoch 86/100\n",
      "59/59 [==============================] - 0s 6ms/step - loss: 75370.4820 - mae: 175.9332 - val_loss: 102642.6172 - val_mae: 204.4467\n",
      "Epoch 87/100\n",
      "59/59 [==============================] - 0s 7ms/step - loss: 81212.4758 - mae: 177.4873 - val_loss: 102938.9219 - val_mae: 205.8217\n",
      "Epoch 88/100\n",
      "59/59 [==============================] - 0s 6ms/step - loss: 71853.5008 - mae: 172.6090 - val_loss: 102801.4922 - val_mae: 207.2882\n",
      "Epoch 89/100\n",
      "59/59 [==============================] - 0s 6ms/step - loss: 71448.9950 - mae: 175.3923 - val_loss: 102899.3750 - val_mae: 205.7841\n",
      "Epoch 90/100\n",
      "59/59 [==============================] - 0s 6ms/step - loss: 69414.7658 - mae: 172.3214 - val_loss: 103093.2344 - val_mae: 204.7543\n",
      "Epoch 91/100\n",
      "59/59 [==============================] - 0s 5ms/step - loss: 72085.4066 - mae: 173.7618 - val_loss: 103203.5859 - val_mae: 207.0667\n",
      "Epoch 92/100\n",
      "59/59 [==============================] - 0s 6ms/step - loss: 74314.6891 - mae: 175.8339 - val_loss: 103413.7578 - val_mae: 205.0015\n",
      "Epoch 93/100\n",
      "59/59 [==============================] - 0s 7ms/step - loss: 74346.9375 - mae: 174.7500 - val_loss: 103139.0938 - val_mae: 205.5239\n",
      "Epoch 94/100\n",
      "59/59 [==============================] - 0s 8ms/step - loss: 74931.2471 - mae: 175.0386 - val_loss: 103526.1172 - val_mae: 204.8956\n",
      "Epoch 95/100\n",
      "59/59 [==============================] - 0s 6ms/step - loss: 65656.2447 - mae: 169.7312 - val_loss: 103319.0469 - val_mae: 207.2187\n",
      "Epoch 96/100\n",
      "59/59 [==============================] - 0s 7ms/step - loss: 66280.3415 - mae: 172.2933 - val_loss: 103582.4219 - val_mae: 209.6414\n",
      "Epoch 97/100\n",
      "59/59 [==============================] - 0s 6ms/step - loss: 75211.0951 - mae: 176.5483 - val_loss: 103648.3984 - val_mae: 207.4313\n",
      "Epoch 98/100\n",
      "59/59 [==============================] - 0s 5ms/step - loss: 67039.4855 - mae: 171.0310 - val_loss: 103703.3203 - val_mae: 206.3427\n",
      "Epoch 99/100\n",
      "59/59 [==============================] - 0s 6ms/step - loss: 69514.0065 - mae: 173.3085 - val_loss: 103684.0234 - val_mae: 206.5235\n",
      "Epoch 100/100\n",
      "59/59 [==============================] - 0s 7ms/step - loss: 69182.4924 - mae: 172.1710 - val_loss: 103763.6641 - val_mae: 208.0280\n"
     ]
    }
   ],
   "source": [
    "#set random state for reproducability:\n",
    "np.random.seed(42)\n",
    "\n",
    "model = Sequential()\n",
    "\n",
    "# Input:\n",
    "model.add(Input(shape=X_train_sc.shape[1]))\n",
    "\n",
    "# 3 hidden layers, 32, 16, 8 nodes (decreasing in sequence)\n",
    "model.add(Dense(32, activation='relu'))\n",
    "model.add(Dense(16, activation='relu'))\n",
    "model.add(Dense(8, activation='relu'))\n",
    "\n",
    "# Output\n",
    "model.add(Dense(1, activation=None))\n",
    "\n",
    "# compile\n",
    "model.compile(loss='mse', optimizer='adam', metrics=['mae'])\n",
    "\n",
    "# fit\n",
    "results = model.fit(X_train_sc, y_train, epochs=100, batch_size=256, validation_data=(X_test_sc, y_test))\n",
    "\n"
   ]
  },
  {
   "cell_type": "markdown",
   "metadata": {},
   "source": [
    "ASSESS MODEL PERFORMANCE"
   ]
  },
  {
   "cell_type": "code",
   "execution_count": 17,
   "metadata": {
    "tags": []
   },
   "outputs": [],
   "source": [
    "# compare predictions to actual response time:\n",
    "preds_all = model.predict(X_test_sc)"
   ]
  },
  {
   "cell_type": "code",
   "execution_count": 18,
   "metadata": {},
   "outputs": [
    {
     "data": {
      "image/png": "[encoded data removed]",
      "text/plain": [
       "<Figure size 432x288 with 1 Axes>"
      ]
     },
     "metadata": {
      "needs_background": "light"
     },
     "output_type": "display_data"
    }
   ],
   "source": [
    "plt.scatter(y_test,preds_all);\n",
    "plt.plot([0,10000],[0,10000]);"
   ]
  },
  {
   "cell_type": "code",
   "execution_count": 19,
   "metadata": {},
   "outputs": [],
   "source": [
    "from sklearn.metrics import r2_score, mean_squared_error\n"
   ]
  },
  {
   "cell_type": "code",
   "execution_count": 20,
   "metadata": {},
   "outputs": [
    {
     "data": {
      "text/plain": [
       "0.5620342694002103"
      ]
     },
     "execution_count": 20,
     "metadata": {},
     "output_type": "execute_result"
    }
   ],
   "source": [
    "r2_score(y_test,preds_all)"
   ]
  },
  {
   "cell_type": "code",
   "execution_count": 21,
   "metadata": {},
   "outputs": [
    {
     "data": {
      "text/plain": [
       "322.1236909372698"
      ]
     },
     "execution_count": 21,
     "metadata": {},
     "output_type": "execute_result"
    }
   ],
   "source": [
    "mean_squared_error(y_test,preds_all,squared=False)"
   ]
  },
  {
   "cell_type": "code",
   "execution_count": 22,
   "metadata": {},
   "outputs": [
    {
     "name": "stdout",
     "output_type": "stream",
     "text": [
      "Model: \"sequential_1\"\n",
      "_________________________________________________________________\n",
      "Layer (type)                 Output Shape              Param #   \n",
      "=================================================================\n",
      "dense_4 (Dense)              (None, 32)                10400     \n",
      "_________________________________________________________________\n",
      "dense_5 (Dense)              (None, 16)                528       \n",
      "_________________________________________________________________\n",
      "dense_6 (Dense)              (None, 8)                 136       \n",
      "_________________________________________________________________\n",
      "dense_7 (Dense)              (None, 1)                 9         \n",
      "=================================================================\n",
      "Total params: 11,073\n",
      "Trainable params: 11,073\n",
      "Non-trainable params: 0\n",
      "_________________________________________________________________\n"
     ]
    }
   ],
   "source": [
    "model.summary()"
   ]
  },
  {
   "cell_type": "code",
   "execution_count": 23,
   "metadata": {},
   "outputs": [
    {
     "data": {
      "image/png": "[encoded data removed]",
      "text/plain": [
       "<Figure size 864x576 with 1 Axes>"
      ]
     },
     "metadata": {
      "needs_background": "light"
     },
     "output_type": "display_data"
    }
   ],
   "source": [
    "train_loss = results.history['loss']\n",
    "test_loss = results.history['val_loss']\n",
    "\n",
    "plt.figure(figsize=(12, 8))\n",
    "plt.plot(train_loss, label='Training loss', color='navy')\n",
    "plt.plot(test_loss, label='Testing loss', color='skyblue')\n",
    "plt.legend();"
   ]
  },
  {
   "cell_type": "markdown",
   "metadata": {},
   "source": [
    "REDUCE FEATURE SET TO THE FEATURES THAT SURVIVED LASSO REGULARIZATION ON THE LINEAR REGRESSION MODEL"
   ]
  },
  {
   "cell_type": "markdown",
   "metadata": {},
   "source": [
    "LOAD IN FEATURES, TRIM ARRAY"
   ]
  },
  {
   "cell_type": "code",
   "execution_count": 24,
   "metadata": {
    "tags": []
   },
   "outputs": [
    {
     "data": {
      "text/html": [
       "<div>\n",
       "<style scoped>\n",
       "    .dataframe tbody tr th:only-of-type {\n",
       "        vertical-align: middle;\n",
       "    }\n",
       "\n",
       "    .dataframe tbody tr th {\n",
       "        vertical-align: top;\n",
       "    }\n",
       "\n",
       "    .dataframe thead th {\n",
       "        text-align: right;\n",
       "    }\n",
       "</style>\n",
       "<table border=\"1\" class=\"dataframe\">\n",
       "  <thead>\n",
       "    <tr style=\"text-align: right;\">\n",
       "      <th></th>\n",
       "      <th>Unnamed: 0</th>\n",
       "      <th>features</th>\n",
       "      <th>coefficients</th>\n",
       "    </tr>\n",
       "  </thead>\n",
       "  <tbody>\n",
       "    <tr>\n",
       "      <th>0</th>\n",
       "      <td>0</td>\n",
       "      <td>INITIAL_SEVERITY_LEVEL_CODE</td>\n",
       "      <td>35.901861</td>\n",
       "    </tr>\n",
       "    <tr>\n",
       "      <th>1</th>\n",
       "      <td>1</td>\n",
       "      <td>FINAL_SEVERITY_LEVEL_CODE</td>\n",
       "      <td>4.469111</td>\n",
       "    </tr>\n",
       "    <tr>\n",
       "      <th>2</th>\n",
       "      <td>2</td>\n",
       "      <td>VALID_DISPATCH_RSPNS_TIME_INDC</td>\n",
       "      <td>0.000000</td>\n",
       "    </tr>\n",
       "    <tr>\n",
       "      <th>3</th>\n",
       "      <td>3</td>\n",
       "      <td>DISPATCH_RESPONSE_SECONDS_QY</td>\n",
       "      <td>5.702355</td>\n",
       "    </tr>\n",
       "    <tr>\n",
       "      <th>4</th>\n",
       "      <td>4</td>\n",
       "      <td>FIRST_ACTIVATION_DATETIME</td>\n",
       "      <td>319.166665</td>\n",
       "    </tr>\n",
       "    <tr>\n",
       "      <th>...</th>\n",
       "      <td>...</td>\n",
       "      <td>...</td>\n",
       "      <td>...</td>\n",
       "    </tr>\n",
       "    <tr>\n",
       "      <th>319</th>\n",
       "      <td>319</td>\n",
       "      <td>SNOW</td>\n",
       "      <td>4.841491</td>\n",
       "    </tr>\n",
       "    <tr>\n",
       "      <th>320</th>\n",
       "      <td>320</td>\n",
       "      <td>SNWD</td>\n",
       "      <td>5.007628</td>\n",
       "    </tr>\n",
       "    <tr>\n",
       "      <th>321</th>\n",
       "      <td>321</td>\n",
       "      <td>TMAX</td>\n",
       "      <td>0.000000</td>\n",
       "    </tr>\n",
       "    <tr>\n",
       "      <th>322</th>\n",
       "      <td>322</td>\n",
       "      <td>TMIN</td>\n",
       "      <td>0.000000</td>\n",
       "    </tr>\n",
       "    <tr>\n",
       "      <th>323</th>\n",
       "      <td>323</td>\n",
       "      <td>TAVG_CALC</td>\n",
       "      <td>0.000000</td>\n",
       "    </tr>\n",
       "  </tbody>\n",
       "</table>\n",
       "<p>324 rows × 3 columns</p>\n",
       "</div>"
      ],
      "text/plain": [
       "     Unnamed: 0                        features  coefficients\n",
       "0             0     INITIAL_SEVERITY_LEVEL_CODE     35.901861\n",
       "1             1       FINAL_SEVERITY_LEVEL_CODE      4.469111\n",
       "2             2  VALID_DISPATCH_RSPNS_TIME_INDC      0.000000\n",
       "3             3    DISPATCH_RESPONSE_SECONDS_QY      5.702355\n",
       "4             4       FIRST_ACTIVATION_DATETIME    319.166665\n",
       "..          ...                             ...           ...\n",
       "319         319                            SNOW      4.841491\n",
       "320         320                            SNWD      5.007628\n",
       "321         321                            TMAX      0.000000\n",
       "322         322                            TMIN      0.000000\n",
       "323         323                       TAVG_CALC      0.000000\n",
       "\n",
       "[324 rows x 3 columns]"
      ]
     },
     "execution_count": 24,
     "metadata": {},
     "output_type": "execute_result"
    }
   ],
   "source": [
    "coefs_df = pd.read_csv('./data/lasso_coefs_no-travel-time.csv')\n",
    "coefs_df"
   ]
  },
  {
   "cell_type": "code",
   "execution_count": 25,
   "metadata": {},
   "outputs": [
    {
     "data": {
      "text/plain": [
       "0       INITIAL_SEVERITY_LEVEL_CODE\n",
       "1         FINAL_SEVERITY_LEVEL_CODE\n",
       "3      DISPATCH_RESPONSE_SECONDS_QY\n",
       "4         FIRST_ACTIVATION_DATETIME\n",
       "6           INCIDENT_CLOSE_DATETIME\n",
       "                   ...             \n",
       "314                  CALL_MONTH_NOV\n",
       "316                  CALL_MONTH_SEP\n",
       "318                            PRCP\n",
       "319                            SNOW\n",
       "320                            SNWD\n",
       "Name: features, Length: 179, dtype: object"
      ]
     },
     "execution_count": 25,
     "metadata": {},
     "output_type": "execute_result"
    }
   ],
   "source": [
    "features = coefs_df[coefs_df['coefficients']!=0]['features']\n",
    "features"
   ]
  },
  {
   "cell_type": "code",
   "execution_count": 26,
   "metadata": {},
   "outputs": [],
   "source": [
    "X = np.array(results_df[features])\n"
   ]
  },
  {
   "cell_type": "markdown",
   "metadata": {},
   "source": [
    "BUILD THE SAME MODEL, BUT ON THIS REDUCED FEATURE SPACE"
   ]
  },
  {
   "cell_type": "code",
   "execution_count": 27,
   "metadata": {
    "tags": []
   },
   "outputs": [],
   "source": [
    "\n",
    "# Train/test split\n",
    "X_train, X_test, y_train, y_test = train_test_split(X,y,random_state=42)\n",
    "\n",
    "# Scale data\n",
    "sc = StandardScaler()\n",
    "X_train_sc = sc.fit_transform(X_train)\n",
    "X_test_sc = sc.transform(X_test)\n"
   ]
  },
  {
   "cell_type": "code",
   "execution_count": 28,
   "metadata": {},
   "outputs": [
    {
     "data": {
      "text/plain": [
       "179"
      ]
     },
     "execution_count": 28,
     "metadata": {},
     "output_type": "execute_result"
    }
   ],
   "source": [
    "len(features)"
   ]
  },
  {
   "cell_type": "code",
   "execution_count": 29,
   "metadata": {},
   "outputs": [
    {
     "name": "stdout",
     "output_type": "stream",
     "text": [
      "Epoch 1/100\n",
      "59/59 [==============================] - 2s 14ms/step - loss: 489049.1641 - mae: 519.6951 - val_loss: 512800.4688 - val_mae: 525.6812\n",
      "Epoch 2/100\n",
      "59/59 [==============================] - 1s 10ms/step - loss: 454230.9016 - mae: 515.2686 - val_loss: 485705.9375 - val_mae: 503.2910\n",
      "Epoch 3/100\n",
      "59/59 [==============================] - 0s 6ms/step - loss: 450580.4188 - mae: 479.1013 - val_loss: 368148.7188 - val_mae: 399.1358\n",
      "Epoch 4/100\n",
      "59/59 [==============================] - 0s 7ms/step - loss: 367737.8117 - mae: 350.2055 - val_loss: 204689.2344 - val_mae: 253.6147\n",
      "Epoch 5/100\n",
      "59/59 [==============================] - 0s 5ms/step - loss: 214074.1073 - mae: 244.4740 - val_loss: 165015.1875 - val_mae: 236.9019\n",
      "Epoch 6/100\n",
      "59/59 [==============================] - 0s 7ms/step - loss: 173633.7107 - mae: 230.8404 - val_loss: 149395.0000 - val_mae: 227.6701\n",
      "Epoch 7/100\n",
      "59/59 [==============================] - 1s 10ms/step - loss: 147901.9789 - mae: 223.3629 - val_loss: 138278.4844 - val_mae: 221.4306\n",
      "Epoch 8/100\n",
      "59/59 [==============================] - 0s 6ms/step - loss: 132083.1763 - mae: 219.1888 - val_loss: 129376.0312 - val_mae: 218.3109\n",
      "Epoch 9/100\n",
      "59/59 [==============================] - 0s 6ms/step - loss: 109027.5797 - mae: 206.2178 - val_loss: 124427.9375 - val_mae: 212.7641\n",
      "Epoch 10/100\n",
      "59/59 [==============================] - ETA: 0s - loss: 125612.2251 - mae: 212.43 - 0s 7ms/step - loss: 125160.8802 - mae: 212.3118 - val_loss: 119013.8516 - val_mae: 209.9168\n",
      "Epoch 11/100\n",
      "59/59 [==============================] - 0s 6ms/step - loss: 109491.5785 - mae: 203.9629 - val_loss: 115941.6328 - val_mae: 207.6985\n",
      "Epoch 12/100\n",
      "59/59 [==============================] - 0s 6ms/step - loss: 121762.2383 - mae: 206.3298 - val_loss: 113148.4062 - val_mae: 207.5969\n",
      "Epoch 13/100\n",
      "59/59 [==============================] - 0s 6ms/step - loss: 105011.2289 - mae: 201.1660 - val_loss: 111505.5469 - val_mae: 205.3467\n",
      "Epoch 14/100\n",
      "59/59 [==============================] - 0s 5ms/step - loss: 101175.8643 - mae: 201.8133 - val_loss: 109698.4688 - val_mae: 204.0684\n",
      "Epoch 15/100\n",
      "59/59 [==============================] - 0s 6ms/step - loss: 101055.1065 - mae: 198.1460 - val_loss: 107843.9531 - val_mae: 204.0535\n",
      "Epoch 16/100\n",
      "59/59 [==============================] - 0s 5ms/step - loss: 94551.4535 - mae: 198.3392 - val_loss: 107142.8984 - val_mae: 201.9998\n",
      "Epoch 17/100\n",
      "59/59 [==============================] - 0s 6ms/step - loss: 98994.6348 - mae: 196.6628 - val_loss: 105880.2344 - val_mae: 202.0807\n",
      "Epoch 18/100\n",
      "59/59 [==============================] - 0s 6ms/step - loss: 98090.1693 - mae: 195.9627 - val_loss: 104755.1953 - val_mae: 202.2303\n",
      "Epoch 19/100\n",
      "59/59 [==============================] - 0s 5ms/step - loss: 98352.5564 - mae: 194.1926 - val_loss: 104096.9297 - val_mae: 202.5555\n",
      "Epoch 20/100\n",
      "59/59 [==============================] - 0s 6ms/step - loss: 91753.3021 - mae: 192.2061 - val_loss: 103508.6562 - val_mae: 202.2543\n",
      "Epoch 21/100\n",
      "59/59 [==============================] - 0s 4ms/step - loss: 94992.5964 - mae: 193.4670 - val_loss: 102887.8516 - val_mae: 201.1270\n",
      "Epoch 22/100\n",
      "59/59 [==============================] - 0s 4ms/step - loss: 93605.5346 - mae: 192.5091 - val_loss: 102465.0391 - val_mae: 200.5314\n",
      "Epoch 23/100\n",
      "59/59 [==============================] - 0s 4ms/step - loss: 97382.0947 - mae: 194.5669 - val_loss: 102316.6406 - val_mae: 199.9823\n",
      "Epoch 24/100\n",
      "59/59 [==============================] - 0s 5ms/step - loss: 98613.1289 - mae: 194.1313 - val_loss: 102225.5625 - val_mae: 199.1032\n",
      "Epoch 25/100\n",
      "59/59 [==============================] - 0s 5ms/step - loss: 100543.2074 - mae: 190.1027 - val_loss: 101427.1797 - val_mae: 201.2207\n",
      "Epoch 26/100\n",
      "59/59 [==============================] - 0s 5ms/step - loss: 90350.0128 - mae: 191.2095 - val_loss: 101618.2891 - val_mae: 198.3637\n",
      "Epoch 27/100\n",
      "59/59 [==============================] - 0s 4ms/step - loss: 91993.1359 - mae: 189.3569 - val_loss: 101497.3047 - val_mae: 198.0753\n",
      "Epoch 28/100\n",
      "59/59 [==============================] - 0s 4ms/step - loss: 84469.6770 - mae: 186.6859 - val_loss: 101472.5391 - val_mae: 197.7539\n",
      "Epoch 29/100\n",
      "59/59 [==============================] - 0s 6ms/step - loss: 88601.4930 - mae: 186.1761 - val_loss: 100725.4922 - val_mae: 199.1525\n",
      "Epoch 30/100\n",
      "59/59 [==============================] - 0s 7ms/step - loss: 87819.8472 - mae: 188.4011 - val_loss: 100521.5703 - val_mae: 200.0267\n",
      "Epoch 31/100\n",
      "59/59 [==============================] - 0s 5ms/step - loss: 90113.5133 - mae: 188.3124 - val_loss: 100572.3281 - val_mae: 197.6594\n",
      "Epoch 32/100\n",
      "59/59 [==============================] - 0s 5ms/step - loss: 89322.7069 - mae: 190.4463 - val_loss: 100574.3828 - val_mae: 197.3425\n",
      "Epoch 33/100\n",
      "59/59 [==============================] - 0s 6ms/step - loss: 89624.9512 - mae: 187.5900 - val_loss: 100274.7422 - val_mae: 198.5660\n",
      "Epoch 34/100\n",
      "59/59 [==============================] - 0s 6ms/step - loss: 82646.0671 - mae: 190.4104 - val_loss: 100416.0781 - val_mae: 196.9296\n",
      "Epoch 35/100\n",
      "59/59 [==============================] - 0s 5ms/step - loss: 92229.1197 - mae: 184.3419 - val_loss: 100144.4219 - val_mae: 197.8789\n",
      "Epoch 36/100\n",
      "59/59 [==============================] - 0s 4ms/step - loss: 84129.3219 - mae: 187.8039 - val_loss: 100184.7500 - val_mae: 197.2724\n",
      "Epoch 37/100\n",
      "59/59 [==============================] - 0s 6ms/step - loss: 90414.5749 - mae: 186.0417 - val_loss: 99856.3203 - val_mae: 197.9032\n",
      "Epoch 38/100\n",
      "59/59 [==============================] - 0s 5ms/step - loss: 87577.6298 - mae: 185.5016 - val_loss: 99609.4609 - val_mae: 198.1268\n",
      "Epoch 39/100\n",
      "59/59 [==============================] - 0s 5ms/step - loss: 91314.0908 - mae: 184.3095 - val_loss: 99470.4688 - val_mae: 199.7639\n",
      "Epoch 40/100\n",
      "59/59 [==============================] - 0s 5ms/step - loss: 85453.6759 - mae: 186.0566 - val_loss: 99301.8516 - val_mae: 198.7699\n",
      "Epoch 41/100\n",
      "59/59 [==============================] - 0s 4ms/step - loss: 88230.7018 - mae: 188.6263 - val_loss: 99595.3125 - val_mae: 196.4149\n",
      "Epoch 42/100\n",
      "59/59 [==============================] - 0s 7ms/step - loss: 84010.1755 - mae: 181.4854 - val_loss: 99433.9688 - val_mae: 199.1729\n",
      "Epoch 43/100\n",
      "59/59 [==============================] - 0s 6ms/step - loss: 85226.7716 - mae: 185.0033 - val_loss: 99319.8984 - val_mae: 199.2317\n",
      "Epoch 44/100\n",
      "59/59 [==============================] - 0s 5ms/step - loss: 82800.7408 - mae: 185.6956 - val_loss: 99608.2422 - val_mae: 196.4159\n",
      "Epoch 45/100\n",
      "59/59 [==============================] - 0s 5ms/step - loss: 86678.7432 - mae: 182.7787 - val_loss: 99111.3438 - val_mae: 198.9301\n",
      "Epoch 46/100\n",
      "59/59 [==============================] - 0s 5ms/step - loss: 86068.7204 - mae: 185.7984 - val_loss: 99484.2969 - val_mae: 196.9360\n",
      "Epoch 47/100\n",
      "59/59 [==============================] - 0s 5ms/step - loss: 79108.5182 - mae: 183.0914 - val_loss: 99525.6641 - val_mae: 196.7881\n",
      "Epoch 48/100\n",
      "59/59 [==============================] - 0s 5ms/step - loss: 88390.1233 - mae: 182.9729 - val_loss: 99292.5156 - val_mae: 198.8584\n",
      "Epoch 49/100\n",
      "59/59 [==============================] - 0s 5ms/step - loss: 83152.3012 - mae: 185.3630 - val_loss: 98960.7344 - val_mae: 198.3907\n",
      "Epoch 50/100\n",
      "59/59 [==============================] - 0s 6ms/step - loss: 80128.8177 - mae: 184.4554 - val_loss: 99230.8516 - val_mae: 197.3148\n",
      "Epoch 51/100\n",
      "59/59 [==============================] - 0s 6ms/step - loss: 82638.1376 - mae: 181.4936 - val_loss: 99475.9141 - val_mae: 197.0956\n",
      "Epoch 52/100\n",
      "59/59 [==============================] - 0s 5ms/step - loss: 82141.7936 - mae: 183.2550 - val_loss: 99022.4219 - val_mae: 198.8975\n",
      "Epoch 53/100\n",
      "59/59 [==============================] - 0s 6ms/step - loss: 81385.1534 - mae: 184.7427 - val_loss: 99382.9375 - val_mae: 196.9579\n",
      "Epoch 54/100\n",
      "59/59 [==============================] - 0s 7ms/step - loss: 79718.5590 - mae: 181.9269 - val_loss: 99089.8438 - val_mae: 198.9427\n",
      "Epoch 55/100\n",
      "59/59 [==============================] - 0s 6ms/step - loss: 79713.4595 - mae: 180.2667 - val_loss: 99079.0312 - val_mae: 198.5313\n",
      "Epoch 56/100\n",
      "59/59 [==============================] - 0s 7ms/step - loss: 82210.6267 - mae: 183.8445 - val_loss: 98938.2656 - val_mae: 198.8411\n",
      "Epoch 57/100\n",
      "59/59 [==============================] - 0s 5ms/step - loss: 76831.9049 - mae: 181.0896 - val_loss: 99123.8828 - val_mae: 198.0867\n",
      "Epoch 58/100\n",
      "59/59 [==============================] - 0s 5ms/step - loss: 84695.0225 - mae: 184.8115 - val_loss: 99327.6328 - val_mae: 197.6098\n",
      "Epoch 59/100\n",
      "59/59 [==============================] - 0s 4ms/step - loss: 75398.2806 - mae: 178.9994 - val_loss: 98805.7891 - val_mae: 200.4691\n",
      "Epoch 60/100\n",
      "59/59 [==============================] - 0s 5ms/step - loss: 86006.6962 - mae: 186.7162 - val_loss: 98998.7578 - val_mae: 198.5161\n",
      "Epoch 61/100\n",
      "59/59 [==============================] - 0s 4ms/step - loss: 78098.3087 - mae: 183.0996 - val_loss: 99105.2422 - val_mae: 197.5404\n",
      "Epoch 62/100\n",
      "59/59 [==============================] - 0s 4ms/step - loss: 83604.4983 - mae: 183.3593 - val_loss: 99137.4844 - val_mae: 198.0157\n",
      "Epoch 63/100\n",
      "59/59 [==============================] - 0s 6ms/step - loss: 84305.4953 - mae: 183.2964 - val_loss: 99357.7656 - val_mae: 197.8909\n",
      "Epoch 64/100\n",
      "59/59 [==============================] - 0s 6ms/step - loss: 85705.1094 - mae: 185.7413 - val_loss: 99006.7188 - val_mae: 198.7266\n",
      "Epoch 65/100\n",
      "59/59 [==============================] - 0s 5ms/step - loss: 78441.4156 - mae: 179.6495 - val_loss: 99418.2266 - val_mae: 197.9332\n",
      "Epoch 66/100\n",
      "59/59 [==============================] - 0s 6ms/step - loss: 71688.4585 - mae: 176.8281 - val_loss: 98693.6094 - val_mae: 200.3216\n",
      "Epoch 67/100\n",
      "59/59 [==============================] - 0s 4ms/step - loss: 79002.3091 - mae: 183.2209 - val_loss: 99261.7422 - val_mae: 198.2508\n",
      "Epoch 68/100\n",
      "59/59 [==============================] - 0s 5ms/step - loss: 81734.2255 - mae: 180.8301 - val_loss: 99107.3984 - val_mae: 198.8308\n",
      "Epoch 69/100\n",
      "59/59 [==============================] - 0s 5ms/step - loss: 75646.7334 - mae: 179.9844 - val_loss: 99120.5000 - val_mae: 200.0446\n",
      "Epoch 70/100\n",
      "59/59 [==============================] - 0s 6ms/step - loss: 88626.4251 - mae: 184.7751 - val_loss: 99259.0234 - val_mae: 198.3361\n",
      "Epoch 71/100\n",
      "59/59 [==============================] - 0s 5ms/step - loss: 77445.0443 - mae: 182.0009 - val_loss: 99307.0625 - val_mae: 197.9689\n",
      "Epoch 72/100\n",
      "59/59 [==============================] - 0s 7ms/step - loss: 80428.3996 - mae: 184.1784 - val_loss: 99263.2812 - val_mae: 198.9289\n",
      "Epoch 73/100\n",
      "59/59 [==============================] - 0s 7ms/step - loss: 84046.1733 - mae: 183.2672 - val_loss: 99363.9141 - val_mae: 199.5912\n",
      "Epoch 74/100\n",
      "59/59 [==============================] - 0s 6ms/step - loss: 78218.3540 - mae: 182.6239 - val_loss: 99337.7031 - val_mae: 198.7305\n",
      "Epoch 75/100\n",
      "59/59 [==============================] - 0s 7ms/step - loss: 77680.3402 - mae: 179.5250 - val_loss: 99195.5625 - val_mae: 199.5221\n",
      "Epoch 76/100\n",
      "59/59 [==============================] - 0s 5ms/step - loss: 85977.0660 - mae: 185.2916 - val_loss: 99609.6250 - val_mae: 197.5092\n",
      "Epoch 77/100\n",
      "59/59 [==============================] - 0s 6ms/step - loss: 77646.9397 - mae: 179.2539 - val_loss: 99222.8359 - val_mae: 200.0184\n",
      "Epoch 78/100\n",
      "59/59 [==============================] - 0s 5ms/step - loss: 73470.5012 - mae: 180.6952 - val_loss: 99235.3516 - val_mae: 199.7413\n",
      "Epoch 79/100\n",
      "59/59 [==============================] - 0s 5ms/step - loss: 78644.5759 - mae: 182.9971 - val_loss: 99298.8203 - val_mae: 199.3515\n",
      "Epoch 80/100\n",
      "59/59 [==============================] - 0s 8ms/step - loss: 82274.6521 - mae: 182.6618 - val_loss: 99598.5938 - val_mae: 198.0306\n",
      "Epoch 81/100\n",
      "59/59 [==============================] - 0s 7ms/step - loss: 77728.3921 - mae: 180.3392 - val_loss: 99811.0000 - val_mae: 198.2806\n",
      "Epoch 82/100\n",
      "59/59 [==============================] - 0s 5ms/step - loss: 83076.5655 - mae: 182.3704 - val_loss: 99373.4297 - val_mae: 199.8106\n",
      "Epoch 83/100\n",
      "59/59 [==============================] - 0s 7ms/step - loss: 78812.2577 - mae: 181.9940 - val_loss: 99241.6797 - val_mae: 200.0225\n",
      "Epoch 84/100\n",
      "59/59 [==============================] - 0s 6ms/step - loss: 77473.8697 - mae: 181.5609 - val_loss: 99476.7422 - val_mae: 198.2312\n",
      "Epoch 85/100\n",
      "59/59 [==============================] - 0s 6ms/step - loss: 72881.9439 - mae: 175.5214 - val_loss: 99325.3125 - val_mae: 202.2623\n",
      "Epoch 86/100\n",
      "59/59 [==============================] - 0s 5ms/step - loss: 76115.7447 - mae: 182.3343 - val_loss: 99276.9062 - val_mae: 200.0462\n",
      "Epoch 87/100\n",
      "59/59 [==============================] - 0s 4ms/step - loss: 81278.7711 - mae: 183.2444 - val_loss: 99609.7422 - val_mae: 198.7557\n",
      "Epoch 88/100\n",
      "59/59 [==============================] - 0s 5ms/step - loss: 71999.0803 - mae: 177.1042 - val_loss: 99506.7109 - val_mae: 201.0349\n",
      "Epoch 89/100\n",
      "59/59 [==============================] - 0s 5ms/step - loss: 80854.1691 - mae: 184.1804 - val_loss: 100226.7656 - val_mae: 197.6907\n",
      "Epoch 90/100\n",
      "59/59 [==============================] - 0s 4ms/step - loss: 78825.3680 - mae: 179.0157 - val_loss: 99575.6406 - val_mae: 199.9660\n",
      "Epoch 91/100\n",
      "59/59 [==============================] - 0s 6ms/step - loss: 77207.4133 - mae: 179.9717 - val_loss: 99517.9844 - val_mae: 200.7489\n",
      "Epoch 92/100\n",
      "59/59 [==============================] - 0s 6ms/step - loss: 79808.0675 - mae: 183.6210 - val_loss: 99792.2109 - val_mae: 198.9445\n",
      "Epoch 93/100\n",
      "59/59 [==============================] - 0s 4ms/step - loss: 74456.0719 - mae: 178.1558 - val_loss: 99745.6484 - val_mae: 200.1730\n",
      "Epoch 94/100\n",
      "59/59 [==============================] - 0s 6ms/step - loss: 73286.3169 - mae: 177.9418 - val_loss: 99593.5000 - val_mae: 199.9613\n",
      "Epoch 95/100\n",
      "59/59 [==============================] - 0s 7ms/step - loss: 76074.7370 - mae: 178.2607 - val_loss: 99995.8906 - val_mae: 200.2517\n",
      "Epoch 96/100\n",
      "59/59 [==============================] - 0s 7ms/step - loss: 75594.4010 - mae: 178.5262 - val_loss: 99544.5469 - val_mae: 201.0719\n",
      "Epoch 97/100\n",
      "59/59 [==============================] - 0s 8ms/step - loss: 77587.3326 - mae: 180.8587 - val_loss: 99738.6094 - val_mae: 200.0434\n",
      "Epoch 98/100\n",
      "59/59 [==============================] - 0s 6ms/step - loss: 87847.8618 - mae: 182.4880 - val_loss: 99989.3359 - val_mae: 199.6958\n",
      "Epoch 99/100\n",
      "59/59 [==============================] - 0s 5ms/step - loss: 75223.8703 - mae: 177.3450 - val_loss: 99693.4375 - val_mae: 200.9743\n",
      "Epoch 100/100\n",
      "59/59 [==============================] - 0s 7ms/step - loss: 73721.2210 - mae: 177.7339 - val_loss: 99940.9688 - val_mae: 200.6381\n"
     ]
    }
   ],
   "source": [
    "model179 = Sequential()\n",
    "model179.add(Dense(32, activation='relu', input_dim=X_train.shape[1]))\n",
    "model179.add(Dense(16, activation='relu'))\n",
    "model179.add(Dense(8, activation='relu'))\n",
    "model179.add(Dense(1, activation=None))\n",
    "\n",
    "model179.compile(loss='mse', optimizer='adam', metrics=['mae'])\n",
    "\n",
    "results179 = model179.fit(X_train_sc, y_train, epochs=100, batch_size=256, validation_data=(X_test_sc, y_test))\n",
    "\n"
   ]
  },
  {
   "cell_type": "markdown",
   "metadata": {},
   "source": [
    "ASSESS MODEL PERFORMANCE"
   ]
  },
  {
   "cell_type": "code",
   "execution_count": 30,
   "metadata": {
    "tags": []
   },
   "outputs": [
    {
     "data": {
      "image/png": "[encoded data removed]",
      "text/plain": [
       "<Figure size 432x288 with 1 Axes>"
      ]
     },
     "metadata": {
      "needs_background": "light"
     },
     "output_type": "display_data"
    }
   ],
   "source": [
    "preds179 = model179.predict(X_test_sc)\n",
    "plt.scatter(y_test/60,preds179/60);\n",
    "plt.plot([0,200],[0,200]);\n",
    "plt.title('NYC EMS Response Time (minutes)');\n",
    "plt.xlabel('Actual Time');\n",
    "plt.ylabel('Predicted Time');\n"
   ]
  },
  {
   "cell_type": "code",
   "execution_count": 33,
   "metadata": {},
   "outputs": [
    {
     "data": {
      "text/plain": [
       "(0.5781691370984812, 316.1344156841037)"
      ]
     },
     "execution_count": 33,
     "metadata": {},
     "output_type": "execute_result"
    }
   ],
   "source": [
    "r2_score(y_test,preds179), mean_squared_error(y_test,preds179,squared=False)"
   ]
  },
  {
   "cell_type": "code",
   "execution_count": 34,
   "metadata": {},
   "outputs": [
    {
     "data": {
      "image/png": "[encoded data removed]",
      "text/plain": [
       "<Figure size 864x576 with 1 Axes>"
      ]
     },
     "metadata": {
      "needs_background": "light"
     },
     "output_type": "display_data"
    }
   ],
   "source": [
    "train_loss = results.history['loss']\n",
    "test_loss = results.history['val_loss']\n",
    "train_loss_179 = results179.history['loss']\n",
    "test_loss_179 = results179.history['val_loss']\n",
    "\n",
    "plt.figure(figsize=(12, 8))\n",
    "plt.plot(train_loss, label='Training loss - ALL', color='red')\n",
    "plt.plot(test_loss, label='Testing loss - ALL', color='pink')\n",
    "plt.plot(train_loss_179, label='Training loss - 179', color='navy')\n",
    "plt.plot(test_loss_179, label='Testing loss - 179', color='skyblue')\n",
    "plt.legend();"
   ]
  },
  {
   "cell_type": "markdown",
   "metadata": {},
   "source": [
    "WHAT ARE THESE FEATURES?"
   ]
  },
  {
   "cell_type": "code",
   "execution_count": 35,
   "metadata": {
    "tags": []
   },
   "outputs": [
    {
     "name": "stdout",
     "output_type": "stream",
     "text": [
      "INITIAL_SEVERITY_LEVEL_CODE\n",
      "FINAL_SEVERITY_LEVEL_CODE\n",
      "DISPATCH_RESPONSE_SECONDS_QY\n",
      "FIRST_ACTIVATION_DATETIME\n",
      "INCIDENT_CLOSE_DATETIME\n",
      "HELD_INDICATOR\n",
      "REOPEN_INDICATOR\n",
      "SPECIAL_EVENT_INDICATOR\n",
      "INITIAL_CALL_TYPE_ABDPN\n",
      "INITIAL_CALL_TYPE_AMPMIN\n",
      "INITIAL_CALL_TYPE_ARREST\n",
      "INITIAL_CALL_TYPE_ASTHMB\n",
      "INITIAL_CALL_TYPE_CARD\n",
      "INITIAL_CALL_TYPE_CARDBR\n",
      "INITIAL_CALL_TYPE_CARDFC\n",
      "INITIAL_CALL_TYPE_CHOKE\n",
      "INITIAL_CALL_TYPE_CVA\n",
      "INITIAL_CALL_TYPE_CVAC\n",
      "INITIAL_CALL_TYPE_DIFFBR\n",
      "INITIAL_CALL_TYPE_DROWN\n",
      "INITIAL_CALL_TYPE_EDP\n",
      "INITIAL_CALL_TYPE_EDPC\n",
      "INITIAL_CALL_TYPE_ELECT\n",
      "INITIAL_CALL_TYPE_FIRE75\n",
      "INITIAL_CALL_TYPE_HEAT\n",
      "INITIAL_CALL_TYPE_INBLFC\n",
      "INITIAL_CALL_TYPE_INJALS\n",
      "INITIAL_CALL_TYPE_INJMAJ\n",
      "INITIAL_CALL_TYPE_INJURY\n",
      "INITIAL_CALL_TYPE_JUMPUP\n",
      "INITIAL_CALL_TYPE_MEDRXN\n",
      "INITIAL_CALL_TYPE_OBMAJ\n",
      "INITIAL_CALL_TYPE_OBMIS\n",
      "INITIAL_CALL_TYPE_OBOUT\n",
      "INITIAL_CALL_TYPE_OTHER\n",
      "INITIAL_CALL_TYPE_PD13\n",
      "INITIAL_CALL_TYPE_PD13C\n",
      "INITIAL_CALL_TYPE_PEDSTR\n",
      "INITIAL_CALL_TYPE_RAPE\n",
      "INITIAL_CALL_TYPE_RESPIR\n",
      "INITIAL_CALL_TYPE_SEIZR\n",
      "INITIAL_CALL_TYPE_SHOT\n",
      "INITIAL_CALL_TYPE_SICK\n",
      "INITIAL_CALL_TYPE_SICMIN\n",
      "INITIAL_CALL_TYPE_STAB\n",
      "INITIAL_CALL_TYPE_STATEP\n",
      "INITIAL_CALL_TYPE_STNDBY\n",
      "INITIAL_CALL_TYPE_TRAUMA\n",
      "INITIAL_CALL_TYPE_UNKNOW\n",
      "FINAL_CALL_TYPE_ALTMEN\n",
      "FINAL_CALL_TYPE_ANAPH\n",
      "FINAL_CALL_TYPE_ARREST\n",
      "FINAL_CALL_TYPE_BURNMA\n",
      "FINAL_CALL_TYPE_BURNMI\n",
      "FINAL_CALL_TYPE_CARDBR\n",
      "FINAL_CALL_TYPE_CARDFC\n",
      "FINAL_CALL_TYPE_CHILDA\n",
      "FINAL_CALL_TYPE_CHOKE\n",
      "FINAL_CALL_TYPE_CVAC\n",
      "FINAL_CALL_TYPE_DIFFBR\n",
      "FINAL_CALL_TYPE_EDP\n",
      "FINAL_CALL_TYPE_ELECT\n",
      "FINAL_CALL_TYPE_GYNHEM\n",
      "FINAL_CALL_TYPE_HEAT\n",
      "FINAL_CALL_TYPE_HYPTN\n",
      "FINAL_CALL_TYPE_INBLED\n",
      "FINAL_CALL_TYPE_INBLFC\n",
      "FINAL_CALL_TYPE_INJALS\n",
      "FINAL_CALL_TYPE_INJMAJ\n",
      "FINAL_CALL_TYPE_INJMIN\n",
      "FINAL_CALL_TYPE_JUMPDN\n",
      "FINAL_CALL_TYPE_JUMPUP\n",
      "FINAL_CALL_TYPE_MCI26P\n",
      "FINAL_CALL_TYPE_MCI43\n",
      "FINAL_CALL_TYPE_MCI59P\n",
      "FINAL_CALL_TYPE_MVAINJ\n",
      "FINAL_CALL_TYPE_OBMIS\n",
      "FINAL_CALL_TYPE_OBOUT\n",
      "FINAL_CALL_TYPE_OTHER\n",
      "FINAL_CALL_TYPE_PD13\n",
      "FINAL_CALL_TYPE_PD13C\n",
      "FINAL_CALL_TYPE_PEDSTR\n",
      "FINAL_CALL_TYPE_RAPE\n",
      "FINAL_CALL_TYPE_SHOT\n",
      "FINAL_CALL_TYPE_SICKFC\n",
      "FINAL_CALL_TYPE_SICMIN\n",
      "FINAL_CALL_TYPE_SICPED\n",
      "FINAL_CALL_TYPE_SPEVNT\n",
      "FINAL_CALL_TYPE_STAB\n",
      "FINAL_CALL_TYPE_TRAUMA\n",
      "FINAL_CALL_TYPE_UNC\n",
      "FINAL_CALL_TYPE_UNKNOW\n",
      "INCIDENT_DISPOSITION_CODE_87.0\n",
      "INCIDENT_DISPOSITION_CODE_91.0\n",
      "INCIDENT_DISPOSITION_CODE_93.0\n",
      "INCIDENT_DISPOSITION_CODE_96.0\n",
      "BOROUGH_RICHMOND / STATEN ISLAND\n",
      "INCIDENT_DISPATCH_AREA_B3\n",
      "INCIDENT_DISPATCH_AREA_B4\n",
      "INCIDENT_DISPATCH_AREA_CW\n",
      "INCIDENT_DISPATCH_AREA_K2\n",
      "INCIDENT_DISPATCH_AREA_K3\n",
      "INCIDENT_DISPATCH_AREA_K4\n",
      "INCIDENT_DISPATCH_AREA_K7\n",
      "INCIDENT_DISPATCH_AREA_M1\n",
      "INCIDENT_DISPATCH_AREA_M2\n",
      "INCIDENT_DISPATCH_AREA_M3\n",
      "INCIDENT_DISPATCH_AREA_M5\n",
      "INCIDENT_DISPATCH_AREA_M6\n",
      "INCIDENT_DISPATCH_AREA_M8\n",
      "INCIDENT_DISPATCH_AREA_M9\n",
      "INCIDENT_DISPATCH_AREA_Q1\n",
      "INCIDENT_DISPATCH_AREA_Q3\n",
      "INCIDENT_DISPATCH_AREA_Q5\n",
      "INCIDENT_DISPATCH_AREA_Q6\n",
      "INCIDENT_DISPATCH_AREA_Q7\n",
      "INCIDENT_DISPATCH_AREA_S2\n",
      "ZIPCODE_11697\n",
      "POLICEPRECINCT_5.0\n",
      "POLICEPRECINCT_9.0\n",
      "POLICEPRECINCT_10.0\n",
      "POLICEPRECINCT_13.0\n",
      "POLICEPRECINCT_14.0\n",
      "POLICEPRECINCT_17.0\n",
      "POLICEPRECINCT_19.0\n",
      "POLICEPRECINCT_20.0\n",
      "POLICEPRECINCT_22.0\n",
      "POLICEPRECINCT_23.0\n",
      "POLICEPRECINCT_24.0\n",
      "POLICEPRECINCT_25.0\n",
      "POLICEPRECINCT_26.0\n",
      "POLICEPRECINCT_33.0\n",
      "POLICEPRECINCT_41.0\n",
      "POLICEPRECINCT_43.0\n",
      "POLICEPRECINCT_44.0\n",
      "POLICEPRECINCT_46.0\n",
      "POLICEPRECINCT_47.0\n",
      "POLICEPRECINCT_50.0\n",
      "POLICEPRECINCT_52.0\n",
      "POLICEPRECINCT_60.0\n",
      "POLICEPRECINCT_61.0\n",
      "POLICEPRECINCT_62.0\n",
      "POLICEPRECINCT_63.0\n",
      "POLICEPRECINCT_67.0\n",
      "POLICEPRECINCT_68.0\n",
      "POLICEPRECINCT_69.0\n",
      "POLICEPRECINCT_70.0\n",
      "POLICEPRECINCT_71.0\n",
      "POLICEPRECINCT_72.0\n",
      "POLICEPRECINCT_75.0\n",
      "POLICEPRECINCT_78.0\n",
      "POLICEPRECINCT_81.0\n",
      "POLICEPRECINCT_83.0\n",
      "POLICEPRECINCT_88.0\n",
      "POLICEPRECINCT_94.0\n",
      "POLICEPRECINCT_100.0\n",
      "POLICEPRECINCT_103.0\n",
      "POLICEPRECINCT_105.0\n",
      "POLICEPRECINCT_106.0\n",
      "POLICEPRECINCT_110.0\n",
      "POLICEPRECINCT_111.0\n",
      "POLICEPRECINCT_112.0\n",
      "POLICEPRECINCT_113.0\n",
      "POLICEPRECINCT_114.0\n",
      "POLICEPRECINCT_120.0\n",
      "CONGRESSIONALDISTRICT_16.0\n",
      "CALL_YEAR\n",
      "CALL_DAY\n",
      "CALL_UTC\n",
      "CALL_MONTH_AUG\n",
      "CALL_MONTH_DEC\n",
      "CALL_MONTH_FEB\n",
      "CALL_MONTH_JUN\n",
      "CALL_MONTH_MAY\n",
      "CALL_MONTH_NOV\n",
      "CALL_MONTH_SEP\n",
      "PRCP\n",
      "SNOW\n",
      "SNWD\n"
     ]
    }
   ],
   "source": [
    "for feature in features:\n",
    "    print(feature)"
   ]
  },
  {
   "cell_type": "markdown",
   "metadata": {},
   "source": [
    "NEURAL NET REGULARIZATION"
   ]
  },
  {
   "cell_type": "code",
   "execution_count": 36,
   "metadata": {},
   "outputs": [],
   "source": [
    "# Import regularizers\n",
    "from tensorflow.keras.regularizers import l2\n",
    "from tensorflow.keras.layers import Dropout\n",
    "from tensorflow.keras.callbacks import EarlyStopping\n"
   ]
  },
  {
   "cell_type": "code",
   "execution_count": 37,
   "metadata": {
    "tags": []
   },
   "outputs": [
    {
     "name": "stdout",
     "output_type": "stream",
     "text": [
      "Epoch 1/100\n",
      "59/59 [==============================] - 1s 9ms/step - loss: 609472.4359 - mae: 528.5408 - val_loss: 517091.3750 - val_mae: 529.3272\n",
      "Epoch 2/100\n",
      "59/59 [==============================] - 0s 6ms/step - loss: 544687.1589 - mae: 526.3383 - val_loss: 513922.0625 - val_mae: 526.6427\n",
      "Epoch 3/100\n",
      "59/59 [==============================] - 0s 4ms/step - loss: 508799.3203 - mae: 519.7875 - val_loss: 498766.0312 - val_mae: 514.6532\n",
      "Epoch 4/100\n",
      "59/59 [==============================] - 0s 5ms/step - loss: 469091.7026 - mae: 501.5970 - val_loss: 436864.6250 - val_mae: 465.2807\n",
      "Epoch 5/100\n",
      "59/59 [==============================] - 0s 5ms/step - loss: 403432.9609 - mae: 436.6043 - val_loss: 301745.9688 - val_mae: 343.7538\n",
      "Epoch 6/100\n",
      "59/59 [==============================] - 0s 4ms/step - loss: 307877.3430 - mae: 313.5037 - val_loss: 200355.6562 - val_mae: 264.3596\n",
      "Epoch 7/100\n",
      "59/59 [==============================] - 0s 5ms/step - loss: 209113.7654 - mae: 255.1777 - val_loss: 167891.0781 - val_mae: 240.6355\n",
      "Epoch 8/100\n",
      "59/59 [==============================] - 0s 6ms/step - loss: 153879.2557 - mae: 229.2712 - val_loss: 150105.4062 - val_mae: 229.6891\n",
      "Epoch 9/100\n",
      "59/59 [==============================] - 0s 5ms/step - loss: 137640.2480 - mae: 221.1954 - val_loss: 139428.0156 - val_mae: 222.2982\n",
      "Epoch 10/100\n",
      "59/59 [==============================] - 0s 5ms/step - loss: 133822.8122 - mae: 216.6452 - val_loss: 131918.9219 - val_mae: 218.3682\n",
      "Epoch 11/100\n",
      "59/59 [==============================] - 0s 5ms/step - loss: 128180.7535 - mae: 213.8985 - val_loss: 126806.4844 - val_mae: 213.6857\n",
      "Epoch 12/100\n",
      "59/59 [==============================] - 0s 6ms/step - loss: 109082.8129 - mae: 206.4930 - val_loss: 122922.8047 - val_mae: 213.5546\n",
      "Epoch 13/100\n",
      "59/59 [==============================] - 0s 6ms/step - loss: 119830.9365 - mae: 210.2681 - val_loss: 119122.6484 - val_mae: 208.8691\n",
      "Epoch 14/100\n",
      "59/59 [==============================] - 0s 5ms/step - loss: 109322.7910 - mae: 203.8674 - val_loss: 117423.2656 - val_mae: 207.9978\n",
      "Epoch 15/100\n",
      "59/59 [==============================] - 0s 5ms/step - loss: 117606.6710 - mae: 204.6302 - val_loss: 115345.1016 - val_mae: 206.2472\n",
      "Epoch 16/100\n",
      "59/59 [==============================] - 0s 5ms/step - loss: 120510.0704 - mae: 205.9254 - val_loss: 113527.6641 - val_mae: 205.4610\n",
      "Epoch 17/100\n",
      "59/59 [==============================] - 0s 5ms/step - loss: 98498.7376 - mae: 201.4784 - val_loss: 111833.0156 - val_mae: 205.3040\n",
      "Epoch 18/100\n",
      "59/59 [==============================] - 0s 5ms/step - loss: 104351.2577 - mae: 198.5555 - val_loss: 110599.6328 - val_mae: 205.3639\n",
      "Epoch 19/100\n",
      "59/59 [==============================] - 0s 5ms/step - loss: 113855.3060 - mae: 206.1053 - val_loss: 109951.3125 - val_mae: 202.4108\n",
      "Epoch 20/100\n",
      "59/59 [==============================] - 0s 7ms/step - loss: 122379.9078 - mae: 202.0793 - val_loss: 108360.1016 - val_mae: 203.6183\n",
      "Epoch 21/100\n",
      "59/59 [==============================] - 0s 8ms/step - loss: 103179.1643 - mae: 199.0738 - val_loss: 107260.6641 - val_mae: 202.5507\n",
      "Epoch 22/100\n",
      "59/59 [==============================] - 0s 4ms/step - loss: 94457.4770 - mae: 196.0284 - val_loss: 106353.2656 - val_mae: 201.6051\n",
      "Epoch 23/100\n",
      "59/59 [==============================] - 0s 5ms/step - loss: 88502.7053 - mae: 191.0286 - val_loss: 105816.6406 - val_mae: 201.7283\n",
      "Epoch 24/100\n",
      "59/59 [==============================] - 0s 7ms/step - loss: 99657.4987 - mae: 192.2142 - val_loss: 105076.3203 - val_mae: 202.4028\n",
      "Epoch 25/100\n",
      "59/59 [==============================] - 0s 6ms/step - loss: 88470.9400 - mae: 195.3863 - val_loss: 104481.9688 - val_mae: 200.2960\n",
      "Epoch 26/100\n",
      "59/59 [==============================] - 0s 6ms/step - loss: 93711.8775 - mae: 191.6031 - val_loss: 103923.4609 - val_mae: 200.1370\n",
      "Epoch 27/100\n",
      "59/59 [==============================] - 0s 6ms/step - loss: 94538.9654 - mae: 192.8469 - val_loss: 103777.7422 - val_mae: 198.9578\n",
      "Epoch 28/100\n",
      "59/59 [==============================] - 0s 5ms/step - loss: 101824.3184 - mae: 193.3223 - val_loss: 103156.9062 - val_mae: 200.8089\n",
      "Epoch 29/100\n",
      "59/59 [==============================] - 0s 6ms/step - loss: 88555.6908 - mae: 193.5469 - val_loss: 102944.0078 - val_mae: 198.0385\n",
      "Epoch 30/100\n",
      "59/59 [==============================] - 0s 5ms/step - loss: 92067.1837 - mae: 191.8995 - val_loss: 102808.2344 - val_mae: 198.5181\n",
      "Epoch 31/100\n",
      "59/59 [==============================] - 0s 7ms/step - loss: 95480.2612 - mae: 191.8556 - val_loss: 102122.8359 - val_mae: 199.7620\n",
      "Epoch 32/100\n",
      "59/59 [==============================] - 0s 4ms/step - loss: 95241.2802 - mae: 192.1522 - val_loss: 102011.9453 - val_mae: 198.3419\n",
      "Epoch 33/100\n",
      "59/59 [==============================] - 0s 5ms/step - loss: 90068.6043 - mae: 190.1351 - val_loss: 101879.5859 - val_mae: 197.7205\n",
      "Epoch 34/100\n",
      "59/59 [==============================] - 0s 7ms/step - loss: 79301.4100 - mae: 184.5213 - val_loss: 101219.6250 - val_mae: 198.9451\n",
      "Epoch 35/100\n",
      "59/59 [==============================] - 0s 7ms/step - loss: 92059.8320 - mae: 190.1752 - val_loss: 101281.8906 - val_mae: 198.4474\n",
      "Epoch 36/100\n",
      "59/59 [==============================] - 0s 5ms/step - loss: 86747.4908 - mae: 187.0329 - val_loss: 101293.8438 - val_mae: 198.5497\n",
      "Epoch 37/100\n",
      "59/59 [==============================] - 0s 5ms/step - loss: 87579.8906 - mae: 189.5514 - val_loss: 100512.2344 - val_mae: 197.8483\n",
      "Epoch 38/100\n",
      "59/59 [==============================] - 0s 6ms/step - loss: 91437.3898 - mae: 187.0519 - val_loss: 101296.1562 - val_mae: 197.8698\n",
      "Epoch 39/100\n",
      "59/59 [==============================] - 0s 8ms/step - loss: 89750.4508 - mae: 189.5869 - val_loss: 101062.8438 - val_mae: 197.7458\n",
      "Epoch 40/100\n",
      "59/59 [==============================] - 1s 9ms/step - loss: 83473.4552 - mae: 186.8455 - val_loss: 100809.2188 - val_mae: 197.3874\n",
      "Epoch 41/100\n",
      "59/59 [==============================] - 0s 6ms/step - loss: 85632.2375 - mae: 185.2545 - val_loss: 100608.5000 - val_mae: 198.1094\n",
      "Epoch 42/100\n",
      "59/59 [==============================] - 1s 9ms/step - loss: 92263.7312 - mae: 192.6229 - val_loss: 100578.8906 - val_mae: 196.6389\n"
     ]
    }
   ],
   "source": [
    "\n",
    "model_reg = Sequential()\n",
    "model_reg.add(Dense(32, input_dim=X_train_sc.shape[1], \n",
    "                    activation='relu',\n",
    "                    kernel_regularizer=l2(.01)))\n",
    "#model_reg.add(Dropout(0.2))\n",
    "model_reg.add(Dense(16,  \n",
    "                    activation='relu',\n",
    "                    kernel_regularizer=l2(.01)))\n",
    "#model_reg.add(Dropout(0.2))\n",
    "model_reg.add(Dense(8,  \n",
    "                    activation='relu',\n",
    "                    kernel_regularizer=l2(.01)))\n",
    "#model_reg.add(Dropout(0.2))\n",
    "model_reg.add(Dense(1, activation=None))\n",
    "\n",
    "model_reg.compile(loss='mse', optimizer='adam', metrics=['mae'])\n",
    "\n",
    "early_stop = EarlyStopping(patience=5)\n",
    "\n",
    "results_reg = model_reg.fit(X_train_sc, y_train, epochs=100, batch_size=256, \\\n",
    "                            validation_data=(X_test_sc, y_test), callbacks=[early_stop])\n",
    "\n"
   ]
  },
  {
   "cell_type": "code",
   "execution_count": 38,
   "metadata": {},
   "outputs": [
    {
     "data": {
      "image/png": "[encoded data removed]",
      "text/plain": [
       "<Figure size 864x576 with 1 Axes>"
      ]
     },
     "metadata": {
      "needs_background": "light"
     },
     "output_type": "display_data"
    }
   ],
   "source": [
    "train_loss = results.history['loss']\n",
    "test_loss = results.history['val_loss']\n",
    "train_loss_179 = results179.history['loss']\n",
    "test_loss_179 = results179.history['val_loss']\n",
    "train_loss_reg = results_reg.history['loss']\n",
    "test_loss_reg = results_reg.history['val_loss']\n",
    "\n",
    "plt.figure(figsize=(12, 8))\n",
    "plt.plot(train_loss, label='Training loss', color='red')\n",
    "plt.plot(test_loss, label='Testing loss', color='pink')\n",
    "plt.plot(train_loss_179, label='Training loss 179 cols', color='navy')\n",
    "plt.plot(test_loss_179, label='Testing loss 179 cols', color='skyblue')\n",
    "plt.plot(train_loss_reg, label='Training loss REG', color='darkgreen')\n",
    "plt.plot(test_loss_reg, label='Testing loss REG', color='lightgreen')\n",
    "plt.legend();\n",
    "\n"
   ]
  },
  {
   "cell_type": "code",
   "execution_count": 39,
   "metadata": {
    "tags": []
   },
   "outputs": [
    {
     "data": {
      "image/png": "[encoded data removed]",
      "text/plain": [
       "<Figure size 864x360 with 3 Axes>"
      ]
     },
     "metadata": {
      "needs_background": "light"
     },
     "output_type": "display_data"
    }
   ],
   "source": [
    "fig = plt.figure(figsize=(12,5));\n",
    "\n",
    "ax = fig.add_subplot(131);\n",
    "plt.scatter(y_test/60,preds_all/60);\n",
    "plt.plot([0,200],[0,200]);\n",
    "plt.title('NYC EMS Response Time (minutes)');\n",
    "plt.xlabel('Actual Time');\n",
    "plt.ylabel('Predicted Time - NN');\n",
    "\n",
    "ax = fig.add_subplot(132);\n",
    "plt.scatter(y_test/60,preds179/60);\n",
    "plt.plot([0,200],[0,200]);\n",
    "plt.title('NYC EMS Response Time (minutes)');\n",
    "plt.xlabel('Actual Time');\n",
    "plt.ylabel('Predicted Time - NN 179col');\n",
    "\n",
    "ax = fig.add_subplot(133);\n",
    "preds_reg = model_reg.predict(X_test_sc)\n",
    "plt.scatter(y_test/60,preds_reg/60);\n",
    "plt.plot([0,200],[0,200]);\n",
    "plt.title('NYC EMS Response Time (minutes)');\n",
    "plt.xlabel('Actual Time');\n",
    "plt.ylabel('Predicted Time - Reg.NN');\n"
   ]
  },
  {
   "cell_type": "code",
   "execution_count": 40,
   "metadata": {},
   "outputs": [
    {
     "name": "stdout",
     "output_type": "stream",
     "text": [
      "Neural Net, all features, no reg. R2=0.5620342694002103, RMS=322.1236909372698\n",
      "Neural Net, all features, no reg. R2=0.5781691370984812, RMS=316.1344156841037\n",
      "Neural Net, all features, no reg. R2=0.5755005987058774, RMS=317.13278600842233\n"
     ]
    }
   ],
   "source": [
    "print(f'Neural Net, all features, no reg. R2={r2_score(y_test,preds_all)}, RMS={mean_squared_error(y_test,preds_all,squared=False)}')\n",
    "print(f'Neural Net, all features, no reg. R2={r2_score(y_test,preds179)}, RMS={mean_squared_error(y_test,preds179,squared=False)}')\n",
    "print(f'Neural Net, all features, no reg. R2={r2_score(y_test,preds_reg)}, RMS={mean_squared_error(y_test,preds_reg,squared=False)}')\n"
   ]
  },
  {
   "cell_type": "markdown",
   "metadata": {},
   "source": [
    "This does not appear to be very practical."
   ]
  },
  {
   "cell_type": "code",
   "execution_count": 42,
   "metadata": {},
   "outputs": [
    {
     "name": "stdout",
     "output_type": "stream",
     "text": [
      "Our best RMS is about 5.2855 minutes.\n"
     ]
    }
   ],
   "source": [
    "print(f'Our best RMS is about {np.round(317.132786/60,4)} minutes.')"
   ]
  },
  {
   "cell_type": "code",
   "execution_count": 47,
   "metadata": {},
   "outputs": [
    {
     "name": "stdout",
     "output_type": "stream",
     "text": [
      "The average response time is 8.8287 min, with a std dev of 8.1124 min.\n"
     ]
    }
   ],
   "source": [
    "print(f'The average response time is {np.round(y_test.mean()/60,4)} min, with a std dev of {np.round(y_test.std()/60,4)} min.')"
   ]
  },
  {
   "cell_type": "code",
   "execution_count": 55,
   "metadata": {},
   "outputs": [
    {
     "name": "stdout",
     "output_type": "stream",
     "text": [
      "For comparison, the null hypothesis has an RMS of 8.1126 min.\n",
      "And the R2 score was -4.696005082460708e-05. (Basically 0% of the variance, not surprisingly.)\n"
     ]
    }
   ],
   "source": [
    "pred_null = [y_train.mean() for y in y_test]\n",
    "rms_null = mean_squared_error(y_test,pred_null,squared=False)\n",
    "\n",
    "print(f'For comparison, the null hypothesis has an RMS of {np.round(rms_null/60,4)} min.')\n",
    "print(f'And the R2 score was {r2_score(y_test,pred_null)}. (Basically 0% of the variance, not surprisingly.)')"
   ]
  },
  {
   "cell_type": "markdown",
   "metadata": {},
   "source": [
    "So, this is an improvement over the NULL, but we would like to be able to do better."
   ]
  },
  {
   "cell_type": "code",
   "execution_count": null,
   "metadata": {},
   "outputs": [],
   "source": []
  },
  {
   "cell_type": "code",
   "execution_count": null,
   "metadata": {},
   "outputs": [],
   "source": []
  }
 ],
 "metadata": {
  "kernelspec": {
   "display_name": "Python 3",
   "language": "python",
   "name": "python3"
  },
  "language_info": {
   "codemirror_mode": {
    "name": "ipython",
    "version": 3
   },
   "file_extension": ".py",
   "mimetype": "text/x-python",
   "name": "python",
   "nbconvert_exporter": "python",
   "pygments_lexer": "ipython3",
   "version": "3.8.5"
  }
 },
 "nbformat": 4,
 "nbformat_minor": 4
}
