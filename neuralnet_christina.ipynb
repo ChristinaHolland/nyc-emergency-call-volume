{
 "cells": [
  {
   "cell_type": "code",
   "execution_count": 1,
   "metadata": {},
   "outputs": [],
   "source": [
    "\n",
    "import numpy as np\n",
    "import pandas as pd\n",
    "\n",
    "import matplotlib.pyplot as plt\n",
    "import seaborn as sns\n",
    "\n",
    "from sklearn.model_selection import train_test_split\n",
    "from sklearn.preprocessing import StandardScaler\n",
    "\n",
    "from tensorflow.keras.models import Sequential\n",
    "from tensorflow.keras.layers import Dense\n"
   ]
  },
  {
   "cell_type": "code",
   "execution_count": 4,
   "metadata": {
    "tags": []
   },
   "outputs": [],
   "source": [
    "results_df = pd.read_csv('data/ems_weather.csv').drop(columns=['Unnamed: 0'])\n",
    "features = results_df.columns"
   ]
  },
  {
   "cell_type": "code",
   "execution_count": 17,
   "metadata": {},
   "outputs": [
    {
     "data": {
      "text/html": [
       "<div>\n",
       "<style scoped>\n",
       "    .dataframe tbody tr th:only-of-type {\n",
       "        vertical-align: middle;\n",
       "    }\n",
       "\n",
       "    .dataframe tbody tr th {\n",
       "        vertical-align: top;\n",
       "    }\n",
       "\n",
       "    .dataframe thead th {\n",
       "        text-align: right;\n",
       "    }\n",
       "</style>\n",
       "<table border=\"1\" class=\"dataframe\">\n",
       "  <thead>\n",
       "    <tr style=\"text-align: right;\">\n",
       "      <th></th>\n",
       "      <th>column</th>\n",
       "      <th>NULLS</th>\n",
       "    </tr>\n",
       "  </thead>\n",
       "  <tbody>\n",
       "    <tr>\n",
       "      <th>847</th>\n",
       "      <td>AWND</td>\n",
       "      <td>831</td>\n",
       "    </tr>\n",
       "  </tbody>\n",
       "</table>\n",
       "</div>"
      ],
      "text/plain": [
       "    column  NULLS\n",
       "847   AWND    831"
      ]
     },
     "execution_count": 17,
     "metadata": {},
     "output_type": "execute_result"
    }
   ],
   "source": [
    "columns = results_df.columns\n",
    "d = []\n",
    "for col in columns:\n",
    "    nulls = results_df[col].isna().sum()\n",
    "    d.append({'column': col, 'NULLS': nulls})\n",
    "chk = pd.DataFrame(d)\n",
    "chk[chk['NULLS']>0]"
   ]
  },
  {
   "cell_type": "code",
   "execution_count": null,
   "metadata": {},
   "outputs": [],
   "source": []
  },
  {
   "cell_type": "code",
   "execution_count": 19,
   "metadata": {
    "tags": []
   },
   "outputs": [],
   "source": [
    "y = np.array(results_df['INCIDENT_RESPONSE_SECONDS_QY'])\n",
    "\n",
    "# definitely drop these:\n",
    "drop_features = ['INCIDENT_RESPONSE_SECONDS_QY', \n",
    "                 'CAD_INCIDENT_ID', \n",
    "                 'FIRST_ASSIGNMENT_DATETIME', \n",
    "                 'DISPATCH_RESPONSE_SECONDS_QY']\n",
    "# suggest dropping these: \n",
    "drop_features += list(features[230:594]) # zip codes\n",
    "drop_features += list(features[670:831]) # city council district, community district, community school dist, congressional district\n",
    "drop_features += ['AWND']\n",
    "\n",
    "X = np.array(results_df.drop(columns=drop_features))\n",
    "\n"
   ]
  },
  {
   "cell_type": "code",
   "execution_count": 20,
   "metadata": {
    "tags": []
   },
   "outputs": [],
   "source": [
    "\n",
    "# Train/test split\n",
    "X_train, X_test, y_train, y_test = train_test_split(X,y,random_state=42)\n",
    "\n",
    "# Scale data\n",
    "sc = StandardScaler()\n",
    "X_train_sc = sc.fit_transform(X_train)\n",
    "X_test_sc = sc.transform(X_test)\n"
   ]
  },
  {
   "cell_type": "code",
   "execution_count": 21,
   "metadata": {},
   "outputs": [
    {
     "data": {
      "text/plain": [
       "(15019, 324)"
      ]
     },
     "execution_count": 21,
     "metadata": {},
     "output_type": "execute_result"
    }
   ],
   "source": [
    "X_train.shape"
   ]
  },
  {
   "cell_type": "code",
   "execution_count": 22,
   "metadata": {},
   "outputs": [
    {
     "data": {
      "text/plain": [
       "6.797963495952865"
      ]
     },
     "execution_count": 22,
     "metadata": {},
     "output_type": "execute_result"
    }
   ],
   "source": [
    "np.power(15019/325,.5)"
   ]
  },
  {
   "cell_type": "code",
   "execution_count": 52,
   "metadata": {},
   "outputs": [
    {
     "name": "stdout",
     "output_type": "stream",
     "text": [
      "Train on 15019 samples, validate on 5007 samples\n",
      "Epoch 1/100\n",
      "15019/15019 [==============================] - 4s 257us/sample - loss: 533151.8527 - mae: 525.0283 - val_loss: 512884.0762 - val_mae: 525.6254\n",
      "Epoch 2/100\n",
      "15019/15019 [==============================] - 1s 65us/sample - loss: 516950.4110 - mae: 511.6838 - val_loss: 474324.5286 - val_mae: 494.3198\n",
      "Epoch 3/100\n",
      "15019/15019 [==============================] - 1s 63us/sample - loss: 429606.6628 - mae: 439.4696 - val_loss: 327578.6114 - val_mae: 362.3337\n",
      "Epoch 4/100\n",
      "15019/15019 [==============================] - 1s 65us/sample - loss: 258183.8213 - mae: 284.2370 - val_loss: 186921.2667 - val_mae: 243.4196\n",
      "Epoch 5/100\n",
      "15019/15019 [==============================] - 1s 71us/sample - loss: 177879.6303 - mae: 225.3318 - val_loss: 151438.7257 - val_mae: 216.1390\n",
      "Epoch 6/100\n",
      "15019/15019 [==============================] - 1s 71us/sample - loss: 152467.6408 - mae: 206.2746 - val_loss: 130614.2282 - val_mae: 198.6271\n",
      "Epoch 7/100\n",
      "15019/15019 [==============================] - 1s 72us/sample - loss: 133967.1710 - mae: 188.1105 - val_loss: 114890.8816 - val_mae: 190.3008\n",
      "Epoch 8/100\n",
      "15019/15019 [==============================] - 1s 68us/sample - loss: 118945.9194 - mae: 179.9384 - val_loss: 99540.2348 - val_mae: 173.8901\n",
      "Epoch 9/100\n",
      "15019/15019 [==============================] - 1s 68us/sample - loss: 105663.5865 - mae: 164.5655 - val_loss: 87081.3017 - val_mae: 160.2956\n",
      "Epoch 10/100\n",
      "15019/15019 [==============================] - 1s 70us/sample - loss: 95249.5153 - mae: 153.0629 - val_loss: 76226.8676 - val_mae: 148.2756\n",
      "Epoch 11/100\n",
      "15019/15019 [==============================] - 1s 69us/sample - loss: 85874.7145 - mae: 140.1478 - val_loss: 68309.4665 - val_mae: 139.0961\n",
      "Epoch 12/100\n",
      "15019/15019 [==============================] - 1s 76us/sample - loss: 79121.1358 - mae: 130.3449 - val_loss: 61217.5303 - val_mae: 129.6804\n",
      "Epoch 13/100\n",
      "15019/15019 [==============================] - 1s 68us/sample - loss: 74333.5216 - mae: 120.7363 - val_loss: 56938.8049 - val_mae: 121.0865\n",
      "Epoch 14/100\n",
      "15019/15019 [==============================] - 1s 66us/sample - loss: 70989.3160 - mae: 114.6266 - val_loss: 52746.5368 - val_mae: 114.5660\n",
      "Epoch 15/100\n",
      "15019/15019 [==============================] - 1s 88us/sample - loss: 67707.8024 - mae: 106.3474 - val_loss: 49845.2626 - val_mae: 108.7884\n",
      "Epoch 16/100\n",
      "15019/15019 [==============================] - 1s 65us/sample - loss: 64938.8153 - mae: 100.4029 - val_loss: 47799.4535 - val_mae: 104.4816\n",
      "Epoch 17/100\n",
      "15019/15019 [==============================] - 1s 65us/sample - loss: 63451.2508 - mae: 96.0271 - val_loss: 45980.7499 - val_mae: 100.0101\n",
      "Epoch 18/100\n",
      "15019/15019 [==============================] - 1s 95us/sample - loss: 61802.9148 - mae: 92.7875 - val_loss: 44955.8485 - val_mae: 98.2232\n",
      "Epoch 19/100\n",
      "15019/15019 [==============================] - 1s 76us/sample - loss: 60994.7010 - mae: 90.1869 - val_loss: 43535.1121 - val_mae: 95.0556\n",
      "Epoch 20/100\n",
      "15019/15019 [==============================] - 1s 73us/sample - loss: 59664.7011 - mae: 87.2072 - val_loss: 42107.2363 - val_mae: 92.3785\n",
      "Epoch 21/100\n",
      "15019/15019 [==============================] - 1s 67us/sample - loss: 58940.2278 - mae: 83.9141 - val_loss: 40588.1199 - val_mae: 89.1193\n",
      "Epoch 22/100\n",
      "15019/15019 [==============================] - 1s 69us/sample - loss: 59098.3107 - mae: 83.7191 - val_loss: 40586.6852 - val_mae: 88.6586\n",
      "Epoch 23/100\n",
      "15019/15019 [==============================] - 1s 67us/sample - loss: 57320.3884 - mae: 81.5189 - val_loss: 40053.6508 - val_mae: 88.0033\n",
      "Epoch 24/100\n",
      "15019/15019 [==============================] - 1s 76us/sample - loss: 56796.9475 - mae: 79.3343 - val_loss: 39622.2064 - val_mae: 86.5194\n",
      "Epoch 25/100\n",
      "15019/15019 [==============================] - 2s 118us/sample - loss: 56195.4349 - mae: 79.0529 - val_loss: 38983.3460 - val_mae: 85.5863\n",
      "Epoch 26/100\n",
      "15019/15019 [==============================] - 1s 96us/sample - loss: 55629.1078 - mae: 76.1722 - val_loss: 37581.7831 - val_mae: 82.7570\n",
      "Epoch 27/100\n",
      "15019/15019 [==============================] - 1s 94us/sample - loss: 55812.0619 - mae: 76.0234 - val_loss: 37984.0385 - val_mae: 82.7672\n",
      "Epoch 28/100\n",
      "15019/15019 [==============================] - 1s 70us/sample - loss: 54395.0306 - mae: 74.2308 - val_loss: 37501.8090 - val_mae: 81.7993\n",
      "Epoch 29/100\n",
      "15019/15019 [==============================] - 1s 74us/sample - loss: 54194.7510 - mae: 73.3196 - val_loss: 36942.1118 - val_mae: 80.3140\n",
      "Epoch 30/100\n",
      "15019/15019 [==============================] - 1s 67us/sample - loss: 53931.0957 - mae: 71.3856 - val_loss: 35826.2756 - val_mae: 79.5308\n",
      "Epoch 31/100\n",
      "15019/15019 [==============================] - 1s 91us/sample - loss: 52575.9512 - mae: 71.4445 - val_loss: 35818.0732 - val_mae: 79.0785\n",
      "Epoch 32/100\n",
      "15019/15019 [==============================] - 2s 107us/sample - loss: 53436.9444 - mae: 70.7363 - val_loss: 35897.7701 - val_mae: 78.7411\n",
      "Epoch 33/100\n",
      "15019/15019 [==============================] - 2s 114us/sample - loss: 53231.8083 - mae: 70.2504 - val_loss: 35267.5644 - val_mae: 78.3033\n",
      "Epoch 34/100\n",
      "15019/15019 [==============================] - 1s 93us/sample - loss: 52515.4909 - mae: 69.3512 - val_loss: 35404.3317 - val_mae: 77.3377\n",
      "Epoch 35/100\n",
      "15019/15019 [==============================] - 1s 92us/sample - loss: 52190.1988 - mae: 69.1151 - val_loss: 34706.6243 - val_mae: 76.0110\n",
      "Epoch 36/100\n",
      "15019/15019 [==============================] - 1s 71us/sample - loss: 52164.5745 - mae: 68.0287 - val_loss: 34471.6333 - val_mae: 75.3629\n",
      "Epoch 37/100\n",
      "15019/15019 [==============================] - 1s 66us/sample - loss: 51650.8710 - mae: 66.3904 - val_loss: 33551.9997 - val_mae: 74.1287\n",
      "Epoch 38/100\n",
      "15019/15019 [==============================] - 1s 72us/sample - loss: 51411.3850 - mae: 65.7023 - val_loss: 33831.8386 - val_mae: 73.9849\n",
      "Epoch 39/100\n",
      "15019/15019 [==============================] - 1s 68us/sample - loss: 51198.5233 - mae: 66.4355 - val_loss: 33944.5106 - val_mae: 74.0333\n",
      "Epoch 40/100\n",
      "15019/15019 [==============================] - 1s 71us/sample - loss: 51520.1094 - mae: 66.2768 - val_loss: 33334.4133 - val_mae: 73.1892\n",
      "Epoch 41/100\n",
      "15019/15019 [==============================] - 1s 72us/sample - loss: 50987.5247 - mae: 64.6167 - val_loss: 33615.0522 - val_mae: 73.7513\n",
      "Epoch 42/100\n",
      "15019/15019 [==============================] - 2s 103us/sample - loss: 51153.1086 - mae: 64.2926 - val_loss: 32142.1496 - val_mae: 71.4834\n",
      "Epoch 43/100\n",
      "15019/15019 [==============================] - 2s 139us/sample - loss: 49823.7734 - mae: 62.8112 - val_loss: 32997.8194 - val_mae: 71.0116\n",
      "Epoch 44/100\n",
      "15019/15019 [==============================] - 1s 85us/sample - loss: 50034.3961 - mae: 62.8257 - val_loss: 32686.1445 - val_mae: 70.2316\n",
      "Epoch 45/100\n",
      "15019/15019 [==============================] - 1s 77us/sample - loss: 50065.1799 - mae: 61.1795 - val_loss: 32369.6046 - val_mae: 70.1419\n",
      "Epoch 46/100\n",
      "15019/15019 [==============================] - 1s 71us/sample - loss: 49897.9520 - mae: 61.8383 - val_loss: 32329.5453 - val_mae: 68.8595\n",
      "Epoch 47/100\n",
      "15019/15019 [==============================] - 1s 67us/sample - loss: 49515.3298 - mae: 60.0686 - val_loss: 31784.7655 - val_mae: 68.5084\n",
      "Epoch 48/100\n",
      "15019/15019 [==============================] - 1s 94us/sample - loss: 49654.4425 - mae: 60.5840 - val_loss: 32456.8163 - val_mae: 68.4131\n",
      "Epoch 49/100\n",
      "15019/15019 [==============================] - 3s 203us/sample - loss: 49800.2902 - mae: 60.3853 - val_loss: 31069.4762 - val_mae: 68.6374\n",
      "Epoch 50/100\n",
      "15019/15019 [==============================] - 1s 83us/sample - loss: 49108.9140 - mae: 59.4114 - val_loss: 31622.7056 - val_mae: 68.6413\n",
      "Epoch 51/100\n",
      "15019/15019 [==============================] - 1s 71us/sample - loss: 48599.5230 - mae: 58.5870 - val_loss: 31495.1328 - val_mae: 66.6882\n",
      "Epoch 52/100\n",
      "15019/15019 [==============================] - 1s 67us/sample - loss: 48429.9088 - mae: 58.3923 - val_loss: 31256.4860 - val_mae: 67.2943\n",
      "Epoch 53/100\n",
      "15019/15019 [==============================] - 1s 68us/sample - loss: 48619.4744 - mae: 57.8457 - val_loss: 31447.8369 - val_mae: 66.9292\n",
      "Epoch 54/100\n",
      "15019/15019 [==============================] - 1s 97us/sample - loss: 48290.2460 - mae: 57.8531 - val_loss: 31216.6221 - val_mae: 65.5694\n",
      "Epoch 55/100\n",
      "15019/15019 [==============================] - 1s 72us/sample - loss: 47417.0443 - mae: 56.8854 - val_loss: 30730.0494 - val_mae: 65.5927\n",
      "Epoch 56/100\n",
      "15019/15019 [==============================] - 1s 67us/sample - loss: 47926.4754 - mae: 56.6266 - val_loss: 31487.4051 - val_mae: 66.1769\n",
      "Epoch 57/100\n",
      "15019/15019 [==============================] - 1s 81us/sample - loss: 46683.1741 - mae: 56.7863 - val_loss: 30612.7294 - val_mae: 64.7190\n",
      "Epoch 58/100\n",
      "15019/15019 [==============================] - 1s 83us/sample - loss: 46692.2584 - mae: 55.7163 - val_loss: 30544.2632 - val_mae: 64.5422\n",
      "Epoch 59/100\n",
      "15019/15019 [==============================] - 1s 74us/sample - loss: 46182.2975 - mae: 55.1138 - val_loss: 30424.9627 - val_mae: 64.2921\n",
      "Epoch 60/100\n",
      "15019/15019 [==============================] - 1s 75us/sample - loss: 46421.4486 - mae: 55.1181 - val_loss: 29140.4490 - val_mae: 63.1222\n",
      "Epoch 61/100\n",
      "15019/15019 [==============================] - 1s 78us/sample - loss: 46178.9038 - mae: 55.0955 - val_loss: 30664.9362 - val_mae: 66.1900\n",
      "Epoch 62/100\n",
      "15019/15019 [==============================] - 1s 76us/sample - loss: 45587.3208 - mae: 54.8665 - val_loss: 29765.9731 - val_mae: 64.5548\n",
      "Epoch 63/100\n",
      "15019/15019 [==============================] - 1s 81us/sample - loss: 45126.5346 - mae: 53.9052 - val_loss: 29289.2268 - val_mae: 63.7527\n",
      "Epoch 64/100\n",
      "15019/15019 [==============================] - 1s 84us/sample - loss: 45152.9924 - mae: 53.7657 - val_loss: 28643.5902 - val_mae: 63.0089\n",
      "Epoch 65/100\n",
      "15019/15019 [==============================] - 1s 70us/sample - loss: 44731.5615 - mae: 54.2146 - val_loss: 29793.9814 - val_mae: 63.9674\n",
      "Epoch 66/100\n",
      "15019/15019 [==============================] - 1s 85us/sample - loss: 45252.4180 - mae: 55.0740 - val_loss: 29976.1424 - val_mae: 62.7516\n",
      "Epoch 67/100\n",
      "15019/15019 [==============================] - 2s 141us/sample - loss: 43528.8696 - mae: 53.2447 - val_loss: 29654.5998 - val_mae: 63.2457\n",
      "Epoch 68/100\n",
      "15019/15019 [==============================] - 1s 84us/sample - loss: 43402.4231 - mae: 53.6861 - val_loss: 29331.4480 - val_mae: 63.3122\n",
      "Epoch 69/100\n",
      "15019/15019 [==============================] - 1s 77us/sample - loss: 43330.9488 - mae: 53.1743 - val_loss: 29359.0861 - val_mae: 63.8079\n",
      "Epoch 70/100\n",
      "15019/15019 [==============================] - 2s 121us/sample - loss: 42548.6955 - mae: 53.9397 - val_loss: 29151.1161 - val_mae: 63.1150\n",
      "Epoch 71/100\n",
      "15019/15019 [==============================] - 4s 235us/sample - loss: 41973.1410 - mae: 53.3932 - val_loss: 28925.9457 - val_mae: 63.2203\n",
      "Epoch 72/100\n",
      "15019/15019 [==============================] - 2s 125us/sample - loss: 41891.8413 - mae: 53.0125 - val_loss: 28617.8423 - val_mae: 63.2320\n",
      "Epoch 73/100\n",
      "15019/15019 [==============================] - 1s 88us/sample - loss: 41272.8913 - mae: 52.9877 - val_loss: 28540.2320 - val_mae: 63.1047\n",
      "Epoch 74/100\n",
      "15019/15019 [==============================] - 1s 95us/sample - loss: 40648.9733 - mae: 51.8756 - val_loss: 28689.7838 - val_mae: 62.8343\n",
      "Epoch 75/100\n",
      "15019/15019 [==============================] - 1s 79us/sample - loss: 39668.6781 - mae: 51.4773 - val_loss: 28604.8213 - val_mae: 63.3619\n",
      "Epoch 76/100\n",
      "15019/15019 [==============================] - 1s 80us/sample - loss: 39582.3926 - mae: 52.0787 - val_loss: 27867.1410 - val_mae: 63.2954\n",
      "Epoch 77/100\n",
      "15019/15019 [==============================] - 1s 72us/sample - loss: 39201.3716 - mae: 51.6588 - val_loss: 28000.2134 - val_mae: 63.1773\n",
      "Epoch 78/100\n",
      "15019/15019 [==============================] - 1s 68us/sample - loss: 38490.0669 - mae: 51.8573 - val_loss: 27843.9415 - val_mae: 63.6437\n",
      "Epoch 79/100\n",
      "15019/15019 [==============================] - 1s 81us/sample - loss: 37651.5397 - mae: 51.0832 - val_loss: 27394.1484 - val_mae: 62.9431\n",
      "Epoch 80/100\n",
      "15019/15019 [==============================] - 1s 98us/sample - loss: 37420.3789 - mae: 50.8315 - val_loss: 26122.7780 - val_mae: 62.5349\n",
      "Epoch 81/100\n",
      "15019/15019 [==============================] - 1s 69us/sample - loss: 36724.2852 - mae: 51.0636 - val_loss: 28254.5497 - val_mae: 63.1866\n",
      "Epoch 82/100\n",
      "15019/15019 [==============================] - 1s 67us/sample - loss: 36312.9537 - mae: 50.2246 - val_loss: 27430.9191 - val_mae: 63.0813\n",
      "Epoch 83/100\n",
      "15019/15019 [==============================] - 1s 71us/sample - loss: 35301.3116 - mae: 50.0771 - val_loss: 26385.9715 - val_mae: 62.5238\n",
      "Epoch 84/100\n",
      "15019/15019 [==============================] - 1s 75us/sample - loss: 34603.5055 - mae: 49.3489 - val_loss: 26257.0613 - val_mae: 61.2989\n",
      "Epoch 85/100\n",
      "15019/15019 [==============================] - 1s 78us/sample - loss: 34053.4746 - mae: 48.9523 - val_loss: 26705.2810 - val_mae: 63.4974\n",
      "Epoch 86/100\n",
      "15019/15019 [==============================] - 1s 83us/sample - loss: 33844.1198 - mae: 48.9092 - val_loss: 25114.1334 - val_mae: 62.8933\n",
      "Epoch 87/100\n",
      "15019/15019 [==============================] - 1s 73us/sample - loss: 33278.5217 - mae: 48.6970 - val_loss: 25347.4797 - val_mae: 62.9199\n",
      "Epoch 88/100\n",
      "15019/15019 [==============================] - 1s 72us/sample - loss: 32495.2596 - mae: 48.3729 - val_loss: 25611.5827 - val_mae: 61.2447\n",
      "Epoch 89/100\n",
      "15019/15019 [==============================] - 1s 77us/sample - loss: 31787.5699 - mae: 47.5116 - val_loss: 25543.2457 - val_mae: 61.5038\n",
      "Epoch 90/100\n",
      "15019/15019 [==============================] - 1s 72us/sample - loss: 31778.1220 - mae: 47.7623 - val_loss: 25406.8046 - val_mae: 61.4595\n",
      "Epoch 91/100\n",
      "15019/15019 [==============================] - 1s 71us/sample - loss: 30709.4877 - mae: 46.8885 - val_loss: 24899.8603 - val_mae: 60.8060\n",
      "Epoch 92/100\n",
      "15019/15019 [==============================] - 1s 68us/sample - loss: 29816.6941 - mae: 46.2524 - val_loss: 25207.7652 - val_mae: 60.3601\n",
      "Epoch 93/100\n",
      "15019/15019 [==============================] - 2s 102us/sample - loss: 30157.9720 - mae: 46.3859 - val_loss: 24869.2620 - val_mae: 60.1670\n",
      "Epoch 94/100\n",
      "15019/15019 [==============================] - 2s 129us/sample - loss: 29444.3345 - mae: 45.6113 - val_loss: 25187.3513 - val_mae: 60.7769\n",
      "Epoch 95/100\n",
      "15019/15019 [==============================] - 1s 96us/sample - loss: 28581.9410 - mae: 46.0495 - val_loss: 24540.4647 - val_mae: 59.4668\n",
      "Epoch 96/100\n",
      "15019/15019 [==============================] - 1s 80us/sample - loss: 28360.8655 - mae: 45.1172 - val_loss: 23967.2799 - val_mae: 59.0144\n",
      "Epoch 97/100\n",
      "15019/15019 [==============================] - 1s 80us/sample - loss: 27737.3970 - mae: 44.2270 - val_loss: 24149.7035 - val_mae: 58.7592\n",
      "Epoch 98/100\n",
      "15019/15019 [==============================] - 1s 85us/sample - loss: 26998.8333 - mae: 44.7588 - val_loss: 23963.5693 - val_mae: 60.4293\n",
      "Epoch 99/100\n",
      "15019/15019 [==============================] - 1s 79us/sample - loss: 26864.9767 - mae: 44.6096 - val_loss: 23620.1330 - val_mae: 58.9680\n",
      "Epoch 100/100\n",
      "15019/15019 [==============================] - 1s 85us/sample - loss: 26226.1173 - mae: 43.3295 - val_loss: 24142.8316 - val_mae: 59.4888\n"
     ]
    }
   ],
   "source": [
    "model = Sequential()\n",
    "model.add(Dense(32, activation='relu', input_dim=X_train.shape[1]))\n",
    "model.add(Dense(16, activation='relu'))\n",
    "model.add(Dense(8, activation='relu'))\n",
    "model.add(Dense(1, activation=None))\n",
    "\n",
    "model.compile(loss='mse', optimizer='adam', metrics=['mae'])\n",
    "\n",
    "results = model.fit(X_train_sc, y_train, epochs=100, batch_size=256, validation_data=(X_test_sc, y_test))\n",
    "\n"
   ]
  },
  {
   "cell_type": "code",
   "execution_count": 53,
   "metadata": {},
   "outputs": [],
   "source": [
    "preds = model.predict(X_test_sc)"
   ]
  },
  {
   "cell_type": "code",
   "execution_count": 54,
   "metadata": {},
   "outputs": [
    {
     "data": {
      "image/png": "[encoded data removed]",
      "text/plain": [
       "<Figure size 432x288 with 1 Axes>"
      ]
     },
     "metadata": {
      "needs_background": "light"
     },
     "output_type": "display_data"
    }
   ],
   "source": [
    "plt.scatter(y_test,preds);\n",
    "plt.plot([0,10000],[0,10000]);"
   ]
  },
  {
   "cell_type": "code",
   "execution_count": 55,
   "metadata": {},
   "outputs": [],
   "source": [
    "from sklearn.metrics import r2_score, mean_squared_error\n"
   ]
  },
  {
   "cell_type": "code",
   "execution_count": 56,
   "metadata": {},
   "outputs": [
    {
     "data": {
      "text/plain": [
       "0.8980979268375695"
      ]
     },
     "execution_count": 56,
     "metadata": {},
     "output_type": "execute_result"
    }
   ],
   "source": [
    "r2_score(y_test,preds)"
   ]
  },
  {
   "cell_type": "code",
   "execution_count": 57,
   "metadata": {},
   "outputs": [
    {
     "data": {
      "text/plain": [
       "155.3796402668724"
      ]
     },
     "execution_count": 57,
     "metadata": {},
     "output_type": "execute_result"
    }
   ],
   "source": [
    "mean_squared_error(y_test,preds,squared=False)"
   ]
  },
  {
   "cell_type": "code",
   "execution_count": 58,
   "metadata": {},
   "outputs": [
    {
     "name": "stdout",
     "output_type": "stream",
     "text": [
      "Model: \"sequential_4\"\n",
      "_________________________________________________________________\n",
      "Layer (type)                 Output Shape              Param #   \n",
      "=================================================================\n",
      "dense_18 (Dense)             (None, 32)                10400     \n",
      "_________________________________________________________________\n",
      "dense_19 (Dense)             (None, 16)                528       \n",
      "_________________________________________________________________\n",
      "dense_20 (Dense)             (None, 8)                 136       \n",
      "_________________________________________________________________\n",
      "dense_21 (Dense)             (None, 1)                 9         \n",
      "=================================================================\n",
      "Total params: 11,073\n",
      "Trainable params: 11,073\n",
      "Non-trainable params: 0\n",
      "_________________________________________________________________\n"
     ]
    }
   ],
   "source": [
    "model.summary()"
   ]
  },
  {
   "cell_type": "code",
   "execution_count": 59,
   "metadata": {},
   "outputs": [
    {
     "data": {
      "image/png": "[encoded data removed]",
      "text/plain": [
       "<Figure size 864x576 with 1 Axes>"
      ]
     },
     "metadata": {
      "needs_background": "light"
     },
     "output_type": "display_data"
    }
   ],
   "source": [
    "train_loss = results.history['loss']\n",
    "test_loss = results.history['val_loss']\n",
    "\n",
    "plt.figure(figsize=(12, 8))\n",
    "plt.plot(train_loss, label='Training loss', color='navy')\n",
    "plt.plot(test_loss, label='Testing loss', color='skyblue')\n",
    "plt.legend();"
   ]
  },
  {
   "cell_type": "code",
   "execution_count": null,
   "metadata": {},
   "outputs": [],
   "source": []
  }
 ],
 "metadata": {
  "kernelspec": {
   "display_name": "Python 3",
   "language": "python",
   "name": "python3"
  },
  "language_info": {
   "codemirror_mode": {
    "name": "ipython",
    "version": 3
   },
   "file_extension": ".py",
   "mimetype": "text/x-python",
   "name": "python",
   "nbconvert_exporter": "python",
   "pygments_lexer": "ipython3",
   "version": "3.7.10"
  }
 },
 "nbformat": 4,
 "nbformat_minor": 4
}
