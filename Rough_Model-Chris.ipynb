{
 "cells": [
  {
   "cell_type": "code",
   "execution_count": 1,
   "metadata": {},
   "outputs": [],
   "source": [
    "import pandas as pd\n",
    "import numpy as np\n",
    "import matplotlib.pyplot as plt\n",
    "import seaborn as sns\n",
    "\n",
    "from sklearn.model_selection import train_test_split\n",
    "from sklearn.linear_model import LinearRegression, Lasso, Ridge\n",
    "from sklearn.preprocessing import StandardScaler\n",
    "from sklearn.ensemble import BaggingRegressor, RandomForestRegressor\n",
    "\n",
    "from tensorflow.keras.models import Sequential\n",
    "from tensorflow.keras.layers import Dense, Dropout\n",
    "from tensorflow.keras.regularizers import l2\n",
    "from tensorflow.keras.callbacks import EarlyStopping"
   ]
  },
  {
   "cell_type": "code",
   "execution_count": 2,
   "metadata": {},
   "outputs": [],
   "source": [
    "df = pd.read_csv('data/ems_weather.csv')"
   ]
  },
  {
   "cell_type": "markdown",
   "metadata": {},
   "source": [
    "### **Model Kitchen Sink with Regression Models**"
   ]
  },
  {
   "cell_type": "code",
   "execution_count": null,
   "metadata": {
    "jupyter": {
     "source_hidden": true
    }
   },
   "outputs": [],
   "source": [
    "# NOTE: features[N:M] actually is features[N] through features [M-1] -- it's non-inclusive\n",
    "\n",
    "# features[0]       --- 'CAD_INCIDENT_ID'                                            ---- DROP (only an index)\n",
    "# features[1]       --- 'INITIAL_SEVERITY_LEVEL_CODE'\n",
    "# features[2]       --- 'FINAL_SEVERITY_LEVEL_CODE'\n",
    "# features[3]       --- 'FIRST_ASSIGNMENT_DATETIME'                                  ---- DROP\n",
    "# features[4]       --- 'VALID_DISPATCH_RSPNS_TIME_INDC' \n",
    "# features[5]       --- 'DISPATCH_RESPONSE_SECONDS_QY'                               ---- DROP\n",
    "# features[6]       --- 'FIRST_ACTIVATION_DATETIME' \n",
    "# features[7]       --- 'VALID_INCIDENT_RSPNS_TIME_INDC'\n",
    "# features[8]       --- 'INCIDENT_RESPONSE_SECONDS_QY'                               ------> y\n",
    "# features[9]       --- 'INCIDENT_TRAVEL_TM_SECONDS_QY'\n",
    "# features[10]      --- 'INCIDENT_CLOSE_DATETIME' \n",
    "# features[11]      --- 'HELD_INDICATOR' \n",
    "# features[12]      --- 'REOPEN_INDICATOR'\n",
    "# features[13]      --- 'SPECIAL_EVENT_INDICATOR' \n",
    "# features[14]      --- 'STANDBY_INDICATOR'\n",
    "# features[15]      --- 'TRANSFER_INDICATOR'\n",
    "# features[16:96]   --- 'INITIAL_CALL_TYPE' dummies\n",
    "# features[96:186]  --- 'FINAL_CALL_TYPE' dummies\n",
    "# features[186:195] --- 'INCIDENT_DISPOSITION_CODE' dummies\n",
    "# features[195:198] --- 'BOROUGH' dummies\n",
    "# features[198:230] --- 'INCIDENT_DISPATCH_AREA' dummies\n",
    "# features[230:594] --- 'ZIPCODE' dummies\n",
    "# features[594:670] --- 'POLICEPRECINCT' dummies\n",
    "# features[670:720] --- 'CITYCOUNCILDISTRICT' dummies\n",
    "# features[720:788] --- 'COMMUNITYDISTRICT' dummies\n",
    "# features[788:819] --- 'COMMUNITYSCHOOLDISTRICT' dummies\n",
    "# features[829:831] --- 'CONGRESSIONALDISTRICT' dummies\n",
    "# features[831]     --- 'CALL_YEAR'\n",
    "# features[832]     --- 'CALL_DAY'\n",
    "# features[833]     --- 'CALL_TIME'\n",
    "# features[834]     --- 'CALL_UTC'\n",
    "# features[835:846] --- 'CALL_MONTH' dummies\n",
    "# features[846]     --- 'CALL_MONTH' (numeric)\n",
    "# features[847]     --- 'AWIND'\n",
    "# features[848]     --- 'PRCP'\n",
    "# features[849]     --- 'SNOW'\n",
    "# features[850]     --- 'SNWD'\n",
    "# features[851]     --- 'TMAX'\n",
    "# features[852]     --- 'TMIN'\n",
    "# features[853]     --- 'TAVG_CALC'"
   ]
  },
  {
   "cell_type": "code",
   "execution_count": 3,
   "metadata": {},
   "outputs": [],
   "source": [
    "features = df.columns\n",
    "\n",
    "# definitely drop these:\n",
    "drop_features = ['INCIDENT_RESPONSE_SECONDS_QY', \n",
    "                 'CAD_INCIDENT_ID', \n",
    "                 'FIRST_ASSIGNMENT_DATETIME', \n",
    "                 'DISPATCH_RESPONSE_SECONDS_QY', 'AWND','Unnamed: 0']\n",
    "\n",
    "# suggest dropping these: \n",
    "drop_features += list(features[230:594]) # zip codes\n",
    "drop_features += list(features[670:831]) # city council district, community district, community school dist, congressional district\n",
    "\n",
    "\n",
    "X = df.drop(columns=drop_features)\n",
    "\n",
    "y = df['INCIDENT_RESPONSE_SECONDS_QY']\n",
    "\n",
    "X_train, X_test, y_train, y_test = train_test_split(X, y, random_state = 42)"
   ]
  },
  {
   "cell_type": "code",
   "execution_count": 10,
   "metadata": {},
   "outputs": [
    {
     "data": {
      "text/plain": [
       "Index(['INITIAL_SEVERITY_LEVEL_CODE', 'FINAL_SEVERITY_LEVEL_CODE',\n",
       "       'VALID_DISPATCH_RSPNS_TIME_INDC', 'FIRST_ACTIVATION_DATETIME',\n",
       "       'VALID_INCIDENT_RSPNS_TIME_INDC', 'INCIDENT_TRAVEL_TM_SECONDS_QY',\n",
       "       'INCIDENT_CLOSE_DATETIME', 'HELD_INDICATOR', 'REOPEN_INDICATOR',\n",
       "       'SPECIAL_EVENT_INDICATOR',\n",
       "       ...\n",
       "       'CALL_MONTH_NOV', 'CALL_MONTH_OCT', 'CALL_MONTH_SEP', 'CALL_MONTH',\n",
       "       'PRCP', 'SNOW', 'SNWD', 'TMAX', 'TMIN', 'TAVG_CALC'],\n",
       "      dtype='object', length=324)"
      ]
     },
     "execution_count": 10,
     "metadata": {},
     "output_type": "execute_result"
    }
   ],
   "source": [
    "X.columns"
   ]
  },
  {
   "cell_type": "code",
   "execution_count": 4,
   "metadata": {},
   "outputs": [],
   "source": [
    "sc = StandardScaler()\n",
    "\n",
    "X_train_sc = sc.fit_transform(X_train)\n",
    "X_test_sc = sc.transform(X_test)"
   ]
  },
  {
   "cell_type": "code",
   "execution_count": 5,
   "metadata": {},
   "outputs": [
    {
     "name": "stdout",
     "output_type": "stream",
     "text": [
      "Training: 0.8099507237173115\n",
      "Testing: -5.960625634095039e+23\n"
     ]
    }
   ],
   "source": [
    "linreg = LinearRegression()\n",
    "\n",
    "linreg.fit(X_train_sc, y_train)\n",
    "\n",
    "print(f'Training: {linreg.score(X_train_sc, y_train)}')\n",
    "print(f'Testing: {linreg.score(X_test_sc, y_test)}')"
   ]
  },
  {
   "cell_type": "markdown",
   "metadata": {},
   "source": [
    "This does not seem likely, not sure yet why this is the result but there is definitely something not quite right here."
   ]
  },
  {
   "cell_type": "code",
   "execution_count": 6,
   "metadata": {},
   "outputs": [
    {
     "name": "stdout",
     "output_type": "stream",
     "text": [
      "Training: 0.80946832318494\n",
      "Testing: 0.911510071488905\n"
     ]
    }
   ],
   "source": [
    "lasso = Lasso(max_iter = 10_000)\n",
    "\n",
    "lasso.fit(X_train_sc, y_train)\n",
    "\n",
    "print(f'Training: {lasso.score(X_train_sc, y_train)}')\n",
    "print(f'Testing: {lasso.score(X_test_sc, y_test)}')"
   ]
  },
  {
   "cell_type": "code",
   "execution_count": 7,
   "metadata": {},
   "outputs": [
    {
     "name": "stdout",
     "output_type": "stream",
     "text": [
      "Training: 0.8102790203478583\n",
      "Testing: 0.9099890960196491\n"
     ]
    }
   ],
   "source": [
    "ridge = Ridge()\n",
    "\n",
    "ridge.fit(X_train_sc, y_train)\n",
    "\n",
    "print(f'Training: {ridge.score(X_train_sc, y_train)}')\n",
    "print(f'Testing: {ridge.score(X_test_sc, y_test)}')"
   ]
  },
  {
   "cell_type": "markdown",
   "metadata": {},
   "source": [
    "**I realized the issue here.  Left in a lot of data that was used to create our new dependent variable.  This has been corrected more or less.**"
   ]
  },
  {
   "cell_type": "markdown",
   "metadata": {},
   "source": [
    "### **Lets Try Neural Nets.  The Thinking Persons Artificial Thinker.**"
   ]
  },
  {
   "cell_type": "code",
   "execution_count": 8,
   "metadata": {},
   "outputs": [
    {
     "data": {
      "text/plain": [
       "(15019, 325)"
      ]
     },
     "execution_count": 8,
     "metadata": {},
     "output_type": "execute_result"
    }
   ],
   "source": [
    "X_train_sc.shape"
   ]
  },
  {
   "cell_type": "code",
   "execution_count": 9,
   "metadata": {
    "collapsed": true,
    "jupyter": {
     "outputs_hidden": true
    }
   },
   "outputs": [
    {
     "name": "stdout",
     "output_type": "stream",
     "text": [
      "Epoch 1/100\n",
      "151/151 [==============================] - 2s 8ms/step - loss: 566164.3503 - mae: 524.3283 - val_loss: 467382.3750 - val_mae: 488.8822\n",
      "Epoch 2/100\n",
      "151/151 [==============================] - 0s 2ms/step - loss: 461492.2556 - mae: 441.1075 - val_loss: 229478.8125 - val_mae: 271.5674\n",
      "Epoch 3/100\n",
      "151/151 [==============================] - 0s 2ms/step - loss: 191594.5875 - mae: 242.6740 - val_loss: 146483.9531 - val_mae: 209.0636\n",
      "Epoch 4/100\n",
      "151/151 [==============================] - 0s 2ms/step - loss: 211497.8814 - mae: 203.0741 - val_loss: 117695.0547 - val_mae: 183.7172\n",
      "Epoch 5/100\n",
      "151/151 [==============================] - 0s 2ms/step - loss: 147487.9726 - mae: 177.3786 - val_loss: 97114.1094 - val_mae: 163.4306\n",
      "Epoch 6/100\n",
      "151/151 [==============================] - 0s 2ms/step - loss: 83346.8348 - mae: 153.3531 - val_loss: 81243.5469 - val_mae: 148.7827\n",
      "Epoch 7/100\n",
      "151/151 [==============================] - 0s 2ms/step - loss: 94204.4341 - mae: 143.6828 - val_loss: 69109.5312 - val_mae: 132.1558\n",
      "Epoch 8/100\n",
      "151/151 [==============================] - 0s 2ms/step - loss: 146482.7162 - mae: 132.1602 - val_loss: 61076.7773 - val_mae: 119.8078\n",
      "Epoch 9/100\n",
      "151/151 [==============================] - 0s 2ms/step - loss: 53833.0603 - mae: 112.6971 - val_loss: 56024.0117 - val_mae: 111.9565\n",
      "Epoch 10/100\n",
      "151/151 [==============================] - 0s 2ms/step - loss: 60986.6303 - mae: 105.4538 - val_loss: 52341.2539 - val_mae: 105.1010\n",
      "Epoch 11/100\n",
      "151/151 [==============================] - 0s 2ms/step - loss: 73642.5092 - mae: 101.4654 - val_loss: 49135.2773 - val_mae: 98.5812\n",
      "Epoch 12/100\n",
      "151/151 [==============================] - 0s 2ms/step - loss: 86193.3720 - mae: 96.3497 - val_loss: 47007.1172 - val_mae: 93.7271\n",
      "Epoch 13/100\n",
      "151/151 [==============================] - 0s 2ms/step - loss: 100614.5859 - mae: 93.0050 - val_loss: 45492.9727 - val_mae: 91.0820\n",
      "Epoch 14/100\n",
      "151/151 [==============================] - 0s 2ms/step - loss: 79499.1272 - mae: 90.9713 - val_loss: 44048.9414 - val_mae: 87.9802\n",
      "Epoch 15/100\n",
      "151/151 [==============================] - 0s 2ms/step - loss: 47006.2754 - mae: 82.2197 - val_loss: 42884.8320 - val_mae: 86.3485\n",
      "Epoch 16/100\n",
      "151/151 [==============================] - 0s 2ms/step - loss: 56136.7522 - mae: 81.6039 - val_loss: 41805.7344 - val_mae: 84.4278\n",
      "Epoch 17/100\n",
      "151/151 [==============================] - 0s 2ms/step - loss: 59752.2518 - mae: 80.9248 - val_loss: 40829.8359 - val_mae: 82.2571\n",
      "Epoch 18/100\n",
      "151/151 [==============================] - 0s 2ms/step - loss: 52762.1838 - mae: 79.6582 - val_loss: 39159.3867 - val_mae: 81.1011\n",
      "Epoch 19/100\n",
      "151/151 [==============================] - 0s 2ms/step - loss: 45695.9879 - mae: 75.4018 - val_loss: 38433.4961 - val_mae: 80.3211\n",
      "Epoch 20/100\n",
      "151/151 [==============================] - 0s 2ms/step - loss: 49127.6278 - mae: 75.3735 - val_loss: 38656.7461 - val_mae: 79.9485\n",
      "Epoch 21/100\n",
      "151/151 [==============================] - 0s 2ms/step - loss: 82351.6894 - mae: 75.8511 - val_loss: 37957.7344 - val_mae: 78.6940\n",
      "Epoch 22/100\n",
      "151/151 [==============================] - 0s 2ms/step - loss: 61606.0571 - mae: 74.4856 - val_loss: 37107.3672 - val_mae: 77.4978\n",
      "Epoch 23/100\n",
      "151/151 [==============================] - 0s 2ms/step - loss: 76066.3150 - mae: 75.7513 - val_loss: 36349.8203 - val_mae: 76.2889\n",
      "Epoch 24/100\n",
      "151/151 [==============================] - 0s 2ms/step - loss: 42327.1161 - mae: 70.4172 - val_loss: 35810.1328 - val_mae: 76.2007\n",
      "Epoch 25/100\n",
      "151/151 [==============================] - 0s 2ms/step - loss: 53618.0764 - mae: 69.5820 - val_loss: 35484.0273 - val_mae: 74.7687\n",
      "Epoch 26/100\n",
      "151/151 [==============================] - 0s 2ms/step - loss: 58352.1959 - mae: 70.0422 - val_loss: 34962.4844 - val_mae: 73.9317\n",
      "Epoch 27/100\n",
      "151/151 [==============================] - 0s 2ms/step - loss: 55154.5502 - mae: 68.0186 - val_loss: 34385.3320 - val_mae: 73.2802\n",
      "Epoch 28/100\n",
      "151/151 [==============================] - 0s 2ms/step - loss: 77406.1865 - mae: 69.8062 - val_loss: 34293.5000 - val_mae: 73.2894\n",
      "Epoch 29/100\n",
      "151/151 [==============================] - 0s 2ms/step - loss: 32902.2137 - mae: 65.7143 - val_loss: 33596.7695 - val_mae: 73.6731\n",
      "Epoch 30/100\n",
      "151/151 [==============================] - 0s 2ms/step - loss: 105030.4056 - mae: 73.4770 - val_loss: 33437.8477 - val_mae: 71.1024\n",
      "Epoch 31/100\n",
      "151/151 [==============================] - 0s 2ms/step - loss: 64918.3971 - mae: 67.1787 - val_loss: 33018.7812 - val_mae: 70.6137\n",
      "Epoch 32/100\n",
      "151/151 [==============================] - 0s 2ms/step - loss: 53590.2879 - mae: 64.4827 - val_loss: 32829.1641 - val_mae: 71.9936\n",
      "Epoch 33/100\n",
      "151/151 [==============================] - 0s 2ms/step - loss: 33118.8598 - mae: 62.8186 - val_loss: 32441.0820 - val_mae: 70.8055\n",
      "Epoch 34/100\n",
      "151/151 [==============================] - 0s 2ms/step - loss: 29955.3483 - mae: 61.3325 - val_loss: 31104.1348 - val_mae: 69.7140\n",
      "Epoch 35/100\n",
      "151/151 [==============================] - 0s 2ms/step - loss: 44616.8265 - mae: 64.5465 - val_loss: 32199.1699 - val_mae: 71.3632\n",
      "Epoch 36/100\n",
      "151/151 [==============================] - 0s 2ms/step - loss: 49360.1979 - mae: 63.7545 - val_loss: 31516.3418 - val_mae: 68.3164\n",
      "Epoch 37/100\n",
      "151/151 [==============================] - 0s 2ms/step - loss: 27844.9498 - mae: 58.9640 - val_loss: 30729.2031 - val_mae: 67.3999\n",
      "Epoch 38/100\n",
      "151/151 [==============================] - 0s 2ms/step - loss: 105490.9393 - mae: 67.6369 - val_loss: 30900.4004 - val_mae: 65.9425\n",
      "Epoch 39/100\n",
      "151/151 [==============================] - 0s 2ms/step - loss: 56185.9206 - mae: 61.1934 - val_loss: 30671.6934 - val_mae: 65.6874\n",
      "Epoch 40/100\n",
      "151/151 [==============================] - 0s 2ms/step - loss: 28699.6023 - mae: 58.4488 - val_loss: 30182.5820 - val_mae: 66.6199\n",
      "Epoch 41/100\n",
      "151/151 [==============================] - 0s 2ms/step - loss: 42513.9891 - mae: 58.6436 - val_loss: 30183.5664 - val_mae: 64.7878\n",
      "Epoch 42/100\n",
      "151/151 [==============================] - 0s 2ms/step - loss: 42728.7413 - mae: 61.6586 - val_loss: 29560.5312 - val_mae: 65.2822\n",
      "Epoch 43/100\n",
      "151/151 [==============================] - 0s 2ms/step - loss: 42093.9677 - mae: 59.3552 - val_loss: 29533.6348 - val_mae: 64.2407\n",
      "Epoch 44/100\n",
      "151/151 [==============================] - 0s 2ms/step - loss: 47709.5843 - mae: 56.2701 - val_loss: 29259.9199 - val_mae: 64.3440\n",
      "Epoch 45/100\n",
      "151/151 [==============================] - 0s 2ms/step - loss: 32291.2997 - mae: 54.3602 - val_loss: 28974.6934 - val_mae: 63.0588\n",
      "Epoch 46/100\n",
      "151/151 [==============================] - 0s 2ms/step - loss: 89016.5115 - mae: 63.2532 - val_loss: 28810.2441 - val_mae: 62.8757\n",
      "Epoch 47/100\n",
      "151/151 [==============================] - 0s 2ms/step - loss: 29996.3078 - mae: 52.6117 - val_loss: 28711.7148 - val_mae: 62.9122\n",
      "Epoch 48/100\n",
      "151/151 [==============================] - 0s 2ms/step - loss: 59962.5131 - mae: 56.5417 - val_loss: 28455.6816 - val_mae: 62.0412\n",
      "Epoch 49/100\n",
      "151/151 [==============================] - 0s 2ms/step - loss: 57042.9116 - mae: 55.7524 - val_loss: 28031.3965 - val_mae: 62.1334\n",
      "Epoch 50/100\n",
      "151/151 [==============================] - 0s 2ms/step - loss: 31889.0890 - mae: 54.0357 - val_loss: 27648.0488 - val_mae: 62.8417\n",
      "Epoch 51/100\n",
      "151/151 [==============================] - 0s 2ms/step - loss: 34948.0859 - mae: 53.0021 - val_loss: 28156.0410 - val_mae: 62.0898\n",
      "Epoch 52/100\n",
      "151/151 [==============================] - 0s 2ms/step - loss: 36178.3942 - mae: 54.3081 - val_loss: 27533.5527 - val_mae: 60.8921\n",
      "Epoch 53/100\n",
      "151/151 [==============================] - 0s 2ms/step - loss: 44538.2283 - mae: 55.7237 - val_loss: 27672.9219 - val_mae: 61.2408\n",
      "Epoch 54/100\n",
      "151/151 [==============================] - 0s 2ms/step - loss: 79619.7972 - mae: 56.3389 - val_loss: 27966.7031 - val_mae: 62.3051\n",
      "Epoch 55/100\n",
      "151/151 [==============================] - 0s 2ms/step - loss: 63088.1102 - mae: 55.4858 - val_loss: 27258.9668 - val_mae: 61.7689\n",
      "Epoch 56/100\n",
      "151/151 [==============================] - 0s 2ms/step - loss: 65755.9591 - mae: 54.7147 - val_loss: 26930.3359 - val_mae: 61.4569\n",
      "Epoch 57/100\n",
      "151/151 [==============================] - 0s 2ms/step - loss: 107809.4621 - mae: 58.3558 - val_loss: 26675.7969 - val_mae: 60.8815\n",
      "Epoch 58/100\n",
      "151/151 [==============================] - 0s 2ms/step - loss: 30021.9558 - mae: 51.8407 - val_loss: 26866.5332 - val_mae: 61.9209\n",
      "Epoch 59/100\n",
      "151/151 [==============================] - 0s 2ms/step - loss: 19493.8973 - mae: 51.3387 - val_loss: 26432.9629 - val_mae: 62.4528\n",
      "Epoch 60/100\n",
      "151/151 [==============================] - 0s 2ms/step - loss: 47262.5018 - mae: 55.6512 - val_loss: 26487.6523 - val_mae: 62.7753\n",
      "Epoch 61/100\n",
      "151/151 [==============================] - 0s 2ms/step - loss: 28362.1256 - mae: 51.7101 - val_loss: 26196.3984 - val_mae: 61.0093\n",
      "Epoch 62/100\n",
      "151/151 [==============================] - 0s 2ms/step - loss: 97106.8969 - mae: 56.1832 - val_loss: 25498.3457 - val_mae: 60.1819\n",
      "Epoch 63/100\n",
      "151/151 [==============================] - 0s 2ms/step - loss: 33111.4209 - mae: 50.7947 - val_loss: 25327.5059 - val_mae: 60.8934\n",
      "Epoch 64/100\n",
      "151/151 [==============================] - 0s 2ms/step - loss: 65073.1554 - mae: 52.6802 - val_loss: 24748.6895 - val_mae: 59.8012\n",
      "Epoch 65/100\n",
      "151/151 [==============================] - 0s 2ms/step - loss: 63009.2937 - mae: 53.5752 - val_loss: 25103.9434 - val_mae: 61.0594\n",
      "Epoch 66/100\n",
      "151/151 [==============================] - 0s 2ms/step - loss: 18530.2128 - mae: 47.7732 - val_loss: 24746.8242 - val_mae: 59.5587\n",
      "Epoch 67/100\n",
      "151/151 [==============================] - 0s 2ms/step - loss: 45332.5445 - mae: 50.5541 - val_loss: 24879.5215 - val_mae: 60.8302\n",
      "Epoch 68/100\n",
      "151/151 [==============================] - 0s 2ms/step - loss: 13880.0722 - mae: 47.6744 - val_loss: 23984.2793 - val_mae: 61.2411\n",
      "Epoch 69/100\n",
      "151/151 [==============================] - 0s 2ms/step - loss: 29959.5810 - mae: 49.9491 - val_loss: 24245.3750 - val_mae: 58.5645\n",
      "Epoch 70/100\n",
      "151/151 [==============================] - 0s 2ms/step - loss: 36048.5612 - mae: 48.3001 - val_loss: 24386.7969 - val_mae: 60.0866\n",
      "Epoch 71/100\n",
      "151/151 [==============================] - 0s 2ms/step - loss: 32464.5351 - mae: 47.6962 - val_loss: 23827.7852 - val_mae: 58.8713\n",
      "Epoch 72/100\n",
      "151/151 [==============================] - 0s 2ms/step - loss: 10613.5426 - mae: 45.0904 - val_loss: 22779.5195 - val_mae: 57.9912\n",
      "Epoch 73/100\n",
      "151/151 [==============================] - 0s 2ms/step - loss: 21174.9093 - mae: 46.1197 - val_loss: 23649.9180 - val_mae: 58.6582\n",
      "Epoch 74/100\n",
      "151/151 [==============================] - 0s 2ms/step - loss: 45032.3000 - mae: 48.0958 - val_loss: 23730.9160 - val_mae: 59.0452\n",
      "Epoch 75/100\n",
      "151/151 [==============================] - 0s 2ms/step - loss: 61548.2946 - mae: 49.0010 - val_loss: 23139.5605 - val_mae: 57.4612\n",
      "Epoch 76/100\n",
      "151/151 [==============================] - 0s 2ms/step - loss: 30876.9793 - mae: 45.8034 - val_loss: 23517.8438 - val_mae: 58.1120\n",
      "Epoch 77/100\n",
      "151/151 [==============================] - 0s 3ms/step - loss: 14199.9825 - mae: 43.6611 - val_loss: 23185.4160 - val_mae: 57.7005\n",
      "Epoch 78/100\n",
      "151/151 [==============================] - 0s 2ms/step - loss: 44136.5797 - mae: 46.5357 - val_loss: 23224.9453 - val_mae: 57.5052\n",
      "Epoch 79/100\n",
      "151/151 [==============================] - 0s 2ms/step - loss: 20424.6229 - mae: 45.6174 - val_loss: 23240.8652 - val_mae: 56.7023\n",
      "Epoch 80/100\n",
      "151/151 [==============================] - 0s 2ms/step - loss: 19768.6356 - mae: 43.0025 - val_loss: 22976.1680 - val_mae: 56.1283\n",
      "Epoch 81/100\n",
      "151/151 [==============================] - 0s 2ms/step - loss: 14033.2326 - mae: 41.5584 - val_loss: 22900.6270 - val_mae: 56.9862\n",
      "Epoch 82/100\n",
      "151/151 [==============================] - 0s 2ms/step - loss: 24566.5424 - mae: 42.6000 - val_loss: 23080.9961 - val_mae: 55.6564\n",
      "Epoch 83/100\n",
      "151/151 [==============================] - 0s 2ms/step - loss: 17163.8451 - mae: 41.0384 - val_loss: 22893.3984 - val_mae: 55.9683\n",
      "Epoch 84/100\n",
      "151/151 [==============================] - 0s 2ms/step - loss: 42554.0987 - mae: 44.0590 - val_loss: 23126.4492 - val_mae: 56.6376\n",
      "Epoch 85/100\n",
      "151/151 [==============================] - 0s 2ms/step - loss: 31268.0084 - mae: 42.7855 - val_loss: 23395.1738 - val_mae: 56.7307\n",
      "Epoch 86/100\n",
      "151/151 [==============================] - 0s 2ms/step - loss: 19111.6091 - mae: 41.3315 - val_loss: 22724.5625 - val_mae: 55.8208\n",
      "Epoch 87/100\n",
      "151/151 [==============================] - 0s 2ms/step - loss: 11108.4057 - mae: 40.3061 - val_loss: 22074.8262 - val_mae: 56.3624\n",
      "Epoch 88/100\n",
      "151/151 [==============================] - 0s 2ms/step - loss: 32320.2960 - mae: 42.2276 - val_loss: 22523.8496 - val_mae: 54.1289\n",
      "Epoch 89/100\n",
      "151/151 [==============================] - 0s 2ms/step - loss: 25789.8153 - mae: 40.1204 - val_loss: 22266.3711 - val_mae: 53.8255\n",
      "Epoch 90/100\n",
      "151/151 [==============================] - 0s 2ms/step - loss: 10958.8224 - mae: 39.1430 - val_loss: 22522.3750 - val_mae: 54.2756\n",
      "Epoch 91/100\n",
      "151/151 [==============================] - 0s 2ms/step - loss: 28000.7089 - mae: 41.0568 - val_loss: 22393.6738 - val_mae: 53.7592\n",
      "Epoch 92/100\n",
      "151/151 [==============================] - 0s 2ms/step - loss: 14445.2545 - mae: 38.7237 - val_loss: 22502.6504 - val_mae: 53.6901\n",
      "Epoch 93/100\n",
      "151/151 [==============================] - 0s 2ms/step - loss: 54406.5370 - mae: 42.0124 - val_loss: 22374.0332 - val_mae: 54.0959\n",
      "Epoch 94/100\n",
      "151/151 [==============================] - 0s 2ms/step - loss: 17814.1136 - mae: 38.7907 - val_loss: 22470.5898 - val_mae: 53.0366\n",
      "Epoch 95/100\n",
      "151/151 [==============================] - 0s 2ms/step - loss: 16983.4833 - mae: 37.7490 - val_loss: 22499.1367 - val_mae: 52.5477\n",
      "Epoch 96/100\n",
      "151/151 [==============================] - 0s 2ms/step - loss: 10151.6965 - mae: 36.3319 - val_loss: 22735.1895 - val_mae: 54.7890\n",
      "Epoch 97/100\n",
      "151/151 [==============================] - 0s 2ms/step - loss: 25519.1769 - mae: 40.8371 - val_loss: 22313.2090 - val_mae: 53.7312\n",
      "Epoch 98/100\n",
      "151/151 [==============================] - 0s 2ms/step - loss: 23095.3781 - mae: 39.4637 - val_loss: 22913.8906 - val_mae: 52.7280\n",
      "Epoch 99/100\n",
      "151/151 [==============================] - 0s 2ms/step - loss: 16179.1305 - mae: 37.5403 - val_loss: 22669.4336 - val_mae: 52.6877\n",
      "Epoch 100/100\n",
      "151/151 [==============================] - 0s 3ms/step - loss: 11671.4009 - mae: 37.0934 - val_loss: 22700.8750 - val_mae: 51.5286\n"
     ]
    }
   ],
   "source": [
    "# making no changes, I want the NNet baseline\n",
    "# Insert model here...\n",
    "model = Sequential()\n",
    "\n",
    "model.add(Dense(32, activation = 'relu', input_shape = (325,)))\n",
    "model.add(Dense(32, activation = 'relu'))\n",
    "\n",
    "model.add(Dense(1, activation = None))\n",
    "\n",
    "#compile the model\n",
    "model.compile(loss = 'mse', optimizer = 'adam', metrics = ['mae'])\n",
    "\n",
    "# fit the model\n",
    "results = model.fit(X_train_sc, y_train,\n",
    "                    batch_size = 100,\n",
    "                    epochs = 100, \n",
    "                    validation_data = (X_test_sc, y_test))\n",
    "\n"
   ]
  },
  {
   "cell_type": "code",
   "execution_count": 10,
   "metadata": {},
   "outputs": [
    {
     "data": {
      "image/png": "[encoded data removed]",
      "text/plain": [
       "<Figure size 864x576 with 1 Axes>"
      ]
     },
     "metadata": {
      "needs_background": "light"
     },
     "output_type": "display_data"
    }
   ],
   "source": [
    "# Visualize the loss\n",
    "train_loss = results.history['loss']\n",
    "test_loss =  results.history['val_loss']\n",
    "\n",
    "plt.figure(figsize=(12, 8))\n",
    "plt.plot(train_loss, label='Training loss', color='navy')\n",
    "plt.plot(test_loss, label='Testing loss', color='skyblue')\n",
    "plt.legend();"
   ]
  },
  {
   "cell_type": "code",
   "execution_count": 11,
   "metadata": {},
   "outputs": [
    {
     "data": {
      "image/png": "[encoded data removed]",
      "text/plain": [
       "<Figure size 864x576 with 1 Axes>"
      ]
     },
     "metadata": {
      "needs_background": "light"
     },
     "output_type": "display_data"
    }
   ],
   "source": [
    "train_mae = results.history['mae']\n",
    "test_mae =  results.history['val_mae']\n",
    "\n",
    "plt.figure(figsize=(12, 8))\n",
    "plt.plot(train_mae, label='Training MAE', color='navy')\n",
    "plt.plot(test_mae, label='Testing MAE', color='skyblue')\n",
    "plt.legend();"
   ]
  },
  {
   "cell_type": "code",
   "execution_count": 12,
   "metadata": {},
   "outputs": [
    {
     "name": "stdout",
     "output_type": "stream",
     "text": [
      "Training: 0.8102790203478583\n",
      "Testing: 0.9099890960196491\n"
     ]
    }
   ],
   "source": [
    "bag = BaggingRegressor()\n",
    "\n",
    "bag.fit(X_train_sc, y_train)\n",
    "\n",
    "print(f'Training: {ridge.score(X_train_sc, y_train)}')\n",
    "print(f'Testing: {ridge.score(X_test_sc, y_test)}')"
   ]
  },
  {
   "cell_type": "markdown",
   "metadata": {},
   "source": [
    "# **ALL MODELS BEFORE THIS POINT WERE RUN WITHOUT OUR TRAFFIC DATA**"
   ]
  },
  {
   "cell_type": "code",
   "execution_count": 6,
   "metadata": {},
   "outputs": [],
   "source": [
    "# the below DF is with scaling\n",
    "\n",
    "las_coef = pd.read_csv('data/lasso_coefs.csv')"
   ]
  },
  {
   "cell_type": "code",
   "execution_count": 8,
   "metadata": {},
   "outputs": [],
   "source": [
    "las_coef.sort_values(by ='coefficients', inplace = True)"
   ]
  },
  {
   "cell_type": "code",
   "execution_count": 9,
   "metadata": {
    "collapsed": true,
    "jupyter": {
     "outputs_hidden": true
    }
   },
   "outputs": [
    {
     "data": {
      "text/html": [
       "<div>\n",
       "<style scoped>\n",
       "    .dataframe tbody tr th:only-of-type {\n",
       "        vertical-align: middle;\n",
       "    }\n",
       "\n",
       "    .dataframe tbody tr th {\n",
       "        vertical-align: top;\n",
       "    }\n",
       "\n",
       "    .dataframe thead th {\n",
       "        text-align: right;\n",
       "    }\n",
       "</style>\n",
       "<table border=\"1\" class=\"dataframe\">\n",
       "  <thead>\n",
       "    <tr style=\"text-align: right;\">\n",
       "      <th></th>\n",
       "      <th>Unnamed: 0</th>\n",
       "      <th>features</th>\n",
       "      <th>coefficients</th>\n",
       "    </tr>\n",
       "  </thead>\n",
       "  <tbody>\n",
       "    <tr>\n",
       "      <th>253</th>\n",
       "      <td>253</td>\n",
       "      <td>POLICEPRECINCT_46.0</td>\n",
       "      <td>-5.956488</td>\n",
       "    </tr>\n",
       "    <tr>\n",
       "      <th>316</th>\n",
       "      <td>316</td>\n",
       "      <td>CALL_MONTH_SEP</td>\n",
       "      <td>-3.338527</td>\n",
       "    </tr>\n",
       "    <tr>\n",
       "      <th>116</th>\n",
       "      <td>116</td>\n",
       "      <td>FINAL_CALL_TYPE_DRUG</td>\n",
       "      <td>-1.919331</td>\n",
       "    </tr>\n",
       "    <tr>\n",
       "      <th>134</th>\n",
       "      <td>134</td>\n",
       "      <td>FINAL_CALL_TYPE_JUMPUP</td>\n",
       "      <td>-1.663440</td>\n",
       "    </tr>\n",
       "    <tr>\n",
       "      <th>74</th>\n",
       "      <td>74</td>\n",
       "      <td>INITIAL_CALL_TYPE_RESPIR</td>\n",
       "      <td>-1.239991</td>\n",
       "    </tr>\n",
       "    <tr>\n",
       "      <th>...</th>\n",
       "      <td>...</td>\n",
       "      <td>...</td>\n",
       "      <td>...</td>\n",
       "    </tr>\n",
       "    <tr>\n",
       "      <th>118</th>\n",
       "      <td>118</td>\n",
       "      <td>FINAL_CALL_TYPE_EDP</td>\n",
       "      <td>5.272286</td>\n",
       "    </tr>\n",
       "    <tr>\n",
       "      <th>189</th>\n",
       "      <td>189</td>\n",
       "      <td>INCIDENT_DISPOSITION_CODE_96.0</td>\n",
       "      <td>6.095546</td>\n",
       "    </tr>\n",
       "    <tr>\n",
       "      <th>7</th>\n",
       "      <td>7</td>\n",
       "      <td>HELD_INDICATOR</td>\n",
       "      <td>88.182371</td>\n",
       "    </tr>\n",
       "    <tr>\n",
       "      <th>3</th>\n",
       "      <td>3</td>\n",
       "      <td>FIRST_ACTIVATION_DATETIME</td>\n",
       "      <td>193.018453</td>\n",
       "    </tr>\n",
       "    <tr>\n",
       "      <th>5</th>\n",
       "      <td>5</td>\n",
       "      <td>INCIDENT_TRAVEL_TM_SECONDS_QY</td>\n",
       "      <td>313.779920</td>\n",
       "    </tr>\n",
       "  </tbody>\n",
       "</table>\n",
       "<p>324 rows × 3 columns</p>\n",
       "</div>"
      ],
      "text/plain": [
       "     Unnamed: 0                        features  coefficients\n",
       "253         253             POLICEPRECINCT_46.0     -5.956488\n",
       "316         316                  CALL_MONTH_SEP     -3.338527\n",
       "116         116            FINAL_CALL_TYPE_DRUG     -1.919331\n",
       "134         134          FINAL_CALL_TYPE_JUMPUP     -1.663440\n",
       "74           74        INITIAL_CALL_TYPE_RESPIR     -1.239991\n",
       "..          ...                             ...           ...\n",
       "118         118             FINAL_CALL_TYPE_EDP      5.272286\n",
       "189         189  INCIDENT_DISPOSITION_CODE_96.0      6.095546\n",
       "7             7                  HELD_INDICATOR     88.182371\n",
       "3             3       FIRST_ACTIVATION_DATETIME    193.018453\n",
       "5             5   INCIDENT_TRAVEL_TM_SECONDS_QY    313.779920\n",
       "\n",
       "[324 rows x 3 columns]"
      ]
     },
     "execution_count": 9,
     "metadata": {},
     "output_type": "execute_result"
    }
   ],
   "source": [
    "las_coef"
   ]
  },
  {
   "cell_type": "code",
   "execution_count": 5,
   "metadata": {},
   "outputs": [
    {
     "name": "stdout",
     "output_type": "stream",
     "text": [
      "Training: 0.9929484369792958\n",
      "Testing: 0.9780377543302957\n"
     ]
    }
   ],
   "source": [
    "forest = RandomForestRegressor(n_estimators = 1_000)\n",
    "\n",
    "forest.fit(X_train_sc, y_train)\n",
    "\n",
    "print(f'Training: {forest.score(X_train_sc, y_train)}')\n",
    "print(f'Testing: {forest.score(X_test_sc, y_test)}')"
   ]
  },
  {
   "cell_type": "code",
   "execution_count": null,
   "metadata": {},
   "outputs": [],
   "source": []
  },
  {
   "cell_type": "code",
   "execution_count": 20,
   "metadata": {},
   "outputs": [
    {
     "data": {
      "text/html": [
       "<div>\n",
       "<style scoped>\n",
       "    .dataframe tbody tr th:only-of-type {\n",
       "        vertical-align: middle;\n",
       "    }\n",
       "\n",
       "    .dataframe tbody tr th {\n",
       "        vertical-align: top;\n",
       "    }\n",
       "\n",
       "    .dataframe thead th {\n",
       "        text-align: right;\n",
       "    }\n",
       "</style>\n",
       "<table border=\"1\" class=\"dataframe\">\n",
       "  <thead>\n",
       "    <tr style=\"text-align: right;\">\n",
       "      <th></th>\n",
       "      <th>CALL_DAY</th>\n",
       "      <th>CALL_YEAR</th>\n",
       "    </tr>\n",
       "  </thead>\n",
       "  <tbody>\n",
       "    <tr>\n",
       "      <th>0</th>\n",
       "      <td>1</td>\n",
       "      <td>2011</td>\n",
       "    </tr>\n",
       "    <tr>\n",
       "      <th>1</th>\n",
       "      <td>1</td>\n",
       "      <td>2011</td>\n",
       "    </tr>\n",
       "    <tr>\n",
       "      <th>2</th>\n",
       "      <td>1</td>\n",
       "      <td>2011</td>\n",
       "    </tr>\n",
       "    <tr>\n",
       "      <th>3</th>\n",
       "      <td>1</td>\n",
       "      <td>2011</td>\n",
       "    </tr>\n",
       "    <tr>\n",
       "      <th>4</th>\n",
       "      <td>2</td>\n",
       "      <td>2011</td>\n",
       "    </tr>\n",
       "    <tr>\n",
       "      <th>...</th>\n",
       "      <td>...</td>\n",
       "      <td>...</td>\n",
       "    </tr>\n",
       "    <tr>\n",
       "      <th>20021</th>\n",
       "      <td>2</td>\n",
       "      <td>2021</td>\n",
       "    </tr>\n",
       "    <tr>\n",
       "      <th>20022</th>\n",
       "      <td>2</td>\n",
       "      <td>2021</td>\n",
       "    </tr>\n",
       "    <tr>\n",
       "      <th>20023</th>\n",
       "      <td>3</td>\n",
       "      <td>2021</td>\n",
       "    </tr>\n",
       "    <tr>\n",
       "      <th>20024</th>\n",
       "      <td>3</td>\n",
       "      <td>2021</td>\n",
       "    </tr>\n",
       "    <tr>\n",
       "      <th>20025</th>\n",
       "      <td>3</td>\n",
       "      <td>2021</td>\n",
       "    </tr>\n",
       "  </tbody>\n",
       "</table>\n",
       "<p>20026 rows × 2 columns</p>\n",
       "</div>"
      ],
      "text/plain": [
       "       CALL_DAY  CALL_YEAR\n",
       "0             1       2011\n",
       "1             1       2011\n",
       "2             1       2011\n",
       "3             1       2011\n",
       "4             2       2011\n",
       "...         ...        ...\n",
       "20021         2       2021\n",
       "20022         2       2021\n",
       "20023         3       2021\n",
       "20024         3       2021\n",
       "20025         3       2021\n",
       "\n",
       "[20026 rows x 2 columns]"
      ]
     },
     "execution_count": 20,
     "metadata": {},
     "output_type": "execute_result"
    }
   ],
   "source": [
    "df[['CALL_DAY', 'CALL_YEAR']]"
   ]
  },
  {
   "cell_type": "code",
   "execution_count": null,
   "metadata": {},
   "outputs": [],
   "source": [
    "stop = EarlyStopping(monitor = 'mse', patience = 10, min_delta = )\n",
    "\n",
    "model = Sequential()"
   ]
  }
 ],
 "metadata": {
  "kernelspec": {
   "display_name": "Python 3",
   "language": "python",
   "name": "python3"
  },
  "language_info": {
   "codemirror_mode": {
    "name": "ipython",
    "version": 3
   },
   "file_extension": ".py",
   "mimetype": "text/x-python",
   "name": "python",
   "nbconvert_exporter": "python",
   "pygments_lexer": "ipython3",
   "version": "3.8.5"
  }
 },
 "nbformat": 4,
 "nbformat_minor": 4
}
